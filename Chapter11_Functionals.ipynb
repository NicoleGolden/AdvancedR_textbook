{
 "cells": [
  {
   "cell_type": "markdown",
   "id": "01d5c95c",
   "metadata": {},
   "source": [
    "**Introduction**: <br>\n",
    "1. A higher-order function is a function that takes a function as an input or returns a function as output. <br>\n",
    "2. Two higher order functions: <br>\n",
    "(1) **closure**: a function that takes a function as input and returns another function as output <br>\n",
    "(2) **functionals**: a function that takes a function as input and returns a vector as output.\n",
    "3. Three most commonly used functional: `lapply()`, `apply()`, and `tapply()`.<br>\n",
    "All three take a function as input (among other things) and return a vector as output.\n",
    "4. A common use of functions is as an alternative to for loops. \n",
    "5. Downside of for loops in R: slow, and they are not very expressive. <br>\n",
    "6. Instead of using a for loop, it's better to use a functional. <br>\n",
    "7. **Why it's good to use functional**: <br>\n",
    "(1) Each functional is tailored for a specific task, so when you recognize a functional you know immediately why it's being used. <br>\n",
    "(2) It's also useful for encapsulating common data manipulation tasks like split-apply-combine, for thinking \"functionally\", and for working with mathematical functions.\n",
    "8. Functionals in base R are bug-free and efficient. <br>\n",
    "Many are written in C, and use special tricks to enhance performance. <br>\n",
    "(1) Using functionals will not always produce fastest code. <br>\n",
    "(2) Instead, it helps you clearly communicate and build tools that solve a wide range of problems.<br>\n",
    "It's a mistake to focus on speed until you know it'll be a problem. <br>\n",
    "Once you have a clear correct code, you can make it fast by optimizing your code. "
   ]
  },
  {
   "cell_type": "code",
   "execution_count": 2,
   "id": "572518d5",
   "metadata": {},
   "outputs": [
    {
     "data": {
      "text/html": [
       "0.502789678862784"
      ],
      "text/latex": [
       "0.502789678862784"
      ],
      "text/markdown": [
       "0.502789678862784"
      ],
      "text/plain": [
       "[1] 0.5027897"
      ]
     },
     "metadata": {},
     "output_type": "display_data"
    },
    {
     "data": {
      "text/html": [
       "0.502481274461839"
      ],
      "text/latex": [
       "0.502481274461839"
      ],
      "text/markdown": [
       "0.502481274461839"
      ],
      "text/plain": [
       "[1] 0.5024813"
      ]
     },
     "metadata": {},
     "output_type": "display_data"
    },
    {
     "data": {
      "text/html": [
       "0.293442785900992"
      ],
      "text/latex": [
       "0.293442785900992"
      ],
      "text/markdown": [
       "0.293442785900992"
      ],
      "text/plain": [
       "[1] 0.2934428"
      ]
     },
     "metadata": {},
     "output_type": "display_data"
    }
   ],
   "source": [
    "# Example 1: a simple functional\n",
    "\n",
    "# create function\n",
    "randomize <- function(f) f(runif(1e3))\n",
    "\n",
    "# test\n",
    "randomize(mean)\n",
    "randomize(mean)\n",
    "randomize(sd)"
   ]
  },
  {
   "cell_type": "markdown",
   "id": "1b570f11",
   "metadata": {},
   "source": [
    "## First functional: `lapply()`"
   ]
  },
  {
   "cell_type": "markdown",
   "id": "c2f4c32f",
   "metadata": {},
   "source": [
    "1. The simplest functional is `lapply()`, which takes a function, applies it to each element in a list, and returns the results in form of a list.\n",
    "2. `lapply()` is written in C for performance, but we can create a simple R implementation that does same thing. See example 1. \n",
    "3. You can see that `lapply()` is a wrapper for a common for loop pattern: create a container for output, apply f() to each component of a list, and fill the container with the results. <br>\n",
    "Note: <br>\n",
    "A **wrapper function** is just a function which wraps another function. Maybe inside it does something like set some default values for parameters, etc. \n",
    "4. All other for loop functionals are variations on this theme:they simply use different types of input or output.\n",
    "5. `lapply()` makes it easier to work with lists by eliminating much of the boilerplate associated with looping. This allows you to focus on the function that you're applying.\n",
    "6. The pieces of x are always supplied as the first argument to f. <br>\n",
    "If you want to vary a different argument, can use anonymous function."
   ]
  },
  {
   "cell_type": "code",
   "execution_count": null,
   "id": "7fab097d",
   "metadata": {},
   "outputs": [],
   "source": [
    "# Example 0: create a wrapper function\n",
    "\n",
    "# can use mean(x, na.rm = T) but it requires more typing\n",
    "# want to do something like this: mean() and still removes missing values \n",
    "# can wrap function mean() inside another function that allows remove NAs by default\n",
    "mean_noNA <- function(x) \n",
    "    return(mean(x, na.rm = T))\n",
    "}"
   ]
  },
  {
   "cell_type": "code",
   "execution_count": null,
   "id": "4f6376ee",
   "metadata": {},
   "outputs": [],
   "source": [
    "# Example 1: create lapply() function\n",
    "\n",
    "# create a simple lapply() function\n",
    "lapply2 <- function(x, f, ...) {\n",
    "    out <- vector(\"list\", length(x))\n",
    "    for (i in seq_along(x)) {\n",
    "        out[[i]] <- f(x[[i]], ...)\n",
    "    }\n",
    "    out\n",
    "}"
   ]
  },
  {
   "cell_type": "code",
   "execution_count": 13,
   "id": "e0ef0fa0",
   "metadata": {},
   "outputs": [
    {
     "data": {
      "text/html": [
       "<ol class=list-inline>\n",
       "\t<li>13</li>\n",
       "\t<li>16</li>\n",
       "\t<li>6</li>\n",
       "\t<li>3</li>\n",
       "\t<li>10</li>\n",
       "\t<li>2</li>\n",
       "\t<li>19</li>\n",
       "\t<li>18</li>\n",
       "\t<li>11</li>\n",
       "\t<li>14</li>\n",
       "\t<li>2</li>\n",
       "\t<li>11</li>\n",
       "\t<li>10</li>\n",
       "\t<li>15</li>\n",
       "\t<li>18</li>\n",
       "\t<li>5</li>\n",
       "\t<li>6</li>\n",
       "\t<li>12</li>\n",
       "\t<li>8</li>\n",
       "\t<li>6</li>\n",
       "</ol>\n"
      ],
      "text/latex": [
       "\\begin{enumerate*}\n",
       "\\item 13\n",
       "\\item 16\n",
       "\\item 6\n",
       "\\item 3\n",
       "\\item 10\n",
       "\\item 2\n",
       "\\item 19\n",
       "\\item 18\n",
       "\\item 11\n",
       "\\item 14\n",
       "\\item 2\n",
       "\\item 11\n",
       "\\item 10\n",
       "\\item 15\n",
       "\\item 18\n",
       "\\item 5\n",
       "\\item 6\n",
       "\\item 12\n",
       "\\item 8\n",
       "\\item 6\n",
       "\\end{enumerate*}\n"
      ],
      "text/markdown": [
       "1. 13\n",
       "2. 16\n",
       "3. 6\n",
       "4. 3\n",
       "5. 10\n",
       "6. 2\n",
       "7. 19\n",
       "8. 18\n",
       "9. 11\n",
       "10. 14\n",
       "11. 2\n",
       "12. 11\n",
       "13. 10\n",
       "14. 15\n",
       "15. 18\n",
       "16. 5\n",
       "17. 6\n",
       "18. 12\n",
       "19. 8\n",
       "20. 6\n",
       "\n",
       "\n"
      ],
      "text/plain": [
       " [1] 13 16  6  3 10  2 19 18 11 14  2 11 10 15 18  5  6 12  8  6"
      ]
     },
     "metadata": {},
     "output_type": "display_data"
    },
    {
     "data": {
      "text/html": [
       "<ol class=list-inline>\n",
       "\t<li>13</li>\n",
       "\t<li>16</li>\n",
       "\t<li>6</li>\n",
       "\t<li>3</li>\n",
       "\t<li>10</li>\n",
       "\t<li>2</li>\n",
       "\t<li>19</li>\n",
       "\t<li>18</li>\n",
       "\t<li>11</li>\n",
       "\t<li>14</li>\n",
       "\t<li>2</li>\n",
       "\t<li>11</li>\n",
       "\t<li>10</li>\n",
       "\t<li>15</li>\n",
       "\t<li>18</li>\n",
       "\t<li>5</li>\n",
       "\t<li>6</li>\n",
       "\t<li>12</li>\n",
       "\t<li>8</li>\n",
       "\t<li>6</li>\n",
       "</ol>\n"
      ],
      "text/latex": [
       "\\begin{enumerate*}\n",
       "\\item 13\n",
       "\\item 16\n",
       "\\item 6\n",
       "\\item 3\n",
       "\\item 10\n",
       "\\item 2\n",
       "\\item 19\n",
       "\\item 18\n",
       "\\item 11\n",
       "\\item 14\n",
       "\\item 2\n",
       "\\item 11\n",
       "\\item 10\n",
       "\\item 15\n",
       "\\item 18\n",
       "\\item 5\n",
       "\\item 6\n",
       "\\item 12\n",
       "\\item 8\n",
       "\\item 6\n",
       "\\end{enumerate*}\n"
      ],
      "text/markdown": [
       "1. 13\n",
       "2. 16\n",
       "3. 6\n",
       "4. 3\n",
       "5. 10\n",
       "6. 2\n",
       "7. 19\n",
       "8. 18\n",
       "9. 11\n",
       "10. 14\n",
       "11. 2\n",
       "12. 11\n",
       "13. 10\n",
       "14. 15\n",
       "15. 18\n",
       "16. 5\n",
       "17. 6\n",
       "18. 12\n",
       "19. 8\n",
       "20. 6\n",
       "\n",
       "\n"
      ],
      "text/plain": [
       " [1] 13 16  6  3 10  2 19 18 11 14  2 11 10 15 18  5  6 12  8  6"
      ]
     },
     "metadata": {},
     "output_type": "display_data"
    }
   ],
   "source": [
    "# Example 2: use lapply() on a vector \n",
    "\n",
    "# compare for loop and lapply()\n",
    "\n",
    "# create data \n",
    "vec <- replicate(20, \n",
    "                runif(sample(1:20, 1)), \n",
    "                simplify = FALSE)\n",
    "\n",
    "# ------ (1) use for loop \n",
    "out <- vector(\"list\", length(vec))\n",
    "for (i in seq_along(vec)) {\n",
    "    out[[i]] <- length(vec[[i]]) \n",
    "}\n",
    "unlist(out)\n",
    "\n",
    "# ------ (2) use lapply()\n",
    "# use unlist() to convert list to vector: more compact\n",
    "unlist(lapply(vec, length))"
   ]
  },
  {
   "cell_type": "code",
   "execution_count": 17,
   "id": "83ffb941",
   "metadata": {},
   "outputs": [
    {
     "data": {
      "text/html": [
       "<dl class=dl-horizontal>\n",
       "\t<dt>mpg</dt>\n",
       "\t\t<dd>'numeric'</dd>\n",
       "\t<dt>cyl</dt>\n",
       "\t\t<dd>'numeric'</dd>\n",
       "\t<dt>disp</dt>\n",
       "\t\t<dd>'numeric'</dd>\n",
       "\t<dt>hp</dt>\n",
       "\t\t<dd>'numeric'</dd>\n",
       "\t<dt>drat</dt>\n",
       "\t\t<dd>'numeric'</dd>\n",
       "\t<dt>wt</dt>\n",
       "\t\t<dd>'numeric'</dd>\n",
       "\t<dt>qsec</dt>\n",
       "\t\t<dd>'numeric'</dd>\n",
       "\t<dt>vs</dt>\n",
       "\t\t<dd>'numeric'</dd>\n",
       "\t<dt>am</dt>\n",
       "\t\t<dd>'numeric'</dd>\n",
       "\t<dt>gear</dt>\n",
       "\t\t<dd>'numeric'</dd>\n",
       "\t<dt>carb</dt>\n",
       "\t\t<dd>'numeric'</dd>\n",
       "</dl>\n"
      ],
      "text/latex": [
       "\\begin{description*}\n",
       "\\item[mpg] 'numeric'\n",
       "\\item[cyl] 'numeric'\n",
       "\\item[disp] 'numeric'\n",
       "\\item[hp] 'numeric'\n",
       "\\item[drat] 'numeric'\n",
       "\\item[wt] 'numeric'\n",
       "\\item[qsec] 'numeric'\n",
       "\\item[vs] 'numeric'\n",
       "\\item[am] 'numeric'\n",
       "\\item[gear] 'numeric'\n",
       "\\item[carb] 'numeric'\n",
       "\\end{description*}\n"
      ],
      "text/markdown": [
       "mpg\n",
       ":   'numeric'cyl\n",
       ":   'numeric'disp\n",
       ":   'numeric'hp\n",
       ":   'numeric'drat\n",
       ":   'numeric'wt\n",
       ":   'numeric'qsec\n",
       ":   'numeric'vs\n",
       ":   'numeric'am\n",
       ":   'numeric'gear\n",
       ":   'numeric'carb\n",
       ":   'numeric'\n",
       "\n"
      ],
      "text/plain": [
       "      mpg       cyl      disp        hp      drat        wt      qsec        vs \n",
       "\"numeric\" \"numeric\" \"numeric\" \"numeric\" \"numeric\" \"numeric\" \"numeric\" \"numeric\" \n",
       "       am      gear      carb \n",
       "\"numeric\" \"numeric\" \"numeric\" "
      ]
     },
     "metadata": {},
     "output_type": "display_data"
    }
   ],
   "source": [
    "# Example 3: use lapply() on a data frame\n",
    "\n",
    "# find class/type of each column\n",
    "unlist(lapply(mtcars, class))"
   ]
  },
  {
   "cell_type": "code",
   "execution_count": 21,
   "id": "016aad4a",
   "metadata": {},
   "outputs": [
    {
     "data": {
      "text/html": [
       "<table>\n",
       "<thead><tr><th></th><th scope=col>mpg</th><th scope=col>cyl</th><th scope=col>disp</th><th scope=col>hp</th><th scope=col>drat</th><th scope=col>wt</th><th scope=col>qsec</th><th scope=col>vs</th><th scope=col>am</th><th scope=col>gear</th><th scope=col>carb</th></tr></thead>\n",
       "<tbody>\n",
       "\t<tr><th scope=row>Mazda RX4</th><td>1.045264 </td><td>0.9696970</td><td>0.6934756</td><td>0.7498935</td><td>1.084369 </td><td>0.8143601</td><td>0.9221934</td><td>0.000000 </td><td>2.461538 </td><td>1.084746 </td><td>1.4222222</td></tr>\n",
       "\t<tr><th scope=row>Mazda RX4 Wag</th><td>1.045264 </td><td>0.9696970</td><td>0.6934756</td><td>0.7498935</td><td>1.084369 </td><td>0.8936203</td><td>0.9535682</td><td>0.000000 </td><td>2.461538 </td><td>1.084746 </td><td>1.4222222</td></tr>\n",
       "\t<tr><th scope=row>Datsun 710</th><td>1.134858 </td><td>0.6464646</td><td>0.4680961</td><td>0.6340009</td><td>1.070467 </td><td>0.7211128</td><td>1.0426500</td><td>2.285714 </td><td>2.461538 </td><td>1.084746 </td><td>0.3555556</td></tr>\n",
       "</tbody>\n",
       "</table>\n"
      ],
      "text/latex": [
       "\\begin{tabular}{r|lllllllllll}\n",
       "  & mpg & cyl & disp & hp & drat & wt & qsec & vs & am & gear & carb\\\\\n",
       "\\hline\n",
       "\tMazda RX4 & 1.045264  & 0.9696970 & 0.6934756 & 0.7498935 & 1.084369  & 0.8143601 & 0.9221934 & 0.000000  & 2.461538  & 1.084746  & 1.4222222\\\\\n",
       "\tMazda RX4 Wag & 1.045264  & 0.9696970 & 0.6934756 & 0.7498935 & 1.084369  & 0.8936203 & 0.9535682 & 0.000000  & 2.461538  & 1.084746  & 1.4222222\\\\\n",
       "\tDatsun 710 & 1.134858  & 0.6464646 & 0.4680961 & 0.6340009 & 1.070467  & 0.7211128 & 1.0426500 & 2.285714  & 2.461538  & 1.084746  & 0.3555556\\\\\n",
       "\\end{tabular}\n"
      ],
      "text/markdown": [
       "\n",
       "| <!--/--> | mpg | cyl | disp | hp | drat | wt | qsec | vs | am | gear | carb |\n",
       "|---|---|---|---|---|---|---|---|---|---|---|---|\n",
       "| Mazda RX4 | 1.045264  | 0.9696970 | 0.6934756 | 0.7498935 | 1.084369  | 0.8143601 | 0.9221934 | 0.000000  | 2.461538  | 1.084746  | 1.4222222 |\n",
       "| Mazda RX4 Wag | 1.045264  | 0.9696970 | 0.6934756 | 0.7498935 | 1.084369  | 0.8936203 | 0.9535682 | 0.000000  | 2.461538  | 1.084746  | 1.4222222 |\n",
       "| Datsun 710 | 1.134858  | 0.6464646 | 0.4680961 | 0.6340009 | 1.070467  | 0.7211128 | 1.0426500 | 2.285714  | 2.461538  | 1.084746  | 0.3555556 |\n",
       "\n"
      ],
      "text/plain": [
       "              mpg      cyl       disp      hp        drat     wt       \n",
       "Mazda RX4     1.045264 0.9696970 0.6934756 0.7498935 1.084369 0.8143601\n",
       "Mazda RX4 Wag 1.045264 0.9696970 0.6934756 0.7498935 1.084369 0.8936203\n",
       "Datsun 710    1.134858 0.6464646 0.4680961 0.6340009 1.070467 0.7211128\n",
       "              qsec      vs       am       gear     carb     \n",
       "Mazda RX4     0.9221934 0.000000 2.461538 1.084746 1.4222222\n",
       "Mazda RX4 Wag 0.9535682 0.000000 2.461538 1.084746 1.4222222\n",
       "Datsun 710    1.0426500 2.285714 2.461538 1.084746 0.3555556"
      ]
     },
     "metadata": {},
     "output_type": "display_data"
    }
   ],
   "source": [
    "# Example 4: use lapply() on a data frame\n",
    "\n",
    "# divide each column by its mean\n",
    "mtcars[] <- lapply(mtcars, function(x) x / mean(x))\n",
    "head(mtcars,3)"
   ]
  },
  {
   "cell_type": "code",
   "execution_count": 31,
   "id": "03ae06fd",
   "metadata": {},
   "outputs": [
    {
     "data": {
      "text/html": [
       "<ol class=list-inline>\n",
       "\t<li>0.299140579725215</li>\n",
       "\t<li>0.0331795023335683</li>\n",
       "\t<li>0.0241010491210127</li>\n",
       "\t<li>0.0458668546767257</li>\n",
       "</ol>\n"
      ],
      "text/latex": [
       "\\begin{enumerate*}\n",
       "\\item 0.299140579725215\n",
       "\\item 0.0331795023335683\n",
       "\\item 0.0241010491210127\n",
       "\\item 0.0458668546767257\n",
       "\\end{enumerate*}\n"
      ],
      "text/markdown": [
       "1. 0.299140579725215\n",
       "2. 0.0331795023335683\n",
       "3. 0.0241010491210127\n",
       "4. 0.0458668546767257\n",
       "\n",
       "\n"
      ],
      "text/plain": [
       "[1] 0.29914058 0.03317950 0.02410105 0.04586685"
      ]
     },
     "metadata": {},
     "output_type": "display_data"
    }
   ],
   "source": [
    "# Example 5: vary amount of trimming for mean\n",
    "\n",
    "# trim vector \n",
    "# here, if trim = 0, then it's the default mean\n",
    "# if trim = 0.1, then we remove floor(0.1*1000) observations from both end of sorted x\n",
    "# if trim = 0.2, then we remove floor(0.2*1000) observations from both end of sorted x\n",
    "# if trim = 0.5, then we remove floor(0.5*1000) observations from both end of sorted x\n",
    "trim <- c(0, 0.1, 0.2, 0.5)\n",
    "# x vector \n",
    "x <- rcauchy(1000)\n",
    "\n",
    "# mean with different levels of trims\n",
    "unlist(lapply(trim, function(trim) mean(x, trim = trim)))"
   ]
  },
  {
   "cell_type": "code",
   "execution_count": 33,
   "id": "7c7859e9",
   "metadata": {},
   "outputs": [
    {
     "name": "stdout",
     "output_type": "stream",
     "text": [
      "Default mean result: "
     ]
    },
    {
     "data": {
      "text/html": [
       "3.75"
      ],
      "text/latex": [
       "3.75"
      ],
      "text/markdown": [
       "3.75"
      ],
      "text/plain": [
       "[1] 3.75"
      ]
     },
     "metadata": {},
     "output_type": "display_data"
    },
    {
     "name": "stdout",
     "output_type": "stream",
     "text": [
      "Trimmed mean result: "
     ]
    },
    {
     "data": {
      "text/html": [
       "3.16666666666667"
      ],
      "text/latex": [
       "3.16666666666667"
      ],
      "text/markdown": [
       "3.16666666666667"
      ],
      "text/plain": [
       "[1] 3.166667"
      ]
     },
     "metadata": {},
     "output_type": "display_data"
    },
    {
     "name": "stdout",
     "output_type": "stream",
     "text": [
      "Ordered x is like this: "
     ]
    },
    {
     "data": {
      "text/html": [
       "<ol class=list-inline>\n",
       "\t<li>1</li>\n",
       "\t<li>2</li>\n",
       "\t<li>2</li>\n",
       "\t<li>3</li>\n",
       "\t<li>3</li>\n",
       "\t<li>4</li>\n",
       "\t<li>5</li>\n",
       "\t<li>10</li>\n",
       "</ol>\n"
      ],
      "text/latex": [
       "\\begin{enumerate*}\n",
       "\\item 1\n",
       "\\item 2\n",
       "\\item 2\n",
       "\\item 3\n",
       "\\item 3\n",
       "\\item 4\n",
       "\\item 5\n",
       "\\item 10\n",
       "\\end{enumerate*}\n"
      ],
      "text/markdown": [
       "1. 1\n",
       "2. 2\n",
       "3. 2\n",
       "4. 3\n",
       "5. 3\n",
       "6. 4\n",
       "7. 5\n",
       "8. 10\n",
       "\n",
       "\n"
      ],
      "text/plain": [
       "[1]  1  2  2  3  3  4  5 10"
      ]
     },
     "metadata": {},
     "output_type": "display_data"
    },
    {
     "name": "stdout",
     "output_type": "stream",
     "text": [
      "Number of observations we need to remove from both end of vector x: "
     ]
    },
    {
     "data": {
      "text/html": [
       "1"
      ],
      "text/latex": [
       "1"
      ],
      "text/markdown": [
       "1"
      ],
      "text/plain": [
       "[1] 1"
      ]
     },
     "metadata": {},
     "output_type": "display_data"
    },
    {
     "name": "stdout",
     "output_type": "stream",
     "text": [
      "Trimmed mean result (by hand): "
     ]
    },
    {
     "data": {
      "text/html": [
       "3.16666666666667"
      ],
      "text/latex": [
       "3.16666666666667"
      ],
      "text/markdown": [
       "3.16666666666667"
      ],
      "text/plain": [
       "[1] 3.166667"
      ]
     },
     "metadata": {},
     "output_type": "display_data"
    }
   ],
   "source": [
    "# Example: # how trim in mean() works \n",
    "\n",
    "# default mean(): \n",
    "# mean(x, trim = 0, na.rm = FALSE, ...)\n",
    "\n",
    "# create vector \n",
    "x <- c(1, 3, 2, 3, 4, 2, 5, 10)\n",
    "\n",
    "# ------ (1) default mean\n",
    "cat(\"Default mean result: \")\n",
    "mean(x)\n",
    "\n",
    "# ------ (2) trim mean \n",
    "cat(\"Trimmed mean result: \")\n",
    "mean(x, trim = 0.2)\n",
    "\n",
    "# ------ (3) verify trim mean works \n",
    "# step 1: \n",
    "# sort x from smallest to largest \n",
    "cat(\"Ordered x is like this: \")\n",
    "sort(x)\n",
    "\n",
    "# step 2: \n",
    "# trim = 0.2, so we remove (trim) 20% of observations from both end of sorted data  \n",
    "# length(x) = 8\n",
    "cat(\"Number of observations we need to remove from both end of vector x: \")\n",
    "floor(0.2 * 8)\n",
    "\n",
    "# step 3: \n",
    "# create a new vector (trimmed 1 observation from both end of sorted x)\n",
    "y <- c(2, 2, 3, 3, 4, 5)\n",
    "cat(\"Trimmed mean result (by hand): \")\n",
    "mean(y)"
   ]
  },
  {
   "cell_type": "markdown",
   "id": "6a8a1f7a",
   "metadata": {},
   "source": [
    "### Looping patterns"
   ]
  },
  {
   "cell_type": "markdown",
   "id": "5c0b7f31",
   "metadata": {},
   "source": [
    "1. There are 3 basic ways to loop over a vector: <br><br>\n",
    "(1) loop over elements: `for (x in xs)` (SLOW) <br>\n",
    "It leads to inefficient ways of saving output. It is slow because each time you extend the vector, R has to copy all of the existing elements. <br><br>\n",
    "(2) loop over numeric indices: `for (i in seq_along(xs)` (FAST) <br>\n",
    "It's better to create the space you'll need for output and then fill it in.<br><br>\n",
    "(3) loop over names: `for (nm in names(xs))` (???) <br><br>\n",
    "\n",
    "2. There are 3 basic ways to use `lapply()`: <br>\n",
    "(1) lapply over elements: `lapply(xs, function(x) {})`<br>\n",
    "Typically use this form because lapply() takes care of saving output for you.<br><br>\n",
    "(2) lapply over numeric indices: `lapply(seq_along(xs), function(i) {}` <br>\n",
    "If you need to know position of element you're working with, use this form. It gives you element's position (nm) and value (xs[[i]]) <br><br>\n",
    "(3) lapply over names: `lapply(names(xs), function(nm) {}`<br>\n",
    "If you need to know name of element you're working with, use this form. It gives you element's position (nm) and value (xs[[nm]])"
   ]
  },
  {
   "cell_type": "code",
   "execution_count": 39,
   "id": "60472a85",
   "metadata": {},
   "outputs": [
    {
     "data": {
      "text/html": [
       "<ol class=list-inline>\n",
       "\t<li>0.932173385677911</li>\n",
       "\t<li>0.336129415800808</li>\n",
       "\t<li>0.817161736107279</li>\n",
       "\t<li>0.810031328782928</li>\n",
       "\t<li>0.944670873095431</li>\n",
       "\t<li>0.944235664466233</li>\n",
       "</ol>\n"
      ],
      "text/latex": [
       "\\begin{enumerate*}\n",
       "\\item 0.932173385677911\n",
       "\\item 0.336129415800808\n",
       "\\item 0.817161736107279\n",
       "\\item 0.810031328782928\n",
       "\\item 0.944670873095431\n",
       "\\item 0.944235664466233\n",
       "\\end{enumerate*}\n"
      ],
      "text/markdown": [
       "1. 0.932173385677911\n",
       "2. 0.336129415800808\n",
       "3. 0.817161736107279\n",
       "4. 0.810031328782928\n",
       "5. 0.944670873095431\n",
       "6. 0.944235664466233\n",
       "\n",
       "\n"
      ],
      "text/plain": [
       "[1] 0.9321734 0.3361294 0.8171617 0.8100313 0.9446709 0.9442357"
      ]
     },
     "metadata": {},
     "output_type": "display_data"
    }
   ],
   "source": [
    "# Example 1: \n",
    "# loop over elements is slow \n",
    "\n",
    "# create vector\n",
    "xs <- runif(1e3)\n",
    "res <- c()\n",
    "\n",
    "# for loop \n",
    "for (x in xs) {\n",
    "    res <- c(res, sqrt(x))\n",
    "}\n",
    "\n",
    "# result \n",
    "head(res)"
   ]
  },
  {
   "cell_type": "code",
   "execution_count": 42,
   "id": "bf793d77",
   "metadata": {},
   "outputs": [
    {
     "data": {
      "text/html": [
       "<ol class=list-inline>\n",
       "\t<li>0.552854160406032</li>\n",
       "\t<li>0.923231358436383</li>\n",
       "\t<li>0.424995641431828</li>\n",
       "\t<li>0.966674166535982</li>\n",
       "\t<li>0.725963567583337</li>\n",
       "\t<li>0.498989682399663</li>\n",
       "</ol>\n"
      ],
      "text/latex": [
       "\\begin{enumerate*}\n",
       "\\item 0.552854160406032\n",
       "\\item 0.923231358436383\n",
       "\\item 0.424995641431828\n",
       "\\item 0.966674166535982\n",
       "\\item 0.725963567583337\n",
       "\\item 0.498989682399663\n",
       "\\end{enumerate*}\n"
      ],
      "text/markdown": [
       "1. 0.552854160406032\n",
       "2. 0.923231358436383\n",
       "3. 0.424995641431828\n",
       "4. 0.966674166535982\n",
       "5. 0.725963567583337\n",
       "6. 0.498989682399663\n",
       "\n",
       "\n"
      ],
      "text/plain": [
       "[1] 0.5528542 0.9232314 0.4249956 0.9666742 0.7259636 0.4989897"
      ]
     },
     "metadata": {},
     "output_type": "display_data"
    }
   ],
   "source": [
    "# Example 2: \n",
    "# loop over numeric indices is fast \n",
    "\n",
    "# create vector\n",
    "xs <- runif(1e3)\n",
    "res <- numeric(length(xs))\n",
    "\n",
    "# for loop \n",
    "for (i in seq_along(xs)) {\n",
    "    res[i] <- sqrt(xs[i])\n",
    "}\n",
    "\n",
    "# result \n",
    "head(res)"
   ]
  },
  {
   "cell_type": "markdown",
   "id": "add39741",
   "metadata": {},
   "source": [
    "### Exercises"
   ]
  },
  {
   "cell_type": "markdown",
   "id": "bc2c3a76",
   "metadata": {},
   "source": [
    "Question 1. Why are following 2 invocations of lapply() equivalent? <br><br>\n",
    "\n",
    "```R\n",
    "trims <- c(0, 0.1, 0.2, 0.5)\n",
    "x <- rcauchy(100)\n",
    "\n",
    "lapply(trims, function(trim) mean(x, trim = trim))\n",
    "lapply(trims, mean, x = x)       \n",
    "```"
   ]
  },
  {
   "cell_type": "markdown",
   "id": "8812c9c4",
   "metadata": {},
   "source": [
    "Answer 1. Note that mean()'s default argument is `mean(x, trim = 0, na.rm = FALSE, …)`<br><br>\n",
    "In code 1, each element of trims is explicitly supplied to mean()’s second argument. <br><br>\n",
    "In code 2, this happens via positional matching, since mean()’s first argument is supplied via name in lapply()’s third argument (...)"
   ]
  },
  {
   "cell_type": "code",
   "execution_count": 7,
   "id": "d8013ad8",
   "metadata": {},
   "outputs": [
    {
     "data": {
      "text/html": [
       "<ol>\n",
       "\t<li>1.36224871089397</li>\n",
       "\t<li>0.0958500102820058</li>\n",
       "\t<li>0.0582943380707464</li>\n",
       "\t<li>0.0344520106965433</li>\n",
       "</ol>\n"
      ],
      "text/latex": [
       "\\begin{enumerate}\n",
       "\\item 1.36224871089397\n",
       "\\item 0.0958500102820058\n",
       "\\item 0.0582943380707464\n",
       "\\item 0.0344520106965433\n",
       "\\end{enumerate}\n"
      ],
      "text/markdown": [
       "1. 1.36224871089397\n",
       "2. 0.0958500102820058\n",
       "3. 0.0582943380707464\n",
       "4. 0.0344520106965433\n",
       "\n",
       "\n"
      ],
      "text/plain": [
       "[[1]]\n",
       "[1] 1.362249\n",
       "\n",
       "[[2]]\n",
       "[1] 0.09585001\n",
       "\n",
       "[[3]]\n",
       "[1] 0.05829434\n",
       "\n",
       "[[4]]\n",
       "[1] 0.03445201\n"
      ]
     },
     "metadata": {},
     "output_type": "display_data"
    },
    {
     "data": {
      "text/html": [
       "<ol>\n",
       "\t<li>1.36224871089397</li>\n",
       "\t<li>0.0958500102820058</li>\n",
       "\t<li>0.0582943380707464</li>\n",
       "\t<li>0.0344520106965433</li>\n",
       "</ol>\n"
      ],
      "text/latex": [
       "\\begin{enumerate}\n",
       "\\item 1.36224871089397\n",
       "\\item 0.0958500102820058\n",
       "\\item 0.0582943380707464\n",
       "\\item 0.0344520106965433\n",
       "\\end{enumerate}\n"
      ],
      "text/markdown": [
       "1. 1.36224871089397\n",
       "2. 0.0958500102820058\n",
       "3. 0.0582943380707464\n",
       "4. 0.0344520106965433\n",
       "\n",
       "\n"
      ],
      "text/plain": [
       "[[1]]\n",
       "[1] 1.362249\n",
       "\n",
       "[[2]]\n",
       "[1] 0.09585001\n",
       "\n",
       "[[3]]\n",
       "[1] 0.05829434\n",
       "\n",
       "[[4]]\n",
       "[1] 0.03445201\n"
      ]
     },
     "metadata": {},
     "output_type": "display_data"
    }
   ],
   "source": [
    "# ------ Q1\n",
    "\n",
    "# create vectors \n",
    "trims <- c(0, 0.1, 0.2, 0.5)\n",
    "x <- rcauchy(100)\n",
    "\n",
    "# code 1 \n",
    "# each element of trims is explicitly supplied to mean()’s second argument.\n",
    "lapply(trims, function(trim) mean(x, trim = trim))\n",
    "\n",
    "# code 2\n",
    "# this happens via positional matching, since mean()’s first argument is supplied \n",
    "# via name in lapply()’s third argument (...)\n",
    "lapply(trims, mean, x = x)       "
   ]
  },
  {
   "cell_type": "markdown",
   "id": "bfa9f199",
   "metadata": {},
   "source": [
    "Question 2. The function below scales a vector so it falls in the range [0, 1]. <br>\n",
    "How would you apply it to every column of a data frame? <br>\n",
    "How would you apply it to every numeric column in a data frame?\n",
    "\n",
    "```\n",
    "scale <- function(x) {\n",
    "    range <- range(x, na.rm = TRUE)\n",
    "    (x - range[1]) / (range[2] - range[1])\n",
    "}\n",
    "```"
   ]
  },
  {
   "cell_type": "markdown",
   "id": "887dd325",
   "metadata": {},
   "source": [
    "Answer 2. Since this function needs numeric input, one can check this via an if clause. If one also wants to return non-numeric input columns, these can be supplied to the else argument of the if() “function”."
   ]
  },
  {
   "cell_type": "code",
   "execution_count": 17,
   "id": "2b590218",
   "metadata": {},
   "outputs": [
    {
     "data": {
      "text/html": [
       "<table>\n",
       "<thead><tr><th scope=col>a</th><th scope=col>b</th><th scope=col>c</th></tr></thead>\n",
       "<tbody>\n",
       "\t<tr><td>0        </td><td>0.0      </td><td>0.0000000</td></tr>\n",
       "\t<tr><td>1        </td><td>0.5      </td><td>1.0000000</td></tr>\n",
       "\t<tr><td>0        </td><td>1.0      </td><td>0.8764045</td></tr>\n",
       "</tbody>\n",
       "</table>\n"
      ],
      "text/latex": [
       "\\begin{tabular}{r|lll}\n",
       " a & b & c\\\\\n",
       "\\hline\n",
       "\t 0         & 0.0       & 0.0000000\\\\\n",
       "\t 1         & 0.5       & 1.0000000\\\\\n",
       "\t 0         & 1.0       & 0.8764045\\\\\n",
       "\\end{tabular}\n"
      ],
      "text/markdown": [
       "\n",
       "| a | b | c |\n",
       "|---|---|---|\n",
       "| 0         | 0.0       | 0.0000000 |\n",
       "| 1         | 0.5       | 1.0000000 |\n",
       "| 0         | 1.0       | 0.8764045 |\n",
       "\n"
      ],
      "text/plain": [
       "  a b   c        \n",
       "1 0 0.0 0.0000000\n",
       "2 1 0.5 1.0000000\n",
       "3 0 1.0 0.8764045"
      ]
     },
     "metadata": {},
     "output_type": "display_data"
    },
    {
     "data": {
      "text/html": [
       "<table>\n",
       "<thead><tr><th scope=col>a</th><th scope=col>b</th><th scope=col>c</th><th scope=col>d</th></tr></thead>\n",
       "<tbody>\n",
       "\t<tr><td>0        </td><td>0.0      </td><td>0.0000000</td><td>a        </td></tr>\n",
       "\t<tr><td>1        </td><td>0.5      </td><td>1.0000000</td><td>b        </td></tr>\n",
       "\t<tr><td>0        </td><td>1.0      </td><td>0.8764045</td><td>c        </td></tr>\n",
       "</tbody>\n",
       "</table>\n"
      ],
      "text/latex": [
       "\\begin{tabular}{r|llll}\n",
       " a & b & c & d\\\\\n",
       "\\hline\n",
       "\t 0         & 0.0       & 0.0000000 & a        \\\\\n",
       "\t 1         & 0.5       & 1.0000000 & b        \\\\\n",
       "\t 0         & 1.0       & 0.8764045 & c        \\\\\n",
       "\\end{tabular}\n"
      ],
      "text/markdown": [
       "\n",
       "| a | b | c | d |\n",
       "|---|---|---|---|\n",
       "| 0         | 0.0       | 0.0000000 | a         |\n",
       "| 1         | 0.5       | 1.0000000 | b         |\n",
       "| 0         | 1.0       | 0.8764045 | c         |\n",
       "\n"
      ],
      "text/plain": [
       "  a b   c         d\n",
       "1 0 0.0 0.0000000 a\n",
       "2 1 0.5 1.0000000 b\n",
       "3 0 1.0 0.8764045 c"
      ]
     },
     "metadata": {},
     "output_type": "display_data"
    }
   ],
   "source": [
    "# ------ Q2\n",
    "\n",
    "# create data \n",
    "df <- data.frame(a = c(2, 4, 2),\n",
    "                 b = c(4, 5, 6),\n",
    "                 c = c(10, 99, 88))\n",
    "\n",
    "# create scale function\n",
    "scale <- function(x) {\n",
    "    range <- range(x, na.rm = TRUE)\n",
    "    (x - range[1]) / (range[2] - range[1])\n",
    "}\n",
    "\n",
    "# apply to all data \n",
    "df[] <- lapply(df, scale)\n",
    "df\n",
    "\n",
    "# create data \n",
    "df2 <- data.frame(a = c(2, 4, 2),\n",
    "                 b = c(4, 5, 6),\n",
    "                 c = c(10, 99, 88),\n",
    "                 d = c(\"a\", \"b\", \"c\"))\n",
    "\n",
    "# apply to only numeric variables \n",
    "# Note: output of this is a list:\n",
    "# lapply(df2, function(x) if (is.numeric(x)) scale(x) else x)\n",
    "df3 <- data.frame(lapply(df2, function(x) if (is.numeric(x)) scale(x) else x))\n",
    "df3"
   ]
  },
  {
   "cell_type": "markdown",
   "id": "55499e5a",
   "metadata": {},
   "source": [
    "Question 3: Use both for loops and lapply() to fit linear models to the mtcars using the formulas stored in this list:\n",
    "\n",
    "```\n",
    "formulas <- list(\n",
    "    mpg ~ disp,\n",
    "    mpg ~ I(1 / disp),\n",
    "    mpg ~ disp + wt,\n",
    "    mpg ~ I(1 / disp) + wt\n",
    ")\n",
    "```"
   ]
  },
  {
   "cell_type": "code",
   "execution_count": 32,
   "id": "39999d22",
   "metadata": {},
   "outputs": [
    {
     "data": {
      "text/plain": [
       "[[1]]\n",
       "\n",
       "Call:\n",
       "lm(formula = formulas, data = mtcars)\n",
       "\n",
       "Coefficients:\n",
       "(Intercept)         disp  \n",
       "   29.59985     -0.04122  \n",
       "\n",
       "\n",
       "[[2]]\n",
       "\n",
       "Call:\n",
       "lm(formula = formulas, data = mtcars)\n",
       "\n",
       "Coefficients:\n",
       "(Intercept)    I(1/disp)  \n",
       "      10.75      1557.67  \n",
       "\n",
       "\n",
       "[[3]]\n",
       "\n",
       "Call:\n",
       "lm(formula = formulas, data = mtcars)\n",
       "\n",
       "Coefficients:\n",
       "(Intercept)         disp           wt  \n",
       "   34.96055     -0.01772     -3.35083  \n",
       "\n",
       "\n",
       "[[4]]\n",
       "\n",
       "Call:\n",
       "lm(formula = formulas, data = mtcars)\n",
       "\n",
       "Coefficients:\n",
       "(Intercept)    I(1/disp)           wt  \n",
       "     19.024     1142.560       -1.798  \n",
       "\n"
      ]
     },
     "metadata": {},
     "output_type": "display_data"
    }
   ],
   "source": [
    "# ------ Q3 \n",
    "\n",
    "# create a list of formulas \n",
    "formulas <- list(\n",
    "    mpg ~ disp,\n",
    "    mpg ~ I(1 / disp),\n",
    "    mpg ~ disp + wt,\n",
    "    mpg ~ I(1 / disp) + wt\n",
    ")\n",
    "\n",
    "# my solution\n",
    "lapply(formulas, function(formulas) lm(formulas, data = mtcars))\n",
    "       \n",
    "# KEY \n",
    "# lapply (2 versions)\n",
    "# lm(formula, data)\n",
    "la1 <- lapply(formulas, lm, data = mtcars)\n",
    "la2 <- lapply(formulas, function(x) lm(formula = x, data = mtcars))\n",
    "\n",
    "# for loop\n",
    "lf1 <- vector(\"list\", length(formulas))\n",
    "for (i in seq_along(formulas)){\n",
    "  lf1[[i]] <- lm(formulas[[i]], data = mtcars)\n",
    "} "
   ]
  },
  {
   "cell_type": "markdown",
   "id": "0edb709b",
   "metadata": {},
   "source": [
    "Question 4. Fit the model mpg ~ disp to each of the bootstrap replicates of mtcars in the list below by using a for loop and lapply(). Can you do it without an anonymous function?\n",
    "\n",
    "```\n",
    "bootstraps <- lapply(1:10, function(i) {\n",
    "  rows <- sample(1:nrow(mtcars), rep = TRUE)\n",
    "  mtcars[rows, ]\n",
    "})\n",
    "```"
   ]
  },
  {
   "cell_type": "code",
   "execution_count": 36,
   "id": "abe3d53a",
   "metadata": {},
   "outputs": [
    {
     "data": {
      "text/plain": [
       "[[1]]\n",
       "\n",
       "Call:\n",
       "FUN(formula = ..1, data = X[[i]])\n",
       "\n",
       "Coefficients:\n",
       "(Intercept)         disp  \n",
       "   28.20788     -0.03698  \n",
       "\n",
       "\n",
       "[[2]]\n",
       "\n",
       "Call:\n",
       "FUN(formula = ..1, data = X[[i]])\n",
       "\n",
       "Coefficients:\n",
       "(Intercept)         disp  \n",
       "   30.02358     -0.04291  \n",
       "\n",
       "\n",
       "[[3]]\n",
       "\n",
       "Call:\n",
       "FUN(formula = ..1, data = X[[i]])\n",
       "\n",
       "Coefficients:\n",
       "(Intercept)         disp  \n",
       "   30.88954     -0.04523  \n",
       "\n",
       "\n",
       "[[4]]\n",
       "\n",
       "Call:\n",
       "FUN(formula = ..1, data = X[[i]])\n",
       "\n",
       "Coefficients:\n",
       "(Intercept)         disp  \n",
       "   30.67387     -0.04192  \n",
       "\n",
       "\n",
       "[[5]]\n",
       "\n",
       "Call:\n",
       "FUN(formula = ..1, data = X[[i]])\n",
       "\n",
       "Coefficients:\n",
       "(Intercept)         disp  \n",
       "   30.58061     -0.04041  \n",
       "\n",
       "\n",
       "[[6]]\n",
       "\n",
       "Call:\n",
       "FUN(formula = ..1, data = X[[i]])\n",
       "\n",
       "Coefficients:\n",
       "(Intercept)         disp  \n",
       "   29.22339     -0.04036  \n",
       "\n",
       "\n",
       "[[7]]\n",
       "\n",
       "Call:\n",
       "FUN(formula = ..1, data = X[[i]])\n",
       "\n",
       "Coefficients:\n",
       "(Intercept)         disp  \n",
       "   26.65106     -0.03377  \n",
       "\n",
       "\n",
       "[[8]]\n",
       "\n",
       "Call:\n",
       "FUN(formula = ..1, data = X[[i]])\n",
       "\n",
       "Coefficients:\n",
       "(Intercept)         disp  \n",
       "   26.25928     -0.03256  \n",
       "\n",
       "\n",
       "[[9]]\n",
       "\n",
       "Call:\n",
       "FUN(formula = ..1, data = X[[i]])\n",
       "\n",
       "Coefficients:\n",
       "(Intercept)         disp  \n",
       "   29.28245     -0.03989  \n",
       "\n",
       "\n",
       "[[10]]\n",
       "\n",
       "Call:\n",
       "FUN(formula = ..1, data = X[[i]])\n",
       "\n",
       "Coefficients:\n",
       "(Intercept)         disp  \n",
       "   29.28414     -0.03986  \n",
       "\n"
      ]
     },
     "metadata": {},
     "output_type": "display_data"
    }
   ],
   "source": [
    "# ------ Q4 \n",
    "\n",
    "# create bootstrap function \n",
    "# this create a list of 10 data sample \n",
    "bootstraps <- lapply(1:10, function(i) {\n",
    "  rows <- sample(1:nrow(mtcars), rep = TRUE)\n",
    "  mtcars[rows, ]\n",
    "})\n",
    "\n",
    "# apply formula to every list \n",
    "lapply(bootstraps, lm, formula = mpg ~ disp)\n",
    "\n",
    "# KEY \n",
    "# lapply without anonymous function\n",
    "la <- lapply(bootstraps, lm, formula = mpg ~ disp)\n",
    "\n",
    "# for loop\n",
    "lf <- vector(\"list\", length(bootstraps))\n",
    "for (i in seq_along(bootstraps)){\n",
    "  lf[[i]] <- lm(mpg ~ disp, data = bootstraps[[i]])\n",
    "}"
   ]
  },
  {
   "cell_type": "markdown",
   "id": "50a0dbdb",
   "metadata": {},
   "source": [
    "Question 5. For model in Question 4, extract $R^2$ using the function below.\n",
    "\n",
    "```\n",
    "rsq <- function(mod) summary(mod)$r.squared\n",
    "```"
   ]
  },
  {
   "cell_type": "code",
   "execution_count": 40,
   "id": "b92eb332",
   "metadata": {},
   "outputs": [
    {
     "data": {
      "text/html": [
       "<ol>\n",
       "\t<li>0.783480162640666</li>\n",
       "\t<li>0.743479765855148</li>\n",
       "\t<li>0.740860645358505</li>\n",
       "\t<li>0.738658446746081</li>\n",
       "\t<li>0.639314912885131</li>\n",
       "\t<li>0.66447847475942</li>\n",
       "\t<li>0.661146722350748</li>\n",
       "\t<li>0.733626946084527</li>\n",
       "\t<li>0.760467418269654</li>\n",
       "\t<li>0.709039340901378</li>\n",
       "</ol>\n"
      ],
      "text/latex": [
       "\\begin{enumerate}\n",
       "\\item 0.783480162640666\n",
       "\\item 0.743479765855148\n",
       "\\item 0.740860645358505\n",
       "\\item 0.738658446746081\n",
       "\\item 0.639314912885131\n",
       "\\item 0.66447847475942\n",
       "\\item 0.661146722350748\n",
       "\\item 0.733626946084527\n",
       "\\item 0.760467418269654\n",
       "\\item 0.709039340901378\n",
       "\\end{enumerate}\n"
      ],
      "text/markdown": [
       "1. 0.783480162640666\n",
       "2. 0.743479765855148\n",
       "3. 0.740860645358505\n",
       "4. 0.738658446746081\n",
       "5. 0.639314912885131\n",
       "6. 0.66447847475942\n",
       "7. 0.661146722350748\n",
       "8. 0.733626946084527\n",
       "9. 0.760467418269654\n",
       "10. 0.709039340901378\n",
       "\n",
       "\n"
      ],
      "text/plain": [
       "[[1]]\n",
       "[1] 0.7834802\n",
       "\n",
       "[[2]]\n",
       "[1] 0.7434798\n",
       "\n",
       "[[3]]\n",
       "[1] 0.7408606\n",
       "\n",
       "[[4]]\n",
       "[1] 0.7386584\n",
       "\n",
       "[[5]]\n",
       "[1] 0.6393149\n",
       "\n",
       "[[6]]\n",
       "[1] 0.6644785\n",
       "\n",
       "[[7]]\n",
       "[1] 0.6611467\n",
       "\n",
       "[[8]]\n",
       "[1] 0.7336269\n",
       "\n",
       "[[9]]\n",
       "[1] 0.7604674\n",
       "\n",
       "[[10]]\n",
       "[1] 0.7090393\n"
      ]
     },
     "metadata": {},
     "output_type": "display_data"
    },
    {
     "data": {
      "text/html": [
       "<ol class=list-inline>\n",
       "\t<li>0.783480162640666</li>\n",
       "\t<li>0.743479765855148</li>\n",
       "\t<li>0.740860645358505</li>\n",
       "\t<li>0.738658446746081</li>\n",
       "\t<li>0.639314912885131</li>\n",
       "\t<li>0.66447847475942</li>\n",
       "\t<li>0.661146722350748</li>\n",
       "\t<li>0.733626946084527</li>\n",
       "\t<li>0.760467418269654</li>\n",
       "\t<li>0.709039340901378</li>\n",
       "</ol>\n"
      ],
      "text/latex": [
       "\\begin{enumerate*}\n",
       "\\item 0.783480162640666\n",
       "\\item 0.743479765855148\n",
       "\\item 0.740860645358505\n",
       "\\item 0.738658446746081\n",
       "\\item 0.639314912885131\n",
       "\\item 0.66447847475942\n",
       "\\item 0.661146722350748\n",
       "\\item 0.733626946084527\n",
       "\\item 0.760467418269654\n",
       "\\item 0.709039340901378\n",
       "\\end{enumerate*}\n"
      ],
      "text/markdown": [
       "1. 0.783480162640666\n",
       "2. 0.743479765855148\n",
       "3. 0.740860645358505\n",
       "4. 0.738658446746081\n",
       "5. 0.639314912885131\n",
       "6. 0.66447847475942\n",
       "7. 0.661146722350748\n",
       "8. 0.733626946084527\n",
       "9. 0.760467418269654\n",
       "10. 0.709039340901378\n",
       "\n",
       "\n"
      ],
      "text/plain": [
       " [1] 0.7834802 0.7434798 0.7408606 0.7386584 0.6393149 0.6644785 0.6611467\n",
       " [8] 0.7336269 0.7604674 0.7090393"
      ]
     },
     "metadata": {},
     "output_type": "display_data"
    }
   ],
   "source": [
    "# ------ Q5\n",
    "# create function\n",
    "rsq <- function(mod) summary(mod)$r.squared\n",
    "\n",
    "# my method: this returns a list\n",
    "lapply(la, rsq) \n",
    "\n",
    "# KEY \n",
    "# this returns a vector \n",
    "sapply(la, rsq)"
   ]
  },
  {
   "cell_type": "markdown",
   "id": "e335e841",
   "metadata": {},
   "source": [
    "## For loop functionals: friends of lapply()"
   ]
  },
  {
   "cell_type": "markdown",
   "id": "d6d44a72",
   "metadata": {},
   "source": [
    "1. The key to using functionals in place of for loops is recognizing that common looping patterns are already implemented in existing base functions.<br>\n",
    "If you find you;re duplicating the same looping pattern in many places, you should extract it out into its own function.<br><br>\n",
    "2. Use lapply() variations: <br><br>\n",
    "(1) `lapply()` returns list as output, while `sapply()` and `vapply()` return vectors / matrices and arrays as output. <br><br>\n",
    "(2) `Map()` and `mapply()` iterate over multiple input data structures in paralle. <br><br>\n",
    "(3) `mcapply()` and `mcMap()` are parallel versions of lapply() and Map().<br><br>\n",
    "(4) Wring a new function, `rollapply()`, to solve a new problem."
   ]
  },
  {
   "cell_type": "markdown",
   "id": "fc3ec050",
   "metadata": {},
   "source": [
    "### Vector output: sapply and vapply"
   ]
  },
  {
   "cell_type": "markdown",
   "id": "36d097d0",
   "metadata": {},
   "source": [
    "1. sapply() and vapply() simplify output and produce an atomic vector (lapply returns a list). <br><br>\n",
    "(1) `sapply()` It guesses. <br>\n",
    "Good: sapply() is great for interactive use because it saves typing. <br>\n",
    "Bad: Not suited for use inside other functions. <br>\n",
    "(You get weird errors if you supply wrong type of input). <br><br>\n",
    "(2) `vapply()` Takes additional argument specifying output type. <br>\n",
    "Good: It's suited for use inside other functions.<br>\n",
    "Bad: It's more verbose.<br>\n",
    "(but gives more informative error messages and never fails silently.)<br><br>\n",
    "\n",
    "Example 1: when given data frame, sapply() and vapply() return same results.<br>\n",
    "When given empty list, sapply() return another empty list, while vapply() returns zero-length logical vector (more informative).<br><br>\n",
    "\n",
    "2. If function returns results of different types / lengths: <br><br>\n",
    "(1) sapply() will silently return a list; <br>\n",
    "sapply() is fine for interactive use b/c you'll normally notice if sth goes wrong,<br>\n",
    "but it's dangerous when writing functions (since you can't see the error).<br>\n",
    "If you falsely assume that class only has one value and use sapply(), yo won't find out about the problem until some future function is given a list instead of a character vector.<br><br>\n",
    "(2) vapply() will throw an error. <br><br>\n",
    "\n",
    "3. Compare sapply() and vapply(): <br><br>\n",
    "(1) `sapply()` is a thin wrapper around lapply() that transforms a list into a vector in the final step. <br><br>\n",
    "(2) `vapply()` is an implementation of lapply() that assigns results to a vector (or matrix) of appropriate type instead of as a list."
   ]
  },
  {
   "cell_type": "code",
   "execution_count": 48,
   "id": "9c9e0b84",
   "metadata": {},
   "outputs": [
    {
     "data": {
      "text/html": [
       "<dl class=dl-horizontal>\n",
       "\t<dt>mpg</dt>\n",
       "\t\t<dd>TRUE</dd>\n",
       "\t<dt>cyl</dt>\n",
       "\t\t<dd>TRUE</dd>\n",
       "\t<dt>disp</dt>\n",
       "\t\t<dd>TRUE</dd>\n",
       "\t<dt>hp</dt>\n",
       "\t\t<dd>TRUE</dd>\n",
       "\t<dt>drat</dt>\n",
       "\t\t<dd>TRUE</dd>\n",
       "\t<dt>wt</dt>\n",
       "\t\t<dd>TRUE</dd>\n",
       "\t<dt>qsec</dt>\n",
       "\t\t<dd>TRUE</dd>\n",
       "\t<dt>vs</dt>\n",
       "\t\t<dd>TRUE</dd>\n",
       "\t<dt>am</dt>\n",
       "\t\t<dd>TRUE</dd>\n",
       "\t<dt>gear</dt>\n",
       "\t\t<dd>TRUE</dd>\n",
       "\t<dt>carb</dt>\n",
       "\t\t<dd>TRUE</dd>\n",
       "</dl>\n"
      ],
      "text/latex": [
       "\\begin{description*}\n",
       "\\item[mpg] TRUE\n",
       "\\item[cyl] TRUE\n",
       "\\item[disp] TRUE\n",
       "\\item[hp] TRUE\n",
       "\\item[drat] TRUE\n",
       "\\item[wt] TRUE\n",
       "\\item[qsec] TRUE\n",
       "\\item[vs] TRUE\n",
       "\\item[am] TRUE\n",
       "\\item[gear] TRUE\n",
       "\\item[carb] TRUE\n",
       "\\end{description*}\n"
      ],
      "text/markdown": [
       "mpg\n",
       ":   TRUEcyl\n",
       ":   TRUEdisp\n",
       ":   TRUEhp\n",
       ":   TRUEdrat\n",
       ":   TRUEwt\n",
       ":   TRUEqsec\n",
       ":   TRUEvs\n",
       ":   TRUEam\n",
       ":   TRUEgear\n",
       ":   TRUEcarb\n",
       ":   TRUE\n",
       "\n"
      ],
      "text/plain": [
       " mpg  cyl disp   hp drat   wt qsec   vs   am gear carb \n",
       "TRUE TRUE TRUE TRUE TRUE TRUE TRUE TRUE TRUE TRUE TRUE "
      ]
     },
     "metadata": {},
     "output_type": "display_data"
    },
    {
     "data": {
      "text/html": [
       "<dl class=dl-horizontal>\n",
       "\t<dt>mpg</dt>\n",
       "\t\t<dd>TRUE</dd>\n",
       "\t<dt>cyl</dt>\n",
       "\t\t<dd>TRUE</dd>\n",
       "\t<dt>disp</dt>\n",
       "\t\t<dd>TRUE</dd>\n",
       "\t<dt>hp</dt>\n",
       "\t\t<dd>TRUE</dd>\n",
       "\t<dt>drat</dt>\n",
       "\t\t<dd>TRUE</dd>\n",
       "\t<dt>wt</dt>\n",
       "\t\t<dd>TRUE</dd>\n",
       "\t<dt>qsec</dt>\n",
       "\t\t<dd>TRUE</dd>\n",
       "\t<dt>vs</dt>\n",
       "\t\t<dd>TRUE</dd>\n",
       "\t<dt>am</dt>\n",
       "\t\t<dd>TRUE</dd>\n",
       "\t<dt>gear</dt>\n",
       "\t\t<dd>TRUE</dd>\n",
       "\t<dt>carb</dt>\n",
       "\t\t<dd>TRUE</dd>\n",
       "</dl>\n"
      ],
      "text/latex": [
       "\\begin{description*}\n",
       "\\item[mpg] TRUE\n",
       "\\item[cyl] TRUE\n",
       "\\item[disp] TRUE\n",
       "\\item[hp] TRUE\n",
       "\\item[drat] TRUE\n",
       "\\item[wt] TRUE\n",
       "\\item[qsec] TRUE\n",
       "\\item[vs] TRUE\n",
       "\\item[am] TRUE\n",
       "\\item[gear] TRUE\n",
       "\\item[carb] TRUE\n",
       "\\end{description*}\n"
      ],
      "text/markdown": [
       "mpg\n",
       ":   TRUEcyl\n",
       ":   TRUEdisp\n",
       ":   TRUEhp\n",
       ":   TRUEdrat\n",
       ":   TRUEwt\n",
       ":   TRUEqsec\n",
       ":   TRUEvs\n",
       ":   TRUEam\n",
       ":   TRUEgear\n",
       ":   TRUEcarb\n",
       ":   TRUE\n",
       "\n"
      ],
      "text/plain": [
       " mpg  cyl disp   hp drat   wt qsec   vs   am gear carb \n",
       "TRUE TRUE TRUE TRUE TRUE TRUE TRUE TRUE TRUE TRUE TRUE "
      ]
     },
     "metadata": {},
     "output_type": "display_data"
    }
   ],
   "source": [
    "# Example 1_1: data frame \n",
    "\n",
    "# ------ (1) sapply()\n",
    "sapply(mtcars, is.numeric)\n",
    "\n",
    "# ------ (2) vapply()\n",
    "vapply(mtcars, is.numeric, logical(1))\n",
    "\n",
    "# Example 1_2: empty list \n",
    "\n",
    "# ------ (1) sapply()\n",
    "# it returns this in RStudio\n",
    "sapply(list(), is.numeric)\n",
    "#> list()\n",
    "\n",
    "# ------ (2) vapply()\n",
    "# it returns this in RStudio\n",
    "vapply(list(), is.numeric, logical(1))\n",
    "#> logical(0)"
   ]
  },
  {
   "cell_type": "code",
   "execution_count": 57,
   "id": "bd8e3f75",
   "metadata": {},
   "outputs": [
    {
     "name": "stdout",
     "output_type": "stream",
     "text": [
      "sapply() results: "
     ]
    },
    {
     "data": {
      "text/html": [
       "<dl class=dl-horizontal>\n",
       "\t<dt>x</dt>\n",
       "\t\t<dd>'integer'</dd>\n",
       "\t<dt>y</dt>\n",
       "\t\t<dd>'factor'</dd>\n",
       "</dl>\n"
      ],
      "text/latex": [
       "\\begin{description*}\n",
       "\\item[x] 'integer'\n",
       "\\item[y] 'factor'\n",
       "\\end{description*}\n"
      ],
      "text/markdown": [
       "x\n",
       ":   'integer'y\n",
       ":   'factor'\n",
       "\n"
      ],
      "text/plain": [
       "        x         y \n",
       "\"integer\"  \"factor\" "
      ]
     },
     "metadata": {},
     "output_type": "display_data"
    },
    {
     "name": "stdout",
     "output_type": "stream",
     "text": [
      "vapply() results: "
     ]
    },
    {
     "data": {
      "text/html": [
       "<dl class=dl-horizontal>\n",
       "\t<dt>x</dt>\n",
       "\t\t<dd>'integer'</dd>\n",
       "\t<dt>y</dt>\n",
       "\t\t<dd>'factor'</dd>\n",
       "</dl>\n"
      ],
      "text/latex": [
       "\\begin{description*}\n",
       "\\item[x] 'integer'\n",
       "\\item[y] 'factor'\n",
       "\\end{description*}\n"
      ],
      "text/markdown": [
       "x\n",
       ":   'integer'y\n",
       ":   'factor'\n",
       "\n"
      ],
      "text/plain": [
       "        x         y \n",
       "\"integer\"  \"factor\" "
      ]
     },
     "metadata": {},
     "output_type": "display_data"
    },
    {
     "name": "stdout",
     "output_type": "stream",
     "text": [
      "sapply() results: "
     ]
    },
    {
     "data": {
      "text/html": [
       "<dl>\n",
       "\t<dt>$x</dt>\n",
       "\t\t<dd>'integer'</dd>\n",
       "\t<dt>$y</dt>\n",
       "\t\t<dd><ol class=list-inline>\n",
       "\t<li>'POSIXct'</li>\n",
       "\t<li>'POSIXt'</li>\n",
       "</ol>\n",
       "</dd>\n",
       "</dl>\n"
      ],
      "text/latex": [
       "\\begin{description}\n",
       "\\item[\\$x] 'integer'\n",
       "\\item[\\$y] \\begin{enumerate*}\n",
       "\\item 'POSIXct'\n",
       "\\item 'POSIXt'\n",
       "\\end{enumerate*}\n",
       "\n",
       "\\end{description}\n"
      ],
      "text/markdown": [
       "$x\n",
       ":   'integer'\n",
       "$y\n",
       ":   1. 'POSIXct'\n",
       "2. 'POSIXt'\n",
       "\n",
       "\n",
       "\n",
       "\n",
       "\n"
      ],
      "text/plain": [
       "$x\n",
       "[1] \"integer\"\n",
       "\n",
       "$y\n",
       "[1] \"POSIXct\" \"POSIXt\" \n"
      ]
     },
     "metadata": {},
     "output_type": "display_data"
    },
    {
     "name": "stdout",
     "output_type": "stream",
     "text": [
      "vapply() results: "
     ]
    },
    {
     "ename": "ERROR",
     "evalue": "Error in vapply(df2, class, character(1)): values must be length 1,\n but FUN(X[[2]]) result is length 2\n",
     "output_type": "error",
     "traceback": [
      "Error in vapply(df2, class, character(1)): values must be length 1,\n but FUN(X[[2]]) result is length 2\nTraceback:\n",
      "1. vapply(df2, class, character(1))"
     ]
    }
   ],
   "source": [
    "# Example 2: variable of same/different type\n",
    "\n",
    "# ------ (1) data: variables are all numeric\n",
    "\n",
    "# create data \n",
    "df <- data.frame(x = 1:10, y = letters[1:10])\n",
    "\n",
    "# sapply()\n",
    "cat(\"sapply() results: \")\n",
    "sapply(df, class)\n",
    "\n",
    "# vapply()\n",
    "cat(\"vapply() results: \")\n",
    "vapply(df, class, character(1))\n",
    "\n",
    "# ------ (2) data: NOT all variables are all numeric\n",
    "\n",
    "# create data \n",
    "df2 <- data.frame(x = 1:10, y = Sys.time() + 1:10)\n",
    "\n",
    "# sapply()\n",
    "cat(\"sapply() results: \")\n",
    "sapply(df2, class)\n",
    "\n",
    "# vapply()\n",
    "cat(\"vapply() results: \")\n",
    "vapply(df2, class, character(1))"
   ]
  },
  {
   "cell_type": "code",
   "execution_count": null,
   "id": "08b8116a",
   "metadata": {},
   "outputs": [],
   "source": [
    "# Example 3: replicate essence of sapply() and vapply()\n",
    "\n",
    "# create function: sapply\n",
    "sapply2 <- function(x, f, ...) {\n",
    "    res <- lapply2(x, f, ...)\n",
    "    simplify2array(res)\n",
    "}\n",
    "\n",
    "# create function: lapply\n",
    "vapply2 <- function(x, f, f.value, ...) {\n",
    "    out <- matrix(rep(f.value, length(x)), nrow = length(x))\n",
    "    for (i in seq_along(x)) {\n",
    "        res <- f(x[i], ...)\n",
    "        stopifnot(\n",
    "        length(res) == length(f.value),\n",
    "        typeof(res) == typeof(f.value)\n",
    "        )\n",
    "        out[i, ] <- res\n",
    "    }\n",
    "    out    \n",
    "}"
   ]
  },
  {
   "cell_type": "markdown",
   "id": "15f43f62",
   "metadata": {},
   "source": [
    "### Multiple inputs: Map( )  &emsp;&emsp; (and mapply( ))"
   ]
  },
  {
   "cell_type": "markdown",
   "id": "e75f551c",
   "metadata": {},
   "source": [
    "1. With lapply(), only 1 argument to the function varies, the others are fixed.<br>\n",
    "This makes it poorly suited for some problems. <br><br>\n",
    "\n",
    "Example 1: Find weighted means for a vector. <br>\n",
    "Attempt 1: We can use lapply to find unweighted means. <br>\n",
    "Attempt 2: write a wrapper with lapply to find weighted means (but clumsy). <br>\n",
    "Attempt 3: use `Map()` to simplify the process and still find weighted means.<br><br>\n",
    "\n",
    "2. There's a natural equivalence between Map() and lapply() because you can alway convert a Map() to lapply() that iterates over indices.<br><br>\n",
    "\n",
    "3. But using `Map()` is more concise, and more clearly indicates what you're trying to do.<br><br>\n",
    "\n",
    "4. When use Map()? <br><br>\n",
    "It's useful when you more $\\geq$ 2 lists / data frames that you need to process in parallel. <br><br>\n",
    "\n",
    "5. Why try not to use mapply()? <br>\n",
    "(1) Map() is preferred because it's equivalent to mapply with `simplify = FALSE`, which is almost always what you want. <br>\n",
    "(2) mapply has `MoreArgs` arguments. This breaks R's usual lazy evaluation semantics and is inconsistent with other functions."
   ]
  },
  {
   "cell_type": "code",
   "execution_count": 87,
   "id": "bd384b0b",
   "metadata": {},
   "outputs": [
    {
     "name": "stdout",
     "output_type": "stream",
     "text": [
      "Default runif() is between [0, 1] : "
     ]
    },
    {
     "data": {
      "text/html": [
       "<ol class=list-inline>\n",
       "\t<li>0.524967882083729</li>\n",
       "\t<li>0.719964782707393</li>\n",
       "\t<li>0.60885782702826</li>\n",
       "\t<li>0.93694078293629</li>\n",
       "\t<li>0.714933539507911</li>\n",
       "</ol>\n"
      ],
      "text/latex": [
       "\\begin{enumerate*}\n",
       "\\item 0.524967882083729\n",
       "\\item 0.719964782707393\n",
       "\\item 0.60885782702826\n",
       "\\item 0.93694078293629\n",
       "\\item 0.714933539507911\n",
       "\\end{enumerate*}\n"
      ],
      "text/markdown": [
       "1. 0.524967882083729\n",
       "2. 0.719964782707393\n",
       "3. 0.60885782702826\n",
       "4. 0.93694078293629\n",
       "5. 0.714933539507911\n",
       "\n",
       "\n"
      ],
      "text/plain": [
       "[1] 0.5249679 0.7199648 0.6088578 0.9369408 0.7149335"
      ]
     },
     "metadata": {},
     "output_type": "display_data"
    },
    {
     "name": "stdout",
     "output_type": "stream",
     "text": [
      "Specify runif() range is between [10, 20] : "
     ]
    },
    {
     "data": {
      "text/html": [
       "<ol class=list-inline>\n",
       "\t<li>16.7250342899933</li>\n",
       "\t<li>19.1586755122989</li>\n",
       "\t<li>11.1423660302535</li>\n",
       "\t<li>17.1277242526412</li>\n",
       "\t<li>18.6676573310979</li>\n",
       "</ol>\n"
      ],
      "text/latex": [
       "\\begin{enumerate*}\n",
       "\\item 16.7250342899933\n",
       "\\item 19.1586755122989\n",
       "\\item 11.1423660302535\n",
       "\\item 17.1277242526412\n",
       "\\item 18.6676573310979\n",
       "\\end{enumerate*}\n"
      ],
      "text/markdown": [
       "1. 16.7250342899933\n",
       "2. 19.1586755122989\n",
       "3. 11.1423660302535\n",
       "4. 17.1277242526412\n",
       "5. 18.6676573310979\n",
       "\n",
       "\n"
      ],
      "text/plain": [
       "[1] 16.72503 19.15868 11.14237 17.12772 18.66766"
      ]
     },
     "metadata": {},
     "output_type": "display_data"
    },
    {
     "name": "stdout",
     "output_type": "stream",
     "text": [
      "Replicate a list containing 5 vectors, each between [0, 1]"
     ]
    },
    {
     "data": {
      "text/html": [
       "<ol>\n",
       "\t<li><ol class=list-inline>\n",
       "\t<li>0.543926393380389</li>\n",
       "\t<li>0.054167594993487</li>\n",
       "\t<li>0.299203351372853</li>\n",
       "\t<li>0.514066081261262</li>\n",
       "\t<li>0.964443799341097</li>\n",
       "\t<li>0.0191419483162463</li>\n",
       "\t<li>0.472464234102517</li>\n",
       "\t<li>0.00657887640409172</li>\n",
       "\t<li>0.929103599628434</li>\n",
       "\t<li>0.0254402204882354</li>\n",
       "</ol>\n",
       "</li>\n",
       "\t<li><ol class=list-inline>\n",
       "\t<li>0.916885879822075</li>\n",
       "\t<li>0.726246734615415</li>\n",
       "\t<li>0.95834940392524</li>\n",
       "\t<li>0.318668425781652</li>\n",
       "\t<li>0.935281365411356</li>\n",
       "\t<li>0.655507629038766</li>\n",
       "\t<li>0.51010863436386</li>\n",
       "\t<li>0.954088527010754</li>\n",
       "\t<li>0.736486086621881</li>\n",
       "\t<li>0.159973682370037</li>\n",
       "</ol>\n",
       "</li>\n",
       "\t<li><ol class=list-inline>\n",
       "\t<li>0.939602544764057</li>\n",
       "\t<li>0.774880324257538</li>\n",
       "\t<li>0.0766303723212332</li>\n",
       "\t<li>0.850076090544462</li>\n",
       "\t<li>0.0973373604938388</li>\n",
       "\t<li>0.238707021810114</li>\n",
       "\t<li>0.743799211224541</li>\n",
       "\t<li>0.598650545580313</li>\n",
       "\t<li>0.925955830141902</li>\n",
       "\t<li>0.898551631951705</li>\n",
       "</ol>\n",
       "</li>\n",
       "\t<li><ol class=list-inline>\n",
       "\t<li>0.736301264725626</li>\n",
       "\t<li>0.820294607663527</li>\n",
       "\t<li>0.726016357075423</li>\n",
       "\t<li>0.408967676339671</li>\n",
       "\t<li>0.213955822633579</li>\n",
       "\t<li>0.624599449103698</li>\n",
       "\t<li>0.799017981160432</li>\n",
       "\t<li>0.791865481995046</li>\n",
       "\t<li>0.108398977201432</li>\n",
       "\t<li>0.721026447368786</li>\n",
       "</ol>\n",
       "</li>\n",
       "\t<li><ol class=list-inline>\n",
       "\t<li>0.98935346188955</li>\n",
       "\t<li>0.784317557699978</li>\n",
       "\t<li>0.523551846388727</li>\n",
       "\t<li>0.215153858531266</li>\n",
       "\t<li>0.862139588221908</li>\n",
       "\t<li>0.797887125285342</li>\n",
       "\t<li>0.82041073590517</li>\n",
       "\t<li>0.729470462771133</li>\n",
       "\t<li>0.587817883584648</li>\n",
       "\t<li>0.582666761474684</li>\n",
       "</ol>\n",
       "</li>\n",
       "</ol>\n"
      ],
      "text/latex": [
       "\\begin{enumerate}\n",
       "\\item \\begin{enumerate*}\n",
       "\\item 0.543926393380389\n",
       "\\item 0.054167594993487\n",
       "\\item 0.299203351372853\n",
       "\\item 0.514066081261262\n",
       "\\item 0.964443799341097\n",
       "\\item 0.0191419483162463\n",
       "\\item 0.472464234102517\n",
       "\\item 0.00657887640409172\n",
       "\\item 0.929103599628434\n",
       "\\item 0.0254402204882354\n",
       "\\end{enumerate*}\n",
       "\n",
       "\\item \\begin{enumerate*}\n",
       "\\item 0.916885879822075\n",
       "\\item 0.726246734615415\n",
       "\\item 0.95834940392524\n",
       "\\item 0.318668425781652\n",
       "\\item 0.935281365411356\n",
       "\\item 0.655507629038766\n",
       "\\item 0.51010863436386\n",
       "\\item 0.954088527010754\n",
       "\\item 0.736486086621881\n",
       "\\item 0.159973682370037\n",
       "\\end{enumerate*}\n",
       "\n",
       "\\item \\begin{enumerate*}\n",
       "\\item 0.939602544764057\n",
       "\\item 0.774880324257538\n",
       "\\item 0.0766303723212332\n",
       "\\item 0.850076090544462\n",
       "\\item 0.0973373604938388\n",
       "\\item 0.238707021810114\n",
       "\\item 0.743799211224541\n",
       "\\item 0.598650545580313\n",
       "\\item 0.925955830141902\n",
       "\\item 0.898551631951705\n",
       "\\end{enumerate*}\n",
       "\n",
       "\\item \\begin{enumerate*}\n",
       "\\item 0.736301264725626\n",
       "\\item 0.820294607663527\n",
       "\\item 0.726016357075423\n",
       "\\item 0.408967676339671\n",
       "\\item 0.213955822633579\n",
       "\\item 0.624599449103698\n",
       "\\item 0.799017981160432\n",
       "\\item 0.791865481995046\n",
       "\\item 0.108398977201432\n",
       "\\item 0.721026447368786\n",
       "\\end{enumerate*}\n",
       "\n",
       "\\item \\begin{enumerate*}\n",
       "\\item 0.98935346188955\n",
       "\\item 0.784317557699978\n",
       "\\item 0.523551846388727\n",
       "\\item 0.215153858531266\n",
       "\\item 0.862139588221908\n",
       "\\item 0.797887125285342\n",
       "\\item 0.82041073590517\n",
       "\\item 0.729470462771133\n",
       "\\item 0.587817883584648\n",
       "\\item 0.582666761474684\n",
       "\\end{enumerate*}\n",
       "\n",
       "\\end{enumerate}\n"
      ],
      "text/markdown": [
       "1. 1. 0.543926393380389\n",
       "2. 0.054167594993487\n",
       "3. 0.299203351372853\n",
       "4. 0.514066081261262\n",
       "5. 0.964443799341097\n",
       "6. 0.0191419483162463\n",
       "7. 0.472464234102517\n",
       "8. 0.00657887640409172\n",
       "9. 0.929103599628434\n",
       "10. 0.0254402204882354\n",
       "\n",
       "\n",
       "\n",
       "2. 1. 0.916885879822075\n",
       "2. 0.726246734615415\n",
       "3. 0.95834940392524\n",
       "4. 0.318668425781652\n",
       "5. 0.935281365411356\n",
       "6. 0.655507629038766\n",
       "7. 0.51010863436386\n",
       "8. 0.954088527010754\n",
       "9. 0.736486086621881\n",
       "10. 0.159973682370037\n",
       "\n",
       "\n",
       "\n",
       "3. 1. 0.939602544764057\n",
       "2. 0.774880324257538\n",
       "3. 0.0766303723212332\n",
       "4. 0.850076090544462\n",
       "5. 0.0973373604938388\n",
       "6. 0.238707021810114\n",
       "7. 0.743799211224541\n",
       "8. 0.598650545580313\n",
       "9. 0.925955830141902\n",
       "10. 0.898551631951705\n",
       "\n",
       "\n",
       "\n",
       "4. 1. 0.736301264725626\n",
       "2. 0.820294607663527\n",
       "3. 0.726016357075423\n",
       "4. 0.408967676339671\n",
       "5. 0.213955822633579\n",
       "6. 0.624599449103698\n",
       "7. 0.799017981160432\n",
       "8. 0.791865481995046\n",
       "9. 0.108398977201432\n",
       "10. 0.721026447368786\n",
       "\n",
       "\n",
       "\n",
       "5. 1. 0.98935346188955\n",
       "2. 0.784317557699978\n",
       "3. 0.523551846388727\n",
       "4. 0.215153858531266\n",
       "5. 0.862139588221908\n",
       "6. 0.797887125285342\n",
       "7. 0.82041073590517\n",
       "8. 0.729470462771133\n",
       "9. 0.587817883584648\n",
       "10. 0.582666761474684\n",
       "\n",
       "\n",
       "\n",
       "\n",
       "\n"
      ],
      "text/plain": [
       "[[1]]\n",
       " [1] 0.543926393 0.054167595 0.299203351 0.514066081 0.964443799 0.019141948\n",
       " [7] 0.472464234 0.006578876 0.929103600 0.025440220\n",
       "\n",
       "[[2]]\n",
       " [1] 0.9168859 0.7262467 0.9583494 0.3186684 0.9352814 0.6555076 0.5101086\n",
       " [8] 0.9540885 0.7364861 0.1599737\n",
       "\n",
       "[[3]]\n",
       " [1] 0.93960254 0.77488032 0.07663037 0.85007609 0.09733736 0.23870702\n",
       " [7] 0.74379921 0.59865055 0.92595583 0.89855163\n",
       "\n",
       "[[4]]\n",
       " [1] 0.7363013 0.8202946 0.7260164 0.4089677 0.2139558 0.6245994 0.7990180\n",
       " [8] 0.7918655 0.1083990 0.7210264\n",
       "\n",
       "[[5]]\n",
       " [1] 0.9893535 0.7843176 0.5235518 0.2151539 0.8621396 0.7978871 0.8204107\n",
       " [8] 0.7294705 0.5878179 0.5826668\n"
      ]
     },
     "metadata": {},
     "output_type": "display_data"
    },
    {
     "name": "stdout",
     "output_type": "stream",
     "text": [
      "Replicate a matrix containing 5 vectors, each between [0, 1]"
     ]
    },
    {
     "data": {
      "text/html": [
       "<table>\n",
       "<tbody>\n",
       "\t<tr><td>0.3723020 </td><td>0.43102823</td><td>0.6410538 </td><td>0.9173469 </td><td>0.73861823</td></tr>\n",
       "\t<tr><td>0.6439788 </td><td>0.87873795</td><td>0.8336673 </td><td>0.9699505 </td><td>0.62911257</td></tr>\n",
       "\t<tr><td>0.8095578 </td><td>0.22421301</td><td>0.1191883 </td><td>0.7566422 </td><td>0.10455678</td></tr>\n",
       "\t<tr><td>0.6748313 </td><td>0.08246235</td><td>0.9448047 </td><td>0.4356547 </td><td>0.14224797</td></tr>\n",
       "\t<tr><td>0.2224094 </td><td>0.13932750</td><td>0.3916897 </td><td>0.3352033 </td><td>0.03163057</td></tr>\n",
       "\t<tr><td>0.3650137 </td><td>0.78349606</td><td>0.8068276 </td><td>0.2372250 </td><td>0.43791291</td></tr>\n",
       "\t<tr><td>0.9147349 </td><td>0.92571054</td><td>0.3311318 </td><td>0.4513899 </td><td>0.89930043</td></tr>\n",
       "\t<tr><td>0.5313295 </td><td>0.04094275</td><td>0.6621484 </td><td>0.4308200 </td><td>0.41440133</td></tr>\n",
       "\t<tr><td>0.2251596 </td><td>0.24332376</td><td>0.2484417 </td><td>0.0333555 </td><td>0.94137535</td></tr>\n",
       "\t<tr><td>0.5204759 </td><td>0.75851984</td><td>0.6635222 </td><td>0.8479132 </td><td>0.14684782</td></tr>\n",
       "</tbody>\n",
       "</table>\n"
      ],
      "text/latex": [
       "\\begin{tabular}{lllll}\n",
       "\t 0.3723020  & 0.43102823 & 0.6410538  & 0.9173469  & 0.73861823\\\\\n",
       "\t 0.6439788  & 0.87873795 & 0.8336673  & 0.9699505  & 0.62911257\\\\\n",
       "\t 0.8095578  & 0.22421301 & 0.1191883  & 0.7566422  & 0.10455678\\\\\n",
       "\t 0.6748313  & 0.08246235 & 0.9448047  & 0.4356547  & 0.14224797\\\\\n",
       "\t 0.2224094  & 0.13932750 & 0.3916897  & 0.3352033  & 0.03163057\\\\\n",
       "\t 0.3650137  & 0.78349606 & 0.8068276  & 0.2372250  & 0.43791291\\\\\n",
       "\t 0.9147349  & 0.92571054 & 0.3311318  & 0.4513899  & 0.89930043\\\\\n",
       "\t 0.5313295  & 0.04094275 & 0.6621484  & 0.4308200  & 0.41440133\\\\\n",
       "\t 0.2251596  & 0.24332376 & 0.2484417  & 0.0333555  & 0.94137535\\\\\n",
       "\t 0.5204759  & 0.75851984 & 0.6635222  & 0.8479132  & 0.14684782\\\\\n",
       "\\end{tabular}\n"
      ],
      "text/markdown": [
       "\n",
       "| 0.3723020  | 0.43102823 | 0.6410538  | 0.9173469  | 0.73861823 |\n",
       "| 0.6439788  | 0.87873795 | 0.8336673  | 0.9699505  | 0.62911257 |\n",
       "| 0.8095578  | 0.22421301 | 0.1191883  | 0.7566422  | 0.10455678 |\n",
       "| 0.6748313  | 0.08246235 | 0.9448047  | 0.4356547  | 0.14224797 |\n",
       "| 0.2224094  | 0.13932750 | 0.3916897  | 0.3352033  | 0.03163057 |\n",
       "| 0.3650137  | 0.78349606 | 0.8068276  | 0.2372250  | 0.43791291 |\n",
       "| 0.9147349  | 0.92571054 | 0.3311318  | 0.4513899  | 0.89930043 |\n",
       "| 0.5313295  | 0.04094275 | 0.6621484  | 0.4308200  | 0.41440133 |\n",
       "| 0.2251596  | 0.24332376 | 0.2484417  | 0.0333555  | 0.94137535 |\n",
       "| 0.5204759  | 0.75851984 | 0.6635222  | 0.8479132  | 0.14684782 |\n",
       "\n"
      ],
      "text/plain": [
       "      [,1]      [,2]       [,3]      [,4]      [,5]      \n",
       " [1,] 0.3723020 0.43102823 0.6410538 0.9173469 0.73861823\n",
       " [2,] 0.6439788 0.87873795 0.8336673 0.9699505 0.62911257\n",
       " [3,] 0.8095578 0.22421301 0.1191883 0.7566422 0.10455678\n",
       " [4,] 0.6748313 0.08246235 0.9448047 0.4356547 0.14224797\n",
       " [5,] 0.2224094 0.13932750 0.3916897 0.3352033 0.03163057\n",
       " [6,] 0.3650137 0.78349606 0.8068276 0.2372250 0.43791291\n",
       " [7,] 0.9147349 0.92571054 0.3311318 0.4513899 0.89930043\n",
       " [8,] 0.5313295 0.04094275 0.6621484 0.4308200 0.41440133\n",
       " [9,] 0.2251596 0.24332376 0.2484417 0.0333555 0.94137535\n",
       "[10,] 0.5204759 0.75851984 0.6635222 0.8479132 0.14684782"
      ]
     },
     "metadata": {},
     "output_type": "display_data"
    }
   ],
   "source": [
    "# Exmaple 0_1: how to use runif()\n",
    "\n",
    "# default setting\n",
    "# runif(n, min = 0, max = 1)\n",
    "# this generate 5 random numbers between [0, 1]\n",
    "cat(\"Default runif() is between [0, 1] : \")\n",
    "runif(5)\n",
    "\n",
    "# this generate 5 random numbers, specify min max between [10, 20]\n",
    "cat(\"Specify runif() range is between [10, 20] : \")\n",
    "runif(5, 10, 20)\n",
    "\n",
    "# Exmaple 0_2: how to use replicate()\n",
    "\n",
    "# create a list of 5 vectors, each vector is length of 10 and between [0, 1]  \n",
    "# simplify = FALSE: returns a list \n",
    "cat(\"Replicate a list containing 5 vectors, each between [0, 1]\")\n",
    "(xs <- replicate(5, runif(10), simplify = FALSE))\n",
    "\n",
    "# simplify = FALSE: returns a matrix \n",
    "cat(\"Replicate a matrix containing 5 vectors, each between [0, 1]\")\n",
    "(xs <- replicate(5, runif(10), simplify = TRUE))"
   ]
  },
  {
   "cell_type": "code",
   "execution_count": 94,
   "id": "6ea81acd",
   "metadata": {},
   "outputs": [
    {
     "name": "stdout",
     "output_type": "stream",
     "text": [
      "Use lapply() get unweighted mean"
     ]
    },
    {
     "data": {
      "text/html": [
       "<ol class=list-inline>\n",
       "\t<li>0.534603251703084</li>\n",
       "\t<li>0.448678505909629</li>\n",
       "\t<li>0.630176823260263</li>\n",
       "\t<li>0.45794771425426</li>\n",
       "\t<li>0.40322261841502</li>\n",
       "</ol>\n"
      ],
      "text/latex": [
       "\\begin{enumerate*}\n",
       "\\item 0.534603251703084\n",
       "\\item 0.448678505909629\n",
       "\\item 0.630176823260263\n",
       "\\item 0.45794771425426\n",
       "\\item 0.40322261841502\n",
       "\\end{enumerate*}\n"
      ],
      "text/markdown": [
       "1. 0.534603251703084\n",
       "2. 0.448678505909629\n",
       "3. 0.630176823260263\n",
       "4. 0.45794771425426\n",
       "5. 0.40322261841502\n",
       "\n",
       "\n"
      ],
      "text/plain": [
       "[1] 0.5346033 0.4486785 0.6301768 0.4579477 0.4032226"
      ]
     },
     "metadata": {},
     "output_type": "display_data"
    },
    {
     "name": "stdout",
     "output_type": "stream",
     "text": [
      "Use lapply() get weighted mean"
     ]
    },
    {
     "data": {
      "text/html": [
       "<ol class=list-inline>\n",
       "\t<li>0.54479280339112</li>\n",
       "\t<li>0.376899610105597</li>\n",
       "\t<li>0.629396724265775</li>\n",
       "\t<li>0.460521191950509</li>\n",
       "\t<li>0.416911206977216</li>\n",
       "</ol>\n"
      ],
      "text/latex": [
       "\\begin{enumerate*}\n",
       "\\item 0.54479280339112\n",
       "\\item 0.376899610105597\n",
       "\\item 0.629396724265775\n",
       "\\item 0.460521191950509\n",
       "\\item 0.416911206977216\n",
       "\\end{enumerate*}\n"
      ],
      "text/markdown": [
       "1. 0.54479280339112\n",
       "2. 0.376899610105597\n",
       "3. 0.629396724265775\n",
       "4. 0.460521191950509\n",
       "5. 0.416911206977216\n",
       "\n",
       "\n"
      ],
      "text/plain": [
       "[1] 0.5447928 0.3768996 0.6293967 0.4605212 0.4169112"
      ]
     },
     "metadata": {},
     "output_type": "display_data"
    },
    {
     "name": "stdout",
     "output_type": "stream",
     "text": [
      "Use Map() get weighted mean"
     ]
    },
    {
     "data": {
      "text/html": [
       "<ol class=list-inline>\n",
       "\t<li>0.54479280339112</li>\n",
       "\t<li>0.376899610105597</li>\n",
       "\t<li>0.629396724265775</li>\n",
       "\t<li>0.460521191950509</li>\n",
       "\t<li>0.416911206977216</li>\n",
       "</ol>\n"
      ],
      "text/latex": [
       "\\begin{enumerate*}\n",
       "\\item 0.54479280339112\n",
       "\\item 0.376899610105597\n",
       "\\item 0.629396724265775\n",
       "\\item 0.460521191950509\n",
       "\\item 0.416911206977216\n",
       "\\end{enumerate*}\n"
      ],
      "text/markdown": [
       "1. 0.54479280339112\n",
       "2. 0.376899610105597\n",
       "3. 0.629396724265775\n",
       "4. 0.460521191950509\n",
       "5. 0.416911206977216\n",
       "\n",
       "\n"
      ],
      "text/plain": [
       "[1] 0.5447928 0.3768996 0.6293967 0.4605212 0.4169112"
      ]
     },
     "metadata": {},
     "output_type": "display_data"
    },
    {
     "name": "stdout",
     "output_type": "stream",
     "text": [
      "Use Map() get weighted mean with missing values: "
     ]
    },
    {
     "data": {
      "text/html": [
       "<ol>\n",
       "\t<li>0.54479280339112</li>\n",
       "\t<li>0.376899610105597</li>\n",
       "\t<li>0.629396724265775</li>\n",
       "\t<li>0.460521191950509</li>\n",
       "\t<li>0.416911206977216</li>\n",
       "</ol>\n"
      ],
      "text/latex": [
       "\\begin{enumerate}\n",
       "\\item 0.54479280339112\n",
       "\\item 0.376899610105597\n",
       "\\item 0.629396724265775\n",
       "\\item 0.460521191950509\n",
       "\\item 0.416911206977216\n",
       "\\end{enumerate}\n"
      ],
      "text/markdown": [
       "1. 0.54479280339112\n",
       "2. 0.376899610105597\n",
       "3. 0.629396724265775\n",
       "4. 0.460521191950509\n",
       "5. 0.416911206977216\n",
       "\n",
       "\n"
      ],
      "text/plain": [
       "[[1]]\n",
       "[1] 0.5447928\n",
       "\n",
       "[[2]]\n",
       "[1] 0.3768996\n",
       "\n",
       "[[3]]\n",
       "[1] 0.6293967\n",
       "\n",
       "[[4]]\n",
       "[1] 0.4605212\n",
       "\n",
       "[[5]]\n",
       "[1] 0.4169112\n"
      ]
     },
     "metadata": {},
     "output_type": "display_data"
    }
   ],
   "source": [
    "# Example 1\n",
    "\n",
    "# create data: \n",
    "# it's a lists containing 5 vectors, each contain 10 random numbers between [0, 1]\n",
    "# simplify = FALSE: returns a list \n",
    "# simplify = TRUE: returns a matrix \n",
    "xs <- replicate(5, runif(10), simplify = FALSE)\n",
    "\n",
    "# create weights \n",
    "# it's \n",
    "ws <- replicate(5, rpois(10, 5) + 1, simplify = FALSE)\n",
    "\n",
    "# Attempt 1: use lappy get unweighted means \n",
    "cat(\"Use lapply() get unweighted mean\")\n",
    "unlist(lapply(xs, mean))\n",
    "\n",
    "# Attempt 2: use lappy get weighted means (clumsy)\n",
    "cat(\"Use lapply() get weighted mean\")\n",
    "unlist(lapply(seq_along(xs), function(i) {\n",
    "    weighted.mean(xs[[i]], ws[[i]])\n",
    "}))\n",
    "\n",
    "# Attempt 3: use Map() get weighted mean\n",
    "cat(\"Use Map() get weighted mean\")\n",
    "unlist(Map(weighted.mean, xs, ws))\n",
    "\n",
    "# Attempt 4: if some arguments should be fixed and constant, do this: \n",
    "cat(\"Use Map() get weighted mean with missing values: \")\n",
    "Map(function(x, w) weighted.mean(x, w, na.rm = TRUE), xs, ws)"
   ]
  },
  {
   "cell_type": "code",
   "execution_count": null,
   "id": "95816fe8",
   "metadata": {},
   "outputs": [],
   "source": [
    "# Example 2: how Map() works \n",
    "\n",
    "stopifnot(length(xs) == length(ws))\n",
    "out <- vector(\"list\", length = xs)\n",
    "for (i in seq_along(xs)) {\n",
    "    out[[i]] <- weighted.mean(xs[[i]], ws[[i]])\n",
    "}"
   ]
  },
  {
   "cell_type": "code",
   "execution_count": null,
   "id": "ec5c64ab",
   "metadata": {},
   "outputs": [],
   "source": [
    "# Example 3: standardize columns \n",
    "\n",
    "# Attempt 1\n",
    "mtcars[] <- lapply(mtcars, function(x) x / mean(x))\n",
    "                   \n",
    "# Attempt 2\n",
    "# first, get means\n",
    "mtmeans <- lapply(mtcars, mean)\n",
    "# then, get divide x / mean(x)\n",
    "mtcars[] <- Map(`/`, mtcars, mtmeans)\n",
    "\n",
    "# Attemp 3\n",
    "# if there are missing values \n",
    "Map(function(x, w) weighted.mean(x, w, na.rm = TRUE), xs, ws)"
   ]
  },
  {
   "cell_type": "markdown",
   "id": "b2600139",
   "metadata": {},
   "source": [
    "### Rolling computations"
   ]
  },
  {
   "cell_type": "markdown",
   "id": "357c2873",
   "metadata": {},
   "source": [
    "1. You can create your own for loop replacement by recognizing common looping structures and implementing your own wrapper. <br>\n",
    "The rollapply in the example is the same as in `zoo:rollapply()`, which has more features and more error checking."
   ]
  },
  {
   "cell_type": "code",
   "execution_count": 113,
   "id": "81ac6575",
   "metadata": {},
   "outputs": [
    {
     "name": "stdout",
     "output_type": "stream",
     "text": [
      "Compare trunc and ceiling results for a negative number: "
     ]
    },
    {
     "data": {
      "text/html": [
       "<ol class=list-inline>\n",
       "\t<li>-5</li>\n",
       "\t<li>-5</li>\n",
       "</ol>\n"
      ],
      "text/latex": [
       "\\begin{enumerate*}\n",
       "\\item -5\n",
       "\\item -5\n",
       "\\end{enumerate*}\n"
      ],
      "text/markdown": [
       "1. -5\n",
       "2. -5\n",
       "\n",
       "\n"
      ],
      "text/plain": [
       "[1] -5 -5"
      ]
     },
     "metadata": {},
     "output_type": "display_data"
    },
    {
     "name": "stdout",
     "output_type": "stream",
     "text": [
      "Compare trunc and floor results for a positive number: "
     ]
    },
    {
     "data": {
      "text/html": [
       "<ol class=list-inline>\n",
       "\t<li>5</li>\n",
       "\t<li>5</li>\n",
       "</ol>\n"
      ],
      "text/latex": [
       "\\begin{enumerate*}\n",
       "\\item 5\n",
       "\\item 5\n",
       "\\end{enumerate*}\n"
      ],
      "text/markdown": [
       "1. 5\n",
       "2. 5\n",
       "\n",
       "\n"
      ],
      "text/plain": [
       "[1] 5 5"
      ]
     },
     "metadata": {},
     "output_type": "display_data"
    }
   ],
   "source": [
    "# Example 0: how to use trunc()\n",
    "\n",
    "# trunc() behaves as:  \n",
    "# a ceiling function for negative numbers and\n",
    "# a floor function for positive numbers.\n",
    "\n",
    "# -10.4 / 2 = 5.2\n",
    "trunc_neg <- trunc(-10.4 / 2)\n",
    "ceiling_neg <- ceiling(-10.4 / 2)\n",
    "\n",
    "trunc_pos <- trunc(10.4 / 2)\n",
    "floor_pos <- floor(10.4 / 2)\n",
    "\n",
    "# compare results: \n",
    "cat(\"Compare trunc and ceiling results for a negative number: \")\n",
    "(neg_num <- c(trunc_neg, ceiling_neg))\n",
    "\n",
    "cat(\"Compare trunc and floor results for a positive number: \")\n",
    "(pos_num <- c(trunc_pos, floor_pos))"
   ]
  },
  {
   "cell_type": "code",
   "execution_count": 133,
   "id": "1c9d1f3f",
   "metadata": {},
   "outputs": [
    {
     "data": {
      "image/png": "[encoded data removed]",
      "text/plain": [
       "plot without title"
      ]
     },
     "metadata": {
      "image/png": {
       "height": 420,
       "width": 420
      }
     },
     "output_type": "display_data"
    }
   ],
   "source": [
    "# Example 1_1: rolling / running mean function\n",
    "\n",
    "# Attemp 1: rolling mean\n",
    "\n",
    "# create rolling mean function\n",
    "rollmean <- function(x, n) {\n",
    "    out <- rep(NA, length(x))\n",
    "    offset <- trunc(n / 2)\n",
    "    for (i in (offset + 1):(length(x) - n + offset + 1)) {\n",
    "        out[i] <- mean(x[(i - offset):(i + offset - 1)])\n",
    "    }\n",
    "    out \n",
    "}\n",
    "\n",
    "# create vector \n",
    "x <- seq(1, 3, length = 1e2) + runif(1e2)\n",
    "\n",
    "# plot\n",
    "plot(x)\n",
    "lines(rollmean(x, 5), col = \"blue\", lwd = 2)\n",
    "lines(rollmean(x, 10), col = \"red\", lwd = 2)"
   ]
  },
  {
   "cell_type": "code",
   "execution_count": 135,
   "id": "ebcf94ee",
   "metadata": {},
   "outputs": [
    {
     "data": {
      "image/png": "[encoded data removed]",
      "text/plain": [
       "plot without title"
      ]
     },
     "metadata": {
      "image/png": {
       "height": 420,
       "width": 420
      }
     },
     "output_type": "display_data"
    }
   ],
   "source": [
    "# Example 1_2: rolling median\n",
    "\n",
    "# If noise was more variable (longer tail), \n",
    "# your rolling mean was too sensitive to outliers\n",
    "# find rolling median instead \n",
    "\n",
    "# Attemp 2: rolling median\n",
    "\n",
    "# create rolling median function\n",
    "rollmedian <- function(x, n) {\n",
    "    out <- rep(NA, length(x))\n",
    "    offset <- trunc(n / 2)\n",
    "    for (i in (offset + 1):(length(x) - n + offset + 1)) {\n",
    "        out[i] <- median(x[(i - offset):(i + offset - 1)])\n",
    "    }\n",
    "    out \n",
    "}\n",
    "\n",
    "# create vector \n",
    "x <- seq(1, 3, length = 1e2) + rt(1e2, df = 2) / 3\n",
    "\n",
    "# plot\n",
    "plot(x)\n",
    "lines(rollmedian(x, 5), col = \"red\", lwd = 2)"
   ]
  },
  {
   "cell_type": "code",
   "execution_count": 138,
   "id": "1e0882ec",
   "metadata": {},
   "outputs": [
    {
     "data": {
      "image/png": "[encoded data removed]",
      "text/plain": [
       "plot without title"
      ]
     },
     "metadata": {
      "image/png": {
       "height": 420,
       "width": 420
      }
     },
     "output_type": "display_data"
    }
   ],
   "source": [
    "# Example 1_3: rolling function (lapply)\n",
    "\n",
    "# Attempt 3: \n",
    "\n",
    "# create rolling function using lapply\n",
    "rollapply <- function(x, n, f, ...) {\n",
    "    out <- rep(NA, length(x))\n",
    "    offset <- trunc(n / 2)\n",
    "    for (i in (offset + 1):(length(x) - n + offset + 1)) {\n",
    "        out[i] <- f(x[(i - offset):(i + offset)], ...)\n",
    "    }\n",
    "    out \n",
    "}\n",
    "\n",
    "# create vector \n",
    "x <- seq(1, 3, length = 1e2) + rt(1e2, df = 2) / 3\n",
    "\n",
    "# plot\n",
    "plot(x)\n",
    "lines(rollapply(x, 5, median), col = \"red\", lwd = 2)"
   ]
  },
  {
   "cell_type": "code",
   "execution_count": null,
   "id": "13db165a",
   "metadata": {},
   "outputs": [],
   "source": [
    "# Example 2: how rollapply works \n",
    "\n",
    "rollapply <- function(x, n, f, ...) {\n",
    "    offset <- trunc(n / 2)\n",
    "    locs <- (offset + 1):(length(x) - n + offset + 1)\n",
    "    num <- vapply(\n",
    "        locs,\n",
    "        function(i) f(x[(i - offset):(i + offset)], ...),\n",
    "        numeric(1)\n",
    "    )\n",
    "    c(rep(NA, offset), num)\n",
    "}"
   ]
  },
  {
   "cell_type": "markdown",
   "id": "9ae0e04a",
   "metadata": {},
   "source": [
    "### Parallelization"
   ]
  },
  {
   "cell_type": "markdown",
   "id": "58323775",
   "metadata": {},
   "source": [
    "1. For lapply(), because each iteration isolated from others, the order in which they are computed doesn't matter.<br><br>\n",
    "2. Important consequence: since we can compute each element in any order, it's easy to dispatch the tasks to different cores, and compute them in parallel.<br>\n",
    "This is what `parallel::mclapply()` and `parallel::maMap()` do.<br><br>\n",
    "3. `mcapply()` from **parallel** package in Example 2 is slower that `lapply()`. This is because the cost of individual computations is low, and additional work in needed to send the computation to different cores and to collect the results. <br><br>\n",
    "Example 3: a more realistic example, generating bootstrap replicates of a linear model, takes better advantage of mcapply.<br><br>\n",
    "4. While increasing number of cores will not always lead to linear improvement, switching from lapply() or Map() to its parallelized form can dramatically improve computational performance."
   ]
  },
  {
   "cell_type": "code",
   "execution_count": 143,
   "id": "f822e5e1",
   "metadata": {},
   "outputs": [
    {
     "name": "stdout",
     "output_type": "stream",
     "text": [
      "Results from original lapply(): "
     ]
    },
    {
     "data": {
      "text/html": [
       "<ol class=list-inline>\n",
       "\t<li>1</li>\n",
       "\t<li>1.4142135623731</li>\n",
       "\t<li>1.73205080756888</li>\n",
       "\t<li>2</li>\n",
       "\t<li>2.23606797749979</li>\n",
       "\t<li>2.44948974278318</li>\n",
       "\t<li>2.64575131106459</li>\n",
       "\t<li>2.82842712474619</li>\n",
       "\t<li>3</li>\n",
       "\t<li>3.16227766016838</li>\n",
       "</ol>\n"
      ],
      "text/latex": [
       "\\begin{enumerate*}\n",
       "\\item 1\n",
       "\\item 1.4142135623731\n",
       "\\item 1.73205080756888\n",
       "\\item 2\n",
       "\\item 2.23606797749979\n",
       "\\item 2.44948974278318\n",
       "\\item 2.64575131106459\n",
       "\\item 2.82842712474619\n",
       "\\item 3\n",
       "\\item 3.16227766016838\n",
       "\\end{enumerate*}\n"
      ],
      "text/markdown": [
       "1. 1\n",
       "2. 1.4142135623731\n",
       "3. 1.73205080756888\n",
       "4. 2\n",
       "5. 2.23606797749979\n",
       "6. 2.44948974278318\n",
       "7. 2.64575131106459\n",
       "8. 2.82842712474619\n",
       "9. 3\n",
       "10. 3.16227766016838\n",
       "\n",
       "\n"
      ],
      "text/plain": [
       " [1] 1.000000 1.414214 1.732051 2.000000 2.236068 2.449490 2.645751 2.828427\n",
       " [9] 3.000000 3.162278"
      ]
     },
     "metadata": {},
     "output_type": "display_data"
    },
    {
     "name": "stdout",
     "output_type": "stream",
     "text": [
      "Results from new lapply() with random order: "
     ]
    },
    {
     "data": {
      "text/html": [
       "<ol class=list-inline>\n",
       "\t<li>1</li>\n",
       "\t<li>1.4142135623731</li>\n",
       "\t<li>1.73205080756888</li>\n",
       "\t<li>2</li>\n",
       "\t<li>2.23606797749979</li>\n",
       "\t<li>2.44948974278318</li>\n",
       "\t<li>2.64575131106459</li>\n",
       "\t<li>2.82842712474619</li>\n",
       "\t<li>3</li>\n",
       "\t<li>3.16227766016838</li>\n",
       "</ol>\n"
      ],
      "text/latex": [
       "\\begin{enumerate*}\n",
       "\\item 1\n",
       "\\item 1.4142135623731\n",
       "\\item 1.73205080756888\n",
       "\\item 2\n",
       "\\item 2.23606797749979\n",
       "\\item 2.44948974278318\n",
       "\\item 2.64575131106459\n",
       "\\item 2.82842712474619\n",
       "\\item 3\n",
       "\\item 3.16227766016838\n",
       "\\end{enumerate*}\n"
      ],
      "text/markdown": [
       "1. 1\n",
       "2. 1.4142135623731\n",
       "3. 1.73205080756888\n",
       "4. 2\n",
       "5. 2.23606797749979\n",
       "6. 2.44948974278318\n",
       "7. 2.64575131106459\n",
       "8. 2.82842712474619\n",
       "9. 3\n",
       "10. 3.16227766016838\n",
       "\n",
       "\n"
      ],
      "text/plain": [
       " [1] 1.000000 1.414214 1.732051 2.000000 2.236068 2.449490 2.645751 2.828427\n",
       " [9] 3.000000 3.162278"
      ]
     },
     "metadata": {},
     "output_type": "display_data"
    },
    {
     "name": "stdout",
     "output_type": "stream",
     "text": [
      "Order 1: "
     ]
    },
    {
     "data": {
      "text/html": [
       "<ol class=list-inline>\n",
       "\t<li>1</li>\n",
       "\t<li>2</li>\n",
       "\t<li>3</li>\n",
       "</ol>\n"
      ],
      "text/latex": [
       "\\begin{enumerate*}\n",
       "\\item 1\n",
       "\\item 2\n",
       "\\item 3\n",
       "\\end{enumerate*}\n"
      ],
      "text/markdown": [
       "1. 1\n",
       "2. 2\n",
       "3. 3\n",
       "\n",
       "\n"
      ],
      "text/plain": [
       "[1] 1 2 3"
      ]
     },
     "metadata": {},
     "output_type": "display_data"
    },
    {
     "name": "stdout",
     "output_type": "stream",
     "text": [
      "Order 2: with random order"
     ]
    },
    {
     "data": {
      "text/html": [
       "<ol class=list-inline>\n",
       "\t<li>1</li>\n",
       "\t<li>3</li>\n",
       "\t<li>2</li>\n",
       "</ol>\n"
      ],
      "text/latex": [
       "\\begin{enumerate*}\n",
       "\\item 1\n",
       "\\item 3\n",
       "\\item 2\n",
       "\\end{enumerate*}\n"
      ],
      "text/markdown": [
       "1. 1\n",
       "2. 3\n",
       "3. 2\n",
       "\n",
       "\n"
      ],
      "text/plain": [
       "[1] 1 3 2"
      ]
     },
     "metadata": {},
     "output_type": "display_data"
    }
   ],
   "source": [
    "# Example 1\n",
    "\n",
    "# define lapply3 \n",
    "lapply3 <- function(x, f, ...) {\n",
    "    out <- vector(\"list\", length(x))\n",
    "    for (i in sample(seq_along(x))) {\n",
    "        out[[i]] <- f(x[[i]], ...)\n",
    "    }\n",
    "    out\n",
    "}\n",
    "\n",
    "# use lapply\n",
    "cat(\"Results from original lapply(): \")\n",
    "unlist(lapply(1:10, sqrt))\n",
    "\n",
    "# use lapply3\n",
    "cat(\"Results from new lapply() with random order: \")\n",
    "unlist(lapply3(1:10, sqrt))\n",
    "\n",
    "# look back lapply2\n",
    "# the order in lapply2 is different from lapply3, but the resutls are same\n",
    "lapply2 <- function(x, f, ...) {\n",
    "    out <- vector(\"list\", length(x))\n",
    "    for (i in seq_along(x)) {\n",
    "        out[[i]] <- f(x[[i]], ...)\n",
    "    }\n",
    "    out\n",
    "}\n",
    "\n",
    "# to see why the oder is different \n",
    "# define vector \n",
    "x <- c(1, 3, 45)\n",
    "# order 1\n",
    "cat(\"Order 1: from small to large\")\n",
    "seq_along(x)\n",
    "# order 2\n",
    "cat(\"Order 2: with random order\")\n",
    "sample(seq_along(x))"
   ]
  },
  {
   "cell_type": "code",
   "execution_count": 27,
   "id": "24ccd298",
   "metadata": {},
   "outputs": [
    {
     "name": "stdout",
     "output_type": "stream",
     "text": [
      "lapply time used: "
     ]
    },
    {
     "data": {
      "text/plain": [
       "   user  system elapsed \n",
       " 52.232   0.090  52.323 "
      ]
     },
     "metadata": {},
     "output_type": "display_data"
    },
    {
     "name": "stdout",
     "output_type": "stream",
     "text": [
      "mclapply time used: "
     ]
    },
    {
     "data": {
      "text/plain": [
       "   user  system elapsed \n",
       " 75.796   0.830  11.609 "
      ]
     },
     "metadata": {},
     "output_type": "display_data"
    }
   ],
   "source": [
    "# Example 2\n",
    "\n",
    "# create function: \n",
    "# randomly sample from each row and construct new sample data (same dimension)\n",
    "boot_df <- function(x) x[sample(nrow(x), rep = T), ]\n",
    "\n",
    "# create function: \n",
    "# extract R2 from linear model\n",
    "rsquared <- function(mod) summary(mod)$r.square\n",
    "\n",
    "# create function: \n",
    "# bootstrap replicates of a linear model \n",
    "boot_lm <- function(i) {\n",
    "    rsquared(lm(mpg ~ am + carb + cyl + disp + drat + gear + hp + qsec + vs + wt, \n",
    "                data = boot_df(mtcars)))\n",
    "}\n",
    "\n",
    "# test: lapply\n",
    "# in timer: 56s\n",
    "cat(\"lapply time used: \")\n",
    "system.time(lapply(1:50000, boot_lm))\n",
    "\n",
    "# test: mclapply\n",
    "# in timer: 5s\n",
    "# which is 11 times faster!!! \n",
    "library(parallel)\n",
    "cat(\"mclapply time used: \")\n",
    "system.time(mclapply(1:50000, boot_lm, mc.cores = 8))\n",
    "\n",
    "# note on mc.cores: \n",
    "# it's the number of cores to use\n",
    "# i.e. at most how many child processes will be run simultaneously. \n",
    "# it must be at least 1, and parallelization requires at least 2 cores."
   ]
  },
  {
   "cell_type": "markdown",
   "id": "df5467e8",
   "metadata": {},
   "source": [
    "## Manipulating matrices and data frames"
   ]
  },
  {
   "cell_type": "markdown",
   "id": "371526f5",
   "metadata": {},
   "source": [
    "1. Functionals can also be used to eliminate loops in common data manipulation tasks.<br><br>\n",
    "2. Three categories of data structure functionals:<br>\n",
    "(1) `apply()`, `sweep()`, `outer()`: they work with matrices. <br><br>\n",
    "(2) `tapply()`: it summaries a vector by groups defined by another vector. <br><br>\n",
    "(3) `plyr` package: it generalizes `tapply()` to make it easy to work with data frames, lists, or arrays as inputs, and data frames, lists, or arrays as outputs."
   ]
  },
  {
   "cell_type": "markdown",
   "id": "b84a5242",
   "metadata": {},
   "source": [
    "### Matrix and array operations"
   ]
  },
  {
   "cell_type": "markdown",
   "id": "61cdd614",
   "metadata": {},
   "source": [
    "1. So far, the functions we've seen work with 1d input structures.\n",
    "\n",
    "2. The three functions here can work with higher-dimensional data structures.<br>\n",
    "\n",
    "3. `apply()` is a variant of sapply() that works with matrices and arrays. You can think of it as an operation that summarizes a matrix or array by collapsing each row/column to a single number.<br>\n",
    "Default apply() arguments: `apply(X, MARGIN, FUN, …)`\n",
    "\n",
    "4. Caveats to using apply(): <br>\n",
    "(1) it doesn't have a *simplify = TRUE / FALSE* argument, so you can never be 100% sure what type of output you'll get. <br>\n",
    "(2) This means apply() isn't safe to use inside a function unless you carefully check the input. <br>\n",
    "(3) apply() is also not idempotent in the sense that if hte summary function is the identity operator, the output is not always the same as input.<br>\n",
    "(4) You can put high-dim arrays back in right order using `aperm()` or use `plyr::aaply()` which is idempotent.<br><br>\n",
    "\n",
    "5. `sweep()` allows you to \"sweep\" out the values of a summary statistics. <br>\n",
    "It's often used with apply() to standardize arrays.<br><br>\n",
    "\n",
    "6. `outer()` takes multiple vector inputs and creates a matrix or array output where the input function is run over every combination of inputs."
   ]
  },
  {
   "cell_type": "code",
   "execution_count": 28,
   "id": "7a294591",
   "metadata": {},
   "outputs": [
    {
     "name": "stdout",
     "output_type": "stream",
     "text": [
      "Row mean is: "
     ]
    },
    {
     "data": {
      "text/html": [
       "<ol class=list-inline>\n",
       "\t<li>8.5</li>\n",
       "\t<li>9.5</li>\n",
       "\t<li>10.5</li>\n",
       "\t<li>11.5</li>\n",
       "\t<li>12.5</li>\n",
       "</ol>\n"
      ],
      "text/latex": [
       "\\begin{enumerate*}\n",
       "\\item 8.5\n",
       "\\item 9.5\n",
       "\\item 10.5\n",
       "\\item 11.5\n",
       "\\item 12.5\n",
       "\\end{enumerate*}\n"
      ],
      "text/markdown": [
       "1. 8.5\n",
       "2. 9.5\n",
       "3. 10.5\n",
       "4. 11.5\n",
       "5. 12.5\n",
       "\n",
       "\n"
      ],
      "text/plain": [
       "[1]  8.5  9.5 10.5 11.5 12.5"
      ]
     },
     "metadata": {},
     "output_type": "display_data"
    },
    {
     "name": "stdout",
     "output_type": "stream",
     "text": [
      "Column mean is: "
     ]
    },
    {
     "data": {
      "text/html": [
       "<ol class=list-inline>\n",
       "\t<li>3</li>\n",
       "\t<li>8</li>\n",
       "\t<li>13</li>\n",
       "\t<li>18</li>\n",
       "</ol>\n"
      ],
      "text/latex": [
       "\\begin{enumerate*}\n",
       "\\item 3\n",
       "\\item 8\n",
       "\\item 13\n",
       "\\item 18\n",
       "\\end{enumerate*}\n"
      ],
      "text/markdown": [
       "1. 3\n",
       "2. 8\n",
       "3. 13\n",
       "4. 18\n",
       "\n",
       "\n"
      ],
      "text/plain": [
       "[1]  3  8 13 18"
      ]
     },
     "metadata": {},
     "output_type": "display_data"
    }
   ],
   "source": [
    "# Example 1: use apply()\n",
    "\n",
    "# create matrix \n",
    "a <- matrix(1:20, nrow = 5)\n",
    "\n",
    "# get row mean \n",
    "cat(\"Row mean is: \")\n",
    "apply(a, 1, mean)\n",
    "\n",
    "# get column mean\n",
    "cat(\"Column mean is: \")\n",
    "apply(a, 2, mean)"
   ]
  },
  {
   "cell_type": "code",
   "execution_count": 35,
   "id": "e5e0d7b0",
   "metadata": {},
   "outputs": [
    {
     "data": {
      "text/html": [
       "FALSE"
      ],
      "text/latex": [
       "FALSE"
      ],
      "text/markdown": [
       "FALSE"
      ],
      "text/plain": [
       "[1] FALSE"
      ]
     },
     "metadata": {},
     "output_type": "display_data"
    },
    {
     "data": {
      "text/html": [
       "TRUE"
      ],
      "text/latex": [
       "TRUE"
      ],
      "text/markdown": [
       "TRUE"
      ],
      "text/plain": [
       "[1] TRUE"
      ]
     },
     "metadata": {},
     "output_type": "display_data"
    },
    {
     "data": {
      "text/html": [
       "TRUE"
      ],
      "text/latex": [
       "TRUE"
      ],
      "text/markdown": [
       "TRUE"
      ],
      "text/plain": [
       "[1] TRUE"
      ]
     },
     "metadata": {},
     "output_type": "display_data"
    }
   ],
   "source": [
    "# Example 2: caveats to using apply()\n",
    "\n",
    "# create matrix: a\n",
    "a <- matrix(1:20, nrow = 5)\n",
    "\n",
    "# create: a1\n",
    "a1 <- apply(a, 1, identity)\n",
    "\n",
    "# test if identical\n",
    "identical(a, a1)\n",
    "identical(a, t(a1))\n",
    "\n",
    "# create: a1\n",
    "a2 <- apply(a, 2, identity)\n",
    "\n",
    "# test if identical\n",
    "identical(a, a2)"
   ]
  },
  {
   "cell_type": "code",
   "execution_count": 33,
   "id": "8c77b142",
   "metadata": {},
   "outputs": [
    {
     "data": {
      "text/html": [
       "TRUE"
      ],
      "text/latex": [
       "TRUE"
      ],
      "text/markdown": [
       "TRUE"
      ],
      "text/plain": [
       "[1] TRUE"
      ]
     },
     "metadata": {},
     "output_type": "display_data"
    },
    {
     "data": {
      "text/html": [
       "TRUE"
      ],
      "text/latex": [
       "TRUE"
      ],
      "text/markdown": [
       "TRUE"
      ],
      "text/plain": [
       "[1] TRUE"
      ]
     },
     "metadata": {},
     "output_type": "display_data"
    }
   ],
   "source": [
    "# How to use identity()\n",
    "\n",
    "# create a vector\n",
    "x_0 <- c(1, 2, 3, 4)\n",
    "x_1 <- identity(x_0)\n",
    "# test if identical\n",
    "identical(x_0, x_1)\n",
    "\n",
    "# create a list\n",
    "list_0 <- list(letters[1:6])\n",
    "list_1 <- identity(list_0)\n",
    "# test if identical\n",
    "identical(list_0, list_1)"
   ]
  },
  {
   "cell_type": "code",
   "execution_count": 16,
   "id": "5ed592f7",
   "metadata": {},
   "outputs": [
    {
     "name": "stdout",
     "output_type": "stream",
     "text": [
      "Original matrix is: "
     ]
    },
    {
     "data": {
      "text/html": [
       "<table>\n",
       "<tbody>\n",
       "\t<tr><td>1</td><td>4</td><td>7</td></tr>\n",
       "\t<tr><td>2</td><td>5</td><td>8</td></tr>\n",
       "\t<tr><td>3</td><td>6</td><td>9</td></tr>\n",
       "</tbody>\n",
       "</table>\n"
      ],
      "text/latex": [
       "\\begin{tabular}{lll}\n",
       "\t 1 & 4 & 7\\\\\n",
       "\t 2 & 5 & 8\\\\\n",
       "\t 3 & 6 & 9\\\\\n",
       "\\end{tabular}\n"
      ],
      "text/markdown": [
       "\n",
       "| 1 | 4 | 7 |\n",
       "| 2 | 5 | 8 |\n",
       "| 3 | 6 | 9 |\n",
       "\n"
      ],
      "text/plain": [
       "     [,1] [,2] [,3]\n",
       "[1,] 1    4    7   \n",
       "[2,] 2    5    8   \n",
       "[3,] 3    6    9   "
      ]
     },
     "metadata": {},
     "output_type": "display_data"
    },
    {
     "name": "stdout",
     "output_type": "stream",
     "text": [
      "For each element, substract the min value from each row: "
     ]
    },
    {
     "data": {
      "text/html": [
       "<table>\n",
       "<tbody>\n",
       "\t<tr><td>0</td><td>3</td><td>6</td></tr>\n",
       "\t<tr><td>0</td><td>3</td><td>6</td></tr>\n",
       "\t<tr><td>0</td><td>3</td><td>6</td></tr>\n",
       "</tbody>\n",
       "</table>\n"
      ],
      "text/latex": [
       "\\begin{tabular}{lll}\n",
       "\t 0 & 3 & 6\\\\\n",
       "\t 0 & 3 & 6\\\\\n",
       "\t 0 & 3 & 6\\\\\n",
       "\\end{tabular}\n"
      ],
      "text/markdown": [
       "\n",
       "| 0 | 3 | 6 |\n",
       "| 0 | 3 | 6 |\n",
       "| 0 | 3 | 6 |\n",
       "\n"
      ],
      "text/plain": [
       "     [,1] [,2] [,3]\n",
       "[1,] 0    3    6   \n",
       "[2,] 0    3    6   \n",
       "[3,] 0    3    6   "
      ]
     },
     "metadata": {},
     "output_type": "display_data"
    },
    {
     "name": "stdout",
     "output_type": "stream",
     "text": [
      "Then for each element, divide by max value from each row: "
     ]
    },
    {
     "data": {
      "text/html": [
       "<table>\n",
       "<tbody>\n",
       "\t<tr><td>0  </td><td>0.5</td><td>1  </td></tr>\n",
       "\t<tr><td>0  </td><td>0.5</td><td>1  </td></tr>\n",
       "\t<tr><td>0  </td><td>0.5</td><td>1  </td></tr>\n",
       "</tbody>\n",
       "</table>\n"
      ],
      "text/latex": [
       "\\begin{tabular}{lll}\n",
       "\t 0   & 0.5 & 1  \\\\\n",
       "\t 0   & 0.5 & 1  \\\\\n",
       "\t 0   & 0.5 & 1  \\\\\n",
       "\\end{tabular}\n"
      ],
      "text/markdown": [
       "\n",
       "| 0   | 0.5 | 1   |\n",
       "| 0   | 0.5 | 1   |\n",
       "| 0   | 0.5 | 1   |\n",
       "\n"
      ],
      "text/plain": [
       "     [,1] [,2] [,3]\n",
       "[1,] 0    0.5  1   \n",
       "[2,] 0    0.5  1   \n",
       "[3,] 0    0.5  1   "
      ]
     },
     "metadata": {},
     "output_type": "display_data"
    }
   ],
   "source": [
    "# Example 3: use sweep()\n",
    "\n",
    "# create matrix \n",
    "cat(\"Original matrix is: \")\n",
    "(x <- matrix(1:9, nrow = 3))\n",
    "\n",
    "# use sweep()\n",
    "# step 1: get min, then get x1 = (x - min) for each row\n",
    "cat(\"For each element, substract the min value from each row: \")\n",
    "(x1 <- sweep(x, 1, apply(x, 1, min), `-`))\n",
    "\n",
    "# step 2: get division\n",
    "cat(\"Then for each element, divide by max value from each row: \")\n",
    "(x2 <- sweep(x1, 1, apply(x1, 1, max), `/`))"
   ]
  },
  {
   "cell_type": "code",
   "execution_count": 17,
   "id": "50a664d8",
   "metadata": {},
   "outputs": [
    {
     "data": {
      "text/html": [
       "<table>\n",
       "<tbody>\n",
       "\t<tr><td>1 </td><td>2 </td><td>3 </td><td> 4</td><td> 5</td><td> 6</td><td> 7</td><td> 8</td><td> 9</td><td>10</td></tr>\n",
       "\t<tr><td>2 </td><td>4 </td><td>6 </td><td> 8</td><td>10</td><td>12</td><td>14</td><td>16</td><td>18</td><td>20</td></tr>\n",
       "\t<tr><td>3 </td><td>6 </td><td>9 </td><td>12</td><td>15</td><td>18</td><td>21</td><td>24</td><td>27</td><td>30</td></tr>\n",
       "</tbody>\n",
       "</table>\n"
      ],
      "text/latex": [
       "\\begin{tabular}{llllllllll}\n",
       "\t 1  & 2  & 3  &  4 &  5 &  6 &  7 &  8 &  9 & 10\\\\\n",
       "\t 2  & 4  & 6  &  8 & 10 & 12 & 14 & 16 & 18 & 20\\\\\n",
       "\t 3  & 6  & 9  & 12 & 15 & 18 & 21 & 24 & 27 & 30\\\\\n",
       "\\end{tabular}\n"
      ],
      "text/markdown": [
       "\n",
       "| 1  | 2  | 3  |  4 |  5 |  6 |  7 |  8 |  9 | 10 |\n",
       "| 2  | 4  | 6  |  8 | 10 | 12 | 14 | 16 | 18 | 20 |\n",
       "| 3  | 6  | 9  | 12 | 15 | 18 | 21 | 24 | 27 | 30 |\n",
       "\n"
      ],
      "text/plain": [
       "     [,1] [,2] [,3] [,4] [,5] [,6] [,7] [,8] [,9] [,10]\n",
       "[1,] 1    2    3     4    5    6    7    8    9   10   \n",
       "[2,] 2    4    6     8   10   12   14   16   18   20   \n",
       "[3,] 3    6    9    12   15   18   21   24   27   30   "
      ]
     },
     "metadata": {},
     "output_type": "display_data"
    }
   ],
   "source": [
    "# Example 4: use outer()\n",
    "\n",
    "outer(1:3, 1:10, \"*\")"
   ]
  },
  {
   "cell_type": "markdown",
   "id": "880b6277",
   "metadata": {},
   "source": [
    "### Group apply"
   ]
  },
  {
   "cell_type": "markdown",
   "id": "4ae821d4",
   "metadata": {},
   "source": [
    "1. You can think about `tapply()` as a generalization to apply() that allows for \"ragged\" arrays, arrays where each row can have a different number of columns. <br>\n",
    "this is often needed when you're trying to summarize a data set. \n",
    "2. tapply() works by creating a \"ragged\" data structure from a set of inputs, then applying a function to individual elements of that structure. <br>\n",
    "(1) The first task is actually what `split()` does: It takes 2 inputs and returns a list which groups elements together from the first vector according to elements/categories from the 2nd vector.<br>\n",
    "(2)Then tapply is just a combination of split() and sapply()."
   ]
  },
  {
   "cell_type": "code",
   "execution_count": 29,
   "id": "aa3f442f",
   "metadata": {},
   "outputs": [
    {
     "data": {
      "text/html": [
       "<dl class=dl-horizontal>\n",
       "\t<dt>A</dt>\n",
       "\t\t<dd>10</dd>\n",
       "\t<dt>B</dt>\n",
       "\t\t<dd>12</dd>\n",
       "</dl>\n"
      ],
      "text/latex": [
       "\\begin{description*}\n",
       "\\item[A] 10\n",
       "\\item[B] 12\n",
       "\\end{description*}\n"
      ],
      "text/markdown": [
       "A\n",
       ":   10B\n",
       ":   12\n",
       "\n"
      ],
      "text/plain": [
       " A  B \n",
       "10 12 "
      ]
     },
     "metadata": {},
     "output_type": "display_data"
    },
    {
     "data": {
      "text/html": [
       "<dl class=dl-horizontal>\n",
       "\t<dt>A</dt>\n",
       "\t\t<dd>70.6</dd>\n",
       "\t<dt>B</dt>\n",
       "\t\t<dd>74.4166666666667</dd>\n",
       "</dl>\n"
      ],
      "text/latex": [
       "\\begin{description*}\n",
       "\\item[A] 70.6\n",
       "\\item[B] 74.4166666666667\n",
       "\\end{description*}\n"
      ],
      "text/markdown": [
       "A\n",
       ":   70.6B\n",
       ":   74.4166666666667\n",
       "\n"
      ],
      "text/plain": [
       "       A        B \n",
       "70.60000 74.41667 "
      ]
     },
     "metadata": {},
     "output_type": "display_data"
    }
   ],
   "source": [
    "# Example 1: use tapply()\n",
    "\n",
    "# create data \n",
    "# vector: length of 22\n",
    "pulse <- round(rnorm(22, 70, 10 / 3)) + rep(c(0, 5), c(10, 12))\n",
    "group <- rep(c(\"A\", \"B\"), c(10, 12))\n",
    "\n",
    "# use tapply() to get summary: \n",
    "# since length of pulse and group are different\n",
    "tapply(pulse, group, length)\n",
    "tapply(pulse, group, mean)"
   ]
  },
  {
   "cell_type": "code",
   "execution_count": 33,
   "id": "c1463e1f",
   "metadata": {},
   "outputs": [
    {
     "name": "stdout",
     "output_type": "stream",
     "text": [
      "Raw data: pulse: "
     ]
    },
    {
     "data": {
      "text/html": [
       "<ol class=list-inline>\n",
       "\t<li>70</li>\n",
       "\t<li>66</li>\n",
       "\t<li>75</li>\n",
       "\t<li>68</li>\n",
       "\t<li>70</li>\n",
       "\t<li>71</li>\n",
       "\t<li>67</li>\n",
       "\t<li>71</li>\n",
       "\t<li>68</li>\n",
       "\t<li>68</li>\n",
       "\t<li>73</li>\n",
       "\t<li>72</li>\n",
       "\t<li>79</li>\n",
       "\t<li>77</li>\n",
       "\t<li>70</li>\n",
       "\t<li>73</li>\n",
       "\t<li>80</li>\n",
       "\t<li>74</li>\n",
       "\t<li>83</li>\n",
       "\t<li>77</li>\n",
       "\t<li>78</li>\n",
       "\t<li>71</li>\n",
       "</ol>\n"
      ],
      "text/latex": [
       "\\begin{enumerate*}\n",
       "\\item 70\n",
       "\\item 66\n",
       "\\item 75\n",
       "\\item 68\n",
       "\\item 70\n",
       "\\item 71\n",
       "\\item 67\n",
       "\\item 71\n",
       "\\item 68\n",
       "\\item 68\n",
       "\\item 73\n",
       "\\item 72\n",
       "\\item 79\n",
       "\\item 77\n",
       "\\item 70\n",
       "\\item 73\n",
       "\\item 80\n",
       "\\item 74\n",
       "\\item 83\n",
       "\\item 77\n",
       "\\item 78\n",
       "\\item 71\n",
       "\\end{enumerate*}\n"
      ],
      "text/markdown": [
       "1. 70\n",
       "2. 66\n",
       "3. 75\n",
       "4. 68\n",
       "5. 70\n",
       "6. 71\n",
       "7. 67\n",
       "8. 71\n",
       "9. 68\n",
       "10. 68\n",
       "11. 73\n",
       "12. 72\n",
       "13. 79\n",
       "14. 77\n",
       "15. 70\n",
       "16. 73\n",
       "17. 80\n",
       "18. 74\n",
       "19. 83\n",
       "20. 77\n",
       "21. 78\n",
       "22. 71\n",
       "\n",
       "\n"
      ],
      "text/plain": [
       " [1] 70 66 75 68 70 71 67 71 68 68 73 72 79 77 70 73 80 74 83 77 78 71"
      ]
     },
     "metadata": {},
     "output_type": "display_data"
    },
    {
     "name": "stdout",
     "output_type": "stream",
     "text": [
      "Raw data: group: "
     ]
    },
    {
     "data": {
      "text/html": [
       "<ol class=list-inline>\n",
       "\t<li>'A'</li>\n",
       "\t<li>'A'</li>\n",
       "\t<li>'A'</li>\n",
       "\t<li>'A'</li>\n",
       "\t<li>'A'</li>\n",
       "\t<li>'A'</li>\n",
       "\t<li>'A'</li>\n",
       "\t<li>'A'</li>\n",
       "\t<li>'A'</li>\n",
       "\t<li>'A'</li>\n",
       "\t<li>'B'</li>\n",
       "\t<li>'B'</li>\n",
       "\t<li>'B'</li>\n",
       "\t<li>'B'</li>\n",
       "\t<li>'B'</li>\n",
       "\t<li>'B'</li>\n",
       "\t<li>'B'</li>\n",
       "\t<li>'B'</li>\n",
       "\t<li>'B'</li>\n",
       "\t<li>'B'</li>\n",
       "\t<li>'B'</li>\n",
       "\t<li>'B'</li>\n",
       "</ol>\n"
      ],
      "text/latex": [
       "\\begin{enumerate*}\n",
       "\\item 'A'\n",
       "\\item 'A'\n",
       "\\item 'A'\n",
       "\\item 'A'\n",
       "\\item 'A'\n",
       "\\item 'A'\n",
       "\\item 'A'\n",
       "\\item 'A'\n",
       "\\item 'A'\n",
       "\\item 'A'\n",
       "\\item 'B'\n",
       "\\item 'B'\n",
       "\\item 'B'\n",
       "\\item 'B'\n",
       "\\item 'B'\n",
       "\\item 'B'\n",
       "\\item 'B'\n",
       "\\item 'B'\n",
       "\\item 'B'\n",
       "\\item 'B'\n",
       "\\item 'B'\n",
       "\\item 'B'\n",
       "\\end{enumerate*}\n"
      ],
      "text/markdown": [
       "1. 'A'\n",
       "2. 'A'\n",
       "3. 'A'\n",
       "4. 'A'\n",
       "5. 'A'\n",
       "6. 'A'\n",
       "7. 'A'\n",
       "8. 'A'\n",
       "9. 'A'\n",
       "10. 'A'\n",
       "11. 'B'\n",
       "12. 'B'\n",
       "13. 'B'\n",
       "14. 'B'\n",
       "15. 'B'\n",
       "16. 'B'\n",
       "17. 'B'\n",
       "18. 'B'\n",
       "19. 'B'\n",
       "20. 'B'\n",
       "21. 'B'\n",
       "22. 'B'\n",
       "\n",
       "\n"
      ],
      "text/plain": [
       " [1] \"A\" \"A\" \"A\" \"A\" \"A\" \"A\" \"A\" \"A\" \"A\" \"A\" \"B\" \"B\" \"B\" \"B\" \"B\" \"B\" \"B\" \"B\" \"B\"\n",
       "[20] \"B\" \"B\" \"B\""
      ]
     },
     "metadata": {},
     "output_type": "display_data"
    },
    {
     "name": "stdout",
     "output_type": "stream",
     "text": [
      "first step of tapply() does same as split: it returns a list of 2 groups: "
     ]
    },
    {
     "data": {
      "text/html": [
       "<dl>\n",
       "\t<dt>$A</dt>\n",
       "\t\t<dd><ol class=list-inline>\n",
       "\t<li>70</li>\n",
       "\t<li>66</li>\n",
       "\t<li>75</li>\n",
       "\t<li>68</li>\n",
       "\t<li>70</li>\n",
       "\t<li>71</li>\n",
       "\t<li>67</li>\n",
       "\t<li>71</li>\n",
       "\t<li>68</li>\n",
       "\t<li>68</li>\n",
       "</ol>\n",
       "</dd>\n",
       "\t<dt>$B</dt>\n",
       "\t\t<dd><ol class=list-inline>\n",
       "\t<li>73</li>\n",
       "\t<li>72</li>\n",
       "\t<li>79</li>\n",
       "\t<li>77</li>\n",
       "\t<li>70</li>\n",
       "\t<li>73</li>\n",
       "\t<li>80</li>\n",
       "\t<li>74</li>\n",
       "\t<li>83</li>\n",
       "\t<li>77</li>\n",
       "\t<li>78</li>\n",
       "\t<li>71</li>\n",
       "</ol>\n",
       "</dd>\n",
       "</dl>\n"
      ],
      "text/latex": [
       "\\begin{description}\n",
       "\\item[\\$A] \\begin{enumerate*}\n",
       "\\item 70\n",
       "\\item 66\n",
       "\\item 75\n",
       "\\item 68\n",
       "\\item 70\n",
       "\\item 71\n",
       "\\item 67\n",
       "\\item 71\n",
       "\\item 68\n",
       "\\item 68\n",
       "\\end{enumerate*}\n",
       "\n",
       "\\item[\\$B] \\begin{enumerate*}\n",
       "\\item 73\n",
       "\\item 72\n",
       "\\item 79\n",
       "\\item 77\n",
       "\\item 70\n",
       "\\item 73\n",
       "\\item 80\n",
       "\\item 74\n",
       "\\item 83\n",
       "\\item 77\n",
       "\\item 78\n",
       "\\item 71\n",
       "\\end{enumerate*}\n",
       "\n",
       "\\end{description}\n"
      ],
      "text/markdown": [
       "$A\n",
       ":   1. 70\n",
       "2. 66\n",
       "3. 75\n",
       "4. 68\n",
       "5. 70\n",
       "6. 71\n",
       "7. 67\n",
       "8. 71\n",
       "9. 68\n",
       "10. 68\n",
       "\n",
       "\n",
       "\n",
       "$B\n",
       ":   1. 73\n",
       "2. 72\n",
       "3. 79\n",
       "4. 77\n",
       "5. 70\n",
       "6. 73\n",
       "7. 80\n",
       "8. 74\n",
       "9. 83\n",
       "10. 77\n",
       "11. 78\n",
       "12. 71\n",
       "\n",
       "\n",
       "\n",
       "\n",
       "\n"
      ],
      "text/plain": [
       "$A\n",
       " [1] 70 66 75 68 70 71 67 71 68 68\n",
       "\n",
       "$B\n",
       " [1] 73 72 79 77 70 73 80 74 83 77 78 71\n"
      ]
     },
     "metadata": {},
     "output_type": "display_data"
    }
   ],
   "source": [
    "# Example 2: how tapply() works \n",
    "\n",
    "# create pulse\n",
    "cat(\"Raw data: pulse: \")\n",
    "(pulse <- round(rnorm(22, 70, 10 / 3)) + rep(c(0, 5), c(10, 12)))\n",
    "# create group \n",
    "cat(\"Raw data: group: \")\n",
    "(group <- rep(c(\"A\", \"B\"), c(10, 12)))\n",
    "\n",
    "# step 1: tapply does what split does: \n",
    "# split pulse into 2 groups based on the definition of group\n",
    "# first 10 elements of pulse are assigned to group A \n",
    "# last 12 elements of pulse are assigned to group B\n",
    "cat(\"first step of tapply() does same as split: it returns a list of 2 groups: \")\n",
    "split(pulse, group)"
   ]
  },
  {
   "cell_type": "code",
   "execution_count": 34,
   "id": "f0d56aec",
   "metadata": {},
   "outputs": [
    {
     "data": {
      "text/html": [
       "<dl class=dl-horizontal>\n",
       "\t<dt>A</dt>\n",
       "\t\t<dd>10</dd>\n",
       "\t<dt>B</dt>\n",
       "\t\t<dd>12</dd>\n",
       "</dl>\n"
      ],
      "text/latex": [
       "\\begin{description*}\n",
       "\\item[A] 10\n",
       "\\item[B] 12\n",
       "\\end{description*}\n"
      ],
      "text/markdown": [
       "A\n",
       ":   10B\n",
       ":   12\n",
       "\n"
      ],
      "text/plain": [
       " A  B \n",
       "10 12 "
      ]
     },
     "metadata": {},
     "output_type": "display_data"
    },
    {
     "data": {
      "text/html": [
       "<dl class=dl-horizontal>\n",
       "\t<dt>A</dt>\n",
       "\t\t<dd>69.4</dd>\n",
       "\t<dt>B</dt>\n",
       "\t\t<dd>75.5833333333333</dd>\n",
       "</dl>\n"
      ],
      "text/latex": [
       "\\begin{description*}\n",
       "\\item[A] 69.4\n",
       "\\item[B] 75.5833333333333\n",
       "\\end{description*}\n"
      ],
      "text/markdown": [
       "A\n",
       ":   69.4B\n",
       ":   75.5833333333333\n",
       "\n"
      ],
      "text/plain": [
       "       A        B \n",
       "69.40000 75.58333 "
      ]
     },
     "metadata": {},
     "output_type": "display_data"
    }
   ],
   "source": [
    "# step 2: tapply is a combination of split() and sapply()\n",
    "# NOT RUN\n",
    "\n",
    "tapply2 <- function(x, group, f, ..., simplify = TRUE) {\n",
    "    pieces <- split(x, group)\n",
    "    sapply(pieces, f, simplify = simplify)\n",
    "}\n",
    "\n",
    "# use tapply2()\n",
    "tapply2(pulse, group, length)\n",
    "tapply2(pulse, group, mean)"
   ]
  },
  {
   "cell_type": "markdown",
   "id": "c3bd837a",
   "metadata": {},
   "source": [
    "### `plyr` package"
   ]
  },
  {
   "cell_type": "markdown",
   "id": "44bd24ca",
   "metadata": {},
   "source": [
    "1. A challenge with using base functions is that they have been written by multiple authors, so they are not very consistent: <br><br>\n",
    "(1) with `tapply()` and `sapply()`, the simplify argument is called simplify; with `mapply()`, it's called SIMPLIFY; with `apply()`, it doesn't have simplify argument. <br><br>\n",
    "(2) `vapply()` is a variant of `sapply()` that allows you to describe what the output should be, but there are no corresponding variants for `tapply()`, `lapply()` and `Map()`. <br><br>\n",
    "(3) First argument of most base functions is a vector, but first argument in `Map()` is a function. <br><br>\n",
    "\n",
    "2. Base R only covers a partial set of cases: \n",
    "<br><br>\n",
    "\n",
    "|            | list     | data frame | array    | \n",
    "| :-:        | :-:      |        :-: |   :-:    |\n",
    "| list       | lapply() |            | sapply() | \n",
    "| data frame | by()     |            | apply()  | \n",
    "| array      |          |            | apply()  | \n",
    "<br><br>\n",
    "\n",
    "3. The motication behind `plyr` package is to provide consistently named functions with consistently named arguments and covers all combinations of input and output data structures: \n",
    "<br><br>\n",
    "|            | list     | data frame | array    | \n",
    "| :-:        | :-:      | :-:        |   :-:    |\n",
    "| list       | llply()  | ldply()    | lapply() | \n",
    "| data frame | dlply()  | ddply()    | daply()  | \n",
    "| array      | alply()  | adply()    | aaply()  | \n",
    "<br><br>\n",
    "\n",
    "4. Each of the function in plyr splits up the input, applies a funciton to each piece, and then combines the results. Overall, this process is called \"split-apply-combine.\""
   ]
  },
  {
   "cell_type": "markdown",
   "id": "fa678949",
   "metadata": {},
   "source": [
    "## Manipulating lists"
   ]
  },
  {
   "cell_type": "markdown",
   "id": "fff2f743",
   "metadata": {},
   "source": [
    "1. Another way of thinking about functionals is as a set of general tools for altering, subsetting and collapsing lists. <br><br>"
   ]
  },
  {
   "cell_type": "markdown",
   "id": "3ea4d21a",
   "metadata": {},
   "source": [
    "### Reduce()"
   ]
  },
  {
   "cell_type": "markdown",
   "id": "07461146",
   "metadata": {},
   "source": [
    "1. Everything functional programming language has 3 tools for this:<br><br>\n",
    "\n",
    "(1) `Map()`: it works when you have $\\geq$ 2 lists / data frame that you need to process in parallel. <br><br>\n",
    "\n",
    "(2) `Reduce()`: reduces a vector, x, to a single value by recursively calling a function, f, two arguments at a time. <br>\n",
    "It combines the first 2 elements with f, then combines the result of that call with the 3rd element, and so on. <br>\n",
    "Calling `Reduce(f, 1:3)` is same as `f(f(1, 2), 3)`.<br>\n",
    "Reduce() is also known as fold because it folds together adjacent elements in the list.<br>\n",
    "Reduce() is an elegant way of extending a function that works with 2 inputs into a function that can deal with any number of inputs. <br><br>\n",
    "\n",
    "**When is `Reduce()` helpful?** <br>\n",
    "It's useful for implementing many types of recursive operations, like merges and intersections.<br><br>\n",
    "\n",
    "(3) `Filter()` returns data frame with variables that satisfy the conditions (e.g. is.factor)"
   ]
  },
  {
   "cell_type": "code",
   "execution_count": 35,
   "id": "63d496e2",
   "metadata": {},
   "outputs": [
    {
     "data": {
      "text/html": [
       "6"
      ],
      "text/latex": [
       "6"
      ],
      "text/markdown": [
       "6"
      ],
      "text/plain": [
       "[1] 6"
      ]
     },
     "metadata": {},
     "output_type": "display_data"
    },
    {
     "data": {
      "text/html": [
       "6"
      ],
      "text/latex": [
       "6"
      ],
      "text/markdown": [
       "6"
      ],
      "text/plain": [
       "[1] 6"
      ]
     },
     "metadata": {},
     "output_type": "display_data"
    }
   ],
   "source": [
    "# Example 1: \n",
    "\n",
    "# ------ (1) infix function\n",
    "# this is same as: \n",
    "# ((1 + 2) + 3)\n",
    "Reduce(`+`, 1:3)\n",
    "\n",
    "# ------ (2) prefix function\n",
    "# this is same as: \n",
    "# sum(sum(1, 2), 3)\n",
    "Reduce(sum, 1:3) "
   ]
  },
  {
   "cell_type": "code",
   "execution_count": 36,
   "id": "09f7d9f8",
   "metadata": {},
   "outputs": [
    {
     "data": {
      "text/html": [
       "6"
      ],
      "text/latex": [
       "6"
      ],
      "text/markdown": [
       "6"
      ],
      "text/plain": [
       "[1] 6"
      ]
     },
     "metadata": {},
     "output_type": "display_data"
    }
   ],
   "source": [
    "# How Reduce() works \n",
    "\n",
    "# create Reduce2()\n",
    "Reduce2 <- function(f, x) {\n",
    "    out <- x[[1]]\n",
    "    for (i in seq(2, length(x))) {\n",
    "        out <- f(out, x[[i]])\n",
    "    }\n",
    "    out\n",
    "}\n",
    "\n",
    "# test Reduce2()\n",
    "Reduce2(sum, 1:3)"
   ]
  },
  {
   "cell_type": "code",
   "execution_count": 46,
   "id": "c213fc61",
   "metadata": {},
   "outputs": [
    {
     "data": {
      "text/html": [
       "<ol>\n",
       "\t<li><ol class=list-inline>\n",
       "\t<li>3</li>\n",
       "\t<li>3</li>\n",
       "\t<li>10</li>\n",
       "\t<li>2</li>\n",
       "\t<li>6</li>\n",
       "\t<li>5</li>\n",
       "\t<li>4</li>\n",
       "\t<li>6</li>\n",
       "\t<li>9</li>\n",
       "\t<li>10</li>\n",
       "\t<li>5</li>\n",
       "\t<li>3</li>\n",
       "\t<li>9</li>\n",
       "\t<li>9</li>\n",
       "\t<li>9</li>\n",
       "</ol>\n",
       "</li>\n",
       "\t<li><ol class=list-inline>\n",
       "\t<li>3</li>\n",
       "\t<li>8</li>\n",
       "\t<li>10</li>\n",
       "\t<li>7</li>\n",
       "\t<li>10</li>\n",
       "\t<li>9</li>\n",
       "\t<li>3</li>\n",
       "\t<li>4</li>\n",
       "\t<li>1</li>\n",
       "\t<li>7</li>\n",
       "\t<li>5</li>\n",
       "\t<li>10</li>\n",
       "\t<li>7</li>\n",
       "\t<li>9</li>\n",
       "\t<li>9</li>\n",
       "</ol>\n",
       "</li>\n",
       "\t<li><ol class=list-inline>\n",
       "\t<li>10</li>\n",
       "\t<li>7</li>\n",
       "\t<li>5</li>\n",
       "\t<li>7</li>\n",
       "\t<li>5</li>\n",
       "\t<li>6</li>\n",
       "\t<li>9</li>\n",
       "\t<li>2</li>\n",
       "\t<li>5</li>\n",
       "\t<li>8</li>\n",
       "\t<li>2</li>\n",
       "\t<li>1</li>\n",
       "\t<li>9</li>\n",
       "\t<li>9</li>\n",
       "\t<li>6</li>\n",
       "</ol>\n",
       "</li>\n",
       "\t<li><ol class=list-inline>\n",
       "\t<li>5</li>\n",
       "\t<li>9</li>\n",
       "\t<li>10</li>\n",
       "\t<li>4</li>\n",
       "\t<li>6</li>\n",
       "\t<li>8</li>\n",
       "\t<li>6</li>\n",
       "\t<li>6</li>\n",
       "\t<li>7</li>\n",
       "\t<li>1</li>\n",
       "\t<li>6</li>\n",
       "\t<li>2</li>\n",
       "\t<li>1</li>\n",
       "\t<li>2</li>\n",
       "\t<li>4</li>\n",
       "</ol>\n",
       "</li>\n",
       "\t<li><ol class=list-inline>\n",
       "\t<li>5</li>\n",
       "\t<li>6</li>\n",
       "\t<li>3</li>\n",
       "\t<li>9</li>\n",
       "\t<li>4</li>\n",
       "\t<li>6</li>\n",
       "\t<li>9</li>\n",
       "\t<li>9</li>\n",
       "\t<li>7</li>\n",
       "\t<li>3</li>\n",
       "\t<li>8</li>\n",
       "\t<li>9</li>\n",
       "\t<li>3</li>\n",
       "\t<li>7</li>\n",
       "\t<li>3</li>\n",
       "</ol>\n",
       "</li>\n",
       "</ol>\n"
      ],
      "text/latex": [
       "\\begin{enumerate}\n",
       "\\item \\begin{enumerate*}\n",
       "\\item 3\n",
       "\\item 3\n",
       "\\item 10\n",
       "\\item 2\n",
       "\\item 6\n",
       "\\item 5\n",
       "\\item 4\n",
       "\\item 6\n",
       "\\item 9\n",
       "\\item 10\n",
       "\\item 5\n",
       "\\item 3\n",
       "\\item 9\n",
       "\\item 9\n",
       "\\item 9\n",
       "\\end{enumerate*}\n",
       "\n",
       "\\item \\begin{enumerate*}\n",
       "\\item 3\n",
       "\\item 8\n",
       "\\item 10\n",
       "\\item 7\n",
       "\\item 10\n",
       "\\item 9\n",
       "\\item 3\n",
       "\\item 4\n",
       "\\item 1\n",
       "\\item 7\n",
       "\\item 5\n",
       "\\item 10\n",
       "\\item 7\n",
       "\\item 9\n",
       "\\item 9\n",
       "\\end{enumerate*}\n",
       "\n",
       "\\item \\begin{enumerate*}\n",
       "\\item 10\n",
       "\\item 7\n",
       "\\item 5\n",
       "\\item 7\n",
       "\\item 5\n",
       "\\item 6\n",
       "\\item 9\n",
       "\\item 2\n",
       "\\item 5\n",
       "\\item 8\n",
       "\\item 2\n",
       "\\item 1\n",
       "\\item 9\n",
       "\\item 9\n",
       "\\item 6\n",
       "\\end{enumerate*}\n",
       "\n",
       "\\item \\begin{enumerate*}\n",
       "\\item 5\n",
       "\\item 9\n",
       "\\item 10\n",
       "\\item 4\n",
       "\\item 6\n",
       "\\item 8\n",
       "\\item 6\n",
       "\\item 6\n",
       "\\item 7\n",
       "\\item 1\n",
       "\\item 6\n",
       "\\item 2\n",
       "\\item 1\n",
       "\\item 2\n",
       "\\item 4\n",
       "\\end{enumerate*}\n",
       "\n",
       "\\item \\begin{enumerate*}\n",
       "\\item 5\n",
       "\\item 6\n",
       "\\item 3\n",
       "\\item 9\n",
       "\\item 4\n",
       "\\item 6\n",
       "\\item 9\n",
       "\\item 9\n",
       "\\item 7\n",
       "\\item 3\n",
       "\\item 8\n",
       "\\item 9\n",
       "\\item 3\n",
       "\\item 7\n",
       "\\item 3\n",
       "\\end{enumerate*}\n",
       "\n",
       "\\end{enumerate}\n"
      ],
      "text/markdown": [
       "1. 1. 3\n",
       "2. 3\n",
       "3. 10\n",
       "4. 2\n",
       "5. 6\n",
       "6. 5\n",
       "7. 4\n",
       "8. 6\n",
       "9. 9\n",
       "10. 10\n",
       "11. 5\n",
       "12. 3\n",
       "13. 9\n",
       "14. 9\n",
       "15. 9\n",
       "\n",
       "\n",
       "\n",
       "2. 1. 3\n",
       "2. 8\n",
       "3. 10\n",
       "4. 7\n",
       "5. 10\n",
       "6. 9\n",
       "7. 3\n",
       "8. 4\n",
       "9. 1\n",
       "10. 7\n",
       "11. 5\n",
       "12. 10\n",
       "13. 7\n",
       "14. 9\n",
       "15. 9\n",
       "\n",
       "\n",
       "\n",
       "3. 1. 10\n",
       "2. 7\n",
       "3. 5\n",
       "4. 7\n",
       "5. 5\n",
       "6. 6\n",
       "7. 9\n",
       "8. 2\n",
       "9. 5\n",
       "10. 8\n",
       "11. 2\n",
       "12. 1\n",
       "13. 9\n",
       "14. 9\n",
       "15. 6\n",
       "\n",
       "\n",
       "\n",
       "4. 1. 5\n",
       "2. 9\n",
       "3. 10\n",
       "4. 4\n",
       "5. 6\n",
       "6. 8\n",
       "7. 6\n",
       "8. 6\n",
       "9. 7\n",
       "10. 1\n",
       "11. 6\n",
       "12. 2\n",
       "13. 1\n",
       "14. 2\n",
       "15. 4\n",
       "\n",
       "\n",
       "\n",
       "5. 1. 5\n",
       "2. 6\n",
       "3. 3\n",
       "4. 9\n",
       "5. 4\n",
       "6. 6\n",
       "7. 9\n",
       "8. 9\n",
       "9. 7\n",
       "10. 3\n",
       "11. 8\n",
       "12. 9\n",
       "13. 3\n",
       "14. 7\n",
       "15. 3\n",
       "\n",
       "\n",
       "\n",
       "\n",
       "\n"
      ],
      "text/plain": [
       "[[1]]\n",
       " [1]  3  3 10  2  6  5  4  6  9 10  5  3  9  9  9\n",
       "\n",
       "[[2]]\n",
       " [1]  3  8 10  7 10  9  3  4  1  7  5 10  7  9  9\n",
       "\n",
       "[[3]]\n",
       " [1] 10  7  5  7  5  6  9  2  5  8  2  1  9  9  6\n",
       "\n",
       "[[4]]\n",
       " [1]  5  9 10  4  6  8  6  6  7  1  6  2  1  2  4\n",
       "\n",
       "[[5]]\n",
       " [1] 5 6 3 9 4 6 9 9 7 3 8 9 3 7 3\n"
      ]
     },
     "metadata": {},
     "output_type": "display_data"
    },
    {
     "name": "stdout",
     "output_type": "stream",
     "text": [
      "List of 5\n",
      " $ : int [1:15] 3 3 10 2 6 5 4 6 9 10 ...\n",
      " $ : int [1:15] 3 8 10 7 10 9 3 4 1 7 ...\n",
      " $ : int [1:15] 10 7 5 7 5 6 9 2 5 8 ...\n",
      " $ : int [1:15] 5 9 10 4 6 8 6 6 7 1 ...\n",
      " $ : int [1:15] 5 6 3 9 4 6 9 9 7 3 ...\n"
     ]
    },
    {
     "data": {
      "text/html": [
       "<ol class=list-inline>\n",
       "\t<li>5</li>\n",
       "\t<li>9</li>\n",
       "</ol>\n"
      ],
      "text/latex": [
       "\\begin{enumerate*}\n",
       "\\item 5\n",
       "\\item 9\n",
       "\\end{enumerate*}\n"
      ],
      "text/markdown": [
       "1. 5\n",
       "2. 9\n",
       "\n",
       "\n"
      ],
      "text/plain": [
       "[1] 5 9"
      ]
     },
     "metadata": {},
     "output_type": "display_data"
    }
   ],
   "source": [
    "# Example 2: find values that occur in every sub-list of a list\n",
    "\n",
    "# create list\n",
    "set.seed(123)\n",
    "(l <- replicate(5, sample(1:10, 15, replace = TRUE), simplify = FALSE))\n",
    "\n",
    "# check list \n",
    "str(l)\n",
    "\n",
    "# use Reduce() to find same elements that exist in each sub-list\n",
    "Reduce(intersect, l)"
   ]
  },
  {
   "cell_type": "markdown",
   "id": "4abf8123",
   "metadata": {},
   "source": [
    "### Predicate functionals "
   ]
  },
  {
   "cell_type": "markdown",
   "id": "d8deb31c",
   "metadata": {},
   "source": [
    "1. A predicate is a function that returns a single TRUE / FALSE. <br>\n",
    "A predicate functional applies a predicate to each element of a list or data frame. \n",
    "2. There are 4 useful predicate functionals in base R: <br>\n",
    "(1) `Filter()`: selects only those elements which match the predicate. <br>\n",
    "(2) `Find()`: returns the first element which matches the predicate (or the last element if right = TRUE) <br>\n",
    "(3) `Position()`: returns position of first element that matches the predicate (pr last element if right = TRUE).<br>\n",
    "(4) `where()`: it's a custom functional that generates a logical vector from a list / data frame and a predicate. \n"
   ]
  },
  {
   "cell_type": "code",
   "execution_count": 48,
   "id": "dca9511a",
   "metadata": {},
   "outputs": [],
   "source": [
    "# create where()\n",
    "\n",
    "where <- function(f, x) {\n",
    "    vapply(x, f, logical(1))\n",
    "}"
   ]
  },
  {
   "cell_type": "code",
   "execution_count": 66,
   "id": "7bfff192",
   "metadata": {},
   "outputs": [
    {
     "name": "stdout",
     "output_type": "stream",
     "text": [
      "Output of where(): "
     ]
    },
    {
     "data": {
      "text/html": [
       "<dl class=dl-horizontal>\n",
       "\t<dt>x</dt>\n",
       "\t\t<dd>FALSE</dd>\n",
       "\t<dt>y</dt>\n",
       "\t\t<dd>TRUE</dd>\n",
       "</dl>\n"
      ],
      "text/latex": [
       "\\begin{description*}\n",
       "\\item[x] FALSE\n",
       "\\item[y] TRUE\n",
       "\\end{description*}\n"
      ],
      "text/markdown": [
       "x\n",
       ":   FALSEy\n",
       ":   TRUE\n",
       "\n"
      ],
      "text/plain": [
       "    x     y \n",
       "FALSE  TRUE "
      ]
     },
     "metadata": {},
     "output_type": "display_data"
    },
    {
     "name": "stdout",
     "output_type": "stream",
     "text": [
      "Output of Filter(): "
     ]
    },
    {
     "data": {
      "text/html": [
       "<table>\n",
       "<thead><tr><th scope=col>y</th></tr></thead>\n",
       "<tbody>\n",
       "\t<tr><td>a</td></tr>\n",
       "\t<tr><td>b</td></tr>\n",
       "\t<tr><td>c</td></tr>\n",
       "</tbody>\n",
       "</table>\n"
      ],
      "text/latex": [
       "\\begin{tabular}{r|l}\n",
       " y\\\\\n",
       "\\hline\n",
       "\t a\\\\\n",
       "\t b\\\\\n",
       "\t c\\\\\n",
       "\\end{tabular}\n"
      ],
      "text/markdown": [
       "\n",
       "| y |\n",
       "|---|\n",
       "| a |\n",
       "| b |\n",
       "| c |\n",
       "\n"
      ],
      "text/plain": [
       "  y\n",
       "1 a\n",
       "2 b\n",
       "3 c"
      ]
     },
     "metadata": {},
     "output_type": "display_data"
    },
    {
     "name": "stdout",
     "output_type": "stream",
     "text": [
      "Output of Find(): "
     ]
    },
    {
     "data": {
      "text/html": [
       "<ol class=list-inline>\n",
       "\t<li>a</li>\n",
       "\t<li>b</li>\n",
       "\t<li>c</li>\n",
       "</ol>\n",
       "\n",
       "<details>\n",
       "\t<summary style=display:list-item;cursor:pointer>\n",
       "\t\t<strong>Levels</strong>:\n",
       "\t</summary>\n",
       "\t<ol class=list-inline>\n",
       "\t\t<li>'a'</li>\n",
       "\t\t<li>'b'</li>\n",
       "\t\t<li>'c'</li>\n",
       "\t</ol>\n",
       "</details>"
      ],
      "text/latex": [
       "\\begin{enumerate*}\n",
       "\\item a\n",
       "\\item b\n",
       "\\item c\n",
       "\\end{enumerate*}\n",
       "\n",
       "\\emph{Levels}: \\begin{enumerate*}\n",
       "\\item 'a'\n",
       "\\item 'b'\n",
       "\\item 'c'\n",
       "\\end{enumerate*}\n"
      ],
      "text/markdown": [
       "1. a\n",
       "2. b\n",
       "3. c\n",
       "\n",
       "\n",
       "\n",
       "**Levels**: 1. 'a'\n",
       "2. 'b'\n",
       "3. 'c'\n",
       "\n",
       "\n"
      ],
      "text/plain": [
       "[1] a b c\n",
       "Levels: a b c"
      ]
     },
     "metadata": {},
     "output_type": "display_data"
    },
    {
     "name": "stdout",
     "output_type": "stream",
     "text": [
      "Output of Position(): "
     ]
    },
    {
     "data": {
      "text/html": [
       "2"
      ],
      "text/latex": [
       "2"
      ],
      "text/markdown": [
       "2"
      ],
      "text/plain": [
       "[1] 2"
      ]
     },
     "metadata": {},
     "output_type": "display_data"
    }
   ],
   "source": [
    "# Example 1: \n",
    "\n",
    "# create data \n",
    "df <- data.frame(x = 1:3, y = c(\"a\", \"b\", \"c\"))\n",
    "\n",
    "# ------ (1) where()\n",
    "# returns logical for each variable (T if factor, F if not) \n",
    "cat(\"Output of where(): \")\n",
    "where(is.factor, df)\n",
    "\n",
    "# ------ (2) Filter()\n",
    "# returns data frame: only variable that are factors \n",
    "cat(\"Output of Filter(): \")\n",
    "Filter(is.factor, df)\n",
    "\n",
    "# ------ (3) Find()\n",
    "# returns a vector of factor \n",
    "cat(\"Output of Find(): \")\n",
    "Find(is.factor, df)\n",
    "\n",
    "# ------ (4) Position()\n",
    "# returns a single number \n",
    "# output 1: means row\n",
    "# output 2: means column\n",
    "cat(\"Output of Position(): \")\n",
    "Position(is.factor, df)\n"
   ]
  },
  {
   "cell_type": "markdown",
   "id": "12925d2d",
   "metadata": {},
   "source": [
    "## Mathematical functions"
   ]
  },
  {
   "cell_type": "markdown",
   "id": "27b95b6d",
   "metadata": {},
   "source": [
    "skipped"
   ]
  },
  {
   "cell_type": "markdown",
   "id": "66e9c074",
   "metadata": {},
   "source": [
    "## Loops that should be left as is"
   ]
  },
  {
   "cell_type": "markdown",
   "id": "1860908c",
   "metadata": {},
   "source": [
    "1. Some loops have no natural functional equivalent. In this case, you'll learn about three common cases:<br>\n",
    "(1) modifying in place<br>\n",
    "(2) recursive functions <br>\n",
    "(3) while loops <br><br>\n",
    "\n",
    "2. It's possible to torture these problems to use a functional, but it's not a good idea. You'll create code that's harder to understand, eliminating the main reason for using functionals in the first case. "
   ]
  },
  {
   "cell_type": "markdown",
   "id": "fdaae957",
   "metadata": {},
   "source": [
    "### Modifying in place"
   ]
  },
  {
   "cell_type": "markdown",
   "id": "88e2c255",
   "metadata": {},
   "source": [
    "1. If you need to modify part of an existing data frame, it's better to use a for loop.<br><br>\n",
    "\n",
    "Example 1: create function trans() that performs a variable-by-variable transformation by matching the names of a list of functions to the names of variables in a data frame."
   ]
  },
  {
   "cell_type": "code",
   "execution_count": 88,
   "id": "87f8a287",
   "metadata": {},
   "outputs": [
    {
     "data": {
      "text/html": [
       "<table>\n",
       "<thead><tr><th scope=col>am</th><th scope=col>disp</th><th scope=col>mpg</th></tr></thead>\n",
       "<tbody>\n",
       "\t<tr><td>auto    </td><td>2.699360</td><td>21.0    </td></tr>\n",
       "\t<tr><td>auto    </td><td>2.699360</td><td>21.0    </td></tr>\n",
       "\t<tr><td>auto    </td><td>1.822068</td><td>22.8    </td></tr>\n",
       "\t<tr><td>manual  </td><td>4.352718</td><td>21.4    </td></tr>\n",
       "</tbody>\n",
       "</table>\n"
      ],
      "text/latex": [
       "\\begin{tabular}{r|lll}\n",
       " am & disp & mpg\\\\\n",
       "\\hline\n",
       "\t auto     & 2.699360 & 21.0    \\\\\n",
       "\t auto     & 2.699360 & 21.0    \\\\\n",
       "\t auto     & 1.822068 & 22.8    \\\\\n",
       "\t manual   & 4.352718 & 21.4    \\\\\n",
       "\\end{tabular}\n"
      ],
      "text/markdown": [
       "\n",
       "| am | disp | mpg |\n",
       "|---|---|---|\n",
       "| auto     | 2.699360 | 21.0     |\n",
       "| auto     | 2.699360 | 21.0     |\n",
       "| auto     | 1.822068 | 22.8     |\n",
       "| manual   | 4.352718 | 21.4     |\n",
       "\n"
      ],
      "text/plain": [
       "  am     disp     mpg \n",
       "1 auto   2.699360 21.0\n",
       "2 auto   2.699360 21.0\n",
       "3 auto   1.822068 22.8\n",
       "4 manual 4.352718 21.4"
      ]
     },
     "metadata": {},
     "output_type": "display_data"
    }
   ],
   "source": [
    "# create data frame \n",
    "df <- data.frame(am = c(1, 1, 1, 0), \n",
    "                 disp = c(160, 160, 108, 258),\n",
    "                 mpg = c(21, 21, 22.8, 21.4))\n",
    "\n",
    "# create function: trans()\n",
    "trans <- list(\n",
    "    disp = function(x) x * 0.016871,\n",
    "    am = function(x) factor(x, levels = c(1, 0), labels = c(\"auto\", \"manual\")))\n",
    "\n",
    "# Method 1: use for loop\n",
    "# BETTER \n",
    "for(var in names(trans)) {\n",
    "    df[[var]] <- trans[[var]](df[[var]])\n",
    "}\n",
    "\n",
    "df "
   ]
  },
  {
   "cell_type": "code",
   "execution_count": null,
   "id": "4a98fa69",
   "metadata": {},
   "outputs": [],
   "source": [
    "# Method 2: lapply\n",
    "# BAD\n",
    "# code is long and hard to undrestand \n",
    "\n",
    "lappy(names(trans), function(var)) {\n",
    "    df[[var]] <<- trans[[var]](mtcars[[var]])\n",
    "}"
   ]
  },
  {
   "cell_type": "code",
   "execution_count": 89,
   "id": "3e6826d8",
   "metadata": {},
   "outputs": [
    {
     "data": {
      "text/html": [
       "<ol class=list-inline>\n",
       "\t<li>low</li>\n",
       "\t<li>high</li>\n",
       "\t<li>med</li>\n",
       "\t<li>high</li>\n",
       "</ol>\n",
       "\n",
       "<details>\n",
       "\t<summary style=display:list-item;cursor:pointer>\n",
       "\t\t<strong>Levels</strong>:\n",
       "\t</summary>\n",
       "\t<ol class=list-inline>\n",
       "\t\t<li>'low'</li>\n",
       "\t\t<li>'med'</li>\n",
       "\t\t<li>'high'</li>\n",
       "\t</ol>\n",
       "</details>"
      ],
      "text/latex": [
       "\\begin{enumerate*}\n",
       "\\item low\n",
       "\\item high\n",
       "\\item med\n",
       "\\item high\n",
       "\\end{enumerate*}\n",
       "\n",
       "\\emph{Levels}: \\begin{enumerate*}\n",
       "\\item 'low'\n",
       "\\item 'med'\n",
       "\\item 'high'\n",
       "\\end{enumerate*}\n"
      ],
      "text/markdown": [
       "1. low\n",
       "2. high\n",
       "3. med\n",
       "4. high\n",
       "\n",
       "\n",
       "\n",
       "**Levels**: 1. 'low'\n",
       "2. 'med'\n",
       "3. 'high'\n",
       "\n",
       "\n"
      ],
      "text/plain": [
       "[1] low  high med  high\n",
       "Levels: low med high"
      ]
     },
     "metadata": {},
     "output_type": "display_data"
    }
   ],
   "source": [
    "# How to use factor()\n",
    "\n",
    "# create a vector \n",
    "x <- c(1, 3, 2, 3)\n",
    "\n",
    "# use factor() function\n",
    "# levels: numbers appear in original data \n",
    "# labels: what you want to label for each number\n",
    "x1 <- factor(x, levels = c(1, 2, 3), labels = c(\"low\", \"med\", \"high\"))\n",
    "x1  "
   ]
  },
  {
   "cell_type": "markdown",
   "id": "52555df1",
   "metadata": {},
   "source": [
    "### Recursive relationships"
   ]
  },
  {
   "cell_type": "markdown",
   "id": "a73e8686",
   "metadata": {},
   "source": [
    "1. It's hard to convert a for loop into a functional when the relationship between elements is not independent, or is defined recursively. <br><br>\n",
    "\n",
    "In Example 1: We can't eliminate the for loop b/c none of the functionals we've seen allow the output at position i to depend on both the input and output at position i - 1."
   ]
  },
  {
   "cell_type": "code",
   "execution_count": 98,
   "id": "0f764b2e",
   "metadata": {},
   "outputs": [
    {
     "data": {
      "text/html": [
       "<ol class=list-inline>\n",
       "\t<li>0.821805460145697</li>\n",
       "\t<li>0.821805460145697</li>\n",
       "\t<li>0.804043505922891</li>\n",
       "\t<li>0.891932711645495</li>\n",
       "\t<li>0.665682123944862</li>\n",
       "\t<li>0.488692163009546</li>\n",
       "\t<li>0.449083557810809</li>\n",
       "</ol>\n"
      ],
      "text/latex": [
       "\\begin{enumerate*}\n",
       "\\item 0.821805460145697\n",
       "\\item 0.821805460145697\n",
       "\\item 0.804043505922891\n",
       "\\item 0.891932711645495\n",
       "\\item 0.665682123944862\n",
       "\\item 0.488692163009546\n",
       "\\item 0.449083557810809\n",
       "\\end{enumerate*}\n"
      ],
      "text/markdown": [
       "1. 0.821805460145697\n",
       "2. 0.821805460145697\n",
       "3. 0.804043505922891\n",
       "4. 0.891932711645495\n",
       "5. 0.665682123944862\n",
       "6. 0.488692163009546\n",
       "7. 0.449083557810809\n",
       "\n",
       "\n"
      ],
      "text/plain": [
       "[1] 0.8218055 0.8218055 0.8040435 0.8919327 0.6656821 0.4886922 0.4490836"
      ]
     },
     "metadata": {},
     "output_type": "display_data"
    }
   ],
   "source": [
    "# Example 1: exps()\n",
    "# it implements exponential smoothing with a for loop\n",
    "\n",
    "# create function: exps()\n",
    "exps <- function(x, alpha) {\n",
    "    s <- numeric(length(x) + 1)\n",
    "    for (i in seq_along(s)) {\n",
    "        if (i == 1) {\n",
    "            s[i] <- x[i]\n",
    "        } else {\n",
    "            s[i] <- alpha * x[i - 1] + (1 - alpha) * s[i - 1]\n",
    "        }\n",
    "    }\n",
    "    s\n",
    "}\n",
    "\n",
    "# create vector: 6 random numbers between [0, 1] \n",
    "x <- runif(6)\n",
    "\n",
    "# apply function exps()\n",
    "exps(x, 0.5)"
   ]
  },
  {
   "cell_type": "markdown",
   "id": "88207d03",
   "metadata": {},
   "source": [
    "### While loops"
   ]
  },
  {
   "cell_type": "markdown",
   "id": "374884a9",
   "metadata": {},
   "source": [
    "1. While loop keeps running until some condition is met. <br><br>\n",
    "2. while loop is more general than for loops:<br>\n",
    "(1) You can write every for loop as while loop; <br>\n",
    "(2) You cannot do the reverse. <br><br>\n",
    "\n",
    "for loop $\\rightarrow$ while loop <br>\n",
    "while loop $\\nrightarrow$ for loop <br>"
   ]
  },
  {
   "cell_type": "code",
   "execution_count": 106,
   "id": "2e1de405",
   "metadata": {},
   "outputs": [
    {
     "name": "stdout",
     "output_type": "stream",
     "text": [
      "For loop results: \n",
      "[1] 1\n",
      "[1] 2\n",
      "[1] 3\n",
      "[1] 4\n",
      "[1] 5\n",
      "[1] 6\n",
      "[1] 7\n",
      "[1] 8\n",
      "[1] 9\n",
      "[1] 10\n",
      "\n",
      "While loop results: \n",
      "[1] 1\n",
      "[1] 2\n",
      "[1] 3\n",
      "[1] 4\n",
      "[1] 5\n",
      "[1] 6\n",
      "[1] 7\n",
      "[1] 8\n",
      "[1] 9\n",
      "[1] 10\n"
     ]
    }
   ],
   "source": [
    "# Example 1: \n",
    "\n",
    "# for loop \n",
    "cat(\"For loop results: \\n\")\n",
    "for (i in 1:10) print(i)\n",
    "\n",
    "# while loop\n",
    "i <- 1\n",
    "\n",
    "cat(\"\\nWhile loop results: \\n\")\n",
    "while(i <= 10) {\n",
    "    print(i)\n",
    "    i <- i + 1 \n",
    "}"
   ]
  }
 ],
 "metadata": {
  "kernelspec": {
   "display_name": "R",
   "language": "R",
   "name": "ir"
  },
  "language_info": {
   "codemirror_mode": "r",
   "file_extension": ".r",
   "mimetype": "text/x-r-source",
   "name": "R",
   "pygments_lexer": "r",
   "version": "3.6.1"
  },
  "toc": {
   "base_numbering": 1,
   "nav_menu": {},
   "number_sections": true,
   "sideBar": true,
   "skip_h1_title": false,
   "title_cell": "Table of Contents",
   "title_sidebar": "Contents",
   "toc_cell": false,
   "toc_position": {},
   "toc_section_display": true,
   "toc_window_display": false
  },
  "varInspector": {
   "cols": {
    "lenName": 16,
    "lenType": 16,
    "lenVar": 40
   },
   "kernels_config": {
    "python": {
     "delete_cmd_postfix": "",
     "delete_cmd_prefix": "del ",
     "library": "var_list.py",
     "varRefreshCmd": "print(var_dic_list())"
    },
    "r": {
     "delete_cmd_postfix": ") ",
     "delete_cmd_prefix": "rm(",
     "library": "var_list.r",
     "varRefreshCmd": "cat(var_dic_list()) "
    }
   },
   "types_to_exclude": [
    "module",
    "function",
    "builtin_function_or_method",
    "instance",
    "_Feature"
   ],
   "window_display": false
  }
 },
 "nbformat": 4,
 "nbformat_minor": 5
}
