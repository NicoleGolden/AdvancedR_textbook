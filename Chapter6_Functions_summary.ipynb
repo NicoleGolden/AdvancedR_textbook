{
 "cells": [
  {
   "cell_type": "markdown",
   "id": "5ba5d99f",
   "metadata": {},
   "source": [
    "You should consider writing a function whenever you’ve copied and pasted a block of code more than twice (i.e. you now have three copies of the same code). "
   ]
  },
  {
   "cell_type": "markdown",
   "id": "1a1199cd",
   "metadata": {},
   "source": [
    "### Three parts of a function "
   ]
  },
  {
   "cell_type": "markdown",
   "id": "9d75808d",
   "metadata": {},
   "source": [
    "Example: f <- function(x) x ^ 2\n",
    "\n",
    "(1) body():  x ^ 2 <br> (usually the content after function(x))  <br><br>\n",
    "(2) formals(): x <br> (usually the content inside parenthesis of function() )  <br><br>\n",
    "(3) environment(): <environment: R_GlobalEnv> <br> (usually the functions will be placed in global environment) \n"
   ]
  },
  {
   "cell_type": "markdown",
   "id": "98a241de",
   "metadata": {},
   "source": [
    "### Create simple functions "
   ]
  },
  {
   "cell_type": "code",
   "execution_count": 1,
   "id": "0ef89c0d",
   "metadata": {},
   "outputs": [
    {
     "data": {
      "text/html": [
       "100"
      ],
      "text/latex": [
       "100"
      ],
      "text/markdown": [
       "100"
      ],
      "text/plain": [
       "[1] 100"
      ]
     },
     "metadata": {},
     "output_type": "display_data"
    }
   ],
   "source": [
    "# ------ Example 1\n",
    "\n",
    "# create function: square a number \n",
    "f <- function(x) x^2\n",
    "\n",
    "# call function\n",
    "f(10) "
   ]
  },
  {
   "cell_type": "code",
   "execution_count": 2,
   "id": "1a303953",
   "metadata": {},
   "outputs": [
    {
     "data": {
      "text/html": [
       "2.66666666666667"
      ],
      "text/latex": [
       "2.66666666666667"
      ],
      "text/markdown": [
       "2.66666666666667"
      ],
      "text/plain": [
       "[1] 2.666667"
      ]
     },
     "metadata": {},
     "output_type": "display_data"
    }
   ],
   "source": [
    "# ------ Example 2\n",
    "\n",
    "# create function: mean for vector \n",
    "f <- function(x) sum(x) / length(x) \n",
    "\n",
    "# call function\n",
    "a <- c(1, 3, 4)\n",
    "f(a)"
   ]
  },
  {
   "cell_type": "code",
   "execution_count": 3,
   "id": "5859a5c6",
   "metadata": {},
   "outputs": [],
   "source": [
    "# ------ Example 3 \n",
    "\n",
    "# remove function: \n",
    "rm(f)"
   ]
  },
  {
   "cell_type": "markdown",
   "id": "36b80620",
   "metadata": {},
   "source": [
    "### Four basic principles behind R's implementation of lexical scoping"
   ]
  },
  {
   "cell_type": "markdown",
   "id": "a9db6510",
   "metadata": {},
   "source": [
    "(1) name masking <br>\n",
    "(i) R automatically look up name inside a function   \n",
    "(ii) If a name isn't defined inside a function, R will look one level up\n",
    "(iii) If a function is defined inside another function: look inside the current function,\n",
    "then where that function was defined, and so on, all the way up to the global environment,\n",
    "and then on to other loaded packages.\n",
    "(iv) The same rules apply to closures, functions created by other functions.<br><br>\n",
    "\n",
    "(2) functions vs. variables <br>\n",
    "The same principles apply regardless of type of associated value   \n",
    "(i) Finding functions works exactly the same way as finding variables.  \n",
    "(ii) If you are using a name in a context where it's obvious that you want a function (e.g. f(3)), R will ignore objects that are not functions while it is searching. <br><br>\n",
    "\n",
    "(3) a fresh start <br>\n",
    "Every time a function is called, a new environment is created to host execution.<br> \n",
    "A function has no way to tell what happened the last time it has run. <br>\n",
    "Each invocation (call) is completely independent.  <br><br>\n",
    "\n",
    "(4) dynamic lookup  \n",
    "(i) Lexical scoping determines where to look for values (not when).   \n",
    "R looks for values when the function is run, not when it's created.\n",
    "This means the output of a function can be different depending on objects outside its environment.  \n",
    "(ii) You generally want to avoid this behavior because it means the function is no longer self-contained. "
   ]
  },
  {
   "cell_type": "markdown",
   "id": "ffeb0348",
   "metadata": {},
   "source": [
    "### Function arguments \n",
    "#### Calling functions "
   ]
  },
  {
   "cell_type": "markdown",
   "id": "a645680a",
   "metadata": {},
   "source": [
    "(1) Generally, you only want to use positional matching for the first one or two arguments.   <br><br>\n",
    "(2) Avoid using positional matching for less commonly used arguments, and only use readable abbreviations with partial matching.  <br><br>\n",
    "(3) Named arguments should always come after unnamed arguments.   \n",
    "If a function uses (...) you can only specify arguments listed after (...) with their full name."
   ]
  },
  {
   "cell_type": "markdown",
   "id": "b63df917",
   "metadata": {},
   "source": [
    "#### Calling a function given a list of arguments"
   ]
  },
  {
   "cell_type": "markdown",
   "id": "bfb65d45",
   "metadata": {},
   "source": [
    "If you have a list of function arguments, use `do.call()`.  \n",
    "This function allows you to call any R function, but instead of writing out the arguments one by one, you can use a list to hold the arguments of the function.   \n",
    "While it may not seem useful on the surface, a simple example will help to show how powerful do.call is."
   ]
  },
  {
   "cell_type": "code",
   "execution_count": 5,
   "id": "56889e21",
   "metadata": {},
   "outputs": [
    {
     "data": {
      "text/html": [
       "5.5"
      ],
      "text/latex": [
       "5.5"
      ],
      "text/markdown": [
       "5.5"
      ],
      "text/plain": [
       "[1] 5.5"
      ]
     },
     "metadata": {},
     "output_type": "display_data"
    }
   ],
   "source": [
    "# Example 1: \n",
    "\n",
    "# suppse have: a list of function arguments\n",
    "args <- list(1:10, na.rm = TRUE)\n",
    "\n",
    "# To send this list to mean()\n",
    "\n",
    "# use do.call()\n",
    "do.call(mean, list(1:10, na.rm = TRUE))"
   ]
  },
  {
   "cell_type": "markdown",
   "id": "04a4f108",
   "metadata": {},
   "source": [
    "####  Special argument (...)"
   ]
  },
  {
   "cell_type": "markdown",
   "id": "42306dd5",
   "metadata": {},
   "source": [
    "(1) ... argument will match any arguments not otherwise matched, and can be easily passed on to other functions.  \n",
    "This is useful if you want to collect arguments to call another function, but you don't want to specify their possible names.  \n",
    "...is often used in conjunction with S3 generic functions to allow individual methods to be more flexible.  <br><br>\n",
    "(2) To capture ... in a form that is easier to work with, you can use list(...).<br><br>  \n",
    "(3) Using ... comes at a price - any misspelled arguments will not raise an error, and any arguments after ... must be fully named.  <br><br>\n",
    "(4) It's often better to be explicit rather than implicit."
   ]
  },
  {
   "cell_type": "code",
   "execution_count": 6,
   "id": "b9cb2550",
   "metadata": {},
   "outputs": [
    {
     "data": {
      "text/html": [
       "<ol class=list-inline>\n",
       "\t<li>'a'</li>\n",
       "\t<li>'b'</li>\n",
       "</ol>\n"
      ],
      "text/latex": [
       "\\begin{enumerate*}\n",
       "\\item 'a'\n",
       "\\item 'b'\n",
       "\\end{enumerate*}\n"
      ],
      "text/markdown": [
       "1. 'a'\n",
       "2. 'b'\n",
       "\n",
       "\n"
      ],
      "text/plain": [
       "[1] \"a\" \"b\""
      ]
     },
     "metadata": {},
     "output_type": "display_data"
    }
   ],
   "source": [
    "# Example 1\n",
    "\n",
    "# define function\n",
    "f <- function(...) {\n",
    "    names(list(...))\n",
    "}\n",
    "\n",
    "# call function\n",
    "f(a = 1, b = 2)"
   ]
  },
  {
   "cell_type": "markdown",
   "id": "5003e40f",
   "metadata": {},
   "source": [
    "### Special calls \n",
    "#### Infix functions "
   ]
  },
  {
   "cell_type": "markdown",
   "id": "f74ff3ff",
   "metadata": {},
   "source": [
    "(1) Most functions in R are \"prefix\" operators: the name of the function comes before the arguments.  <br><br>\n",
    "\n",
    "(2) You can create infix functions where the function name comes in between its arguments (e.g. + or -).   <br><br>\n",
    "\n",
    "(3) Pre-defined infix functions in R:  \n",
    "(i) Pre-defined infix functions that include %:   \n",
    "`%%, %*%, %/%, %in%, %o%, %x%`   \n",
    "(ii) Pre-defined infix functions that not include %:<br>\n",
    "`::, :::, $, @, ^, *, /. +, -, >, >=, <, <=, ==, !=, !, &, &&, |, ||, ~, <-, <<-`<br><br>\n",
    "\n",
    "(4) All user created infix functions must start and end with %\n",
    "Note that when creating a new infix function, you have to put the name in backticks because it's a special name.  <br><br>\n",
    "\n",
    "(5) The names of infix functions are more flexible than regular R functions: they can contain any sequence of characters. You'll need to escape any special characters in the string used to define the function, but not when you call it.<br><br>\n",
    "\n",
    "(6) R's default precedence rule means that infix operators are composed from left to right."
   ]
  },
  {
   "cell_type": "code",
   "execution_count": null,
   "id": "72828867",
   "metadata": {},
   "outputs": [],
   "source": [
    "# Example 1: create a new operator that pastes strings togeter\n",
    "\n",
    "# define operator (function)\n",
    "`%+%` <- function(a, b) paste0(a, b)\n",
    "\n",
    "# method 1: use backtick \n",
    "`%+%`(\"new\", \" string\")\n",
    "\n",
    "# method 1: put operator in middle\n",
    "\"new\" %+% \" string\"\n",
    "\n",
    "# Example 2: use backtick for sum\n",
    "\n",
    "`+`(1, 5)"
   ]
  },
  {
   "cell_type": "markdown",
   "id": "c1b36663",
   "metadata": {},
   "source": [
    "#### Replacement functions"
   ]
  },
  {
   "cell_type": "markdown",
   "id": "b00ca1fa",
   "metadata": {},
   "source": [
    "(1) Replacement functions act like they modify their arguments in place, and have the special name xxx<-.   \n",
    "They typically have 2 arguments(x, value), although they can have more, and they must return the modified object.<br><br>\n",
    "\n",
    "(2) If you want to supply additional arguments, they go in between x and value.  <br><br>\n",
    "\n",
    "(3) It's often useful to combine replacement and subsetting. "
   ]
  },
  {
   "cell_type": "code",
   "execution_count": null,
   "id": "7e96021f",
   "metadata": {},
   "outputs": [],
   "source": [
    "# Example 1: modify value for 2nd element of vector\n",
    "\n",
    "# define function\n",
    "`second<-` <- function(x, value) {\n",
    "    x[2] <- value\n",
    "    x\n",
    "}\n",
    "\n",
    "# define x\n",
    "x <- 1:10\n",
    "\n",
    "# call function\n",
    "# 2nd element is changed to assigned value\n",
    "second(x) <- 5L\n",
    "x\n",
    "\n",
    "# Example 2: modify value for specified position\n",
    "\n",
    "# define x \n",
    "x <- 1:10\n",
    "\n",
    "# define function\n",
    "`modify<-` <- function(x, position, value) {\n",
    "    x[position] <- value\n",
    "    x\n",
    "}\n",
    "\n",
    "# call function: change first element to 10\n",
    "modify(x, 1) <- 10\n",
    "x"
   ]
  },
  {
   "cell_type": "markdown",
   "id": "d0fe0b6a",
   "metadata": {},
   "source": [
    "### Return values "
   ]
  },
  {
   "cell_type": "markdown",
   "id": "7ce93715",
   "metadata": {},
   "source": [
    "(1) The last expression evaluated in a function becomes the return value, the result of invoking the function.  <br><br>\n",
    "(2) Generally, it's good to reserve the use of an explicit return() for when you are returning early, such as for an error or a simple case of function.  \n",
    "This style of programming can also reduce level of indention, and make functions easier to understand because you can reason about them locally."
   ]
  },
  {
   "cell_type": "code",
   "execution_count": 7,
   "id": "8380df78",
   "metadata": {},
   "outputs": [
    {
     "data": {
      "text/html": [
       "0"
      ],
      "text/latex": [
       "0"
      ],
      "text/markdown": [
       "0"
      ],
      "text/plain": [
       "[1] 0"
      ]
     },
     "metadata": {},
     "output_type": "display_data"
    },
    {
     "data": {
      "text/html": [
       "10"
      ],
      "text/latex": [
       "10"
      ],
      "text/markdown": [
       "10"
      ],
      "text/plain": [
       "[1] 10"
      ]
     },
     "metadata": {},
     "output_type": "display_data"
    }
   ],
   "source": [
    "# Example 1\n",
    "\n",
    "# define function\n",
    "f <- function(x) {\n",
    "    if (x < 10) {\n",
    "        0\n",
    "    } else {\n",
    "        10\n",
    "    }\n",
    "}\n",
    "\n",
    "# call function\n",
    "f(5)\n",
    "\n",
    "# call function\n",
    "f(15)"
   ]
  },
  {
   "cell_type": "markdown",
   "id": "88ecd7a6",
   "metadata": {},
   "source": [
    "### On exit"
   ]
  },
  {
   "cell_type": "markdown",
   "id": "fdc1633a",
   "metadata": {},
   "source": [
    "Sometimes a function needs to make temporary changes to the global state.   \n",
    "To ensure that these changes are undone and that the global state is restored no matter how a function exits, use `on.exit()` to set up an exit handler. "
   ]
  },
  {
   "cell_type": "code",
   "execution_count": 8,
   "id": "da5c3df7",
   "metadata": {},
   "outputs": [],
   "source": [
    "# Example 1: create clean up on exit \n",
    "\n",
    "# create function\n",
    "cleanup <- function(dir, code) {\n",
    "  old_dir <- setwd(dir)\n",
    "  on.exit(setwd(old_dir), add = TRUE)\n",
    "  \n",
    "  old_opt <- options(stringsAsFactors = FALSE)\n",
    "  on.exit(options(old_opt), add = TRUE)\n",
    "}"
   ]
  },
  {
   "cell_type": "code",
   "execution_count": 9,
   "id": "7dd95d75",
   "metadata": {},
   "outputs": [
    {
     "data": {
      "text/html": [
       "'/Users/nicolegolden/Documents/2. Data Science/1_2. Advanced R'"
      ],
      "text/latex": [
       "'/Users/nicolegolden/Documents/2. Data Science/1\\_2. Advanced R'"
      ],
      "text/markdown": [
       "'/Users/nicolegolden/Documents/2. Data Science/1_2. Advanced R'"
      ],
      "text/plain": [
       "[1] \"/Users/nicolegolden/Documents/2. Data Science/1_2. Advanced R\""
      ]
     },
     "metadata": {},
     "output_type": "display_data"
    },
    {
     "data": {
      "text/html": [
       "'/Users/nicolegolden'"
      ],
      "text/latex": [
       "'/Users/nicolegolden'"
      ],
      "text/markdown": [
       "'/Users/nicolegolden'"
      ],
      "text/plain": [
       "[1] \"/Users/nicolegolden\""
      ]
     },
     "metadata": {},
     "output_type": "display_data"
    }
   ],
   "source": [
    "# Example 2: \n",
    "\n",
    "# create function\n",
    "with_dir <- function(dir, code) {\n",
    "  old <- setwd(dir)\n",
    "  on.exit(setwd(old), add = TRUE)\n",
    "\n",
    "  force(code)\n",
    "}\n",
    "\n",
    "# get current working directory \n",
    "getwd()\n",
    "\n",
    "# call function\n",
    "with_dir(\"~\", getwd())"
   ]
  }
 ],
 "metadata": {
  "kernelspec": {
   "display_name": "R",
   "language": "R",
   "name": "ir"
  },
  "language_info": {
   "codemirror_mode": "r",
   "file_extension": ".r",
   "mimetype": "text/x-r-source",
   "name": "R",
   "pygments_lexer": "r",
   "version": "3.6.1"
  },
  "toc": {
   "base_numbering": 1,
   "nav_menu": {},
   "number_sections": true,
   "sideBar": true,
   "skip_h1_title": false,
   "title_cell": "Table of Contents",
   "title_sidebar": "Contents",
   "toc_cell": false,
   "toc_position": {},
   "toc_section_display": true,
   "toc_window_display": false
  },
  "varInspector": {
   "cols": {
    "lenName": 16,
    "lenType": 16,
    "lenVar": 40
   },
   "kernels_config": {
    "python": {
     "delete_cmd_postfix": "",
     "delete_cmd_prefix": "del ",
     "library": "var_list.py",
     "varRefreshCmd": "print(var_dic_list())"
    },
    "r": {
     "delete_cmd_postfix": ") ",
     "delete_cmd_prefix": "rm(",
     "library": "var_list.r",
     "varRefreshCmd": "cat(var_dic_list()) "
    }
   },
   "types_to_exclude": [
    "module",
    "function",
    "builtin_function_or_method",
    "instance",
    "_Feature"
   ],
   "window_display": false
  }
 },
 "nbformat": 4,
 "nbformat_minor": 5
}
