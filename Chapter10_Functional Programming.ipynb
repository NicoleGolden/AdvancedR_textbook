{
 "cells": [
  {
   "cell_type": "markdown",
   "id": "172a6064",
   "metadata": {},
   "source": [
    "**Introduction**: <br>\n",
    "1. R, at its heart, is a functional **programming language (FP)**. <br>\n",
    "It means that it provides many tools for the creation and manipulation of functions.\n",
    "2. In particular, R has what's known as **first class functions**. <br>\n",
    "You can do anything with functions that you can do with vectors: <br>\n",
    "you can assign them to variables, store them in lists, pass them as arguments to other functions, create them inside functions, and even return them as the result of a function.\n",
    "3. Start with small, easy-to-understand building blocks, combine them into more complex structures, and apply them in confidence.<br><br>\n",
    "4. Three FP techniques:<br>\n",
    "(1) **Anonymous functions**: These functions are created without names, since they are small functions (not worth naming). <br>\n",
    "(2) **Closures**: These are functions written by functions. <br>\n",
    "(3) **List of functions**: In R, functions can be stored in lists."
   ]
  },
  {
   "cell_type": "markdown",
   "id": "8cb40af6",
   "metadata": {},
   "source": [
    "## Motivation"
   ]
  },
  {
   "cell_type": "markdown",
   "id": "e91fdcb3",
   "metadata": {},
   "source": [
    "1. Imagine you loaded a data and used -99 for missing values. You want to replace all -99s with NAs. <br>\n",
    "2. To prevent bugs and to make more flexible code, stick to \"don't repeat yourself\" principle (DRY). <br><br>\n",
    "\n",
    "**Attempt 1**: copy-paste. <br>\n",
    "The problem with copy-paste is that it's easy to make mistakes and hard to change the. code. For example, if the code for missing value changes from -99 to 9999, you need to make changes at multiple places again. <br><br>\n",
    "\n",
    "**Attempt 2**: create function that fixes missing values in a single vector. <br>\n",
    "Here you won't mess up missing value -99 but you can still mistype variables. <br><br>\n",
    "\n",
    "**Attempt 3**: combine 2 function: fix_missing() and lapply()<br>\n",
    "`lapply()` is a functional since it takes a function as an argument.<br>\n",
    "The key idea is function composition. Take 2 simple functions, one which does something to every column and one which fixes missing values, and combine them to fix missing values in every column.<br><br>\n",
    "\n",
    "**Attempt 4**: User closures to make functions based on a template (that way, we can use any numbers for missing values).<br>"
   ]
  },
  {
   "cell_type": "code",
   "execution_count": 2,
   "id": "bf172e8c",
   "metadata": {},
   "outputs": [
    {
     "name": "stdout",
     "output_type": "stream",
     "text": [
      "Original data frame: "
     ]
    },
    {
     "data": {
      "text/html": [
       "<table>\n",
       "<thead><tr><th scope=col>a</th><th scope=col>b</th><th scope=col>c</th><th scope=col>d</th><th scope=col>e</th><th scope=col>f</th></tr></thead>\n",
       "<tbody>\n",
       "\t<tr><td>7  </td><td>  5</td><td>-99</td><td>  2</td><td> 5 </td><td>2  </td></tr>\n",
       "\t<tr><td>5  </td><td>  5</td><td>  5</td><td>  3</td><td> 6 </td><td>1  </td></tr>\n",
       "\t<tr><td>6  </td><td>  8</td><td>  5</td><td>  9</td><td> 9 </td><td>4  </td></tr>\n",
       "\t<tr><td>4  </td><td>  2</td><td>  2</td><td>  6</td><td> 6 </td><td>8  </td></tr>\n",
       "\t<tr><td>6  </td><td>  7</td><td>  6</td><td>-99</td><td>10 </td><td>6  </td></tr>\n",
       "\t<tr><td>9  </td><td>-99</td><td>  4</td><td>  7</td><td> 5 </td><td>1  </td></tr>\n",
       "</tbody>\n",
       "</table>\n"
      ],
      "text/latex": [
       "\\begin{tabular}{r|llllll}\n",
       " a & b & c & d & e & f\\\\\n",
       "\\hline\n",
       "\t 7   &   5 & -99 &   2 &  5  & 2  \\\\\n",
       "\t 5   &   5 &   5 &   3 &  6  & 1  \\\\\n",
       "\t 6   &   8 &   5 &   9 &  9  & 4  \\\\\n",
       "\t 4   &   2 &   2 &   6 &  6  & 8  \\\\\n",
       "\t 6   &   7 &   6 & -99 & 10  & 6  \\\\\n",
       "\t 9   & -99 &   4 &   7 &  5  & 1  \\\\\n",
       "\\end{tabular}\n"
      ],
      "text/markdown": [
       "\n",
       "| a | b | c | d | e | f |\n",
       "|---|---|---|---|---|---|\n",
       "| 7   |   5 | -99 |   2 |  5  | 2   |\n",
       "| 5   |   5 |   5 |   3 |  6  | 1   |\n",
       "| 6   |   8 |   5 |   9 |  9  | 4   |\n",
       "| 4   |   2 |   2 |   6 |  6  | 8   |\n",
       "| 6   |   7 |   6 | -99 | 10  | 6   |\n",
       "| 9   | -99 |   4 |   7 |  5  | 1   |\n",
       "\n"
      ],
      "text/plain": [
       "  a b   c   d   e  f\n",
       "1 7   5 -99   2  5 2\n",
       "2 5   5   5   3  6 1\n",
       "3 6   8   5   9  9 4\n",
       "4 4   2   2   6  6 8\n",
       "5 6   7   6 -99 10 6\n",
       "6 9 -99   4   7  5 1"
      ]
     },
     "metadata": {},
     "output_type": "display_data"
    }
   ],
   "source": [
    "# Example 1: replace missing values -99\n",
    "\n",
    "# create data \n",
    "set.seed(1014)\n",
    "df <- data.frame(replicate(6, sample(c(1:10, -99), 6, rep = TRUE)))\n",
    "names(df) <- letters[1:6]\n",
    "cat(\"Original data frame: \")\n",
    "df "
   ]
  },
  {
   "cell_type": "code",
   "execution_count": null,
   "id": "1cd67a96",
   "metadata": {},
   "outputs": [],
   "source": [
    "# Attempt 1: copy-paste \n",
    "\n",
    "# This is easy to make mistakes.\n",
    "df$a[df$a == -99] <- NA \n",
    "df$b[df$b == -99] <- NA \n",
    "df$c[df$c == -99] <- NA \n",
    "df$d[df$d == -99] <- NA \n",
    "df$e[df$e == -99] <- NA \n",
    "df$f[df$f == -99] <- NA \n"
   ]
  },
  {
   "cell_type": "code",
   "execution_count": null,
   "id": "74b99f9d",
   "metadata": {},
   "outputs": [],
   "source": [
    "# Attepmt 2: create fix_missing function \n",
    "\n",
    "# Notice: \n",
    "# The inputs in solution 1 are: \n",
    "# (1) df$a, etc. \n",
    "# (2) -99\n",
    "\n",
    "# create function \n",
    "fix_missing <- function(x) {\n",
    "    x[x == -99] <- NA\n",
    "    x\n",
    "}\n",
    "\n",
    "# apply function\n",
    "df$a <- fix_missing(df$a)\n",
    "df$b <- fix_missing(df$b)\n",
    "df$c <- fix_missing(df$c)\n",
    "df$d <- fix_missing(df$d)\n",
    "df$e <- fix_missing(df$e)\n",
    "df$f <- fix_missing(df$f) "
   ]
  },
  {
   "cell_type": "code",
   "execution_count": null,
   "id": "75133b24",
   "metadata": {},
   "outputs": [],
   "source": [
    "# Attepmt 3: combine fix_missing() with lapply()\n",
    "\n",
    "# create function fix_missing()\n",
    "fix_missing <- function(x) {\n",
    "    x[x == -99] <- NA \n",
    "    x\n",
    "}\n",
    "\n",
    "# add lapply()\n",
    "df[] <- lapply(df, fix_missing)\n",
    "\n",
    "# we can generalize this technique to a subset of columns\n",
    "df[1:5] <- lapply(df[1:5], fix_missing)"
   ]
  },
  {
   "cell_type": "code",
   "execution_count": 4,
   "id": "5b2a59a7",
   "metadata": {},
   "outputs": [
    {
     "data": {
      "text/html": [
       "<ol class=list-inline>\n",
       "\t<li>&lt;NA&gt;</li>\n",
       "\t<li>-999</li>\n",
       "</ol>\n"
      ],
      "text/latex": [
       "\\begin{enumerate*}\n",
       "\\item <NA>\n",
       "\\item -999\n",
       "\\end{enumerate*}\n"
      ],
      "text/markdown": [
       "1. &lt;NA&gt;\n",
       "2. -999\n",
       "\n",
       "\n"
      ],
      "text/plain": [
       "[1]   NA -999"
      ]
     },
     "metadata": {},
     "output_type": "display_data"
    },
    {
     "data": {
      "text/html": [
       "<ol class=list-inline>\n",
       "\t<li>-99</li>\n",
       "\t<li>&lt;NA&gt;</li>\n",
       "</ol>\n"
      ],
      "text/latex": [
       "\\begin{enumerate*}\n",
       "\\item -99\n",
       "\\item <NA>\n",
       "\\end{enumerate*}\n"
      ],
      "text/markdown": [
       "1. -99\n",
       "2. &lt;NA&gt;\n",
       "\n",
       "\n"
      ],
      "text/plain": [
       "[1] -99  NA"
      ]
     },
     "metadata": {},
     "output_type": "display_data"
    },
    {
     "name": "stdout",
     "output_type": "stream",
     "text": [
      "New data with missing value replaced with NA: "
     ]
    },
    {
     "data": {
      "text/html": [
       "<table>\n",
       "<thead><tr><th scope=col>a</th><th scope=col>b</th><th scope=col>c</th><th scope=col>d</th><th scope=col>e</th><th scope=col>f</th></tr></thead>\n",
       "<tbody>\n",
       "\t<tr><td>7 </td><td> 5</td><td>NA</td><td> 2</td><td> 5</td><td>2 </td></tr>\n",
       "\t<tr><td>5 </td><td> 5</td><td> 5</td><td> 3</td><td> 6</td><td>1 </td></tr>\n",
       "\t<tr><td>6 </td><td> 8</td><td> 5</td><td> 9</td><td> 9</td><td>4 </td></tr>\n",
       "\t<tr><td>4 </td><td> 2</td><td> 2</td><td> 6</td><td> 6</td><td>8 </td></tr>\n",
       "\t<tr><td>6 </td><td> 7</td><td> 6</td><td>NA</td><td>10</td><td>6 </td></tr>\n",
       "\t<tr><td>9 </td><td>NA</td><td> 4</td><td> 7</td><td> 5</td><td>1 </td></tr>\n",
       "</tbody>\n",
       "</table>\n"
      ],
      "text/latex": [
       "\\begin{tabular}{r|llllll}\n",
       " a & b & c & d & e & f\\\\\n",
       "\\hline\n",
       "\t 7  &  5 & NA &  2 &  5 & 2 \\\\\n",
       "\t 5  &  5 &  5 &  3 &  6 & 1 \\\\\n",
       "\t 6  &  8 &  5 &  9 &  9 & 4 \\\\\n",
       "\t 4  &  2 &  2 &  6 &  6 & 8 \\\\\n",
       "\t 6  &  7 &  6 & NA & 10 & 6 \\\\\n",
       "\t 9  & NA &  4 &  7 &  5 & 1 \\\\\n",
       "\\end{tabular}\n"
      ],
      "text/markdown": [
       "\n",
       "| a | b | c | d | e | f |\n",
       "|---|---|---|---|---|---|\n",
       "| 7  |  5 | NA |  2 |  5 | 2  |\n",
       "| 5  |  5 |  5 |  3 |  6 | 1  |\n",
       "| 6  |  8 |  5 |  9 |  9 | 4  |\n",
       "| 4  |  2 |  2 |  6 |  6 | 8  |\n",
       "| 6  |  7 |  6 | NA | 10 | 6  |\n",
       "| 9  | NA |  4 |  7 |  5 | 1  |\n",
       "\n"
      ],
      "text/plain": [
       "  a b  c  d  e  f\n",
       "1 7  5 NA  2  5 2\n",
       "2 5  5  5  3  6 1\n",
       "3 6  8  5  9  9 4\n",
       "4 4  2  2  6  6 8\n",
       "5 6  7  6 NA 10 6\n",
       "6 9 NA  4  7  5 1"
      ]
     },
     "metadata": {},
     "output_type": "display_data"
    }
   ],
   "source": [
    "# Attempt 4: create closure to make functions based on template\n",
    "\n",
    "# create function\n",
    "missing_fixer <- function(na_value) {\n",
    "    function(x) {\n",
    "        x[x == na_value] <- NA\n",
    "        x\n",
    "    }\n",
    "}\n",
    "\n",
    "# function: fill missing value with -99\n",
    "fix_missing_99 <- missing_fixer(-99)\n",
    "\n",
    "# function: fill missing value with -999\n",
    "fix_missing_999 <- missing_fixer(-999)\n",
    "\n",
    "# try function \n",
    "fix_missing_99(c(-99, -999))\n",
    "fix_missing_999(c(-99, -999))\n",
    "\n",
    "# try function on data\n",
    "# since missing value is -99 in data \n",
    "df[] <- lapply(df, fix_missing_99)\n",
    "cat(\"New data with missing value replaced with NA: \")\n",
    "df"
   ]
  },
  {
   "cell_type": "code",
   "execution_count": 5,
   "id": "7d0ac2f9",
   "metadata": {},
   "outputs": [
    {
     "name": "stdout",
     "output_type": "stream",
     "text": [
      "Original data frame: "
     ]
    },
    {
     "data": {
      "text/html": [
       "<table>\n",
       "<thead><tr><th scope=col>a</th><th scope=col>b</th><th scope=col>c</th><th scope=col>d</th><th scope=col>e</th><th scope=col>f</th></tr></thead>\n",
       "<tbody>\n",
       "\t<tr><td>7  </td><td>  5</td><td>-99</td><td>  2</td><td> 5 </td><td>2  </td></tr>\n",
       "\t<tr><td>5  </td><td>  5</td><td>  5</td><td>  3</td><td> 6 </td><td>1  </td></tr>\n",
       "\t<tr><td>6  </td><td>  8</td><td>  5</td><td>  9</td><td> 9 </td><td>4  </td></tr>\n",
       "\t<tr><td>4  </td><td>  2</td><td>  2</td><td>  6</td><td> 6 </td><td>8  </td></tr>\n",
       "\t<tr><td>6  </td><td>  7</td><td>  6</td><td>-99</td><td>10 </td><td>6  </td></tr>\n",
       "\t<tr><td>9  </td><td>-99</td><td>  4</td><td>  7</td><td> 5 </td><td>1  </td></tr>\n",
       "</tbody>\n",
       "</table>\n"
      ],
      "text/latex": [
       "\\begin{tabular}{r|llllll}\n",
       " a & b & c & d & e & f\\\\\n",
       "\\hline\n",
       "\t 7   &   5 & -99 &   2 &  5  & 2  \\\\\n",
       "\t 5   &   5 &   5 &   3 &  6  & 1  \\\\\n",
       "\t 6   &   8 &   5 &   9 &  9  & 4  \\\\\n",
       "\t 4   &   2 &   2 &   6 &  6  & 8  \\\\\n",
       "\t 6   &   7 &   6 & -99 & 10  & 6  \\\\\n",
       "\t 9   & -99 &   4 &   7 &  5  & 1  \\\\\n",
       "\\end{tabular}\n"
      ],
      "text/markdown": [
       "\n",
       "| a | b | c | d | e | f |\n",
       "|---|---|---|---|---|---|\n",
       "| 7   |   5 | -99 |   2 |  5  | 2   |\n",
       "| 5   |   5 |   5 |   3 |  6  | 1   |\n",
       "| 6   |   8 |   5 |   9 |  9  | 4   |\n",
       "| 4   |   2 |   2 |   6 |  6  | 8   |\n",
       "| 6   |   7 |   6 | -99 | 10  | 6   |\n",
       "| 9   | -99 |   4 |   7 |  5  | 1   |\n",
       "\n"
      ],
      "text/plain": [
       "  a b   c   d   e  f\n",
       "1 7   5 -99   2  5 2\n",
       "2 5   5   5   3  6 1\n",
       "3 6   8   5   9  9 4\n",
       "4 4   2   2   6  6 8\n",
       "5 6   7   6 -99 10 6\n",
       "6 9 -99   4   7  5 1"
      ]
     },
     "metadata": {},
     "output_type": "display_data"
    }
   ],
   "source": [
    "# Example 2: get numerical summaries for a data \n",
    "\n",
    "# create data \n",
    "set.seed(1014)\n",
    "df <- data.frame(replicate(6, sample(c(1:10, -99), 6, rep = TRUE)))\n",
    "names(df) <- letters[1:6]\n",
    "cat(\"Original data frame: \")\n",
    "df "
   ]
  },
  {
   "cell_type": "code",
   "execution_count": null,
   "id": "50d79eb9",
   "metadata": {},
   "outputs": [],
   "source": [
    "# Attempt 1: get summary for each variable separately \n",
    "\n",
    "mean(df$a)\n",
    "median(df$a)\n",
    "sd(df$a)\n",
    "mad(df$a)\n",
    "IQR(df$a)\n",
    "\n",
    "# do this for each variable "
   ]
  },
  {
   "cell_type": "code",
   "execution_count": null,
   "id": "d8adbe4c",
   "metadata": {},
   "outputs": [],
   "source": [
    "# Attempt 2: create a function \n",
    "\n",
    "# this is still repetitive\n",
    "summary <- function(x) {\n",
    "    c(mean(x, na.rm = TRUE), \n",
    "      median(x, na.rm = TRUE),\n",
    "      sd(x, na.rm = TRUE),\n",
    "      mad(x, na.rm = TRUE),\n",
    "      IQR(x, na.rm = TRUE))\n",
    "}"
   ]
  },
  {
   "cell_type": "code",
   "execution_count": null,
   "id": "dbb1addb",
   "metadata": {},
   "outputs": [],
   "source": [
    "# Attempt 3: create functions \n",
    "\n",
    "# combine simple functions with lapply()\n",
    "summary <- function(x) {\n",
    "    funs <- c(mean, median, sd, mad, IQR)\n",
    "    lapply(funs, function(f) f(x, na.rm = TRUE))\n",
    "}"
   ]
  },
  {
   "cell_type": "markdown",
   "id": "dd831507",
   "metadata": {},
   "source": [
    "## Anonymous functions"
   ]
  },
  {
   "cell_type": "markdown",
   "id": "0ae4b3df",
   "metadata": {},
   "source": [
    "1. R doesn't have a special syntax for creating a named function: when you create a function, you use the regular assignment operator to give it a name.<br>\n",
    "2. If you don't give the function a name, you get **anonymous function**.\n",
    "3. You use an anonymous function when it's not worth the effort to give it a name. \n",
    "4. Like all functions, anonymous functions have formals, body, and a parent environment too.\n",
    "5. You can call anonymous functions with named arguments, but doing so is a sign that your function needs a name. \n",
    "6. One common use for anonymous functions is to create closures, functions made by other functions."
   ]
  },
  {
   "cell_type": "code",
   "execution_count": null,
   "id": "b7b137cd",
   "metadata": {},
   "outputs": [],
   "source": [
    "# Example 1: simple anonymous functions\n",
    "\n",
    "# function 1\n",
    "lapply(mtcars, function(x) length(unique(x)))\n",
    "# function 2\n",
    "Filter(function(x) !is.numeric(x), mtcars)\n",
    "# function 3\n",
    "integrate(function(x) sin(x) ^ 2, 0, pi)"
   ]
  },
  {
   "cell_type": "markdown",
   "id": "b2e69fcb",
   "metadata": {},
   "source": [
    "## Closures"
   ]
  },
  {
   "cell_type": "markdown",
   "id": "539f6a34",
   "metadata": {},
   "source": [
    "1. Closures are functions written by functions.\n",
    "2. Closures get the name because they enclose the environment of the parent function and can access all its variables. <br>\n",
    "This is helpful because it allows us to have two levels of parameters:<br>\n",
    "(1) a parent level that controls operation<br>\n",
    "(2) a child level that does the work. \n",
    "3. In R, almost every function is a closure. <br>\n",
    "All functions remember the environment in which they were created, typically either the global environment (function you wrote), or a package environment. <br>\n",
    "Exception: primitive functions, which call C directly and don't have environment.\n",
    "4. Closures are useful for making function factories, and are one way to manage mutable state in R."
   ]
  },
  {
   "cell_type": "code",
   "execution_count": 29,
   "id": "67d1f5fe",
   "metadata": {},
   "outputs": [
    {
     "data": {
      "text/html": [
       "4"
      ],
      "text/latex": [
       "4"
      ],
      "text/markdown": [
       "4"
      ],
      "text/plain": [
       "[1] 4"
      ]
     },
     "metadata": {},
     "output_type": "display_data"
    },
    {
     "data": {
      "text/html": [
       "8"
      ],
      "text/latex": [
       "8"
      ],
      "text/markdown": [
       "8"
      ],
      "text/plain": [
       "[1] 8"
      ]
     },
     "metadata": {},
     "output_type": "display_data"
    }
   ],
   "source": [
    "# Example 1: \n",
    "# parent function power() creates 2 child functions:\n",
    "# square() and cube()\n",
    "\n",
    "# ------ (1) create: parent function \n",
    "power <- function(exponent) {\n",
    "    function(x) {\n",
    "        x ^ exponent\n",
    "    }\n",
    "}\n",
    "\n",
    "# child function 1: square \n",
    "square <- power(2)\n",
    "# apply\n",
    "square(2)\n",
    "\n",
    "# child function 2: cube \n",
    "cube <- power(3)\n",
    "# apply\n",
    "cube(2)"
   ]
  },
  {
   "cell_type": "markdown",
   "id": "8fe9e823",
   "metadata": {},
   "source": [
    "### Function factories"
   ]
  },
  {
   "cell_type": "markdown",
   "id": "63d02fc9",
   "metadata": {},
   "source": [
    "1. Function factories are most helpful when: <br>\n",
    "(1) The different levels are more complex, with multiple arguments and complicated bodies; <br>\n",
    "(2) Some work only needs to be done once, when the function is generated. <br>\n",
    "Function factories are particularly good for maximum likelihood problems."
   ]
  },
  {
   "cell_type": "markdown",
   "id": "b391cb5a",
   "metadata": {},
   "source": [
    "### Mutable state"
   ]
  },
  {
   "cell_type": "markdown",
   "id": "a26f5585",
   "metadata": {},
   "source": [
    "1. The key to managing variables at different levels is the double arrow assignment operator `<<-`. <br>\n",
    "(1) `<-` always assigns in the current environment <br>\n",
    "(2) `<<-` will keep looking up the chain of parent environment until it finds a matching name. \n",
    "2. Together, a static parent environment and `<<-` make it possible to maintain state across function calls.<br><br>\n",
    "\n",
    "In example 1: <br>\n",
    "(i) The function is a counter that records how many times a function has been called. <br>\n",
    "(ii) Each time new_counter is run, it creates an environment, initializes the counter i in this environment, and then creates a new function. <br>\n",
    "(iii) Ordinarily, function execution environments are temp, but a closure maintains access to the environment in which it was created. <br>\n",
    "(iv) `counter_one()` and `counter_two()` each get their own **enclosing environment** when run, so they can maintain different counts.<br>\n",
    "(v) The counters get around the \"fresh start\" limitation by not modifying variables in their local environment. <br>\n",
    "(vi) Since the changes are made. in unchanging parent (or enclosing) environment, they are preserved across function calls."
   ]
  },
  {
   "cell_type": "code",
   "execution_count": 32,
   "id": "ebe74f92",
   "metadata": {},
   "outputs": [
    {
     "name": "stdout",
     "output_type": "stream",
     "text": [
      "counter one first run: "
     ]
    },
    {
     "data": {
      "text/html": [
       "1"
      ],
      "text/latex": [
       "1"
      ],
      "text/markdown": [
       "1"
      ],
      "text/plain": [
       "[1] 1"
      ]
     },
     "metadata": {},
     "output_type": "display_data"
    },
    {
     "name": "stdout",
     "output_type": "stream",
     "text": [
      "counter one second run: "
     ]
    },
    {
     "data": {
      "text/html": [
       "2"
      ],
      "text/latex": [
       "2"
      ],
      "text/markdown": [
       "2"
      ],
      "text/plain": [
       "[1] 2"
      ]
     },
     "metadata": {},
     "output_type": "display_data"
    },
    {
     "name": "stdout",
     "output_type": "stream",
     "text": [
      "counter two first run: "
     ]
    },
    {
     "data": {
      "text/html": [
       "1"
      ],
      "text/latex": [
       "1"
      ],
      "text/markdown": [
       "1"
      ],
      "text/plain": [
       "[1] 1"
      ]
     },
     "metadata": {},
     "output_type": "display_data"
    }
   ],
   "source": [
    "# Example 1: use closure to create function\n",
    "\n",
    "# create counter function\n",
    "new_counter <- function() {\n",
    "    i <- 0\n",
    "    function() {\n",
    "        i <<- i + 1\n",
    "        i\n",
    "    }\n",
    "}\n",
    "\n",
    "# create closure function 1\n",
    "counter_one <- new_counter()\n",
    "# test \n",
    "cat(\"counter one first run: \")\n",
    "counter_one()\n",
    "cat(\"counter one second run: \")\n",
    "counter_one()\n",
    "\n",
    "# create closure function 2\n",
    "counter_two <- new_counter()\n",
    "#test\n",
    "cat(\"counter two first run: \")\n",
    "counter_two()"
   ]
  },
  {
   "cell_type": "code",
   "execution_count": 41,
   "id": "4536baa4",
   "metadata": {},
   "outputs": [
    {
     "data": {
      "text/html": [
       "1"
      ],
      "text/latex": [
       "1"
      ],
      "text/markdown": [
       "1"
      ],
      "text/plain": [
       "[1] 1"
      ]
     },
     "metadata": {},
     "output_type": "display_data"
    },
    {
     "data": {
      "text/html": [
       "2"
      ],
      "text/latex": [
       "2"
      ],
      "text/markdown": [
       "2"
      ],
      "text/plain": [
       "[1] 2"
      ]
     },
     "metadata": {},
     "output_type": "display_data"
    }
   ],
   "source": [
    "# Example 2: if not use closure \n",
    "\n",
    "# set i\n",
    "i <- 0\n",
    "\n",
    "# create counter function\n",
    "new_counter2 <- function() {\n",
    "        i <<- i + 1\n",
    "        i\n",
    "}\n",
    "\n",
    "# test results: \n",
    "# each time, the counter just increases\n",
    "# since you can not use enclosed functions\n",
    "new_counter2() \n",
    "new_counter2()"
   ]
  },
  {
   "cell_type": "code",
   "execution_count": 43,
   "id": "99a34d50",
   "metadata": {},
   "outputs": [
    {
     "data": {
      "text/html": [
       "1"
      ],
      "text/latex": [
       "1"
      ],
      "text/markdown": [
       "1"
      ],
      "text/plain": [
       "[1] 1"
      ]
     },
     "metadata": {},
     "output_type": "display_data"
    },
    {
     "data": {
      "text/html": [
       "1"
      ],
      "text/latex": [
       "1"
      ],
      "text/markdown": [
       "1"
      ],
      "text/plain": [
       "[1] 1"
      ]
     },
     "metadata": {},
     "output_type": "display_data"
    },
    {
     "data": {
      "text/html": [
       "1"
      ],
      "text/latex": [
       "1"
      ],
      "text/markdown": [
       "1"
      ],
      "text/plain": [
       "[1] 1"
      ]
     },
     "metadata": {},
     "output_type": "display_data"
    }
   ],
   "source": [
    "# Example 3: if not use <<- \n",
    "\n",
    "# create counter function\n",
    "new_counter3 <- function() {\n",
    "    i <- 0\n",
    "    function() {\n",
    "        i <- i + 1\n",
    "        i\n",
    "    }\n",
    "}\n",
    "\n",
    "# test results\n",
    "# for enclosed functon, it always initializes\n",
    "counter_1 <- new_counter3()\n",
    "counter_2 <- new_counter3()\n",
    "counter_1()\n",
    "counter_1()\n",
    "counter_2()"
   ]
  },
  {
   "cell_type": "markdown",
   "id": "73e4f64c",
   "metadata": {},
   "source": [
    "## List of functions"
   ]
  },
  {
   "cell_type": "markdown",
   "id": "9f796582",
   "metadata": {},
   "source": [
    "1. In R, functions can be stored in lists. This makes it easier to work with groups of related functions, in the same way a data frame makes it easier to work with groups of related vectors.<br><br>\n",
    "(Key: functions - lists - related functions; data frame - lists - related vectors)\n",
    "2. Use of list of functions: <br><br>\n",
    "(1) You want to compare performance of multiple ways of computing arithmetic mean. <br>\n",
    "You can do this by storing each approach (function) in a list.<br><br>\n",
    "(3) Another use is to summarize an object in multiple ways. We could store each summary function in a list, and run them all with lapply()"
   ]
  },
  {
   "cell_type": "code",
   "execution_count": 55,
   "id": "dc4c0d67",
   "metadata": {},
   "outputs": [],
   "source": [
    "# Example 1: compare performance of multiple ways of computing arithmetic mean\n",
    "\n",
    "# create function\n",
    "compute_mean <- list(\n",
    "    base = function(x) mean(x),\n",
    "    sum = function(x) sum(x) / length(x),\n",
    "    manual = function(x) {\n",
    "        total <- 0\n",
    "        n <- length(x)\n",
    "        for (i in seq_along(x)) {\n",
    "            total <- total + x[i] / n\n",
    "        }\n",
    "        total\n",
    "    }\n",
    ")\n",
    "\n",
    "# create vector \n",
    "# length: 100,000\n",
    "x <- runif(1e5)"
   ]
  },
  {
   "cell_type": "code",
   "execution_count": 57,
   "id": "1813bcaf",
   "metadata": {},
   "outputs": [
    {
     "name": "stdout",
     "output_type": "stream",
     "text": [
      "Base compute time: "
     ]
    },
    {
     "data": {
      "text/plain": [
       "   user  system elapsed \n",
       "  0.013   0.000   0.013 "
      ]
     },
     "metadata": {},
     "output_type": "display_data"
    },
    {
     "name": "stdout",
     "output_type": "stream",
     "text": [
      "Sum compute time: "
     ]
    },
    {
     "data": {
      "text/plain": [
       "   user  system elapsed \n",
       "  0.002   0.000   0.003 "
      ]
     },
     "metadata": {},
     "output_type": "display_data"
    },
    {
     "name": "stdout",
     "output_type": "stream",
     "text": [
      "Manual compute time: "
     ]
    },
    {
     "data": {
      "text/plain": [
       "   user  system elapsed \n",
       "  0.009   0.000   0.009 "
      ]
     },
     "metadata": {},
     "output_type": "display_data"
    }
   ],
   "source": [
    "# Attempt 1: call function 1 by 1 \n",
    "cat(\"Base compute time: \")\n",
    "system.time(compute_mean$base(x))\n",
    "cat(\"Sum compute time: \")\n",
    "system.time(compute_mean$sum(x))\n",
    "cat(\"Manual compute time: \")\n",
    "system.time(compute_mean$manual(x))"
   ]
  },
  {
   "cell_type": "code",
   "execution_count": 58,
   "id": "5a8e5aff",
   "metadata": {},
   "outputs": [
    {
     "data": {
      "text/html": [
       "<dl>\n",
       "\t<dt>$base</dt>\n",
       "\t\t<dd>0.500294752000188</dd>\n",
       "\t<dt>$sum</dt>\n",
       "\t\t<dd>0.500294752000188</dd>\n",
       "\t<dt>$manual</dt>\n",
       "\t\t<dd>0.50029475200019</dd>\n",
       "</dl>\n"
      ],
      "text/latex": [
       "\\begin{description}\n",
       "\\item[\\$base] 0.500294752000188\n",
       "\\item[\\$sum] 0.500294752000188\n",
       "\\item[\\$manual] 0.50029475200019\n",
       "\\end{description}\n"
      ],
      "text/markdown": [
       "$base\n",
       ":   0.500294752000188\n",
       "$sum\n",
       ":   0.500294752000188\n",
       "$manual\n",
       ":   0.50029475200019\n",
       "\n",
       "\n"
      ],
      "text/plain": [
       "$base\n",
       "[1] 0.5002948\n",
       "\n",
       "$sum\n",
       "[1] 0.5002948\n",
       "\n",
       "$manual\n",
       "[1] 0.5002948\n"
      ]
     },
     "metadata": {},
     "output_type": "display_data"
    }
   ],
   "source": [
    "# Attempt 2: anonymous function with lapply()\n",
    "\n",
    "lapply(compute_mean, function(f) f(x))"
   ]
  },
  {
   "cell_type": "code",
   "execution_count": 59,
   "id": "23715866",
   "metadata": {},
   "outputs": [
    {
     "data": {
      "text/html": [
       "<dl>\n",
       "\t<dt>$base</dt>\n",
       "\t\t<dd>0.500294752000188</dd>\n",
       "\t<dt>$sum</dt>\n",
       "\t\t<dd>0.500294752000188</dd>\n",
       "\t<dt>$manual</dt>\n",
       "\t\t<dd>0.50029475200019</dd>\n",
       "</dl>\n"
      ],
      "text/latex": [
       "\\begin{description}\n",
       "\\item[\\$base] 0.500294752000188\n",
       "\\item[\\$sum] 0.500294752000188\n",
       "\\item[\\$manual] 0.50029475200019\n",
       "\\end{description}\n"
      ],
      "text/markdown": [
       "$base\n",
       ":   0.500294752000188\n",
       "$sum\n",
       ":   0.500294752000188\n",
       "$manual\n",
       ":   0.50029475200019\n",
       "\n",
       "\n"
      ],
      "text/plain": [
       "$base\n",
       "[1] 0.5002948\n",
       "\n",
       "$sum\n",
       "[1] 0.5002948\n",
       "\n",
       "$manual\n",
       "[1] 0.5002948\n"
      ]
     },
     "metadata": {},
     "output_type": "display_data"
    }
   ],
   "source": [
    "# Attempt 3: named function with lapply()\n",
    "\n",
    "call_fun <- function(f, ...) f(...)\n",
    "lapply(compute_mean, call_fun, x) "
   ]
  },
  {
   "cell_type": "code",
   "execution_count": 60,
   "id": "ae9a807b",
   "metadata": {},
   "outputs": [
    {
     "data": {
      "text/plain": [
       "$base\n",
       "   user  system elapsed \n",
       "  0.013   0.000   0.013 \n",
       "\n",
       "$sum\n",
       "   user  system elapsed \n",
       "  0.003   0.000   0.003 \n",
       "\n",
       "$manual\n",
       "   user  system elapsed \n",
       "  0.007   0.000   0.007 \n"
      ]
     },
     "metadata": {},
     "output_type": "display_data"
    }
   ],
   "source": [
    "# Now combine lapply() with system.time()\n",
    "\n",
    "lapply(compute_mean, function(f) system.time(f(x)))"
   ]
  },
  {
   "cell_type": "code",
   "execution_count": 62,
   "id": "bacc1936",
   "metadata": {},
   "outputs": [
    {
     "data": {
      "text/html": [
       "<dl>\n",
       "\t<dt>$sum</dt>\n",
       "\t\t<dd>55</dd>\n",
       "\t<dt>$mean</dt>\n",
       "\t\t<dd>5.5</dd>\n",
       "\t<dt>$median</dt>\n",
       "\t\t<dd>5.5</dd>\n",
       "</dl>\n"
      ],
      "text/latex": [
       "\\begin{description}\n",
       "\\item[\\$sum] 55\n",
       "\\item[\\$mean] 5.5\n",
       "\\item[\\$median] 5.5\n",
       "\\end{description}\n"
      ],
      "text/markdown": [
       "$sum\n",
       ":   55\n",
       "$mean\n",
       ":   5.5\n",
       "$median\n",
       ":   5.5\n",
       "\n",
       "\n"
      ],
      "text/plain": [
       "$sum\n",
       "[1] 55\n",
       "\n",
       "$mean\n",
       "[1] 5.5\n",
       "\n",
       "$median\n",
       "[1] 5.5\n"
      ]
     },
     "metadata": {},
     "output_type": "display_data"
    },
    {
     "data": {
      "text/html": [
       "<dl>\n",
       "\t<dt>$sum</dt>\n",
       "\t\t<dd>55</dd>\n",
       "\t<dt>$mean</dt>\n",
       "\t\t<dd>5.5</dd>\n",
       "\t<dt>$median</dt>\n",
       "\t\t<dd>5.5</dd>\n",
       "</dl>\n"
      ],
      "text/latex": [
       "\\begin{description}\n",
       "\\item[\\$sum] 55\n",
       "\\item[\\$mean] 5.5\n",
       "\\item[\\$median] 5.5\n",
       "\\end{description}\n"
      ],
      "text/markdown": [
       "$sum\n",
       ":   55\n",
       "$mean\n",
       ":   5.5\n",
       "$median\n",
       ":   5.5\n",
       "\n",
       "\n"
      ],
      "text/plain": [
       "$sum\n",
       "[1] 55\n",
       "\n",
       "$mean\n",
       "[1] 5.5\n",
       "\n",
       "$median\n",
       "[1] 5.5\n"
      ]
     },
     "metadata": {},
     "output_type": "display_data"
    }
   ],
   "source": [
    "# Example 2\n",
    "\n",
    "# create vector \n",
    "x <- 1:10 \n",
    "\n",
    "# store function in a list \n",
    "funs <- list(\n",
    "    sum = sum, \n",
    "    mean = mean, \n",
    "    median = median\n",
    ")\n",
    "\n",
    "# ------ (1) apply function \n",
    "lapply(funs, function(f) f(x))\n",
    "       \n",
    "# ------ (2) apply function (add remove missing value) \n",
    "lapply(funs, function(f) f(x, na.rm = TRUE))"
   ]
  },
  {
   "cell_type": "code",
   "execution_count": 80,
   "id": "02df1218",
   "metadata": {},
   "outputs": [
    {
     "data": {
      "text/html": [
       "<ol class=list-inline>\n",
       "\t<li>1</li>\n",
       "\t<li>2</li>\n",
       "\t<li>3</li>\n",
       "\t<li>4</li>\n",
       "</ol>\n"
      ],
      "text/latex": [
       "\\begin{enumerate*}\n",
       "\\item 1\n",
       "\\item 2\n",
       "\\item 3\n",
       "\\item 4\n",
       "\\end{enumerate*}\n"
      ],
      "text/markdown": [
       "1. 1\n",
       "2. 2\n",
       "3. 3\n",
       "4. 4\n",
       "\n",
       "\n"
      ],
      "text/plain": [
       "[1] 1 2 3 4"
      ]
     },
     "metadata": {},
     "output_type": "display_data"
    },
    {
     "data": {
      "text/html": [
       "<ol class=list-inline>\n",
       "\t<li>1</li>\n",
       "\t<li>2</li>\n",
       "\t<li>3</li>\n",
       "\t<li>4</li>\n",
       "\t<li>5</li>\n",
       "\t<li>6</li>\n",
       "\t<li>7</li>\n",
       "\t<li>8</li>\n",
       "\t<li>9</li>\n",
       "\t<li>10</li>\n",
       "</ol>\n"
      ],
      "text/latex": [
       "\\begin{enumerate*}\n",
       "\\item 1\n",
       "\\item 2\n",
       "\\item 3\n",
       "\\item 4\n",
       "\\item 5\n",
       "\\item 6\n",
       "\\item 7\n",
       "\\item 8\n",
       "\\item 9\n",
       "\\item 10\n",
       "\\end{enumerate*}\n"
      ],
      "text/markdown": [
       "1. 1\n",
       "2. 2\n",
       "3. 3\n",
       "4. 4\n",
       "5. 5\n",
       "6. 6\n",
       "7. 7\n",
       "8. 8\n",
       "9. 9\n",
       "10. 10\n",
       "\n",
       "\n"
      ],
      "text/plain": [
       " [1]  1  2  3  4  5  6  7  8  9 10"
      ]
     },
     "metadata": {},
     "output_type": "display_data"
    }
   ],
   "source": [
    "# Note: \n",
    "# difference between seq_along() and seq_len()\n",
    "\n",
    "# seq_along()\n",
    "# takes vector, output is sequence of its length\n",
    "x <- c(1, 3, 4, 5)\n",
    "seq_along(x)\n",
    "\n",
    "# seq_len()\n",
    "# take a single numeric, output is sequence of number \n",
    "seq_len(10)"
   ]
  }
 ],
 "metadata": {
  "kernelspec": {
   "display_name": "R",
   "language": "R",
   "name": "ir"
  },
  "language_info": {
   "codemirror_mode": "r",
   "file_extension": ".r",
   "mimetype": "text/x-r-source",
   "name": "R",
   "pygments_lexer": "r",
   "version": "3.6.1"
  },
  "toc": {
   "base_numbering": 1,
   "nav_menu": {},
   "number_sections": true,
   "sideBar": true,
   "skip_h1_title": false,
   "title_cell": "Table of Contents",
   "title_sidebar": "Contents",
   "toc_cell": false,
   "toc_position": {},
   "toc_section_display": true,
   "toc_window_display": false
  },
  "varInspector": {
   "cols": {
    "lenName": 16,
    "lenType": 16,
    "lenVar": 40
   },
   "kernels_config": {
    "python": {
     "delete_cmd_postfix": "",
     "delete_cmd_prefix": "del ",
     "library": "var_list.py",
     "varRefreshCmd": "print(var_dic_list())"
    },
    "r": {
     "delete_cmd_postfix": ") ",
     "delete_cmd_prefix": "rm(",
     "library": "var_list.r",
     "varRefreshCmd": "cat(var_dic_list()) "
    }
   },
   "position": {
    "height": "323.4px",
    "left": "782px",
    "right": "20px",
    "top": "120px",
    "width": "350px"
   },
   "types_to_exclude": [
    "module",
    "function",
    "builtin_function_or_method",
    "instance",
    "_Feature"
   ],
   "window_display": false
  }
 },
 "nbformat": 4,
 "nbformat_minor": 5
}
