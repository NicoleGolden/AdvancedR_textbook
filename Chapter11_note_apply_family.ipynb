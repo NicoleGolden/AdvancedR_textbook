{
 "cells": [
  {
   "cell_type": "markdown",
   "id": "a1523fd5",
   "metadata": {},
   "source": [
    "## Apply family"
   ]
  },
  {
   "cell_type": "markdown",
   "id": "344bc567",
   "metadata": {},
   "source": [
    "1. The apply family comprises: <br>\n",
    "(1) apply(): <br>\n",
    "`apply(X, MARGIN, FUN, …)` <br><br>\n",
    "(2) lapply(): (list apply)<br>\n",
    "`lapply(X, FUN, …)` <br> <br>\n",
    "(3) sapply(): (simplified apply) <br>\n",
    "`sapply(X, FUN, …, simplify = TRUE, USE.NAMES = TRUE)` <br><br>\n",
    "(4) vapply(): (vector apply)<br>\n",
    "`vapply(X, FUN, FUN.VALUE, …, USE.NAMES = TRUE)` <br><br>\n",
    "(5) tapply(): (table apply [factors])<br>\n",
    "`tapply(X, INDEX, FUN = NULL, …, default = NA, simplify = TRUE)`<br> <br>\n",
    "(6) mapply(): (map apply)<br>\n",
    "`mapply(FUN, …, MoreArgs = NULL, SIMPLIFY = TRUE, USE.NAMES = TRUE)` <br><br>\n",
    "(7) rapply(): (recursive apply)<br>\n",
    "`rapply(object, f, classes = \"ANY\", deflt = NULL, how = c(\"unlist\", \"replace\", \"list\"), ...)` "
   ]
  },
  {
   "cell_type": "markdown",
   "id": "b095ee76",
   "metadata": {},
   "source": [
    "2. About apply family:<br>\n",
    "It consists of vectorized functions which minimize your need to explicitly create loops. <br>\n",
    "These functions will apply a specified function to a data object and their primary difference is in the object class in which the function is applied to (list vs. matrix, etc) and the object class that will be returned from the function. "
   ]
  },
  {
   "cell_type": "markdown",
   "id": "6b1afda4",
   "metadata": {},
   "source": [
    "### apply()"
   ]
  },
  {
   "cell_type": "markdown",
   "id": "75c19502",
   "metadata": {},
   "source": [
    "1. apply() input: matrix / data frame / array. <br>\n",
    "apply() output: a vector.<br><br>\n",
    "\n",
    "2. Basic syntax: \n",
    "`apply(x, MARGIN, FUN, ...)`<br>\n",
    "x: matrix / dataframe / array<br>\n",
    "MARGIN: for a matrix,  1 indicates rows, 2 indicates columns<br>\n",
    "FUN: the function to be applied<br>\n",
    "...: for any other arguments to be passed to the function<br><br>\n",
    "\n",
    "3. Using apply() is not faster than using a loop function, but it is highly compact and can be written in one line."
   ]
  },
  {
   "cell_type": "code",
   "execution_count": null,
   "id": "6630ac9a",
   "metadata": {},
   "outputs": [],
   "source": [
    "# Example: apply()\n",
    "\n",
    "# ------ (1) get mean of each column\n",
    "apply(mtcars, 2, mean)\n",
    "\n",
    "# ------ (2) get the sum of each row\n",
    "apply(mtcars, 1, sum)\n",
    "\n",
    "# ------ (3) get column quantiles \n",
    "apply(mtcars, 2, quantile, probs = c(0.1, 0.25, 0.5, 0.75, 0.9))"
   ]
  },
  {
   "cell_type": "markdown",
   "id": "f914bbb6",
   "metadata": {},
   "source": [
    "### lapply()\n",
    "(list apply)"
   ]
  },
  {
   "cell_type": "markdown",
   "id": "aed0394d",
   "metadata": {},
   "source": [
    "1. lapply() input: a list. <br>\n",
    "lapply() output: a list.<br><br>\n",
    "\n",
    "2. Basic syntax: \n",
    "`lapply(X, FUN, …)`<br>\n",
    "x: list<br>\n",
    "FUN: the function to be applied<br>\n",
    "...: for any other arguments to be passed to the function.<br><br>\n",
    "\n",
    "3. lapply() does the following: <br>\n",
    "(1) it loops over a list, iterating over each element in that list<br>\n",
    "(2) it applies a function to each element of the list (a function that you specify)<br> \n",
    "(3) returns a list."
   ]
  },
  {
   "cell_type": "code",
   "execution_count": 8,
   "id": "94c67c3c",
   "metadata": {},
   "outputs": [
    {
     "name": "stdout",
     "output_type": "stream",
     "text": [
      "Mean for each sub-list is: "
     ]
    },
    {
     "data": {
      "text/html": [
       "<dl>\n",
       "\t<dt>$item1</dt>\n",
       "\t\t<dd>2.5</dd>\n",
       "\t<dt>$item2</dt>\n",
       "\t\t<dd>-0.099921849760542</dd>\n",
       "\t<dt>$item3</dt>\n",
       "\t\t<dd>0.803725247392556</dd>\n",
       "\t<dt>$item4</dt>\n",
       "\t\t<dd>4.98761149144897</dd>\n",
       "</dl>\n"
      ],
      "text/latex": [
       "\\begin{description}\n",
       "\\item[\\$item1] 2.5\n",
       "\\item[\\$item2] -0.099921849760542\n",
       "\\item[\\$item3] 0.803725247392556\n",
       "\\item[\\$item4] 4.98761149144897\n",
       "\\end{description}\n"
      ],
      "text/markdown": [
       "$item1\n",
       ":   2.5\n",
       "$item2\n",
       ":   -0.099921849760542\n",
       "$item3\n",
       ":   0.803725247392556\n",
       "$item4\n",
       ":   4.98761149144897\n",
       "\n",
       "\n"
      ],
      "text/plain": [
       "$item1\n",
       "[1] 2.5\n",
       "\n",
       "$item2\n",
       "[1] -0.09992185\n",
       "\n",
       "$item3\n",
       "[1] 0.8037252\n",
       "\n",
       "$item4\n",
       "[1] 4.987611\n"
      ]
     },
     "metadata": {},
     "output_type": "display_data"
    },
    {
     "name": "stdout",
     "output_type": "stream",
     "text": [
      "Structure of each sub-list is a data frame: \n",
      "Sub-list 1: \n",
      "'data.frame':\t114 obs. of  4 variables:\n",
      " $ day  : num  346 346 346 346 346 346 346 346 346 346 ...\n",
      " $ time : num  840 850 900 910 920 930 940 950 1000 1010 ...\n",
      " $ temp : num  36.3 36.3 36.4 36.4 36.5 ...\n",
      " $ activ: num  0 0 0 0 0 0 0 0 0 0 ...\n",
      "Sub-list 2: \n",
      "'data.frame':\t100 obs. of  4 variables:\n",
      " $ day  : num  307 307 307 307 307 307 307 307 307 307 ...\n",
      " $ time : num  930 940 950 1000 1010 1020 1030 1040 1050 1100 ...\n",
      " $ temp : num  36.6 36.7 36.9 37.1 37.2 ...\n",
      " $ activ: num  0 0 0 0 0 0 0 0 0 0 ...\n",
      "Mean for each sub-list is: "
     ]
    },
    {
     "data": {
      "text/html": [
       "<dl>\n",
       "\t<dt>$beaver1</dt>\n",
       "\t\t<dd><dl class=dl-horizontal>\n",
       "\t<dt>day</dt>\n",
       "\t\t<dd>346.2</dd>\n",
       "\t<dt>time</dt>\n",
       "\t\t<dd>1312.02</dd>\n",
       "\t<dt>temp</dt>\n",
       "\t\t<dd>36.86</dd>\n",
       "\t<dt>activ</dt>\n",
       "\t\t<dd>0.05</dd>\n",
       "</dl>\n",
       "</dd>\n",
       "\t<dt>$beaver2</dt>\n",
       "\t\t<dd><dl class=dl-horizontal>\n",
       "\t<dt>day</dt>\n",
       "\t\t<dd>307.13</dd>\n",
       "\t<dt>time</dt>\n",
       "\t\t<dd>1446.2</dd>\n",
       "\t<dt>temp</dt>\n",
       "\t\t<dd>37.6</dd>\n",
       "\t<dt>activ</dt>\n",
       "\t\t<dd>0.62</dd>\n",
       "</dl>\n",
       "</dd>\n",
       "</dl>\n"
      ],
      "text/latex": [
       "\\begin{description}\n",
       "\\item[\\$beaver1] \\begin{description*}\n",
       "\\item[day] 346.2\n",
       "\\item[time] 1312.02\n",
       "\\item[temp] 36.86\n",
       "\\item[activ] 0.05\n",
       "\\end{description*}\n",
       "\n",
       "\\item[\\$beaver2] \\begin{description*}\n",
       "\\item[day] 307.13\n",
       "\\item[time] 1446.2\n",
       "\\item[temp] 37.6\n",
       "\\item[activ] 0.62\n",
       "\\end{description*}\n",
       "\n",
       "\\end{description}\n"
      ],
      "text/markdown": [
       "$beaver1\n",
       ":   day\n",
       ":   346.2time\n",
       ":   1312.02temp\n",
       ":   36.86activ\n",
       ":   0.05\n",
       "\n",
       "\n",
       "$beaver2\n",
       ":   day\n",
       ":   307.13time\n",
       ":   1446.2temp\n",
       ":   37.6activ\n",
       ":   0.62\n",
       "\n",
       "\n",
       "\n",
       "\n"
      ],
      "text/plain": [
       "$beaver1\n",
       "    day    time    temp   activ \n",
       " 346.20 1312.02   36.86    0.05 \n",
       "\n",
       "$beaver2\n",
       "    day    time    temp   activ \n",
       " 307.13 1446.20   37.60    0.62 \n"
      ]
     },
     "metadata": {},
     "output_type": "display_data"
    }
   ],
   "source": [
    "# Example: lapply()\n",
    "\n",
    "# ------ (1) get mean for each sub-list\n",
    "# Create a list with 4 sub-list: \n",
    "# each sub-list is a vector \n",
    "data <- list(item1 = 1:4, item2 = rnorm(10),\n",
    "              item3 = rnorm(20, 1), item4 = rnorm(100, 5))\n",
    "\n",
    "# get mean for each sub-list\n",
    "cat(\"Mean for each sub-list is: \")\n",
    "lapply(data, mean)\n",
    "\n",
    "# ------ (2) embed an apply function within an lapply function\n",
    "\n",
    "# Create a list of with 2 data-frames:\n",
    "# each sub-list is a data frame\n",
    "beaver_data <- list(beaver1 = beaver1, beaver2 = beaver2)\n",
    "cat(\"Structure of each sub-list is a data frame: \\n\")\n",
    "cat(\"Sub-list 1: \\n\")\n",
    "str(beaver_data$beaver1)\n",
    "cat(\"Sub-list 2: \\n\")\n",
    "str(beaver_data$beaver2)\n",
    "\n",
    "# get column mean for each sub-list (data frame)\n",
    "cat(\"Mean for each sub-list is: \")\n",
    "lapply(beaver_data, function(x) round(apply(x, 2, mean), 2))"
   ]
  },
  {
   "cell_type": "markdown",
   "id": "8cd24dea",
   "metadata": {},
   "source": [
    "### sapply()\n",
    "(simplified apply)"
   ]
  },
  {
   "cell_type": "markdown",
   "id": "9741fd11",
   "metadata": {},
   "source": [
    "1. sapply() input: a list. <br>\n",
    "sapply() output: a vector or matrix.<br><br>\n",
    "\n",
    "2. Basic syntax: `sapply(X, FUN, …, simplify = TRUE, USE.NAMES = TRUE)`<br>\n",
    "x: list<br>\n",
    "FUN: the function to be applied<br>\n",
    "...: for any other arguments to be passed to the function.<br><br>\n",
    "simplify = TRUE: a logical value: <br>\n",
    "should the result be simplified to a vector or matrix if possible?<br><br>\n",
    "USE.NAMES = TRUE: logical: <br>\n",
    "if TRUE and if X is character, use X as names for the result unless it had names already.<br><br>\n",
    "\n",
    "3. sapply() will try to simplify the result of lapply() if possible. "
   ]
  },
  {
   "cell_type": "code",
   "execution_count": 26,
   "id": "1c62f466",
   "metadata": {},
   "outputs": [
    {
     "name": "stdout",
     "output_type": "stream",
     "text": [
      "Mean for each column for each sub-list (data frame)\n",
      "Default sapply() simplifies output to a matrix"
     ]
    },
    {
     "data": {
      "text/html": [
       "<table>\n",
       "<thead><tr><th></th><th scope=col>beaver1</th><th scope=col>beaver2</th></tr></thead>\n",
       "<tbody>\n",
       "\t<tr><th scope=row>day</th><td> 346.20</td><td> 307.13</td></tr>\n",
       "\t<tr><th scope=row>time</th><td>1312.02</td><td>1446.20</td></tr>\n",
       "\t<tr><th scope=row>temp</th><td>  36.86</td><td>  37.60</td></tr>\n",
       "\t<tr><th scope=row>activ</th><td>   0.05</td><td>   0.62</td></tr>\n",
       "</tbody>\n",
       "</table>\n"
      ],
      "text/latex": [
       "\\begin{tabular}{r|ll}\n",
       "  & beaver1 & beaver2\\\\\n",
       "\\hline\n",
       "\tday &  346.20 &  307.13\\\\\n",
       "\ttime & 1312.02 & 1446.20\\\\\n",
       "\ttemp &   36.86 &   37.60\\\\\n",
       "\tactiv &    0.05 &    0.62\\\\\n",
       "\\end{tabular}\n"
      ],
      "text/markdown": [
       "\n",
       "| <!--/--> | beaver1 | beaver2 |\n",
       "|---|---|---|\n",
       "| day |  346.20 |  307.13 |\n",
       "| time | 1312.02 | 1446.20 |\n",
       "| temp |   36.86 |   37.60 |\n",
       "| activ |    0.05 |    0.62 |\n",
       "\n"
      ],
      "text/plain": [
       "      beaver1 beaver2\n",
       "day    346.20  307.13\n",
       "time  1312.02 1446.20\n",
       "temp    36.86   37.60\n",
       "activ    0.05    0.62"
      ]
     },
     "metadata": {},
     "output_type": "display_data"
    },
    {
     "name": "stdout",
     "output_type": "stream",
     "text": [
      "If specify not to simplify output, sapply() returns a list just like lapply()"
     ]
    },
    {
     "data": {
      "text/html": [
       "<dl>\n",
       "\t<dt>$beaver1</dt>\n",
       "\t\t<dd><dl class=dl-horizontal>\n",
       "\t<dt>day</dt>\n",
       "\t\t<dd>346.2</dd>\n",
       "\t<dt>time</dt>\n",
       "\t\t<dd>1312.02</dd>\n",
       "\t<dt>temp</dt>\n",
       "\t\t<dd>36.86</dd>\n",
       "\t<dt>activ</dt>\n",
       "\t\t<dd>0.05</dd>\n",
       "</dl>\n",
       "</dd>\n",
       "\t<dt>$beaver2</dt>\n",
       "\t\t<dd><dl class=dl-horizontal>\n",
       "\t<dt>day</dt>\n",
       "\t\t<dd>307.13</dd>\n",
       "\t<dt>time</dt>\n",
       "\t\t<dd>1446.2</dd>\n",
       "\t<dt>temp</dt>\n",
       "\t\t<dd>37.6</dd>\n",
       "\t<dt>activ</dt>\n",
       "\t\t<dd>0.62</dd>\n",
       "</dl>\n",
       "</dd>\n",
       "</dl>\n"
      ],
      "text/latex": [
       "\\begin{description}\n",
       "\\item[\\$beaver1] \\begin{description*}\n",
       "\\item[day] 346.2\n",
       "\\item[time] 1312.02\n",
       "\\item[temp] 36.86\n",
       "\\item[activ] 0.05\n",
       "\\end{description*}\n",
       "\n",
       "\\item[\\$beaver2] \\begin{description*}\n",
       "\\item[day] 307.13\n",
       "\\item[time] 1446.2\n",
       "\\item[temp] 37.6\n",
       "\\item[activ] 0.62\n",
       "\\end{description*}\n",
       "\n",
       "\\end{description}\n"
      ],
      "text/markdown": [
       "$beaver1\n",
       ":   day\n",
       ":   346.2time\n",
       ":   1312.02temp\n",
       ":   36.86activ\n",
       ":   0.05\n",
       "\n",
       "\n",
       "$beaver2\n",
       ":   day\n",
       ":   307.13time\n",
       ":   1446.2temp\n",
       ":   37.6activ\n",
       ":   0.62\n",
       "\n",
       "\n",
       "\n",
       "\n"
      ],
      "text/plain": [
       "$beaver1\n",
       "    day    time    temp   activ \n",
       " 346.20 1312.02   36.86    0.05 \n",
       "\n",
       "$beaver2\n",
       "    day    time    temp   activ \n",
       " 307.13 1446.20   37.60    0.62 \n"
      ]
     },
     "metadata": {},
     "output_type": "display_data"
    }
   ],
   "source": [
    "# Example: sapply() \n",
    "\n",
    "# ------ (1) get mean for each sub-list (data frame) \n",
    "# output: matrix\n",
    "cat(\"Mean for each column for each sub-list (data frame)\\n\")\n",
    "cat(\"Default sapply() simplifies output to a matrix\")\n",
    "sapply(beaver_data, function(x) round(apply(x, 2, mean), 2))\n",
    "cat(\"If specify not to simplify output, sapply() returns a list just like lapply()\")\n",
    "sapply(beaver_data, function(x) round(apply(x, 2, mean), 2), simplify = FALSE)"
   ]
  },
  {
   "cell_type": "markdown",
   "id": "8ee919e7",
   "metadata": {},
   "source": [
    "### vapply()\n",
    "(vector apply)"
   ]
  },
  {
   "cell_type": "markdown",
   "id": "96c0a6f2",
   "metadata": {},
   "source": [
    "1. vapply() input: a list, matrix, or data frame. <br>\n",
    "vapply() output: (specify) a vector, a matrix, or a data frame (numeric(1), integer(1), character(1), data.frame(1), etc.)<br><br>\n",
    "\n",
    "2. Basic syntax: `vapply(X, FUN, FUN.VALUE, …, USE.NAMES = TRUE, simplify = TRUE)`<br>\n",
    "x: list<br>\n",
    "FUN: the function to be applied<br>\n",
    "FUN.VALUE: a template for the return value from the specified function<br>\n",
    "numeric(1) means return a single numeric value. \n",
    "...: for any other arguments to be passed to the function.<br><br>\n",
    "USE.NAMES = TRUE: logical: <br>\n",
    "if TRUE and if X is character, use X as names for the result unless it had names already.<br><br>\n",
    "simplify = TRUE: a logical value: <br>\n",
    "should the result be simplified to a vector or matrix if possible?<br><br>\n",
    "\n",
    "3. When to use vapply()?  <br><br>\n",
    "(1) If a list contains variables of numeric and characters, sapply() coerces characters to numeric and won't give you error; while vapply() gives you an error.<br><br> \n",
    "(2) vapply() requires additional argument `FUN.VALUE` to specify output type. <br>\n",
    "If you want to specify the type of result you are expecting, use vapply()."
   ]
  },
  {
   "cell_type": "code",
   "execution_count": 34,
   "id": "6f9fbb12",
   "metadata": {},
   "outputs": [
    {
     "name": "stdout",
     "output_type": "stream",
     "text": [
      "sapply() doesn't raise any errors: "
     ]
    },
    {
     "data": {
      "text/html": [
       "<dl class=dl-horizontal>\n",
       "\t<dt>a</dt>\n",
       "\t\t<dd>'5'</dd>\n",
       "\t<dt>b</dt>\n",
       "\t\t<dd>'6'</dd>\n",
       "\t<dt>c</dt>\n",
       "\t\t<dd>'9'</dd>\n",
       "\t<dt>d</dt>\n",
       "\t\t<dd>'c'</dd>\n",
       "</dl>\n"
      ],
      "text/latex": [
       "\\begin{description*}\n",
       "\\item[a] '5'\n",
       "\\item[b] '6'\n",
       "\\item[c] '9'\n",
       "\\item[d] 'c'\n",
       "\\end{description*}\n"
      ],
      "text/markdown": [
       "a\n",
       ":   '5'b\n",
       ":   '6'c\n",
       ":   '9'd\n",
       ":   'c'\n",
       "\n"
      ],
      "text/plain": [
       "  a   b   c   d \n",
       "\"5\" \"6\" \"9\" \"c\" "
      ]
     },
     "metadata": {},
     "output_type": "display_data"
    }
   ],
   "source": [
    "# Example: vapply()\n",
    "\n",
    "# ------ (1) vapply() gives error while sapply() doesn't \n",
    "# if some variable types are non-numeric\n",
    "\n",
    "# Create a list \n",
    "test <- list(a = c(1, 3, 5), b = c(2,4,6), c = c(9,8,7), d = c(\"a\", \"b\", \"c\"))\n",
    "# sapply()\n",
    "cat(\"sapply() doesn't raise any errors: \")\n",
    "sapply(test, max) \n",
    "# vapply()\n",
    "cat(\"vapply() raises an error since variable \"d\" is character: \")\n",
    "vapply(test, max, numeric(1)) "
   ]
  },
  {
   "cell_type": "code",
   "execution_count": 52,
   "id": "67208160",
   "metadata": {},
   "outputs": [
    {
     "data": {
      "text/html": [
       "<dl class=dl-horizontal>\n",
       "\t<dt>a</dt>\n",
       "\t\t<dd>5.2</dd>\n",
       "\t<dt>b</dt>\n",
       "\t\t<dd>6.5</dd>\n",
       "\t<dt>c</dt>\n",
       "\t\t<dd>9.5</dd>\n",
       "</dl>\n"
      ],
      "text/latex": [
       "\\begin{description*}\n",
       "\\item[a] 5.2\n",
       "\\item[b] 6.5\n",
       "\\item[c] 9.5\n",
       "\\end{description*}\n"
      ],
      "text/markdown": [
       "a\n",
       ":   5.2b\n",
       ":   6.5c\n",
       ":   9.5\n",
       "\n"
      ],
      "text/plain": [
       "  a   b   c \n",
       "5.2 6.5 9.5 "
      ]
     },
     "metadata": {},
     "output_type": "display_data"
    },
    {
     "data": {
      "text/html": [
       "<dl class=dl-horizontal>\n",
       "\t<dt>a</dt>\n",
       "\t\t<dd>5.2</dd>\n",
       "\t<dt>b</dt>\n",
       "\t\t<dd>6.5</dd>\n",
       "\t<dt>c</dt>\n",
       "\t\t<dd>9.5</dd>\n",
       "</dl>\n"
      ],
      "text/latex": [
       "\\begin{description*}\n",
       "\\item[a] 5.2\n",
       "\\item[b] 6.5\n",
       "\\item[c] 9.5\n",
       "\\end{description*}\n"
      ],
      "text/markdown": [
       "a\n",
       ":   5.2b\n",
       ":   6.5c\n",
       ":   9.5\n",
       "\n"
      ],
      "text/plain": [
       "  a   b   c \n",
       "5.2 6.5 9.5 "
      ]
     },
     "metadata": {},
     "output_type": "display_data"
    },
    {
     "data": {
      "text/html": [
       "<dl class=dl-horizontal>\n",
       "\t<dt>a</dt>\n",
       "\t\t<dd>5.2</dd>\n",
       "\t<dt>b</dt>\n",
       "\t\t<dd>6.5</dd>\n",
       "\t<dt>c</dt>\n",
       "\t\t<dd>9.5</dd>\n",
       "</dl>\n"
      ],
      "text/latex": [
       "\\begin{description*}\n",
       "\\item[a] 5.2\n",
       "\\item[b] 6.5\n",
       "\\item[c] 9.5\n",
       "\\end{description*}\n"
      ],
      "text/markdown": [
       "a\n",
       ":   5.2b\n",
       ":   6.5c\n",
       ":   9.5\n",
       "\n"
      ],
      "text/plain": [
       "  a   b   c \n",
       "5.2 6.5 9.5 "
      ]
     },
     "metadata": {},
     "output_type": "display_data"
    },
    {
     "data": {
      "text/html": [
       "<dl class=dl-horizontal>\n",
       "\t<dt>a</dt>\n",
       "\t\t<dd>5</dd>\n",
       "\t<dt>b</dt>\n",
       "\t\t<dd>6</dd>\n",
       "\t<dt>c</dt>\n",
       "\t\t<dd>9</dd>\n",
       "</dl>\n"
      ],
      "text/latex": [
       "\\begin{description*}\n",
       "\\item[a] 5\n",
       "\\item[b] 6\n",
       "\\item[c] 9\n",
       "\\end{description*}\n"
      ],
      "text/markdown": [
       "a\n",
       ":   5b\n",
       ":   6c\n",
       ":   9\n",
       "\n"
      ],
      "text/plain": [
       "a b c \n",
       "5 6 9 "
      ]
     },
     "metadata": {},
     "output_type": "display_data"
    }
   ],
   "source": [
    "# ------ (2) return vector (numeric / double / integer, etc.)\n",
    "\n",
    "# Create a list \n",
    "test <- list(a = c(1, 3.3, 5.2), b = c(2,4.3,6.5), c = c(9.5,8,7))\n",
    "\n",
    "# specify type: numeric / double\n",
    "vapply(test, max, double(1))  \n",
    "vapply(test, max, numeric(1))          \n",
    "\n",
    "# Create a list \n",
    "test <- list(a = c(1L, 3L, 5L), b = c(2L, 4L, 6L), c = c(9L, 8L, 7L))\n",
    "\n",
    "# specify type:  integer\n",
    "# also works for: numeric / double \n",
    "vapply(test, max, integer(1))  "
   ]
  },
  {
   "cell_type": "markdown",
   "id": "5c005123",
   "metadata": {},
   "source": [
    "### tapply()\n",
    "(table apply)"
   ]
  },
  {
   "cell_type": "markdown",
   "id": "13aedaf8",
   "metadata": {},
   "source": [
    "1. tapply() input: a matrix, or data frame, etc. <br>\n",
    "tapply() output: array or list<br><br>\n",
    "\n",
    "2. Basic syntax: `tapply(X, INDEX, FUN = NULL, …, default = NA, simplify = TRUE)`<br>\n",
    "\n",
    "x: an R object for which a split method exists. Typically vector-like, allowing subsetting with \\[.<br><br>\n",
    "\n",
    "INDEX: a list of $\\geq$ 1 factors, each of same length as X. The elements are coerced to factors by as.factor.<br><br>\n",
    "\n",
    "FUN: a function (or name of a function) to be applied, or NULL. In the case of functions like +, \\%*\\%, etc., the function name must be backquoted or quoted. If FUN is NULL, tapply returns a vector which can be used to subscript the multi-way array tapply normally produces. <br><br>\n",
    "\n",
    "...: for any other arguments to be passed to the function.<br><br>\n",
    "\n",
    "default = NA: If simplify = TRUE, is the array initialization value. <br><br>\n",
    "\n",
    "simplify = TRUE: a logical value: <br>\n",
    "should the result be simplified to a vector or matrix if possible?<br><br>\n",
    "\n",
    "3. When to use tapply()?  <br>\n",
    "You want to create group summaries based on factor levels, use tapply(). <br>\n",
    "(i) A dataset that can be broken up into groups (via category/factors)<br>\n",
    "(ii) Want to break the dataset up into groups<br>\n",
    "(iii) Within each group, we want to apply a function"
   ]
  },
  {
   "cell_type": "code",
   "execution_count": 73,
   "id": "cd708047",
   "metadata": {},
   "outputs": [
    {
     "name": "stdout",
     "output_type": "stream",
     "text": [
      "Head of data frame: "
     ]
    },
    {
     "data": {
      "text/html": [
       "<table>\n",
       "<thead><tr><th scope=col>price</th><th scope=col>type</th><th scope=col>store</th></tr></thead>\n",
       "<tbody>\n",
       "\t<tr><td>21     </td><td>2      </td><td>Store 2</td></tr>\n",
       "\t<tr><td>32     </td><td>3      </td><td>Store 3</td></tr>\n",
       "\t<tr><td>46     </td><td>4      </td><td>Store 4</td></tr>\n",
       "</tbody>\n",
       "</table>\n"
      ],
      "text/latex": [
       "\\begin{tabular}{r|lll}\n",
       " price & type & store\\\\\n",
       "\\hline\n",
       "\t 21      & 2       & Store 2\\\\\n",
       "\t 32      & 3       & Store 3\\\\\n",
       "\t 46      & 4       & Store 4\\\\\n",
       "\\end{tabular}\n"
      ],
      "text/markdown": [
       "\n",
       "| price | type | store |\n",
       "|---|---|---|\n",
       "| 21      | 2       | Store 2 |\n",
       "| 32      | 3       | Store 3 |\n",
       "| 46      | 4       | Store 4 |\n",
       "\n"
      ],
      "text/plain": [
       "  price type store  \n",
       "1 21    2    Store 2\n",
       "2 32    3    Store 3\n",
       "3 46    4    Store 4"
      ]
     },
     "metadata": {},
     "output_type": "display_data"
    },
    {
     "name": "stdout",
     "output_type": "stream",
     "text": [
      "Mean prices by product type (in array): "
     ]
    },
    {
     "data": {
      "text/html": [
       "<dl class=dl-horizontal>\n",
       "\t<dt>toy</dt>\n",
       "\t\t<dd>39.5</dd>\n",
       "\t<dt>food</dt>\n",
       "\t\t<dd>30.3333333333333</dd>\n",
       "\t<dt>electronics</dt>\n",
       "\t\t<dd>32.2</dd>\n",
       "\t<dt>drinks</dt>\n",
       "\t\t<dd>29.3333333333333</dd>\n",
       "</dl>\n"
      ],
      "text/latex": [
       "\\begin{description*}\n",
       "\\item[toy] 39.5\n",
       "\\item[food] 30.3333333333333\n",
       "\\item[electronics] 32.2\n",
       "\\item[drinks] 29.3333333333333\n",
       "\\end{description*}\n"
      ],
      "text/markdown": [
       "toy\n",
       ":   39.5food\n",
       ":   30.3333333333333electronics\n",
       ":   32.2drinks\n",
       ":   29.3333333333333\n",
       "\n"
      ],
      "text/plain": [
       "        toy        food electronics      drinks \n",
       "   39.50000    30.33333    32.20000    29.33333 "
      ]
     },
     "metadata": {},
     "output_type": "display_data"
    },
    {
     "data": {
      "text/html": [
       "'array'"
      ],
      "text/latex": [
       "'array'"
      ],
      "text/markdown": [
       "'array'"
      ],
      "text/plain": [
       "[1] \"array\""
      ]
     },
     "metadata": {},
     "output_type": "display_data"
    },
    {
     "data": {
      "text/html": [
       "<strong>food:</strong> 30.3333333333333"
      ],
      "text/latex": [
       "\\textbf{food:} 30.3333333333333"
      ],
      "text/markdown": [
       "**food:** 30.3333333333333"
      ],
      "text/plain": [
       "    food \n",
       "30.33333 "
      ]
     },
     "metadata": {},
     "output_type": "display_data"
    },
    {
     "name": "stdout",
     "output_type": "stream",
     "text": [
      "Mean prices by product type (in list): "
     ]
    },
    {
     "data": {
      "text/html": [
       "<dl>\n",
       "\t<dt>$toy</dt>\n",
       "\t\t<dd>39.5</dd>\n",
       "\t<dt>$food</dt>\n",
       "\t\t<dd>30.3333333333333</dd>\n",
       "\t<dt>$electronics</dt>\n",
       "\t\t<dd>32.2</dd>\n",
       "\t<dt>$drinks</dt>\n",
       "\t\t<dd>29.3333333333333</dd>\n",
       "</dl>\n"
      ],
      "text/latex": [
       "\\begin{description}\n",
       "\\item[\\$toy] 39.5\n",
       "\\item[\\$food] 30.3333333333333\n",
       "\\item[\\$electronics] 32.2\n",
       "\\item[\\$drinks] 29.3333333333333\n",
       "\\end{description}\n"
      ],
      "text/markdown": [
       "$toy\n",
       ":   39.5\n",
       "$food\n",
       ":   30.3333333333333\n",
       "$electronics\n",
       ":   32.2\n",
       "$drinks\n",
       ":   29.3333333333333\n",
       "\n",
       "\n"
      ],
      "text/plain": [
       "$toy\n",
       "[1] 39.5\n",
       "\n",
       "$food\n",
       "[1] 30.33333\n",
       "\n",
       "$electronics\n",
       "[1] 32.2\n",
       "\n",
       "$drinks\n",
       "[1] 29.33333\n"
      ]
     },
     "metadata": {},
     "output_type": "display_data"
    },
    {
     "data": {
      "text/html": [
       "<dl class=dl-horizontal>\n",
       "\t<dt>Store 1</dt>\n",
       "\t\t<dd>32</dd>\n",
       "\t<dt>Store 2</dt>\n",
       "\t\t<dd>31.7142857142857</dd>\n",
       "\t<dt>Store 3</dt>\n",
       "\t\t<dd>37.8</dd>\n",
       "\t<dt>Store 4</dt>\n",
       "\t\t<dd>33.1428571428571</dd>\n",
       "</dl>\n"
      ],
      "text/latex": [
       "\\begin{description*}\n",
       "\\item[Store 1] 32\n",
       "\\item[Store 2] 31.7142857142857\n",
       "\\item[Store 3] 37.8\n",
       "\\item[Store 4] 33.1428571428571\n",
       "\\end{description*}\n"
      ],
      "text/markdown": [
       "Store 1\n",
       ":   32Store 2\n",
       ":   31.7142857142857Store 3\n",
       ":   37.8Store 4\n",
       ":   33.1428571428571\n",
       "\n"
      ],
      "text/plain": [
       " Store 1  Store 2  Store 3  Store 4 \n",
       "32.00000 31.71429 37.80000 33.14286 "
      ]
     },
     "metadata": {},
     "output_type": "display_data"
    }
   ],
   "source": [
    "# Example: tapply(), 1 factor \n",
    "\n",
    "# create data frame \n",
    "set.seed(2)\n",
    "\n",
    "df <- data.frame(price = round(rnorm(25, sd = 10, mean = 30)),\n",
    "                       type = sample(1:4, size = 25, replace = TRUE),\n",
    "                       store = sample(paste(\"Store\", 1:4),\n",
    "                                      size = 25, replace = TRUE))\n",
    "cat(\"Head of data frame: \")\n",
    "head(df, 3)\n",
    "\n",
    "# store 3 variables in vectors \n",
    "price <- df$price\n",
    "store <- df$store\n",
    "# re-lable \"type\" with appropriate labels\n",
    "type <- factor(df$type,\n",
    "               labels = c(\"toy\", \"food\", \"electronics\", \"drinks\"))\n",
    "\n",
    "# ------ (1) Mean price by product type\n",
    "cat(\"Mean prices by product type (in array): \")\n",
    "(mean_prices_array <- tapply(price, type, mean))\n",
    "\n",
    "# class of the mean\n",
    "class(mean_prices_array)\n",
    "# you can access elements with []\n",
    "mean_prices_array[2]\n",
    "\n",
    "# ------ (2) Mean price by product type: \n",
    "# simplify = FALSE: returns a list instead of array\n",
    "cat(\"Mean prices by product type (in list): \")\n",
    "(mean_prices_list <- tapply(price, type, mean, simplify = FALSE))\n",
    "\n",
    "# ------ (3) if there are missing values, can use \"na.rm = NA\"\n",
    "\n",
    "# Adding NA values to data frame\n",
    "df[1, 1] <- NA\n",
    "df[2, 3] <- NA\n",
    "\n",
    "# get mean price for each store\n",
    "cat(\"Mean prices for each store: \")\n",
    "tapply(df$price, df$store, mean, na.rm = TRUE)"
   ]
  },
  {
   "cell_type": "code",
   "execution_count": 75,
   "id": "c02cdcb6",
   "metadata": {},
   "outputs": [
    {
     "name": "stdout",
     "output_type": "stream",
     "text": [
      "Default mean price by product type and store: "
     ]
    },
    {
     "data": {
      "text/html": [
       "<table>\n",
       "<thead><tr><th></th><th scope=col>Store 1</th><th scope=col>Store 2</th><th scope=col>Store 3</th><th scope=col>Store 4</th></tr></thead>\n",
       "<tbody>\n",
       "\t<tr><th scope=row>toy</th><td>46      </td><td>31.00000</td><td>49      </td><td>36.66667</td></tr>\n",
       "\t<tr><th scope=row>food</th><td>26      </td><td>30.33333</td><td>39      </td><td>      NA</td></tr>\n",
       "\t<tr><th scope=row>electronics</th><td>50      </td><td>29.00000</td><td>32      </td><td>25.00000</td></tr>\n",
       "\t<tr><th scope=row>drinks</th><td>22      </td><td>40.00000</td><td>20      </td><td>36.00000</td></tr>\n",
       "</tbody>\n",
       "</table>\n"
      ],
      "text/latex": [
       "\\begin{tabular}{r|llll}\n",
       "  & Store 1 & Store 2 & Store 3 & Store 4\\\\\n",
       "\\hline\n",
       "\ttoy & 46       & 31.00000 & 49       & 36.66667\\\\\n",
       "\tfood & 26       & 30.33333 & 39       &       NA\\\\\n",
       "\telectronics & 50       & 29.00000 & 32       & 25.00000\\\\\n",
       "\tdrinks & 22       & 40.00000 & 20       & 36.00000\\\\\n",
       "\\end{tabular}\n"
      ],
      "text/markdown": [
       "\n",
       "| <!--/--> | Store 1 | Store 2 | Store 3 | Store 4 |\n",
       "|---|---|---|---|---|\n",
       "| toy | 46       | 31.00000 | 49       | 36.66667 |\n",
       "| food | 26       | 30.33333 | 39       |       NA |\n",
       "| electronics | 50       | 29.00000 | 32       | 25.00000 |\n",
       "| drinks | 22       | 40.00000 | 20       | 36.00000 |\n",
       "\n"
      ],
      "text/plain": [
       "            Store 1 Store 2  Store 3 Store 4 \n",
       "toy         46      31.00000 49      36.66667\n",
       "food        26      30.33333 39            NA\n",
       "electronics 50      29.00000 32      25.00000\n",
       "drinks      22      40.00000 20      36.00000"
      ]
     },
     "metadata": {},
     "output_type": "display_data"
    },
    {
     "name": "stdout",
     "output_type": "stream",
     "text": [
      "Mean price by product type and store, missing = 0: "
     ]
    },
    {
     "data": {
      "text/html": [
       "<table>\n",
       "<thead><tr><th></th><th scope=col>Store 1</th><th scope=col>Store 2</th><th scope=col>Store 3</th><th scope=col>Store 4</th></tr></thead>\n",
       "<tbody>\n",
       "\t<tr><th scope=row>toy</th><td>46      </td><td>31.00000</td><td>49      </td><td>36.66667</td></tr>\n",
       "\t<tr><th scope=row>food</th><td>26      </td><td>30.33333</td><td>39      </td><td> 0.00000</td></tr>\n",
       "\t<tr><th scope=row>electronics</th><td>50      </td><td>29.00000</td><td>32      </td><td>25.00000</td></tr>\n",
       "\t<tr><th scope=row>drinks</th><td>22      </td><td>40.00000</td><td>20      </td><td>36.00000</td></tr>\n",
       "</tbody>\n",
       "</table>\n"
      ],
      "text/latex": [
       "\\begin{tabular}{r|llll}\n",
       "  & Store 1 & Store 2 & Store 3 & Store 4\\\\\n",
       "\\hline\n",
       "\ttoy & 46       & 31.00000 & 49       & 36.66667\\\\\n",
       "\tfood & 26       & 30.33333 & 39       &  0.00000\\\\\n",
       "\telectronics & 50       & 29.00000 & 32       & 25.00000\\\\\n",
       "\tdrinks & 22       & 40.00000 & 20       & 36.00000\\\\\n",
       "\\end{tabular}\n"
      ],
      "text/markdown": [
       "\n",
       "| <!--/--> | Store 1 | Store 2 | Store 3 | Store 4 |\n",
       "|---|---|---|---|---|\n",
       "| toy | 46       | 31.00000 | 49       | 36.66667 |\n",
       "| food | 26       | 30.33333 | 39       |  0.00000 |\n",
       "| electronics | 50       | 29.00000 | 32       | 25.00000 |\n",
       "| drinks | 22       | 40.00000 | 20       | 36.00000 |\n",
       "\n"
      ],
      "text/plain": [
       "            Store 1 Store 2  Store 3 Store 4 \n",
       "toy         46      31.00000 49      36.66667\n",
       "food        26      30.33333 39       0.00000\n",
       "electronics 50      29.00000 32      25.00000\n",
       "drinks      22      40.00000 20      36.00000"
      ]
     },
     "metadata": {},
     "output_type": "display_data"
    }
   ],
   "source": [
    "# Example: tapply(), multiple factors\n",
    "\n",
    "# ------ (1) Mean price by product type and store\n",
    "cat(\"Default mean price by product type and store: \")\n",
    "tapply(price, list(type, store), mean)\n",
    "\n",
    "# ------ (2) Mean price by product type and store, \n",
    "# changing default argument for NA = 0\n",
    "cat(\"Mean price by product type and store, missing = 0: \")\n",
    "tapply(price, list(type, store), mean, default = 0)"
   ]
  },
  {
   "cell_type": "code",
   "execution_count": 78,
   "id": "0e710e14",
   "metadata": {},
   "outputs": [
    {
     "name": "stdout",
     "output_type": "stream",
     "text": [
      "Mean for every variable grouped by cyl variable: "
     ]
    },
    {
     "data": {
      "text/html": [
       "<table>\n",
       "<thead><tr><th></th><th scope=col>mpg</th><th scope=col>cyl</th><th scope=col>disp</th><th scope=col>hp</th><th scope=col>drat</th><th scope=col>wt</th><th scope=col>qsec</th><th scope=col>vs</th><th scope=col>am</th><th scope=col>gear</th><th scope=col>carb</th></tr></thead>\n",
       "<tbody>\n",
       "\t<tr><th scope=row>4</th><td>26.66364 </td><td>4        </td><td>105.1364 </td><td> 82.63636</td><td>4.070909 </td><td>2.285727 </td><td>19.13727 </td><td>0.9090909</td><td>0.7272727</td><td>4.090909 </td><td>1.545455 </td></tr>\n",
       "\t<tr><th scope=row>6</th><td>19.74286 </td><td>6        </td><td>183.3143 </td><td>122.28571</td><td>3.585714 </td><td>3.117143 </td><td>17.97714 </td><td>0.5714286</td><td>0.4285714</td><td>3.857143 </td><td>3.428571 </td></tr>\n",
       "\t<tr><th scope=row>8</th><td>15.10000 </td><td>8        </td><td>353.1000 </td><td>209.21429</td><td>3.229286 </td><td>3.999214 </td><td>16.77214 </td><td>0.0000000</td><td>0.1428571</td><td>3.285714 </td><td>3.500000 </td></tr>\n",
       "</tbody>\n",
       "</table>\n"
      ],
      "text/latex": [
       "\\begin{tabular}{r|lllllllllll}\n",
       "  & mpg & cyl & disp & hp & drat & wt & qsec & vs & am & gear & carb\\\\\n",
       "\\hline\n",
       "\t4 & 26.66364  & 4         & 105.1364  &  82.63636 & 4.070909  & 2.285727  & 19.13727  & 0.9090909 & 0.7272727 & 4.090909  & 1.545455 \\\\\n",
       "\t6 & 19.74286  & 6         & 183.3143  & 122.28571 & 3.585714  & 3.117143  & 17.97714  & 0.5714286 & 0.4285714 & 3.857143  & 3.428571 \\\\\n",
       "\t8 & 15.10000  & 8         & 353.1000  & 209.21429 & 3.229286  & 3.999214  & 16.77214  & 0.0000000 & 0.1428571 & 3.285714  & 3.500000 \\\\\n",
       "\\end{tabular}\n"
      ],
      "text/markdown": [
       "\n",
       "| <!--/--> | mpg | cyl | disp | hp | drat | wt | qsec | vs | am | gear | carb |\n",
       "|---|---|---|---|---|---|---|---|---|---|---|---|\n",
       "| 4 | 26.66364  | 4         | 105.1364  |  82.63636 | 4.070909  | 2.285727  | 19.13727  | 0.9090909 | 0.7272727 | 4.090909  | 1.545455  |\n",
       "| 6 | 19.74286  | 6         | 183.3143  | 122.28571 | 3.585714  | 3.117143  | 17.97714  | 0.5714286 | 0.4285714 | 3.857143  | 3.428571  |\n",
       "| 8 | 15.10000  | 8         | 353.1000  | 209.21429 | 3.229286  | 3.999214  | 16.77214  | 0.0000000 | 0.1428571 | 3.285714  | 3.500000  |\n",
       "\n"
      ],
      "text/plain": [
       "  mpg      cyl disp     hp        drat     wt       qsec     vs       \n",
       "4 26.66364 4   105.1364  82.63636 4.070909 2.285727 19.13727 0.9090909\n",
       "6 19.74286 6   183.3143 122.28571 3.585714 3.117143 17.97714 0.5714286\n",
       "8 15.10000 8   353.1000 209.21429 3.229286 3.999214 16.77214 0.0000000\n",
       "  am        gear     carb    \n",
       "4 0.7272727 4.090909 1.545455\n",
       "6 0.4285714 3.857143 3.428571\n",
       "8 0.1428571 3.285714 3.500000"
      ]
     },
     "metadata": {},
     "output_type": "display_data"
    }
   ],
   "source": [
    "# Example: tapply: \n",
    "# mean for every variable grouped by a factor variable \n",
    "\n",
    "# ------ (1) mean for every variable grouped by cyl variable \n",
    "cat(\"Mean for every variable grouped by cyl variable: \")\n",
    "apply(mtcars, 2, function(x) tapply(x, mtcars$cyl, mean))"
   ]
  },
  {
   "cell_type": "code",
   "execution_count": 14,
   "id": "f3eade78",
   "metadata": {},
   "outputs": [
    {
     "data": {
      "text/plain": [
       "x\n",
       "a b c d e f g h i j k l m n o p q r s t u v w x y z \n",
       "4 5 1 1 6 6 2 6 2 3 2 3 8 5 4 5 4 3 4 5 3 1 3 3 4 7 "
      ]
     },
     "metadata": {},
     "output_type": "display_data"
    },
    {
     "data": {
      "text/html": [
       "<dl class=dl-horizontal>\n",
       "\t<dt>a</dt>\n",
       "\t\t<dd>4</dd>\n",
       "\t<dt>b</dt>\n",
       "\t\t<dd>5</dd>\n",
       "\t<dt>c</dt>\n",
       "\t\t<dd>1</dd>\n",
       "\t<dt>d</dt>\n",
       "\t\t<dd>1</dd>\n",
       "\t<dt>e</dt>\n",
       "\t\t<dd>6</dd>\n",
       "\t<dt>f</dt>\n",
       "\t\t<dd>6</dd>\n",
       "\t<dt>g</dt>\n",
       "\t\t<dd>2</dd>\n",
       "\t<dt>h</dt>\n",
       "\t\t<dd>6</dd>\n",
       "\t<dt>i</dt>\n",
       "\t\t<dd>2</dd>\n",
       "\t<dt>j</dt>\n",
       "\t\t<dd>3</dd>\n",
       "\t<dt>k</dt>\n",
       "\t\t<dd>2</dd>\n",
       "\t<dt>l</dt>\n",
       "\t\t<dd>3</dd>\n",
       "\t<dt>m</dt>\n",
       "\t\t<dd>8</dd>\n",
       "\t<dt>n</dt>\n",
       "\t\t<dd>5</dd>\n",
       "\t<dt>o</dt>\n",
       "\t\t<dd>4</dd>\n",
       "\t<dt>p</dt>\n",
       "\t\t<dd>5</dd>\n",
       "\t<dt>q</dt>\n",
       "\t\t<dd>4</dd>\n",
       "\t<dt>r</dt>\n",
       "\t\t<dd>3</dd>\n",
       "\t<dt>s</dt>\n",
       "\t\t<dd>4</dd>\n",
       "\t<dt>t</dt>\n",
       "\t\t<dd>5</dd>\n",
       "\t<dt>u</dt>\n",
       "\t\t<dd>3</dd>\n",
       "\t<dt>v</dt>\n",
       "\t\t<dd>1</dd>\n",
       "\t<dt>w</dt>\n",
       "\t\t<dd>3</dd>\n",
       "\t<dt>x</dt>\n",
       "\t\t<dd>3</dd>\n",
       "\t<dt>y</dt>\n",
       "\t\t<dd>4</dd>\n",
       "\t<dt>z</dt>\n",
       "\t\t<dd>7</dd>\n",
       "</dl>\n"
      ],
      "text/latex": [
       "\\begin{description*}\n",
       "\\item[a] 4\n",
       "\\item[b] 5\n",
       "\\item[c] 1\n",
       "\\item[d] 1\n",
       "\\item[e] 6\n",
       "\\item[f] 6\n",
       "\\item[g] 2\n",
       "\\item[h] 6\n",
       "\\item[i] 2\n",
       "\\item[j] 3\n",
       "\\item[k] 2\n",
       "\\item[l] 3\n",
       "\\item[m] 8\n",
       "\\item[n] 5\n",
       "\\item[o] 4\n",
       "\\item[p] 5\n",
       "\\item[q] 4\n",
       "\\item[r] 3\n",
       "\\item[s] 4\n",
       "\\item[t] 5\n",
       "\\item[u] 3\n",
       "\\item[v] 1\n",
       "\\item[w] 3\n",
       "\\item[x] 3\n",
       "\\item[y] 4\n",
       "\\item[z] 7\n",
       "\\end{description*}\n"
      ],
      "text/markdown": [
       "a\n",
       ":   4b\n",
       ":   5c\n",
       ":   1d\n",
       ":   1e\n",
       ":   6f\n",
       ":   6g\n",
       ":   2h\n",
       ":   6i\n",
       ":   2j\n",
       ":   3k\n",
       ":   2l\n",
       ":   3m\n",
       ":   8n\n",
       ":   5o\n",
       ":   4p\n",
       ":   5q\n",
       ":   4r\n",
       ":   3s\n",
       ":   4t\n",
       ":   5u\n",
       ":   3v\n",
       ":   1w\n",
       ":   3x\n",
       ":   3y\n",
       ":   4z\n",
       ":   7\n",
       "\n"
      ],
      "text/plain": [
       "a b c d e f g h i j k l m n o p q r s t u v w x y z \n",
       "4 5 1 1 6 6 2 6 2 3 2 3 8 5 4 5 4 3 4 5 3 1 3 3 4 7 "
      ]
     },
     "metadata": {},
     "output_type": "display_data"
    }
   ],
   "source": [
    "# Why tapply is table apply? \n",
    "# since tapply is the generic form of the table function. \n",
    "\n",
    "# You can see this by comparing the following calls:\n",
    "x <- sample(letters, 100, rep=T)\n",
    "table(x)\n",
    "tapply(x, x, length)"
   ]
  },
  {
   "cell_type": "markdown",
   "id": "ea3753bc",
   "metadata": {},
   "source": [
    "### mapply()\n",
    "(table apply)"
   ]
  },
  {
   "cell_type": "markdown",
   "id": "b89e6229",
   "metadata": {},
   "source": [
    "1. mapply() input: a vector, or a list. <br>\n",
    "mapply() output: a vector, or a list.<br><br>\n",
    "\n",
    "2. Basic syntax: `mapply(FUN, …, MoreArgs = NULL, SIMPLIFY = TRUE, USE.NAMES = TRUE)`<br><br>\n",
    "FUN is a function to apply.<br>\n",
    "…: for any other arguments to be passed to the function.<br>\n",
    "MoreArgs: a list of other arguments to FUN.<br><br>\n",
    "simplify = TRUE: a logical value: <br>\n",
    "should the result be simplified to a vector or matrix if possible?<br><br>\n",
    "USE.NAMES = TRUE: logical:<br>\n",
    "if TRUE and if X is character, use X as names for the result unless it had names already.<br><br>\n",
    "\n",
    "3. When to use mapply()?  <br>\n",
    "mapply() is a multivariate apply of sorts which applies a function in parallel over a set of arguments. <br><br>\n",
    "(1) lapply()iterate over a single R object. If you want to iterate over multiple R objects in parallel, then mapply() is the function for you. <br>\n",
    "(2) mapply gives us a way to call a non-vectorized function in a vectorized way. It is a multivariate version of sapply. mapply applies FUN to the first elements of each … argument, the second elements, the third elements, and so on. Arguments are recycled if necessary."
   ]
  },
  {
   "cell_type": "code",
   "execution_count": 5,
   "id": "0ac73614",
   "metadata": {},
   "outputs": [
    {
     "name": "stdout",
     "output_type": "stream",
     "text": [
      "Method 1: use list: "
     ]
    },
    {
     "data": {
      "text/html": [
       "<ol>\n",
       "\t<li><ol class=list-inline>\n",
       "\t<li>1</li>\n",
       "\t<li>1</li>\n",
       "\t<li>1</li>\n",
       "\t<li>1</li>\n",
       "</ol>\n",
       "</li>\n",
       "\t<li><ol class=list-inline>\n",
       "\t<li>2</li>\n",
       "\t<li>2</li>\n",
       "\t<li>2</li>\n",
       "</ol>\n",
       "</li>\n",
       "\t<li><ol class=list-inline>\n",
       "\t<li>3</li>\n",
       "\t<li>3</li>\n",
       "</ol>\n",
       "</li>\n",
       "\t<li>4</li>\n",
       "</ol>\n"
      ],
      "text/latex": [
       "\\begin{enumerate}\n",
       "\\item \\begin{enumerate*}\n",
       "\\item 1\n",
       "\\item 1\n",
       "\\item 1\n",
       "\\item 1\n",
       "\\end{enumerate*}\n",
       "\n",
       "\\item \\begin{enumerate*}\n",
       "\\item 2\n",
       "\\item 2\n",
       "\\item 2\n",
       "\\end{enumerate*}\n",
       "\n",
       "\\item \\begin{enumerate*}\n",
       "\\item 3\n",
       "\\item 3\n",
       "\\end{enumerate*}\n",
       "\n",
       "\\item 4\n",
       "\\end{enumerate}\n"
      ],
      "text/markdown": [
       "1. 1. 1\n",
       "2. 1\n",
       "3. 1\n",
       "4. 1\n",
       "\n",
       "\n",
       "\n",
       "2. 1. 2\n",
       "2. 2\n",
       "3. 2\n",
       "\n",
       "\n",
       "\n",
       "3. 1. 3\n",
       "2. 3\n",
       "\n",
       "\n",
       "\n",
       "4. 4\n",
       "\n",
       "\n"
      ],
      "text/plain": [
       "[[1]]\n",
       "[1] 1 1 1 1\n",
       "\n",
       "[[2]]\n",
       "[1] 2 2 2\n",
       "\n",
       "[[3]]\n",
       "[1] 3 3\n",
       "\n",
       "[[4]]\n",
       "[1] 4\n"
      ]
     },
     "metadata": {},
     "output_type": "display_data"
    },
    {
     "name": "stdout",
     "output_type": "stream",
     "text": [
      "Method 1: use mapply(): "
     ]
    },
    {
     "data": {
      "text/html": [
       "<ol>\n",
       "\t<li><ol class=list-inline>\n",
       "\t<li>1</li>\n",
       "\t<li>1</li>\n",
       "\t<li>1</li>\n",
       "\t<li>1</li>\n",
       "</ol>\n",
       "</li>\n",
       "\t<li><ol class=list-inline>\n",
       "\t<li>2</li>\n",
       "\t<li>2</li>\n",
       "\t<li>2</li>\n",
       "</ol>\n",
       "</li>\n",
       "\t<li><ol class=list-inline>\n",
       "\t<li>3</li>\n",
       "\t<li>3</li>\n",
       "</ol>\n",
       "</li>\n",
       "\t<li>4</li>\n",
       "</ol>\n"
      ],
      "text/latex": [
       "\\begin{enumerate}\n",
       "\\item \\begin{enumerate*}\n",
       "\\item 1\n",
       "\\item 1\n",
       "\\item 1\n",
       "\\item 1\n",
       "\\end{enumerate*}\n",
       "\n",
       "\\item \\begin{enumerate*}\n",
       "\\item 2\n",
       "\\item 2\n",
       "\\item 2\n",
       "\\end{enumerate*}\n",
       "\n",
       "\\item \\begin{enumerate*}\n",
       "\\item 3\n",
       "\\item 3\n",
       "\\end{enumerate*}\n",
       "\n",
       "\\item 4\n",
       "\\end{enumerate}\n"
      ],
      "text/markdown": [
       "1. 1. 1\n",
       "2. 1\n",
       "3. 1\n",
       "4. 1\n",
       "\n",
       "\n",
       "\n",
       "2. 1. 2\n",
       "2. 2\n",
       "3. 2\n",
       "\n",
       "\n",
       "\n",
       "3. 1. 3\n",
       "2. 3\n",
       "\n",
       "\n",
       "\n",
       "4. 4\n",
       "\n",
       "\n"
      ],
      "text/plain": [
       "[[1]]\n",
       "[1] 1 1 1 1\n",
       "\n",
       "[[2]]\n",
       "[1] 2 2 2\n",
       "\n",
       "[[3]]\n",
       "[1] 3 3\n",
       "\n",
       "[[4]]\n",
       "[1] 4\n"
      ]
     },
     "metadata": {},
     "output_type": "display_data"
    }
   ],
   "source": [
    "# Example: mapply)()\n",
    "\n",
    "# replicate 1:5, with 5:1 times \n",
    "\n",
    "# method 1: use list \n",
    "cat(\"Method 1: use list: \")\n",
    "list(rep(1, 4), rep(2, 3), rep(3, 2), rep(4, 1))\n",
    "\n",
    "\n",
    "# method 2: use mapply()\n",
    "cat(\"Method 1: use mapply(): \")\n",
    "mapply(rep, 1:4, 4:1)"
   ]
  },
  {
   "cell_type": "code",
   "execution_count": 6,
   "id": "47d66b1b",
   "metadata": {},
   "outputs": [
    {
     "data": {
      "text/html": [
       "<ol>\n",
       "\t<li>-0.252907621484665</li>\n",
       "\t<li><ol class=list-inline>\n",
       "\t<li>2.36728664844416</li>\n",
       "\t<li>0.328742775179906</li>\n",
       "</ol>\n",
       "</li>\n",
       "\t<li><ol class=list-inline>\n",
       "\t<li>6.19056160427558</li>\n",
       "\t<li>3.65901554363072</li>\n",
       "\t<li>1.35906323176397</li>\n",
       "</ol>\n",
       "</li>\n",
       "\t<li><ol class=list-inline>\n",
       "\t<li>4.97485810485697</li>\n",
       "\t<li>5.47664941025843</li>\n",
       "\t<li>5.15156270330698</li>\n",
       "\t<li>3.38922322568729</li>\n",
       "</ol>\n",
       "</li>\n",
       "\t<li><ol class=list-inline>\n",
       "\t<li>8.0235623369017</li>\n",
       "\t<li>5.77968647282286</li>\n",
       "\t<li>3.75751883891639</li>\n",
       "\t<li>0.570600225645</li>\n",
       "\t<li>7.24986183628622</li>\n",
       "</ol>\n",
       "</li>\n",
       "</ol>\n"
      ],
      "text/latex": [
       "\\begin{enumerate}\n",
       "\\item -0.252907621484665\n",
       "\\item \\begin{enumerate*}\n",
       "\\item 2.36728664844416\n",
       "\\item 0.328742775179906\n",
       "\\end{enumerate*}\n",
       "\n",
       "\\item \\begin{enumerate*}\n",
       "\\item 6.19056160427558\n",
       "\\item 3.65901554363072\n",
       "\\item 1.35906323176397\n",
       "\\end{enumerate*}\n",
       "\n",
       "\\item \\begin{enumerate*}\n",
       "\\item 4.97485810485697\n",
       "\\item 5.47664941025843\n",
       "\\item 5.15156270330698\n",
       "\\item 3.38922322568729\n",
       "\\end{enumerate*}\n",
       "\n",
       "\\item \\begin{enumerate*}\n",
       "\\item 8.0235623369017\n",
       "\\item 5.77968647282286\n",
       "\\item 3.75751883891639\n",
       "\\item 0.570600225645\n",
       "\\item 7.24986183628622\n",
       "\\end{enumerate*}\n",
       "\n",
       "\\end{enumerate}\n"
      ],
      "text/markdown": [
       "1. -0.252907621484665\n",
       "2. 1. 2.36728664844416\n",
       "2. 0.328742775179906\n",
       "\n",
       "\n",
       "\n",
       "3. 1. 6.19056160427558\n",
       "2. 3.65901554363072\n",
       "3. 1.35906323176397\n",
       "\n",
       "\n",
       "\n",
       "4. 1. 4.97485810485697\n",
       "2. 5.47664941025843\n",
       "3. 5.15156270330698\n",
       "4. 3.38922322568729\n",
       "\n",
       "\n",
       "\n",
       "5. 1. 8.0235623369017\n",
       "2. 5.77968647282286\n",
       "3. 3.75751883891639\n",
       "4. 0.570600225645\n",
       "5. 7.24986183628622\n",
       "\n",
       "\n",
       "\n",
       "\n",
       "\n"
      ],
      "text/plain": [
       "[[1]]\n",
       "[1] -0.2529076\n",
       "\n",
       "[[2]]\n",
       "[1] 2.3672866 0.3287428\n",
       "\n",
       "[[3]]\n",
       "[1] 6.190562 3.659016 1.359063\n",
       "\n",
       "[[4]]\n",
       "[1] 4.974858 5.476649 5.151563 3.389223\n",
       "\n",
       "[[5]]\n",
       "[1] 8.0235623 5.7796865 3.7575188 0.5706002 7.2498618\n"
      ]
     },
     "metadata": {},
     "output_type": "display_data"
    }
   ],
   "source": [
    "# Example 2: \n",
    "\n",
    "set.seed(1)\n",
    "\n",
    "# create function\n",
    "noise <- function(n, mean, std) {\n",
    "rnorm(n, mean, std)\n",
    "}\n",
    "\n",
    "mapply(noise, 1:5, 1:5, 2)"
   ]
  },
  {
   "cell_type": "code",
   "execution_count": 8,
   "id": "ac9c537c",
   "metadata": {},
   "outputs": [
    {
     "data": {
      "text/html": [
       "<dl class=dl-horizontal>\n",
       "\t<dt>a</dt>\n",
       "\t\t<dd>21</dd>\n",
       "\t<dt>b</dt>\n",
       "\t\t<dd>15</dd>\n",
       "\t<dt>c</dt>\n",
       "\t\t<dd>18</dd>\n",
       "</dl>\n"
      ],
      "text/latex": [
       "\\begin{description*}\n",
       "\\item[a] 21\n",
       "\\item[b] 15\n",
       "\\item[c] 18\n",
       "\\end{description*}\n"
      ],
      "text/markdown": [
       "a\n",
       ":   21b\n",
       ":   15c\n",
       ":   18\n",
       "\n"
      ],
      "text/plain": [
       " a  b  c \n",
       "21 15 18 "
      ]
     },
     "metadata": {},
     "output_type": "display_data"
    }
   ],
   "source": [
    "# Example: mapply\n",
    "\n",
    "# create lists \n",
    "values1 <- list(a = c(1, 21, 3), b = c(4, 5, 6), c = c(7, 8, 9))\n",
    "values2 <- list(a = c(10, 11, 12), b = c(13, 14, 15), c = c(16, 17, 18)) \n",
    "\n",
    "# mapply: find max value from each sub-lists parallelly\n",
    "mapply(function(num1, num2) max(c(num1, num2)), values1, values2)"
   ]
  },
  {
   "cell_type": "markdown",
   "id": "b73ca0c3",
   "metadata": {},
   "source": [
    "### rapply()\n",
    "(recursive apply)"
   ]
  },
  {
   "cell_type": "markdown",
   "id": "89ca17e9",
   "metadata": {},
   "source": [
    "1. rapply() input: a vector, or a list. <br>\n",
    "rapply() output: a vector, or a list.<br><br>\n",
    "\n",
    "2. Basic syntax: `rapply(object, f, classes = \"ANY\", deflt = NULL, how = c(\"unlist\", \"replace\", \"list\"), ...)`<br><br>\n",
    "object: a list or expression, i.e., “list-like”.<br>\n",
    "a function of one “principal” argument, passing further arguments via … <br><br>\n",
    "classes = \"ANY\": character vector of class names, or \"ANY\" to match any class.<br>\n",
    "deflt = NULL: The default result (not used if how = \"replace\").\n",
    "how = c(\"unlist\", \"replace\", \"list\"): If how = \"unlist\", a vector, otherwise “list-like” of similar structure as object. If how = \"replace\", each element of object which is not itself list-like and has a class included in classes is replaced by the result of applying f to the element.\n",
    "\n",
    "3. When to use rapply()?  <br>\n"
   ]
  },
  {
   "cell_type": "code",
   "execution_count": 26,
   "id": "923ef524",
   "metadata": {},
   "outputs": [
    {
     "name": "stdout",
     "output_type": "stream",
     "text": [
      "rapply(), how = 'replace': "
     ]
    },
    {
     "data": {
      "text/html": [
       "<dl>\n",
       "\t<dt>[[1]]</dt>\n",
       "\t\t<dd><dl>\n",
       "\t<dt>$a</dt>\n",
       "\t\t<dd>1.77245385090552</dd>\n",
       "\t<dt>$b</dt>\n",
       "\t\t<dd><strong>$c</strong> = 1</dd>\n",
       "</dl>\n",
       "</dd>\n",
       "\t<dt>$d</dt>\n",
       "\t\t<dd>'a test'</dd>\n",
       "</dl>\n"
      ],
      "text/latex": [
       "\\begin{description}\n",
       "\\item[{[[1]]}] \\begin{description}\n",
       "\\item[\\$a] 1.77245385090552\n",
       "\\item[\\$b] \\textbf{\\$c} = 1\n",
       "\\end{description}\n",
       "\n",
       "\\item[\\$d] 'a test'\n",
       "\\end{description}\n"
      ],
      "text/markdown": [
       "[[1]]\n",
       ":   $a\n",
       ":   1.77245385090552\n",
       "$b\n",
       ":   **$c** = 1\n",
       "\n",
       "\n",
       "\n",
       "$d\n",
       ":   'a test'\n",
       "\n",
       "\n"
      ],
      "text/plain": [
       "[[1]]\n",
       "[[1]]$a\n",
       "[1] 1.772454\n",
       "\n",
       "[[1]]$b\n",
       "[[1]]$b$c\n",
       "[1] 1\n",
       "\n",
       "\n",
       "\n",
       "$d\n",
       "[1] \"a test\"\n"
      ]
     },
     "metadata": {},
     "output_type": "display_data"
    },
    {
     "name": "stdout",
     "output_type": "stream",
     "text": [
      "rapply(), how = 'unlist': "
     ]
    },
    {
     "data": {
      "text/html": [
       "<strong>a:</strong> 1.77245385090552"
      ],
      "text/latex": [
       "\\textbf{a:} 1.77245385090552"
      ],
      "text/markdown": [
       "**a:** 1.77245385090552"
      ],
      "text/plain": [
       "       a \n",
       "1.772454 "
      ]
     },
     "metadata": {},
     "output_type": "display_data"
    },
    {
     "name": "stdout",
     "output_type": "stream",
     "text": [
      "rapply(), how = 'list': "
     ]
    },
    {
     "data": {
      "text/html": [
       "<dl>\n",
       "\t<dt>[[1]]</dt>\n",
       "\t\t<dd><dl>\n",
       "\t<dt>$a</dt>\n",
       "\t\t<dd>1.77245385090552</dd>\n",
       "\t<dt>$b</dt>\n",
       "\t\t<dd>NA</dd>\n",
       "</dl>\n",
       "</dd>\n",
       "\t<dt>$d</dt>\n",
       "\t\t<dd>NULL</dd>\n",
       "</dl>\n"
      ],
      "text/latex": [
       "\\begin{description}\n",
       "\\item[{[[1]]}] \\begin{description}\n",
       "\\item[\\$a] 1.77245385090552\n",
       "\\item[\\$b] NA\n",
       "\\end{description}\n",
       "\n",
       "\\item[\\$d] NULL\n",
       "\\end{description}\n"
      ],
      "text/markdown": [
       "[[1]]\n",
       ":   $a\n",
       ":   1.77245385090552\n",
       "$b\n",
       ":   NA\n",
       "\n",
       "\n",
       "\n",
       "$d\n",
       ":   NULL\n",
       "\n",
       "\n"
      ],
      "text/plain": [
       "[[1]]\n",
       "[[1]]$a\n",
       "[1] 1.772454\n",
       "\n",
       "[[1]]$b\n",
       "[[1]]$b$c\n",
       "NULL\n",
       "\n",
       "\n",
       "\n",
       "$d\n",
       "NULL\n"
      ]
     },
     "metadata": {},
     "output_type": "display_data"
    }
   ],
   "source": [
    "# Example 1: rapply()\n",
    "\n",
    "# create list \n",
    "X <- list(list(a = pi, b = list(c = 1L)), d = \"a test\")\n",
    "\n",
    "# ------ (1) rapply\n",
    "cat(\"rapply(), how = 'replace': \")\n",
    "rapply(X, sqrt, classes = \"numeric\", how = \"replace\")\n",
    "\n",
    "# ------ (2) rapply\n",
    "cat(\"rapply(), how = 'unlist': \")\n",
    "rapply(X, sqrt, classes = \"numeric\", how = \"unlist\")\n",
    "\n",
    "# ------ (3) rapply\n",
    "cat(\"rapply(), how = 'list': \")\n",
    "rapply(X, sqrt, classes = \"numeric\", how = \"list\")"
   ]
  },
  {
   "cell_type": "code",
   "execution_count": 24,
   "id": "141b276d",
   "metadata": {},
   "outputs": [
    {
     "data": {
      "text/html": [
       "<ol class=list-inline>\n",
       "\t<li>1</li>\n",
       "\t<li>4</li>\n",
       "\t<li>9</li>\n",
       "\t<li>16</li>\n",
       "</ol>\n"
      ],
      "text/latex": [
       "\\begin{enumerate*}\n",
       "\\item 1\n",
       "\\item 4\n",
       "\\item 9\n",
       "\\item 16\n",
       "\\end{enumerate*}\n"
      ],
      "text/markdown": [
       "1. 1\n",
       "2. 4\n",
       "3. 9\n",
       "4. 16\n",
       "\n",
       "\n"
      ],
      "text/plain": [
       "[1]  1  4  9 16"
      ]
     },
     "metadata": {},
     "output_type": "display_data"
    }
   ],
   "source": [
    "# Example 2: rapply()\n",
    "\n",
    "# create list \n",
    "x=list(1,2,3,4,\"a\")\n",
    "\n",
    "# rapply()\n",
    "# it skips character element\n",
    "rapply(x, function(x) x ^ 2, class = c(\"numeric\"))"
   ]
  },
  {
   "cell_type": "code",
   "execution_count": 21,
   "id": "43ffcf54",
   "metadata": {},
   "outputs": [
    {
     "name": "stdout",
     "output_type": "stream",
     "text": [
      "apply(), sapply(), vapply() return vectors: "
     ]
    },
    {
     "data": {
      "text/html": [
       "<dl class=dl-horizontal>\n",
       "\t<dt>mpg</dt>\n",
       "\t\t<dd>20.090625</dd>\n",
       "\t<dt>cyl</dt>\n",
       "\t\t<dd>6.1875</dd>\n",
       "\t<dt>disp</dt>\n",
       "\t\t<dd>230.721875</dd>\n",
       "\t<dt>hp</dt>\n",
       "\t\t<dd>146.6875</dd>\n",
       "\t<dt>drat</dt>\n",
       "\t\t<dd>3.5965625</dd>\n",
       "\t<dt>wt</dt>\n",
       "\t\t<dd>3.21725</dd>\n",
       "\t<dt>qsec</dt>\n",
       "\t\t<dd>17.84875</dd>\n",
       "\t<dt>vs</dt>\n",
       "\t\t<dd>0.4375</dd>\n",
       "\t<dt>am</dt>\n",
       "\t\t<dd>0.40625</dd>\n",
       "\t<dt>gear</dt>\n",
       "\t\t<dd>3.6875</dd>\n",
       "\t<dt>carb</dt>\n",
       "\t\t<dd>2.8125</dd>\n",
       "</dl>\n"
      ],
      "text/latex": [
       "\\begin{description*}\n",
       "\\item[mpg] 20.090625\n",
       "\\item[cyl] 6.1875\n",
       "\\item[disp] 230.721875\n",
       "\\item[hp] 146.6875\n",
       "\\item[drat] 3.5965625\n",
       "\\item[wt] 3.21725\n",
       "\\item[qsec] 17.84875\n",
       "\\item[vs] 0.4375\n",
       "\\item[am] 0.40625\n",
       "\\item[gear] 3.6875\n",
       "\\item[carb] 2.8125\n",
       "\\end{description*}\n"
      ],
      "text/markdown": [
       "mpg\n",
       ":   20.090625cyl\n",
       ":   6.1875disp\n",
       ":   230.721875hp\n",
       ":   146.6875drat\n",
       ":   3.5965625wt\n",
       ":   3.21725qsec\n",
       ":   17.84875vs\n",
       ":   0.4375am\n",
       ":   0.40625gear\n",
       ":   3.6875carb\n",
       ":   2.8125\n",
       "\n"
      ],
      "text/plain": [
       "       mpg        cyl       disp         hp       drat         wt       qsec \n",
       " 20.090625   6.187500 230.721875 146.687500   3.596563   3.217250  17.848750 \n",
       "        vs         am       gear       carb \n",
       "  0.437500   0.406250   3.687500   2.812500 "
      ]
     },
     "metadata": {},
     "output_type": "display_data"
    },
    {
     "name": "stdout",
     "output_type": "stream",
     "text": [
      "lapply() returns a list: "
     ]
    },
    {
     "data": {
      "text/html": [
       "<dl>\n",
       "\t<dt>$mpg</dt>\n",
       "\t\t<dd>20.090625</dd>\n",
       "\t<dt>$cyl</dt>\n",
       "\t\t<dd>6.1875</dd>\n",
       "\t<dt>$disp</dt>\n",
       "\t\t<dd>230.721875</dd>\n",
       "\t<dt>$hp</dt>\n",
       "\t\t<dd>146.6875</dd>\n",
       "\t<dt>$drat</dt>\n",
       "\t\t<dd>3.5965625</dd>\n",
       "\t<dt>$wt</dt>\n",
       "\t\t<dd>3.21725</dd>\n",
       "\t<dt>$qsec</dt>\n",
       "\t\t<dd>17.84875</dd>\n",
       "\t<dt>$vs</dt>\n",
       "\t\t<dd>0.4375</dd>\n",
       "\t<dt>$am</dt>\n",
       "\t\t<dd>0.40625</dd>\n",
       "\t<dt>$gear</dt>\n",
       "\t\t<dd>3.6875</dd>\n",
       "\t<dt>$carb</dt>\n",
       "\t\t<dd>2.8125</dd>\n",
       "</dl>\n"
      ],
      "text/latex": [
       "\\begin{description}\n",
       "\\item[\\$mpg] 20.090625\n",
       "\\item[\\$cyl] 6.1875\n",
       "\\item[\\$disp] 230.721875\n",
       "\\item[\\$hp] 146.6875\n",
       "\\item[\\$drat] 3.5965625\n",
       "\\item[\\$wt] 3.21725\n",
       "\\item[\\$qsec] 17.84875\n",
       "\\item[\\$vs] 0.4375\n",
       "\\item[\\$am] 0.40625\n",
       "\\item[\\$gear] 3.6875\n",
       "\\item[\\$carb] 2.8125\n",
       "\\end{description}\n"
      ],
      "text/markdown": [
       "$mpg\n",
       ":   20.090625\n",
       "$cyl\n",
       ":   6.1875\n",
       "$disp\n",
       ":   230.721875\n",
       "$hp\n",
       ":   146.6875\n",
       "$drat\n",
       ":   3.5965625\n",
       "$wt\n",
       ":   3.21725\n",
       "$qsec\n",
       ":   17.84875\n",
       "$vs\n",
       ":   0.4375\n",
       "$am\n",
       ":   0.40625\n",
       "$gear\n",
       ":   3.6875\n",
       "$carb\n",
       ":   2.8125\n",
       "\n",
       "\n"
      ],
      "text/plain": [
       "$mpg\n",
       "[1] 20.09062\n",
       "\n",
       "$cyl\n",
       "[1] 6.1875\n",
       "\n",
       "$disp\n",
       "[1] 230.7219\n",
       "\n",
       "$hp\n",
       "[1] 146.6875\n",
       "\n",
       "$drat\n",
       "[1] 3.596563\n",
       "\n",
       "$wt\n",
       "[1] 3.21725\n",
       "\n",
       "$qsec\n",
       "[1] 17.84875\n",
       "\n",
       "$vs\n",
       "[1] 0.4375\n",
       "\n",
       "$am\n",
       "[1] 0.40625\n",
       "\n",
       "$gear\n",
       "[1] 3.6875\n",
       "\n",
       "$carb\n",
       "[1] 2.8125\n"
      ]
     },
     "metadata": {},
     "output_type": "display_data"
    }
   ],
   "source": [
    "# compare different apply() variants\n",
    "\n",
    "# compare apply(), lapply(), sapply(), vapply()\n",
    "\n",
    "# ------ (1) apply()\n",
    "# output: vector \n",
    "# note: need addtional argument \"1\" to specify row and \"2\" to specify column\n",
    "cat(\"apply(), sapply(), vapply() return vectors: \")\n",
    "apply(mtcars, 2, mean)\n",
    "\n",
    "# ------ (2) sapply()\n",
    "# returns vector \n",
    "sapply(mtcars, mean)\n",
    "\n",
    "# ------ (3) vapply()\n",
    "# returns vector \n",
    "# note: need additional argument \"numeric(1)\"\n",
    "vapply(mtcars, mean, numeric(1))\n",
    "\n",
    "# ------ (4) lapply()\n",
    "# returns list \n",
    "cat(\"lapply() returns a list: \")\n",
    "lapply(mtcars, mean)"
   ]
  },
  {
   "cell_type": "markdown",
   "id": "e6312ed6",
   "metadata": {},
   "source": [
    "###  Other \"Loop-like\" functions "
   ]
  },
  {
   "cell_type": "markdown",
   "id": "1059d8d8",
   "metadata": {},
   "source": [
    "1. Simplified apply() functions: <br><br>\n",
    "\n",
    "(1) Base R provides: <br>\n",
    "colSums (x, na.rm = FALSE) <br>\n",
    "rowSums (x, na.rm = FALSE) <br>\n",
    "colMeans(x, na.rm = FALSE) <br>\n",
    "rowMeans(x, na.rm = FALSE)<br><br>\n",
    "\n",
    "(2) `miscTools` package gives (for data frames): <br>\n",
    "colMedians()<br>\n",
    "rowMedians()<br><br>\n",
    "\n",
    "(3) `matrixStats` package gives (for matrices): <br>\n",
    "colMedians() and rowMedians()<br>\n",
    "colSds() and rowSds()<br>\n",
    "colVars() and rowVars()<br>\n",
    "colRanges() and rowRanges()<br>\n",
    "colQuantiles() and rowQuantiles()<br>\n",
    "along with several additional summary statistic functions"
   ]
  },
  {
   "cell_type": "code",
   "execution_count": 27,
   "id": "0da47e7d",
   "metadata": {},
   "outputs": [
    {
     "data": {
      "text/html": [
       "<dl class=dl-horizontal>\n",
       "\t<dt>mpg</dt>\n",
       "\t\t<dd>19.2</dd>\n",
       "\t<dt>cyl</dt>\n",
       "\t\t<dd>6</dd>\n",
       "\t<dt>disp</dt>\n",
       "\t\t<dd>196.3</dd>\n",
       "\t<dt>hp</dt>\n",
       "\t\t<dd>123</dd>\n",
       "\t<dt>drat</dt>\n",
       "\t\t<dd>3.695</dd>\n",
       "\t<dt>wt</dt>\n",
       "\t\t<dd>3.325</dd>\n",
       "\t<dt>qsec</dt>\n",
       "\t\t<dd>17.71</dd>\n",
       "\t<dt>vs</dt>\n",
       "\t\t<dd>0</dd>\n",
       "\t<dt>am</dt>\n",
       "\t\t<dd>0</dd>\n",
       "\t<dt>gear</dt>\n",
       "\t\t<dd>4</dd>\n",
       "\t<dt>carb</dt>\n",
       "\t\t<dd>2</dd>\n",
       "</dl>\n"
      ],
      "text/latex": [
       "\\begin{description*}\n",
       "\\item[mpg] 19.2\n",
       "\\item[cyl] 6\n",
       "\\item[disp] 196.3\n",
       "\\item[hp] 123\n",
       "\\item[drat] 3.695\n",
       "\\item[wt] 3.325\n",
       "\\item[qsec] 17.71\n",
       "\\item[vs] 0\n",
       "\\item[am] 0\n",
       "\\item[gear] 4\n",
       "\\item[carb] 2\n",
       "\\end{description*}\n"
      ],
      "text/markdown": [
       "mpg\n",
       ":   19.2cyl\n",
       ":   6disp\n",
       ":   196.3hp\n",
       ":   123drat\n",
       ":   3.695wt\n",
       ":   3.325qsec\n",
       ":   17.71vs\n",
       ":   0am\n",
       ":   0gear\n",
       ":   4carb\n",
       ":   2\n",
       "\n"
      ],
      "text/plain": [
       "    mpg     cyl    disp      hp    drat      wt    qsec      vs      am    gear \n",
       " 19.200   6.000 196.300 123.000   3.695   3.325  17.710   0.000   0.000   4.000 \n",
       "   carb \n",
       "  2.000 "
      ]
     },
     "metadata": {},
     "output_type": "display_data"
    },
    {
     "data": {
      "text/html": [
       "<dl class=dl-horizontal>\n",
       "\t<dt>Mazda RX4</dt>\n",
       "\t\t<dd>4</dd>\n",
       "\t<dt>Mazda RX4 Wag</dt>\n",
       "\t\t<dd>4</dd>\n",
       "\t<dt>Datsun 710</dt>\n",
       "\t\t<dd>4</dd>\n",
       "\t<dt>Hornet 4 Drive</dt>\n",
       "\t\t<dd>3.215</dd>\n",
       "\t<dt>Hornet Sportabout</dt>\n",
       "\t\t<dd>3.44</dd>\n",
       "\t<dt>Valiant</dt>\n",
       "\t\t<dd>3.46</dd>\n",
       "\t<dt>Duster 360</dt>\n",
       "\t\t<dd>4</dd>\n",
       "\t<dt>Merc 240D</dt>\n",
       "\t\t<dd>4</dd>\n",
       "\t<dt>Merc 230</dt>\n",
       "\t\t<dd>4</dd>\n",
       "\t<dt>Merc 280</dt>\n",
       "\t\t<dd>4</dd>\n",
       "\t<dt>Merc 280C</dt>\n",
       "\t\t<dd>4</dd>\n",
       "\t<dt>Merc 450SE</dt>\n",
       "\t\t<dd>4.07</dd>\n",
       "\t<dt>Merc 450SL</dt>\n",
       "\t\t<dd>3.73</dd>\n",
       "\t<dt>Merc 450SLC</dt>\n",
       "\t\t<dd>3.78</dd>\n",
       "\t<dt>Cadillac Fleetwood</dt>\n",
       "\t\t<dd>5.25</dd>\n",
       "\t<dt>Lincoln Continental</dt>\n",
       "\t\t<dd>5.424</dd>\n",
       "\t<dt>Chrysler Imperial</dt>\n",
       "\t\t<dd>5.345</dd>\n",
       "\t<dt>Fiat 128</dt>\n",
       "\t\t<dd>4</dd>\n",
       "\t<dt>Honda Civic</dt>\n",
       "\t\t<dd>4</dd>\n",
       "\t<dt>Toyota Corolla</dt>\n",
       "\t\t<dd>4</dd>\n",
       "\t<dt>Toyota Corona</dt>\n",
       "\t\t<dd>3.7</dd>\n",
       "\t<dt>Dodge Challenger</dt>\n",
       "\t\t<dd>3.52</dd>\n",
       "\t<dt>AMC Javelin</dt>\n",
       "\t\t<dd>3.435</dd>\n",
       "\t<dt>Camaro Z28</dt>\n",
       "\t\t<dd>4</dd>\n",
       "\t<dt>Pontiac Firebird</dt>\n",
       "\t\t<dd>3.845</dd>\n",
       "\t<dt>Fiat X1-9</dt>\n",
       "\t\t<dd>4</dd>\n",
       "\t<dt>Porsche 914-2</dt>\n",
       "\t\t<dd>4.43</dd>\n",
       "\t<dt>Lotus Europa</dt>\n",
       "\t\t<dd>4</dd>\n",
       "\t<dt>Ford Pantera L</dt>\n",
       "\t\t<dd>5</dd>\n",
       "\t<dt>Ferrari Dino</dt>\n",
       "\t\t<dd>6</dd>\n",
       "\t<dt>Maserati Bora</dt>\n",
       "\t\t<dd>8</dd>\n",
       "\t<dt>Volvo 142E</dt>\n",
       "\t\t<dd>4</dd>\n",
       "</dl>\n"
      ],
      "text/latex": [
       "\\begin{description*}\n",
       "\\item[Mazda RX4] 4\n",
       "\\item[Mazda RX4 Wag] 4\n",
       "\\item[Datsun 710] 4\n",
       "\\item[Hornet 4 Drive] 3.215\n",
       "\\item[Hornet Sportabout] 3.44\n",
       "\\item[Valiant] 3.46\n",
       "\\item[Duster 360] 4\n",
       "\\item[Merc 240D] 4\n",
       "\\item[Merc 230] 4\n",
       "\\item[Merc 280] 4\n",
       "\\item[Merc 280C] 4\n",
       "\\item[Merc 450SE] 4.07\n",
       "\\item[Merc 450SL] 3.73\n",
       "\\item[Merc 450SLC] 3.78\n",
       "\\item[Cadillac Fleetwood] 5.25\n",
       "\\item[Lincoln Continental] 5.424\n",
       "\\item[Chrysler Imperial] 5.345\n",
       "\\item[Fiat 128] 4\n",
       "\\item[Honda Civic] 4\n",
       "\\item[Toyota Corolla] 4\n",
       "\\item[Toyota Corona] 3.7\n",
       "\\item[Dodge Challenger] 3.52\n",
       "\\item[AMC Javelin] 3.435\n",
       "\\item[Camaro Z28] 4\n",
       "\\item[Pontiac Firebird] 3.845\n",
       "\\item[Fiat X1-9] 4\n",
       "\\item[Porsche 914-2] 4.43\n",
       "\\item[Lotus Europa] 4\n",
       "\\item[Ford Pantera L] 5\n",
       "\\item[Ferrari Dino] 6\n",
       "\\item[Maserati Bora] 8\n",
       "\\item[Volvo 142E] 4\n",
       "\\end{description*}\n"
      ],
      "text/markdown": [
       "Mazda RX4\n",
       ":   4Mazda RX4 Wag\n",
       ":   4Datsun 710\n",
       ":   4Hornet 4 Drive\n",
       ":   3.215Hornet Sportabout\n",
       ":   3.44Valiant\n",
       ":   3.46Duster 360\n",
       ":   4Merc 240D\n",
       ":   4Merc 230\n",
       ":   4Merc 280\n",
       ":   4Merc 280C\n",
       ":   4Merc 450SE\n",
       ":   4.07Merc 450SL\n",
       ":   3.73Merc 450SLC\n",
       ":   3.78Cadillac Fleetwood\n",
       ":   5.25Lincoln Continental\n",
       ":   5.424Chrysler Imperial\n",
       ":   5.345Fiat 128\n",
       ":   4Honda Civic\n",
       ":   4Toyota Corolla\n",
       ":   4Toyota Corona\n",
       ":   3.7Dodge Challenger\n",
       ":   3.52AMC Javelin\n",
       ":   3.435Camaro Z28\n",
       ":   4Pontiac Firebird\n",
       ":   3.845Fiat X1-9\n",
       ":   4Porsche 914-2\n",
       ":   4.43Lotus Europa\n",
       ":   4Ford Pantera L\n",
       ":   5Ferrari Dino\n",
       ":   6Maserati Bora\n",
       ":   8Volvo 142E\n",
       ":   4\n",
       "\n"
      ],
      "text/plain": [
       "          Mazda RX4       Mazda RX4 Wag          Datsun 710      Hornet 4 Drive \n",
       "              4.000               4.000               4.000               3.215 \n",
       "  Hornet Sportabout             Valiant          Duster 360           Merc 240D \n",
       "              3.440               3.460               4.000               4.000 \n",
       "           Merc 230            Merc 280           Merc 280C          Merc 450SE \n",
       "              4.000               4.000               4.000               4.070 \n",
       "         Merc 450SL         Merc 450SLC  Cadillac Fleetwood Lincoln Continental \n",
       "              3.730               3.780               5.250               5.424 \n",
       "  Chrysler Imperial            Fiat 128         Honda Civic      Toyota Corolla \n",
       "              5.345               4.000               4.000               4.000 \n",
       "      Toyota Corona    Dodge Challenger         AMC Javelin          Camaro Z28 \n",
       "              3.700               3.520               3.435               4.000 \n",
       "   Pontiac Firebird           Fiat X1-9       Porsche 914-2        Lotus Europa \n",
       "              3.845               4.000               4.430               4.000 \n",
       "     Ford Pantera L        Ferrari Dino       Maserati Bora          Volvo 142E \n",
       "              5.000               6.000               8.000               4.000 "
      ]
     },
     "metadata": {},
     "output_type": "display_data"
    }
   ],
   "source": [
    "# Example: `miscTools`\n",
    "\n",
    "# load package \n",
    "library(miscTools)\n",
    "\n",
    "# example\n",
    "colMedians(mtcars)\n",
    "rowMedians(mtcars)"
   ]
  },
  {
   "cell_type": "code",
   "execution_count": 31,
   "id": "4a549446",
   "metadata": {},
   "outputs": [
    {
     "data": {
      "text/html": [
       "<ol class=list-inline>\n",
       "\t<li>2</li>\n",
       "\t<li>5</li>\n",
       "\t<li>8</li>\n",
       "\t<li>11</li>\n",
       "\t<li>14</li>\n",
       "</ol>\n"
      ],
      "text/latex": [
       "\\begin{enumerate*}\n",
       "\\item 2\n",
       "\\item 5\n",
       "\\item 8\n",
       "\\item 11\n",
       "\\item 14\n",
       "\\end{enumerate*}\n"
      ],
      "text/markdown": [
       "1. 2\n",
       "2. 5\n",
       "3. 8\n",
       "4. 11\n",
       "5. 14\n",
       "\n",
       "\n"
      ],
      "text/plain": [
       "[1]  2  5  8 11 14"
      ]
     },
     "metadata": {},
     "output_type": "display_data"
    },
    {
     "data": {
      "text/html": [
       "<ol class=list-inline>\n",
       "\t<li>1</li>\n",
       "\t<li>1</li>\n",
       "\t<li>1</li>\n",
       "\t<li>1</li>\n",
       "\t<li>1</li>\n",
       "</ol>\n"
      ],
      "text/latex": [
       "\\begin{enumerate*}\n",
       "\\item 1\n",
       "\\item 1\n",
       "\\item 1\n",
       "\\item 1\n",
       "\\item 1\n",
       "\\end{enumerate*}\n"
      ],
      "text/markdown": [
       "1. 1\n",
       "2. 1\n",
       "3. 1\n",
       "4. 1\n",
       "5. 1\n",
       "\n",
       "\n"
      ],
      "text/plain": [
       "[1] 1 1 1 1 1"
      ]
     },
     "metadata": {},
     "output_type": "display_data"
    },
    {
     "data": {
      "text/html": [
       "<ol class=list-inline>\n",
       "\t<li>4.74341649025257</li>\n",
       "\t<li>4.74341649025257</li>\n",
       "\t<li>4.74341649025257</li>\n",
       "</ol>\n"
      ],
      "text/latex": [
       "\\begin{enumerate*}\n",
       "\\item 4.74341649025257\n",
       "\\item 4.74341649025257\n",
       "\\item 4.74341649025257\n",
       "\\end{enumerate*}\n"
      ],
      "text/markdown": [
       "1. 4.74341649025257\n",
       "2. 4.74341649025257\n",
       "3. 4.74341649025257\n",
       "\n",
       "\n"
      ],
      "text/plain": [
       "[1] 4.743416 4.743416 4.743416"
      ]
     },
     "metadata": {},
     "output_type": "display_data"
    },
    {
     "data": {
      "text/html": [
       "<ol class=list-inline>\n",
       "\t<li>1</li>\n",
       "\t<li>1</li>\n",
       "\t<li>1</li>\n",
       "\t<li>1</li>\n",
       "\t<li>1</li>\n",
       "</ol>\n"
      ],
      "text/latex": [
       "\\begin{enumerate*}\n",
       "\\item 1\n",
       "\\item 1\n",
       "\\item 1\n",
       "\\item 1\n",
       "\\item 1\n",
       "\\end{enumerate*}\n"
      ],
      "text/markdown": [
       "1. 1\n",
       "2. 1\n",
       "3. 1\n",
       "4. 1\n",
       "5. 1\n",
       "\n",
       "\n"
      ],
      "text/plain": [
       "[1] 1 1 1 1 1"
      ]
     },
     "metadata": {},
     "output_type": "display_data"
    },
    {
     "data": {
      "text/html": [
       "<ol class=list-inline>\n",
       "\t<li>22.5</li>\n",
       "\t<li>22.5</li>\n",
       "\t<li>22.5</li>\n",
       "</ol>\n"
      ],
      "text/latex": [
       "\\begin{enumerate*}\n",
       "\\item 22.5\n",
       "\\item 22.5\n",
       "\\item 22.5\n",
       "\\end{enumerate*}\n"
      ],
      "text/markdown": [
       "1. 22.5\n",
       "2. 22.5\n",
       "3. 22.5\n",
       "\n",
       "\n"
      ],
      "text/plain": [
       "[1] 22.5 22.5 22.5"
      ]
     },
     "metadata": {},
     "output_type": "display_data"
    },
    {
     "data": {
      "text/html": [
       "<table>\n",
       "<tbody>\n",
       "\t<tr><td> 1</td><td> 3</td></tr>\n",
       "\t<tr><td> 4</td><td> 6</td></tr>\n",
       "\t<tr><td> 7</td><td> 9</td></tr>\n",
       "\t<tr><td>10</td><td>12</td></tr>\n",
       "\t<tr><td>13</td><td>15</td></tr>\n",
       "</tbody>\n",
       "</table>\n"
      ],
      "text/latex": [
       "\\begin{tabular}{ll}\n",
       "\t  1 &  3\\\\\n",
       "\t  4 &  6\\\\\n",
       "\t  7 &  9\\\\\n",
       "\t 10 & 12\\\\\n",
       "\t 13 & 15\\\\\n",
       "\\end{tabular}\n"
      ],
      "text/markdown": [
       "\n",
       "|  1 |  3 |\n",
       "|  4 |  6 |\n",
       "|  7 |  9 |\n",
       "| 10 | 12 |\n",
       "| 13 | 15 |\n",
       "\n"
      ],
      "text/plain": [
       "     [,1] [,2]\n",
       "[1,]  1    3  \n",
       "[2,]  4    6  \n",
       "[3,]  7    9  \n",
       "[4,] 10   12  \n",
       "[5,] 13   15  "
      ]
     },
     "metadata": {},
     "output_type": "display_data"
    },
    {
     "data": {
      "text/html": [
       "<table>\n",
       "<tbody>\n",
       "\t<tr><td>1 </td><td>13</td></tr>\n",
       "\t<tr><td>2 </td><td>14</td></tr>\n",
       "\t<tr><td>3 </td><td>15</td></tr>\n",
       "</tbody>\n",
       "</table>\n"
      ],
      "text/latex": [
       "\\begin{tabular}{ll}\n",
       "\t 1  & 13\\\\\n",
       "\t 2  & 14\\\\\n",
       "\t 3  & 15\\\\\n",
       "\\end{tabular}\n"
      ],
      "text/markdown": [
       "\n",
       "| 1  | 13 |\n",
       "| 2  | 14 |\n",
       "| 3  | 15 |\n",
       "\n"
      ],
      "text/plain": [
       "     [,1] [,2]\n",
       "[1,] 1    13  \n",
       "[2,] 2    14  \n",
       "[3,] 3    15  "
      ]
     },
     "metadata": {},
     "output_type": "display_data"
    },
    {
     "data": {
      "text/html": [
       "<table>\n",
       "<thead><tr><th scope=col>0%</th><th scope=col>25%</th><th scope=col>50%</th><th scope=col>75%</th><th scope=col>100%</th></tr></thead>\n",
       "<tbody>\n",
       "\t<tr><td> 1  </td><td> 1.5</td><td> 2  </td><td> 2.5</td><td> 3  </td></tr>\n",
       "\t<tr><td> 4  </td><td> 4.5</td><td> 5  </td><td> 5.5</td><td> 6  </td></tr>\n",
       "\t<tr><td> 7  </td><td> 7.5</td><td> 8  </td><td> 8.5</td><td> 9  </td></tr>\n",
       "\t<tr><td>10  </td><td>10.5</td><td>11  </td><td>11.5</td><td>12  </td></tr>\n",
       "\t<tr><td>13  </td><td>13.5</td><td>14  </td><td>14.5</td><td>15  </td></tr>\n",
       "</tbody>\n",
       "</table>\n"
      ],
      "text/latex": [
       "\\begin{tabular}{lllll}\n",
       " 0\\% & 25\\% & 50\\% & 75\\% & 100\\%\\\\\n",
       "\\hline\n",
       "\t  1   &  1.5 &  2   &  2.5 &  3  \\\\\n",
       "\t  4   &  4.5 &  5   &  5.5 &  6  \\\\\n",
       "\t  7   &  7.5 &  8   &  8.5 &  9  \\\\\n",
       "\t 10   & 10.5 & 11   & 11.5 & 12  \\\\\n",
       "\t 13   & 13.5 & 14   & 14.5 & 15  \\\\\n",
       "\\end{tabular}\n"
      ],
      "text/markdown": [
       "\n",
       "| 0% | 25% | 50% | 75% | 100% |\n",
       "|---|---|---|---|---|\n",
       "|  1   |  1.5 |  2   |  2.5 |  3   |\n",
       "|  4   |  4.5 |  5   |  5.5 |  6   |\n",
       "|  7   |  7.5 |  8   |  8.5 |  9   |\n",
       "| 10   | 10.5 | 11   | 11.5 | 12   |\n",
       "| 13   | 13.5 | 14   | 14.5 | 15   |\n",
       "\n"
      ],
      "text/plain": [
       "     0% 25%  50% 75%  100%\n",
       "[1,]  1  1.5  2   2.5  3  \n",
       "[2,]  4  4.5  5   5.5  6  \n",
       "[3,]  7  7.5  8   8.5  9  \n",
       "[4,] 10 10.5 11  11.5 12  \n",
       "[5,] 13 13.5 14  14.5 15  "
      ]
     },
     "metadata": {},
     "output_type": "display_data"
    },
    {
     "data": {
      "text/html": [
       "<table>\n",
       "<thead><tr><th scope=col>0%</th><th scope=col>25%</th><th scope=col>50%</th><th scope=col>75%</th><th scope=col>100%</th></tr></thead>\n",
       "<tbody>\n",
       "\t<tr><td>1 </td><td>4 </td><td>7 </td><td>10</td><td>13</td></tr>\n",
       "\t<tr><td>2 </td><td>5 </td><td>8 </td><td>11</td><td>14</td></tr>\n",
       "\t<tr><td>3 </td><td>6 </td><td>9 </td><td>12</td><td>15</td></tr>\n",
       "</tbody>\n",
       "</table>\n"
      ],
      "text/latex": [
       "\\begin{tabular}{lllll}\n",
       " 0\\% & 25\\% & 50\\% & 75\\% & 100\\%\\\\\n",
       "\\hline\n",
       "\t 1  & 4  & 7  & 10 & 13\\\\\n",
       "\t 2  & 5  & 8  & 11 & 14\\\\\n",
       "\t 3  & 6  & 9  & 12 & 15\\\\\n",
       "\\end{tabular}\n"
      ],
      "text/markdown": [
       "\n",
       "| 0% | 25% | 50% | 75% | 100% |\n",
       "|---|---|---|---|---|\n",
       "| 1  | 4  | 7  | 10 | 13 |\n",
       "| 2  | 5  | 8  | 11 | 14 |\n",
       "| 3  | 6  | 9  | 12 | 15 |\n",
       "\n"
      ],
      "text/plain": [
       "     0% 25% 50% 75% 100%\n",
       "[1,] 1  4   7   10  13  \n",
       "[2,] 2  5   8   11  14  \n",
       "[3,] 3  6   9   12  15  "
      ]
     },
     "metadata": {},
     "output_type": "display_data"
    },
    {
     "data": {
      "text/html": [
       "<dl class=dl-horizontal>\n",
       "\t<dt>mpg</dt>\n",
       "\t\t<dd>642.9</dd>\n",
       "\t<dt>cyl</dt>\n",
       "\t\t<dd>198</dd>\n",
       "\t<dt>disp</dt>\n",
       "\t\t<dd>7383.1</dd>\n",
       "\t<dt>hp</dt>\n",
       "\t\t<dd>4694</dd>\n",
       "\t<dt>drat</dt>\n",
       "\t\t<dd>115.09</dd>\n",
       "\t<dt>wt</dt>\n",
       "\t\t<dd>102.952</dd>\n",
       "\t<dt>qsec</dt>\n",
       "\t\t<dd>571.16</dd>\n",
       "\t<dt>vs</dt>\n",
       "\t\t<dd>14</dd>\n",
       "\t<dt>am</dt>\n",
       "\t\t<dd>13</dd>\n",
       "\t<dt>gear</dt>\n",
       "\t\t<dd>118</dd>\n",
       "\t<dt>carb</dt>\n",
       "\t\t<dd>90</dd>\n",
       "</dl>\n"
      ],
      "text/latex": [
       "\\begin{description*}\n",
       "\\item[mpg] 642.9\n",
       "\\item[cyl] 198\n",
       "\\item[disp] 7383.1\n",
       "\\item[hp] 4694\n",
       "\\item[drat] 115.09\n",
       "\\item[wt] 102.952\n",
       "\\item[qsec] 571.16\n",
       "\\item[vs] 14\n",
       "\\item[am] 13\n",
       "\\item[gear] 118\n",
       "\\item[carb] 90\n",
       "\\end{description*}\n"
      ],
      "text/markdown": [
       "mpg\n",
       ":   642.9cyl\n",
       ":   198disp\n",
       ":   7383.1hp\n",
       ":   4694drat\n",
       ":   115.09wt\n",
       ":   102.952qsec\n",
       ":   571.16vs\n",
       ":   14am\n",
       ":   13gear\n",
       ":   118carb\n",
       ":   90\n",
       "\n"
      ],
      "text/plain": [
       "     mpg      cyl     disp       hp     drat       wt     qsec       vs \n",
       " 642.900  198.000 7383.100 4694.000  115.090  102.952  571.160   14.000 \n",
       "      am     gear     carb \n",
       "  13.000  118.000   90.000 "
      ]
     },
     "metadata": {},
     "output_type": "display_data"
    },
    {
     "data": {
      "text/html": [
       "<dl class=dl-horizontal>\n",
       "\t<dt>mpg</dt>\n",
       "\t\t<dd>642.9</dd>\n",
       "\t<dt>cyl</dt>\n",
       "\t\t<dd>198</dd>\n",
       "\t<dt>disp</dt>\n",
       "\t\t<dd>7383.1</dd>\n",
       "\t<dt>hp</dt>\n",
       "\t\t<dd>4694</dd>\n",
       "\t<dt>drat</dt>\n",
       "\t\t<dd>115.09</dd>\n",
       "\t<dt>wt</dt>\n",
       "\t\t<dd>102.952</dd>\n",
       "\t<dt>qsec</dt>\n",
       "\t\t<dd>571.16</dd>\n",
       "\t<dt>vs</dt>\n",
       "\t\t<dd>14</dd>\n",
       "\t<dt>am</dt>\n",
       "\t\t<dd>13</dd>\n",
       "\t<dt>gear</dt>\n",
       "\t\t<dd>118</dd>\n",
       "\t<dt>carb</dt>\n",
       "\t\t<dd>90</dd>\n",
       "</dl>\n"
      ],
      "text/latex": [
       "\\begin{description*}\n",
       "\\item[mpg] 642.9\n",
       "\\item[cyl] 198\n",
       "\\item[disp] 7383.1\n",
       "\\item[hp] 4694\n",
       "\\item[drat] 115.09\n",
       "\\item[wt] 102.952\n",
       "\\item[qsec] 571.16\n",
       "\\item[vs] 14\n",
       "\\item[am] 13\n",
       "\\item[gear] 118\n",
       "\\item[carb] 90\n",
       "\\end{description*}\n"
      ],
      "text/markdown": [
       "mpg\n",
       ":   642.9cyl\n",
       ":   198disp\n",
       ":   7383.1hp\n",
       ":   4694drat\n",
       ":   115.09wt\n",
       ":   102.952qsec\n",
       ":   571.16vs\n",
       ":   14am\n",
       ":   13gear\n",
       ":   118carb\n",
       ":   90\n",
       "\n"
      ],
      "text/plain": [
       "     mpg      cyl     disp       hp     drat       wt     qsec       vs \n",
       " 642.900  198.000 7383.100 4694.000  115.090  102.952  571.160   14.000 \n",
       "      am     gear     carb \n",
       "  13.000  118.000   90.000 "
      ]
     },
     "metadata": {},
     "output_type": "display_data"
    }
   ],
   "source": [
    "# Example: `matrixStats`\n",
    "\n",
    "# load package\n",
    "library(matrixStats)\n",
    "\n",
    "# create matrix\n",
    "A <- matrix(1:15, nrow=3, ncol=5)\n",
    "\n",
    "# examples \n",
    "colMedians(A)\n",
    "colSds(A)\n",
    "rowSds(A)\n",
    "colVars(A)\n",
    "rowVars(A)\n",
    "colRanges(A)\n",
    "rowRanges(A)\n",
    "colQuantiles(A)\n",
    "rowQuantiles(A)\n",
    "\n",
    "# calculate column sums \n",
    "# Method 1: colSums() is much faster\n",
    "colSums(mtcars)\n",
    "\n",
    "# Method 2\n",
    "apply(mtcars, 2, sum)"
   ]
  }
 ],
 "metadata": {
  "kernelspec": {
   "display_name": "R",
   "language": "R",
   "name": "ir"
  },
  "language_info": {
   "codemirror_mode": "r",
   "file_extension": ".r",
   "mimetype": "text/x-r-source",
   "name": "R",
   "pygments_lexer": "r",
   "version": "3.6.1"
  },
  "toc": {
   "base_numbering": 1,
   "nav_menu": {},
   "number_sections": true,
   "sideBar": true,
   "skip_h1_title": false,
   "title_cell": "Table of Contents",
   "title_sidebar": "Contents",
   "toc_cell": false,
   "toc_position": {},
   "toc_section_display": true,
   "toc_window_display": false
  },
  "varInspector": {
   "cols": {
    "lenName": 16,
    "lenType": 16,
    "lenVar": 40
   },
   "kernels_config": {
    "python": {
     "delete_cmd_postfix": "",
     "delete_cmd_prefix": "del ",
     "library": "var_list.py",
     "varRefreshCmd": "print(var_dic_list())"
    },
    "r": {
     "delete_cmd_postfix": ") ",
     "delete_cmd_prefix": "rm(",
     "library": "var_list.r",
     "varRefreshCmd": "cat(var_dic_list()) "
    }
   },
   "types_to_exclude": [
    "module",
    "function",
    "builtin_function_or_method",
    "instance",
    "_Feature"
   ],
   "window_display": false
  }
 },
 "nbformat": 4,
 "nbformat_minor": 5
}
