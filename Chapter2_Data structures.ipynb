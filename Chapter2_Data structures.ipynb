{
 "cells": [
  {
   "cell_type": "markdown",
   "id": "55141910",
   "metadata": {},
   "source": [
    "**Introduction**<br>\n",
    "1. R's base data structures can be organized by their dimensionality (1d, 2d, 3d) and whether they're homogeneous (all contents must be of same type) or heterogeneous (contents can be of different types).\n",
    "2. Almost all other objects are built upon these foundations. More complicated objects in Chapter 7 are built of these simple pieces.<br>\n",
    "3. R has no 0-dimensional or scalar types. Individual numbers/strings are actually vectors of length one. \n",
    "4. `str()` gives description of any R data structure."
   ]
  },
  {
   "cell_type": "markdown",
   "id": "a0e2e8d4",
   "metadata": {},
   "source": [
    "Table: Five data types most often used in data analysis\n",
    "<br><br>\n",
    "\n",
    "|     | Homogeneous   | Heterogeneous | \n",
    "| :-: |      :-:      |       :-:     | \n",
    "| 1d  | Atomic vector |       list    |\n",
    "| 2d  | Matrix        |    Data frame |\n",
    "| nd  | Array         |               |   \n",
    "\n",
    "Note: Vectors (including Atomic vector & list) have only rows. Matrix and data frame have both rows and columns. Array has n blocks (each block contain rows and columns)."
   ]
  },
  {
   "cell_type": "markdown",
   "id": "0615ccdd",
   "metadata": {},
   "source": [
    "## Vectors"
   ]
  },
  {
   "cell_type": "markdown",
   "id": "3207e889",
   "metadata": {},
   "source": [
    "1. Vector is the basic data structure in R.<br>\n",
    "Vectors come in 2 flavors: <br>\n",
    "(1) atomic vectors<br>\n",
    "(2) lists \n",
    "2. Atomic vectors and lists have 3 common properties<br>\n",
    "(1) type: `typeof()` what it is<br>\n",
    "(2) length: `length()` how many elements<br>\n",
    "(3) attributes: `attributes()` additonal arbitrary metadata.\n",
    "3. Difference between atomic vectors and lists: <br>\n",
    "(1) all elements of atomic vector must be of same type (homogeneous)<br>\n",
    "(2) elements of a list can have different type (heterogeneous).\n",
    "4. `is.vector()` doesn't test if an object is a vector. It returns TRUE only if the object is a vector with no attributes (except names). <br>\n",
    "Use `is.atomic(x) || is.list(x)` to test if an object is actually a vector.  "
   ]
  },
  {
   "cell_type": "markdown",
   "id": "1c0324d1",
   "metadata": {},
   "source": [
    "### Atomic vectors"
   ]
  },
  {
   "cell_type": "markdown",
   "id": "98f6a49e",
   "metadata": {},
   "source": [
    "1. Four main types of atomic vectors:<br>\n",
    "(1) logical<br>\n",
    "(2) integer<br>\n",
    "(3) double (numeric) <br>\n",
    "(4) character<br>\n",
    "\n",
    "{2 rare types: (5) complex (6) raw}\n",
    "\n",
    "2. Atomic vectors are always flat, even if you nest `c()`\n",
    "3. Missing values are specified with NA, a logical vector of length 1.<br>\n",
    "NA will be coerced to correct type if used inside `c()`, or you can create NAs of specific type with `NA_real_` (a double vector), `NA_integer_`, or `NA_charactor_` (logical is omitted since NA itself is logical)."
   ]
  },
  {
   "cell_type": "code",
   "execution_count": 4,
   "id": "f462da27",
   "metadata": {},
   "outputs": [],
   "source": [
    "# Example 1\n",
    "\n",
    "# double: include both integer & decimals \n",
    "double_var <- c(1, 2.5, 4.5)\n",
    "integer_var <- c(2L, 3L, 5L)\n",
    "logical_var <- c(TRUE, FALSE, T, F, NA)\n",
    "character_var <- c(\"these are\", \"strings\")"
   ]
  },
  {
   "cell_type": "code",
   "execution_count": 5,
   "id": "572ea55e",
   "metadata": {},
   "outputs": [
    {
     "data": {
      "text/html": [
       "<ol class=list-inline>\n",
       "\t<li>1</li>\n",
       "\t<li>2</li>\n",
       "\t<li>3</li>\n",
       "\t<li>4</li>\n",
       "</ol>\n"
      ],
      "text/latex": [
       "\\begin{enumerate*}\n",
       "\\item 1\n",
       "\\item 2\n",
       "\\item 3\n",
       "\\item 4\n",
       "\\end{enumerate*}\n"
      ],
      "text/markdown": [
       "1. 1\n",
       "2. 2\n",
       "3. 3\n",
       "4. 4\n",
       "\n",
       "\n"
      ],
      "text/plain": [
       "[1] 1 2 3 4"
      ]
     },
     "metadata": {},
     "output_type": "display_data"
    },
    {
     "data": {
      "text/html": [
       "<ol class=list-inline>\n",
       "\t<li>1</li>\n",
       "\t<li>2</li>\n",
       "\t<li>3</li>\n",
       "\t<li>4</li>\n",
       "</ol>\n"
      ],
      "text/latex": [
       "\\begin{enumerate*}\n",
       "\\item 1\n",
       "\\item 2\n",
       "\\item 3\n",
       "\\item 4\n",
       "\\end{enumerate*}\n"
      ],
      "text/markdown": [
       "1. 1\n",
       "2. 2\n",
       "3. 3\n",
       "4. 4\n",
       "\n",
       "\n"
      ],
      "text/plain": [
       "[1] 1 2 3 4"
      ]
     },
     "metadata": {},
     "output_type": "display_data"
    }
   ],
   "source": [
    "# Example 2\n",
    "\n",
    "# method 1\n",
    "c(1, c(2, c(3, 4)))\n",
    "\n",
    "# method 2\n",
    "c(1, 2, 3, 4)"
   ]
  },
  {
   "cell_type": "markdown",
   "id": "e8ad37d7",
   "metadata": {},
   "source": [
    "#### Types and tests"
   ]
  },
  {
   "cell_type": "markdown",
   "id": "41409b2d",
   "metadata": {},
   "source": [
    "1. Use `typeof()` to determine a vector's type. <br>\n",
    "Or check if it's a specific type with `is.character()`, `is.double()`, `is.integer()`, `is.logical()`, or more general `is.atomic()`. \n",
    "2. Note `is.numeric()` is TRUE for integer or double vectors.  "
   ]
  },
  {
   "cell_type": "code",
   "execution_count": 6,
   "id": "fdf6d527",
   "metadata": {},
   "outputs": [
    {
     "data": {
      "text/html": [
       "'integer'"
      ],
      "text/latex": [
       "'integer'"
      ],
      "text/markdown": [
       "'integer'"
      ],
      "text/plain": [
       "[1] \"integer\""
      ]
     },
     "metadata": {},
     "output_type": "display_data"
    },
    {
     "data": {
      "text/html": [
       "TRUE"
      ],
      "text/latex": [
       "TRUE"
      ],
      "text/markdown": [
       "TRUE"
      ],
      "text/plain": [
       "[1] TRUE"
      ]
     },
     "metadata": {},
     "output_type": "display_data"
    },
    {
     "data": {
      "text/html": [
       "TRUE"
      ],
      "text/latex": [
       "TRUE"
      ],
      "text/markdown": [
       "TRUE"
      ],
      "text/plain": [
       "[1] TRUE"
      ]
     },
     "metadata": {},
     "output_type": "display_data"
    },
    {
     "data": {
      "text/html": [
       "'double'"
      ],
      "text/latex": [
       "'double'"
      ],
      "text/markdown": [
       "'double'"
      ],
      "text/plain": [
       "[1] \"double\""
      ]
     },
     "metadata": {},
     "output_type": "display_data"
    },
    {
     "data": {
      "text/html": [
       "TRUE"
      ],
      "text/latex": [
       "TRUE"
      ],
      "text/markdown": [
       "TRUE"
      ],
      "text/plain": [
       "[1] TRUE"
      ]
     },
     "metadata": {},
     "output_type": "display_data"
    },
    {
     "data": {
      "text/html": [
       "TRUE"
      ],
      "text/latex": [
       "TRUE"
      ],
      "text/markdown": [
       "TRUE"
      ],
      "text/plain": [
       "[1] TRUE"
      ]
     },
     "metadata": {},
     "output_type": "display_data"
    },
    {
     "data": {
      "text/html": [
       "TRUE"
      ],
      "text/latex": [
       "TRUE"
      ],
      "text/markdown": [
       "TRUE"
      ],
      "text/plain": [
       "[1] TRUE"
      ]
     },
     "metadata": {},
     "output_type": "display_data"
    },
    {
     "data": {
      "text/html": [
       "TRUE"
      ],
      "text/latex": [
       "TRUE"
      ],
      "text/markdown": [
       "TRUE"
      ],
      "text/plain": [
       "[1] TRUE"
      ]
     },
     "metadata": {},
     "output_type": "display_data"
    }
   ],
   "source": [
    "# Example 1\n",
    "\n",
    "# integer\n",
    "typeof(integer_var)\n",
    "is.integer(integer_var)\n",
    "is.atomic(integer_var)\n",
    "\n",
    "# double\n",
    "typeof(double_var)\n",
    "is.double(double_var)\n",
    "is.atomic(double_var)\n",
    "\n",
    "# numeric\n",
    "is.numeric(integer_var)\n",
    "is.numeric(double_var)"
   ]
  },
  {
   "cell_type": "markdown",
   "id": "a7f14ee1",
   "metadata": {},
   "source": [
    "#### Coersion"
   ]
  },
  {
   "cell_type": "markdown",
   "id": "474de127",
   "metadata": {},
   "source": [
    "1. If you combine different types in a vector, they will be coerced to most flexible type.\n",
    "2. Types from least flexible to most flexible are: logical $\\rightarrow$ integer $\\rightarrow$ double $\\rightarrow$ character.\n",
    "3. Coercion often happens auto. <br>\n",
    "(1) Most math functions (+, log, abs, etc.) will coerce to double or integer<br>\n",
    "(2) Most logical operations (&, |, any, etc.) will coerce to logical. <br>\n",
    "4. If don't want confusion, explicitly coerce with `as.character()`, `as.double()`, `as.vector()`, `as.integer()`, `as.numeric()`, `as.logical()`."
   ]
  },
  {
   "cell_type": "code",
   "execution_count": 8,
   "id": "155aa0a7",
   "metadata": {},
   "outputs": [
    {
     "name": "stdout",
     "output_type": "stream",
     "text": [
      " chr [1:2] \"a\" \"1\"\n"
     ]
    },
    {
     "data": {
      "text/html": [
       "<ol class=list-inline>\n",
       "\t<li>0</li>\n",
       "\t<li>0</li>\n",
       "\t<li>1</li>\n",
       "</ol>\n"
      ],
      "text/latex": [
       "\\begin{enumerate*}\n",
       "\\item 0\n",
       "\\item 0\n",
       "\\item 1\n",
       "\\end{enumerate*}\n"
      ],
      "text/markdown": [
       "1. 0\n",
       "2. 0\n",
       "3. 1\n",
       "\n",
       "\n"
      ],
      "text/plain": [
       "[1] 0 0 1"
      ]
     },
     "metadata": {},
     "output_type": "display_data"
    },
    {
     "data": {
      "text/html": [
       "1"
      ],
      "text/latex": [
       "1"
      ],
      "text/markdown": [
       "1"
      ],
      "text/plain": [
       "[1] 1"
      ]
     },
     "metadata": {},
     "output_type": "display_data"
    },
    {
     "data": {
      "text/html": [
       "0.333333333333333"
      ],
      "text/latex": [
       "0.333333333333333"
      ],
      "text/markdown": [
       "0.333333333333333"
      ],
      "text/plain": [
       "[1] 0.3333333"
      ]
     },
     "metadata": {},
     "output_type": "display_data"
    }
   ],
   "source": [
    "# Example 1\n",
    "\n",
    "# integer coerced to character \n",
    "str(c(\"a\", 1))\n",
    "\n",
    "# logical coerced to numeric \n",
    "x <- c(FALSE, FALSE, TRUE)\n",
    "as.numeric(x)\n",
    "# number of TRUEs\n",
    "sum(x)\n",
    "# proportion that are TRUE\n",
    "mean(x)"
   ]
  },
  {
   "cell_type": "markdown",
   "id": "7acb65d0",
   "metadata": {},
   "source": [
    "### Lists"
   ]
  },
  {
   "cell_type": "markdown",
   "id": "c5db79de",
   "metadata": {},
   "source": [
    "1. Elements of lists can be of any type, including lists. \n",
    "2. Lists are called **recursive vectors** sometimes, because a list can contain other lists.\n",
    "3. `c()` combines several lists into one.\n",
    "4. If given a combination of atomic vectors and lists, `c()` coerces vectors to lists before combining them.\n",
    "5. `typeof()` a list is a list. \n",
    "6. Use `is.list()` to test for a list. Use `as.list()` to coerce to a list.\n",
    "7. Turn a list into atomic vector with `unlist()`\n",
    "8. If elements of a list have different types, `unlist()` uses same coercion rules as `c()`.\n",
    "9. Lists are used to build up many complicated data structures in R. For example, both data frame and linear model objects are lists."
   ]
  },
  {
   "cell_type": "code",
   "execution_count": 10,
   "id": "02dab4e8",
   "metadata": {},
   "outputs": [
    {
     "name": "stdout",
     "output_type": "stream",
     "text": [
      "List of 4\n",
      " $ : int [1:3] 1 2 3\n",
      " $ : chr \"a\"\n",
      " $ : logi [1:3] TRUE FALSE TRUE\n",
      " $ : num [1:2] 2.3 5.9\n"
     ]
    }
   ],
   "source": [
    "# Example 1: create list \n",
    "\n",
    "x <- list(1:3, \"a\", c(TRUE, FALSE, TRUE), c(2.3, 5.9))\n",
    "str(x)"
   ]
  },
  {
   "cell_type": "code",
   "execution_count": 12,
   "id": "d3394387",
   "metadata": {},
   "outputs": [
    {
     "name": "stdout",
     "output_type": "stream",
     "text": [
      "List of 1\n",
      " $ :List of 1\n",
      "  ..$ :List of 1\n",
      "  .. ..$ : list()\n"
     ]
    },
    {
     "data": {
      "text/html": [
       "TRUE"
      ],
      "text/latex": [
       "TRUE"
      ],
      "text/markdown": [
       "TRUE"
      ],
      "text/plain": [
       "[1] TRUE"
      ]
     },
     "metadata": {},
     "output_type": "display_data"
    }
   ],
   "source": [
    "# Example 2: create list inside list \n",
    "\n",
    "x <- list(list(list(list())))\n",
    "str(x)\n",
    "is.recursive(x)"
   ]
  },
  {
   "cell_type": "code",
   "execution_count": 16,
   "id": "20aaaa3b",
   "metadata": {},
   "outputs": [
    {
     "name": "stdout",
     "output_type": "stream",
     "text": [
      "List of 2\n",
      " $ :List of 2\n",
      "  ..$ : num 1\n",
      "  ..$ : num 2\n",
      " $ : num [1:2] 3 4\n",
      "List of 4\n",
      " $ : num 1\n",
      " $ : num 2\n",
      " $ : num 3\n",
      " $ : num 4\n"
     ]
    }
   ],
   "source": [
    "# Example 3: \n",
    "\n",
    "# list():  list of 2\n",
    "x <- list(list(1, 2), c(3, 4))\n",
    "str(x)\n",
    "\n",
    "# c():  list of 4\n",
    "y <- c(list(1, 2), c(3, 4))\n",
    "str(y)"
   ]
  },
  {
   "cell_type": "code",
   "execution_count": 21,
   "id": "7919cd54",
   "metadata": {},
   "outputs": [
    {
     "data": {
      "text/html": [
       "TRUE"
      ],
      "text/latex": [
       "TRUE"
      ],
      "text/markdown": [
       "TRUE"
      ],
      "text/plain": [
       "[1] TRUE"
      ]
     },
     "metadata": {},
     "output_type": "display_data"
    },
    {
     "data": {
      "text/html": [
       "TRUE"
      ],
      "text/latex": [
       "TRUE"
      ],
      "text/markdown": [
       "TRUE"
      ],
      "text/plain": [
       "[1] TRUE"
      ]
     },
     "metadata": {},
     "output_type": "display_data"
    }
   ],
   "source": [
    "# Example 4\n",
    "\n",
    "# data frame is a list\n",
    "is.list(mtcars)\n",
    "\n",
    "# linear model is a list\n",
    "model <- lm(mpg ~ wt, data = mtcars)\n",
    "is.list(model)"
   ]
  },
  {
   "cell_type": "markdown",
   "id": "5e57eb75",
   "metadata": {},
   "source": [
    "## Attributes"
   ]
  },
  {
   "cell_type": "markdown",
   "id": "df5c7d9c",
   "metadata": {},
   "source": [
    "1. All objects can have arbitrary additional attributes, used to store metadata about the object.\n",
    "2. Attributes can be thought of as a named list (with unique names)\n",
    "3. You can access attributes individually with `attr()` or `attributes()`.\n",
    "4. `structure()` function returns a new object with modified attributes.\n",
    "5. By default, most attributes are lost when modifying a vector. \n",
    "6. The only attributes not lost are: <br>\n",
    "(1) names: a character vector giving each element a name. Use `names()` to set names or access names.<br>\n",
    "(2) dimensions: used to turn vectors into matrices and arrays. Use `dim()` to access.<br>\n",
    "(3) class: used to implement S3 object system. Use `class()` to access. "
   ]
  },
  {
   "cell_type": "code",
   "execution_count": 24,
   "id": "a788c485",
   "metadata": {},
   "outputs": [
    {
     "data": {
      "text/html": [
       "'This is a vector'"
      ],
      "text/latex": [
       "'This is a vector'"
      ],
      "text/markdown": [
       "'This is a vector'"
      ],
      "text/plain": [
       "[1] \"This is a vector\""
      ]
     },
     "metadata": {},
     "output_type": "display_data"
    },
    {
     "name": "stdout",
     "output_type": "stream",
     "text": [
      "List of 1\n",
      " $ my_attribute: chr \"This is a vector\"\n"
     ]
    }
   ],
   "source": [
    "# Example 1\n",
    "\n",
    "y <- 1:10\n",
    "attr(y, \"my_attribute\") <- \"This is a vector\"\n",
    "attr(y, \"my_attribute\")\n",
    "\n",
    "str(attributes(y))"
   ]
  },
  {
   "cell_type": "code",
   "execution_count": 25,
   "id": "b6abe2e2",
   "metadata": {},
   "outputs": [
    {
     "data": {
      "text/html": [
       "<ol class=list-inline>\n",
       "\t<li>1</li>\n",
       "\t<li>2</li>\n",
       "\t<li>3</li>\n",
       "\t<li>4</li>\n",
       "\t<li>5</li>\n",
       "\t<li>6</li>\n",
       "\t<li>7</li>\n",
       "\t<li>8</li>\n",
       "\t<li>9</li>\n",
       "\t<li>10</li>\n",
       "</ol>\n"
      ],
      "text/latex": [
       "\\begin{enumerate*}\n",
       "\\item 1\n",
       "\\item 2\n",
       "\\item 3\n",
       "\\item 4\n",
       "\\item 5\n",
       "\\item 6\n",
       "\\item 7\n",
       "\\item 8\n",
       "\\item 9\n",
       "\\item 10\n",
       "\\end{enumerate*}\n"
      ],
      "text/markdown": [
       "1. 1\n",
       "2. 2\n",
       "3. 3\n",
       "4. 4\n",
       "5. 5\n",
       "6. 6\n",
       "7. 7\n",
       "8. 8\n",
       "9. 9\n",
       "10. 10\n",
       "\n",
       "\n"
      ],
      "text/plain": [
       " [1]  1  2  3  4  5  6  7  8  9 10\n",
       "attr(,\"my_attribute\")\n",
       "[1] \"This is a vector\""
      ]
     },
     "metadata": {},
     "output_type": "display_data"
    }
   ],
   "source": [
    "# Example 2: this returns a new object with modified attributes\n",
    "\n",
    "structure(1:10, my_attribute = \"This is a vector\")"
   ]
  },
  {
   "cell_type": "code",
   "execution_count": 26,
   "id": "231f759d",
   "metadata": {},
   "outputs": [
    {
     "data": {
      "text/plain": [
       "NULL"
      ]
     },
     "metadata": {},
     "output_type": "display_data"
    },
    {
     "data": {
      "text/plain": [
       "NULL"
      ]
     },
     "metadata": {},
     "output_type": "display_data"
    }
   ],
   "source": [
    "# Example 3: modified vector loses attributes\n",
    "\n",
    "attributes(y[1])\n",
    "attributes(sum(y))"
   ]
  },
  {
   "cell_type": "markdown",
   "id": "0ad2e2be",
   "metadata": {},
   "source": [
    "### Names"
   ]
  },
  {
   "cell_type": "markdown",
   "id": "ad7baf4d",
   "metadata": {},
   "source": [
    "1. You can name a vector in 3 ways:<br>\n",
    "(1) when creating it<br>\n",
    "(2) modifying an existing vector in place<br>\n",
    "(3) create a modified copy of vector using `setNames()`\n",
    "2. You can create a new vector without names using `unname()`, or remove names in place with `names(x) <- NULL`.<br>\n",
    "Note: `setNames()` can only be used to set names; `names()` can be used to set names and check/access names. "
   ]
  },
  {
   "cell_type": "code",
   "execution_count": 31,
   "id": "913311f1",
   "metadata": {},
   "outputs": [
    {
     "data": {
      "text/html": [
       "<dl class=dl-horizontal>\n",
       "\t<dt>a</dt>\n",
       "\t\t<dd>1</dd>\n",
       "\t<dt>b</dt>\n",
       "\t\t<dd>2</dd>\n",
       "\t<dt>c</dt>\n",
       "\t\t<dd>3</dd>\n",
       "</dl>\n"
      ],
      "text/latex": [
       "\\begin{description*}\n",
       "\\item[a] 1\n",
       "\\item[b] 2\n",
       "\\item[c] 3\n",
       "\\end{description*}\n"
      ],
      "text/markdown": [
       "a\n",
       ":   1b\n",
       ":   2c\n",
       ":   3\n",
       "\n"
      ],
      "text/plain": [
       "a b c \n",
       "1 2 3 "
      ]
     },
     "metadata": {},
     "output_type": "display_data"
    },
    {
     "data": {
      "text/html": [
       "<dl class=dl-horizontal>\n",
       "\t<dt>a</dt>\n",
       "\t\t<dd>1</dd>\n",
       "\t<dt>b</dt>\n",
       "\t\t<dd>2</dd>\n",
       "\t<dt>c</dt>\n",
       "\t\t<dd>3</dd>\n",
       "</dl>\n"
      ],
      "text/latex": [
       "\\begin{description*}\n",
       "\\item[a] 1\n",
       "\\item[b] 2\n",
       "\\item[c] 3\n",
       "\\end{description*}\n"
      ],
      "text/markdown": [
       "a\n",
       ":   1b\n",
       ":   2c\n",
       ":   3\n",
       "\n"
      ],
      "text/plain": [
       "a b c \n",
       "1 2 3 "
      ]
     },
     "metadata": {},
     "output_type": "display_data"
    },
    {
     "data": {
      "text/html": [
       "<dl class=dl-horizontal>\n",
       "\t<dt>a</dt>\n",
       "\t\t<dd>1</dd>\n",
       "\t<dt>b</dt>\n",
       "\t\t<dd>2</dd>\n",
       "\t<dt>c</dt>\n",
       "\t\t<dd>3</dd>\n",
       "</dl>\n"
      ],
      "text/latex": [
       "\\begin{description*}\n",
       "\\item[a] 1\n",
       "\\item[b] 2\n",
       "\\item[c] 3\n",
       "\\end{description*}\n"
      ],
      "text/markdown": [
       "a\n",
       ":   1b\n",
       ":   2c\n",
       ":   3\n",
       "\n"
      ],
      "text/plain": [
       "a b c \n",
       "1 2 3 "
      ]
     },
     "metadata": {},
     "output_type": "display_data"
    }
   ],
   "source": [
    "# Example 1\n",
    "\n",
    "# name vector when creating it \n",
    "x <- c(a = 1, b = 2, c = 3)\n",
    "x\n",
    "\n",
    "# modify an existing vector in place \n",
    "y <- 1:3\n",
    "names(y) <- c(\"a\", \"b\", \"c\")\n",
    "y \n",
    "\n",
    "# create a modified copy of vector\n",
    "z <- setNames(1:3, c(\"a\", \"b\", \"c\"))\n",
    "z"
   ]
  },
  {
   "cell_type": "code",
   "execution_count": 30,
   "id": "4c36103b",
   "metadata": {},
   "outputs": [
    {
     "data": {
      "text/html": [
       "<ol class=list-inline>\n",
       "\t<li>'a'</li>\n",
       "\t<li>''</li>\n",
       "\t<li>''</li>\n",
       "</ol>\n"
      ],
      "text/latex": [
       "\\begin{enumerate*}\n",
       "\\item 'a'\n",
       "\\item ''\n",
       "\\item ''\n",
       "\\end{enumerate*}\n"
      ],
      "text/markdown": [
       "1. 'a'\n",
       "2. ''\n",
       "3. ''\n",
       "\n",
       "\n"
      ],
      "text/plain": [
       "[1] \"a\" \"\"  \"\" "
      ]
     },
     "metadata": {},
     "output_type": "display_data"
    },
    {
     "data": {
      "text/plain": [
       "NULL"
      ]
     },
     "metadata": {},
     "output_type": "display_data"
    }
   ],
   "source": [
    "# Example 2\n",
    "\n",
    "k <- c(a = 1, 2, 3)\n",
    "names(y)\n",
    "\n",
    "l <- c(1, 2, 3)\n",
    "names(z)"
   ]
  },
  {
   "cell_type": "code",
   "execution_count": 36,
   "id": "09d7c039",
   "metadata": {},
   "outputs": [
    {
     "data": {
      "text/html": [
       "<ol class=list-inline>\n",
       "\t<li>1</li>\n",
       "\t<li>2</li>\n",
       "\t<li>3</li>\n",
       "</ol>\n"
      ],
      "text/latex": [
       "\\begin{enumerate*}\n",
       "\\item 1\n",
       "\\item 2\n",
       "\\item 3\n",
       "\\end{enumerate*}\n"
      ],
      "text/markdown": [
       "1. 1\n",
       "2. 2\n",
       "3. 3\n",
       "\n",
       "\n"
      ],
      "text/plain": [
       "[1] 1 2 3"
      ]
     },
     "metadata": {},
     "output_type": "display_data"
    },
    {
     "data": {
      "text/plain": [
       "NULL"
      ]
     },
     "metadata": {},
     "output_type": "display_data"
    }
   ],
   "source": [
    "# Example 3: remove names (from exmaple 1)\n",
    "\n",
    "# method 1\n",
    "unname(y)\n",
    "\n",
    "# method 2\n",
    "names(z) <- NULL\n",
    "names(z)"
   ]
  },
  {
   "cell_type": "markdown",
   "id": "ffd742c0",
   "metadata": {},
   "source": [
    "### Factors"
   ]
  },
  {
   "cell_type": "markdown",
   "id": "24021ef5",
   "metadata": {},
   "source": [
    "1. A factor is a vector that can contain only predefined values, and is used to store categorical data.\n",
    "2. Factors are built on top of integer vectors using 2 attributes:<br>\n",
    "(1) `class()`, \"factor\", which makes them behave differently from regular integer vectors<br>\n",
    "(2) `levels()`, which defines set of allowed values.\n",
    "3. You can't use values not in the levels.\n",
    "4. You can't combine factors. \n",
    "5. Factors are useful when you know possible values a variable may take. Using factor (not character) vector makes it obvious when some groups contain no observations.\n",
    "6. Sometimes a column of a data frame produces a factor (but you expect numeric), this is caused by non-numeric value in a column (often missing value encoded like . or -).Here are some solutions:<br> \n",
    "(1) Coerce the vector from factor $\\rightarrow$ character vector $\\rightarrow$ double vector.<br>\n",
    "(2) Use `na.strings` when `read.csv()`.<br>\n",
    "(3) Use `stringsAsFactors = FALSE` to suppress this behavior (most data loading functions in R auto convert character vectors to factors), then manually convert character vector to factors. <br>\n",
    "(NOT RECOMMENDED) You can also use global option `options(stringsAsFactors = FALSE)`. \n",
    "7. While factors look like character vectors, they are integers. It's best to convert factors to character vectors if you need string-like behavior. "
   ]
  },
  {
   "cell_type": "code",
   "execution_count": 43,
   "id": "dc2eed9b",
   "metadata": {},
   "outputs": [
    {
     "data": {
      "text/html": [
       "<ol class=list-inline>\n",
       "\t<li>a</li>\n",
       "\t<li>b</li>\n",
       "\t<li>a</li>\n",
       "\t<li>b</li>\n",
       "</ol>\n",
       "\n",
       "<details>\n",
       "\t<summary style=display:list-item;cursor:pointer>\n",
       "\t\t<strong>Levels</strong>:\n",
       "\t</summary>\n",
       "\t<ol class=list-inline>\n",
       "\t\t<li>'a'</li>\n",
       "\t\t<li>'b'</li>\n",
       "\t</ol>\n",
       "</details>"
      ],
      "text/latex": [
       "\\begin{enumerate*}\n",
       "\\item a\n",
       "\\item b\n",
       "\\item a\n",
       "\\item b\n",
       "\\end{enumerate*}\n",
       "\n",
       "\\emph{Levels}: \\begin{enumerate*}\n",
       "\\item 'a'\n",
       "\\item 'b'\n",
       "\\end{enumerate*}\n"
      ],
      "text/markdown": [
       "1. a\n",
       "2. b\n",
       "3. a\n",
       "4. b\n",
       "\n",
       "\n",
       "\n",
       "**Levels**: 1. 'a'\n",
       "2. 'b'\n",
       "\n",
       "\n"
      ],
      "text/plain": [
       "[1] a b a b\n",
       "Levels: a b"
      ]
     },
     "metadata": {},
     "output_type": "display_data"
    },
    {
     "data": {
      "text/html": [
       "'factor'"
      ],
      "text/latex": [
       "'factor'"
      ],
      "text/markdown": [
       "'factor'"
      ],
      "text/plain": [
       "[1] \"factor\""
      ]
     },
     "metadata": {},
     "output_type": "display_data"
    },
    {
     "data": {
      "text/html": [
       "<ol class=list-inline>\n",
       "\t<li>'a'</li>\n",
       "\t<li>'b'</li>\n",
       "</ol>\n"
      ],
      "text/latex": [
       "\\begin{enumerate*}\n",
       "\\item 'a'\n",
       "\\item 'b'\n",
       "\\end{enumerate*}\n"
      ],
      "text/markdown": [
       "1. 'a'\n",
       "2. 'b'\n",
       "\n",
       "\n"
      ],
      "text/plain": [
       "[1] \"a\" \"b\""
      ]
     },
     "metadata": {},
     "output_type": "display_data"
    },
    {
     "name": "stderr",
     "output_type": "stream",
     "text": [
      "Warning message in `[<-.factor`(`*tmp*`, 2, value = \"c\"):\n",
      "“invalid factor level, NA generated”\n"
     ]
    },
    {
     "data": {
      "text/html": [
       "<ol class=list-inline>\n",
       "\t<li>a</li>\n",
       "\t<li>&lt;NA&gt;</li>\n",
       "\t<li>a</li>\n",
       "\t<li>b</li>\n",
       "</ol>\n",
       "\n",
       "<details>\n",
       "\t<summary style=display:list-item;cursor:pointer>\n",
       "\t\t<strong>Levels</strong>:\n",
       "\t</summary>\n",
       "\t<ol class=list-inline>\n",
       "\t\t<li>'a'</li>\n",
       "\t\t<li>'b'</li>\n",
       "\t</ol>\n",
       "</details>"
      ],
      "text/latex": [
       "\\begin{enumerate*}\n",
       "\\item a\n",
       "\\item <NA>\n",
       "\\item a\n",
       "\\item b\n",
       "\\end{enumerate*}\n",
       "\n",
       "\\emph{Levels}: \\begin{enumerate*}\n",
       "\\item 'a'\n",
       "\\item 'b'\n",
       "\\end{enumerate*}\n"
      ],
      "text/markdown": [
       "1. a\n",
       "2. &lt;NA&gt;\n",
       "3. a\n",
       "4. b\n",
       "\n",
       "\n",
       "\n",
       "**Levels**: 1. 'a'\n",
       "2. 'b'\n",
       "\n",
       "\n"
      ],
      "text/plain": [
       "[1] a    <NA> a    b   \n",
       "Levels: a b"
      ]
     },
     "metadata": {},
     "output_type": "display_data"
    },
    {
     "data": {
      "text/html": [
       "<ol class=list-inline>\n",
       "\t<li>1</li>\n",
       "\t<li>1</li>\n",
       "</ol>\n"
      ],
      "text/latex": [
       "\\begin{enumerate*}\n",
       "\\item 1\n",
       "\\item 1\n",
       "\\end{enumerate*}\n"
      ],
      "text/markdown": [
       "1. 1\n",
       "2. 1\n",
       "\n",
       "\n"
      ],
      "text/plain": [
       "[1] 1 1"
      ]
     },
     "metadata": {},
     "output_type": "display_data"
    }
   ],
   "source": [
    "# Example 1: create factor\n",
    "x <- factor(c(\"a\", \"b\", \"a\", \"b\"))\n",
    "x\n",
    "\n",
    "# 2 attributes of factor vector\n",
    "class(x)\n",
    "levels(x)\n",
    "\n",
    "# can't use values not in levels \n",
    "x[2] <- \"c\"\n",
    "x\n",
    "\n",
    "# can't combine factors\n",
    "c(factor(\"a\"), factor(\"b\"))"
   ]
  },
  {
   "cell_type": "code",
   "execution_count": 44,
   "id": "350ab5a4",
   "metadata": {},
   "outputs": [
    {
     "data": {
      "text/plain": [
       "sex_char\n",
       "m \n",
       "3 "
      ]
     },
     "metadata": {},
     "output_type": "display_data"
    },
    {
     "data": {
      "text/plain": [
       "sex_factor\n",
       "m f \n",
       "3 0 "
      ]
     },
     "metadata": {},
     "output_type": "display_data"
    }
   ],
   "source": [
    "# Example 2: \n",
    "\n",
    "sex_char <- c(\"m\", \"m\", \"m\")\n",
    "sex_factor <- factor(sex_char, levels = c(\"m\", \"f\"))\n",
    "\n",
    "table(sex_char)\n",
    "table(sex_factor)"
   ]
  },
  {
   "cell_type": "code",
   "execution_count": 52,
   "id": "20badd3d",
   "metadata": {},
   "outputs": [
    {
     "data": {
      "text/html": [
       "<table>\n",
       "<thead><tr><th scope=col>value</th></tr></thead>\n",
       "<tbody>\n",
       "\t<tr><td>12</td></tr>\n",
       "\t<tr><td>1 </td></tr>\n",
       "\t<tr><td>. </td></tr>\n",
       "\t<tr><td>9 </td></tr>\n",
       "</tbody>\n",
       "</table>\n"
      ],
      "text/latex": [
       "\\begin{tabular}{r|l}\n",
       " value\\\\\n",
       "\\hline\n",
       "\t 12\\\\\n",
       "\t 1 \\\\\n",
       "\t . \\\\\n",
       "\t 9 \\\\\n",
       "\\end{tabular}\n"
      ],
      "text/markdown": [
       "\n",
       "| value |\n",
       "|---|\n",
       "| 12 |\n",
       "| 1  |\n",
       "| .  |\n",
       "| 9  |\n",
       "\n"
      ],
      "text/plain": [
       "  value\n",
       "1 12   \n",
       "2 1    \n",
       "3 .    \n",
       "4 9    "
      ]
     },
     "metadata": {},
     "output_type": "display_data"
    },
    {
     "data": {
      "text/html": [
       "'integer'"
      ],
      "text/latex": [
       "'integer'"
      ],
      "text/markdown": [
       "'integer'"
      ],
      "text/plain": [
       "[1] \"integer\""
      ]
     },
     "metadata": {},
     "output_type": "display_data"
    },
    {
     "data": {
      "text/html": [
       "<ol class=list-inline>\n",
       "\t<li>3</li>\n",
       "\t<li>2</li>\n",
       "\t<li>1</li>\n",
       "\t<li>4</li>\n",
       "</ol>\n"
      ],
      "text/latex": [
       "\\begin{enumerate*}\n",
       "\\item 3\n",
       "\\item 2\n",
       "\\item 1\n",
       "\\item 4\n",
       "\\end{enumerate*}\n"
      ],
      "text/markdown": [
       "1. 3\n",
       "2. 2\n",
       "3. 1\n",
       "4. 4\n",
       "\n",
       "\n"
      ],
      "text/plain": [
       "[1] 3 2 1 4"
      ]
     },
     "metadata": {},
     "output_type": "display_data"
    },
    {
     "data": {
      "text/html": [
       "'factor'"
      ],
      "text/latex": [
       "'factor'"
      ],
      "text/markdown": [
       "'factor'"
      ],
      "text/plain": [
       "[1] \"factor\""
      ]
     },
     "metadata": {},
     "output_type": "display_data"
    },
    {
     "name": "stderr",
     "output_type": "stream",
     "text": [
      "Warning message in eval(expr, envir, enclos):\n",
      "“NAs introduced by coercion”\n"
     ]
    },
    {
     "data": {
      "text/html": [
       "<ol class=list-inline>\n",
       "\t<li>12</li>\n",
       "\t<li>1</li>\n",
       "\t<li>&lt;NA&gt;</li>\n",
       "\t<li>9</li>\n",
       "</ol>\n"
      ],
      "text/latex": [
       "\\begin{enumerate*}\n",
       "\\item 12\n",
       "\\item 1\n",
       "\\item <NA>\n",
       "\\item 9\n",
       "\\end{enumerate*}\n"
      ],
      "text/markdown": [
       "1. 12\n",
       "2. 1\n",
       "3. &lt;NA&gt;\n",
       "4. 9\n",
       "\n",
       "\n"
      ],
      "text/plain": [
       "[1] 12  1 NA  9"
      ]
     },
     "metadata": {},
     "output_type": "display_data"
    },
    {
     "data": {
      "text/html": [
       "'integer'"
      ],
      "text/latex": [
       "'integer'"
      ],
      "text/markdown": [
       "'integer'"
      ],
      "text/plain": [
       "[1] \"integer\""
      ]
     },
     "metadata": {},
     "output_type": "display_data"
    },
    {
     "data": {
      "text/html": [
       "'integer'"
      ],
      "text/latex": [
       "'integer'"
      ],
      "text/markdown": [
       "'integer'"
      ],
      "text/plain": [
       "[1] \"integer\""
      ]
     },
     "metadata": {},
     "output_type": "display_data"
    },
    {
     "data": {
      "text/html": [
       "<ol class=list-inline>\n",
       "\t<li>12</li>\n",
       "\t<li>1</li>\n",
       "\t<li>&lt;NA&gt;</li>\n",
       "\t<li>9</li>\n",
       "</ol>\n"
      ],
      "text/latex": [
       "\\begin{enumerate*}\n",
       "\\item 12\n",
       "\\item 1\n",
       "\\item <NA>\n",
       "\\item 9\n",
       "\\end{enumerate*}\n"
      ],
      "text/markdown": [
       "1. 12\n",
       "2. 1\n",
       "3. &lt;NA&gt;\n",
       "4. 9\n",
       "\n",
       "\n"
      ],
      "text/plain": [
       "[1] 12  1 NA  9"
      ]
     },
     "metadata": {},
     "output_type": "display_data"
    }
   ],
   "source": [
    "# Example 3: \n",
    "# use na.strings to STOP loading data as factor by default \n",
    "\n",
    "# read.csv: without na.strings \n",
    "\n",
    "# here, \"\\n\" is to specify as number\n",
    "# here, \".\" is to specify missing value\n",
    "z <- read.csv(text = \"value\\n12\\n1\\n.\\n9\")\n",
    "z\n",
    "\n",
    "# we didn't use na.strings, with missing values\".\", it's loaded as factor \n",
    "typeof(z$value)\n",
    "\n",
    "# cannot directly coerce from factor to numeric\n",
    "# if we do so, it'll be converted not by original number, but by levels \n",
    "as.double(z$value)\n",
    "\n",
    "# class is factor\n",
    "class(z$value)\n",
    "\n",
    "# solutions: \n",
    "\n",
    "# Method 1: convert factor to character, then convert to numeric\n",
    "as.double(as.character(z$value))\n",
    "\n",
    "# Method 2: use as.strings\n",
    "z <- read.csv(text = \"value\\n12\\n1\\n.\\n9\", na.strings = \".\")\n",
    "\n",
    "# check type\n",
    "typeof(z$value)\n",
    "# check class \n",
    "class(z$value)\n",
    "# type z value \n",
    "z$value"
   ]
  },
  {
   "cell_type": "markdown",
   "id": "c345f2ca",
   "metadata": {},
   "source": [
    "## Matrices & arrays"
   ]
  },
  {
   "cell_type": "markdown",
   "id": "14bbf550",
   "metadata": {},
   "source": [
    "1. You can create matrix and array using `matrix()`, `array()` or `dim()`\n",
    "2. length() and names() have high-dimensional generalizations: <br>\n",
    "(1) `length()` generalizes to `nrow()` and `ncol()` for matrices, and `dim()` for arrays. <br>\n",
    "(2) `names()` generalizes to `rownames()` and `colnames()` for matrices, and `dimnames()`, a list of character vectors, for arrays. \n",
    "3. `c()` generalizes for `cbind()` and `rbind()` for matrices, and to `abind()` (abind package)for arrays. \n",
    "4. You can transpose a matrix with `t()`, and generalized version for arrays is `aperm()`. \n",
    "5. Test if an object is a matrix or array using `is.matrix()` or `is.array()`, or by looking at length of the `dim()`. `as.matrix()` and `as.array()` turn an existing vector into matrix or array. \n",
    "6. Vectors are not the only 1d data structure. You can have matrices with 1 single row or single column, or arrays with a single dimension. <br>\n",
    "They may print similarly, but will behave differently. Use str() to reveal the differences. \n",
    "7. While atomic vectors are most commonly turned into matrices, the dimension attribute can also be set on lists to make list-matrices or list-arrays. \n",
    "8. List-matrices or list-arrays are esoteric data structures, but can be useful if you want to arrange objects into grid-like structure. "
   ]
  },
  {
   "cell_type": "code",
   "execution_count": 12,
   "id": "a6a1b0e7",
   "metadata": {},
   "outputs": [
    {
     "data": {
      "text/html": [
       "<table>\n",
       "<tbody>\n",
       "\t<tr><td>1</td><td>3</td><td>5</td></tr>\n",
       "\t<tr><td>2</td><td>4</td><td>6</td></tr>\n",
       "</tbody>\n",
       "</table>\n"
      ],
      "text/latex": [
       "\\begin{tabular}{lll}\n",
       "\t 1 & 3 & 5\\\\\n",
       "\t 2 & 4 & 6\\\\\n",
       "\\end{tabular}\n"
      ],
      "text/markdown": [
       "\n",
       "| 1 | 3 | 5 |\n",
       "| 2 | 4 | 6 |\n",
       "\n"
      ],
      "text/plain": [
       "     [,1] [,2] [,3]\n",
       "[1,] 1    3    5   \n",
       "[2,] 2    4    6   "
      ]
     },
     "metadata": {},
     "output_type": "display_data"
    },
    {
     "data": {
      "text/html": [
       "<ol class=list-inline>\n",
       "\t<li>1</li>\n",
       "\t<li>2</li>\n",
       "\t<li>3</li>\n",
       "\t<li>4</li>\n",
       "\t<li>5</li>\n",
       "\t<li>6</li>\n",
       "\t<li>7</li>\n",
       "\t<li>8</li>\n",
       "\t<li>9</li>\n",
       "\t<li>10</li>\n",
       "\t<li>11</li>\n",
       "\t<li>12</li>\n",
       "</ol>\n"
      ],
      "text/latex": [
       "\\begin{enumerate*}\n",
       "\\item 1\n",
       "\\item 2\n",
       "\\item 3\n",
       "\\item 4\n",
       "\\item 5\n",
       "\\item 6\n",
       "\\item 7\n",
       "\\item 8\n",
       "\\item 9\n",
       "\\item 10\n",
       "\\item 11\n",
       "\\item 12\n",
       "\\end{enumerate*}\n"
      ],
      "text/markdown": [
       "1. 1\n",
       "2. 2\n",
       "3. 3\n",
       "4. 4\n",
       "5. 5\n",
       "6. 6\n",
       "7. 7\n",
       "8. 8\n",
       "9. 9\n",
       "10. 10\n",
       "11. 11\n",
       "12. 12\n",
       "\n",
       "\n"
      ],
      "text/plain": [
       ", , 1\n",
       "\n",
       "     [,1] [,2] [,3]\n",
       "[1,]    1    3    5\n",
       "[2,]    2    4    6\n",
       "\n",
       ", , 2\n",
       "\n",
       "     [,1] [,2] [,3]\n",
       "[1,]    7    9   11\n",
       "[2,]    8   10   12\n"
      ]
     },
     "metadata": {},
     "output_type": "display_data"
    },
    {
     "data": {
      "text/html": [
       "<table>\n",
       "<tbody>\n",
       "\t<tr><td>1</td><td>4</td></tr>\n",
       "\t<tr><td>2</td><td>5</td></tr>\n",
       "\t<tr><td>3</td><td>6</td></tr>\n",
       "</tbody>\n",
       "</table>\n"
      ],
      "text/latex": [
       "\\begin{tabular}{ll}\n",
       "\t 1 & 4\\\\\n",
       "\t 2 & 5\\\\\n",
       "\t 3 & 6\\\\\n",
       "\\end{tabular}\n"
      ],
      "text/markdown": [
       "\n",
       "| 1 | 4 |\n",
       "| 2 | 5 |\n",
       "| 3 | 6 |\n",
       "\n"
      ],
      "text/plain": [
       "     [,1] [,2]\n",
       "[1,] 1    4   \n",
       "[2,] 2    5   \n",
       "[3,] 3    6   "
      ]
     },
     "metadata": {},
     "output_type": "display_data"
    }
   ],
   "source": [
    "# Example 1: matrix \n",
    "a <- matrix(1:6, ncol = 3, nrow = 2)\n",
    "a\n",
    "\n",
    "# Example 2 \n",
    "b\n",
    "\n",
    "# Example 3\n",
    "# modify an object in place \n",
    "c <- 1:6\n",
    "dim(c) <- c(3, 2)\n",
    "c"
   ]
  },
  {
   "cell_type": "code",
   "execution_count": 18,
   "id": "e0839f6c",
   "metadata": {},
   "outputs": [
    {
     "data": {
      "text/html": [
       "6"
      ],
      "text/latex": [
       "6"
      ],
      "text/markdown": [
       "6"
      ],
      "text/plain": [
       "[1] 6"
      ]
     },
     "metadata": {},
     "output_type": "display_data"
    },
    {
     "data": {
      "text/html": [
       "2"
      ],
      "text/latex": [
       "2"
      ],
      "text/markdown": [
       "2"
      ],
      "text/plain": [
       "[1] 2"
      ]
     },
     "metadata": {},
     "output_type": "display_data"
    },
    {
     "data": {
      "text/html": [
       "3"
      ],
      "text/latex": [
       "3"
      ],
      "text/markdown": [
       "3"
      ],
      "text/plain": [
       "[1] 3"
      ]
     },
     "metadata": {},
     "output_type": "display_data"
    },
    {
     "data": {
      "text/html": [
       "12"
      ],
      "text/latex": [
       "12"
      ],
      "text/markdown": [
       "12"
      ],
      "text/plain": [
       "[1] 12"
      ]
     },
     "metadata": {},
     "output_type": "display_data"
    },
    {
     "data": {
      "text/html": [
       "<ol class=list-inline>\n",
       "\t<li>2</li>\n",
       "\t<li>3</li>\n",
       "\t<li>2</li>\n",
       "</ol>\n"
      ],
      "text/latex": [
       "\\begin{enumerate*}\n",
       "\\item 2\n",
       "\\item 3\n",
       "\\item 2\n",
       "\\end{enumerate*}\n"
      ],
      "text/markdown": [
       "1. 2\n",
       "2. 3\n",
       "3. 2\n",
       "\n",
       "\n"
      ],
      "text/plain": [
       "[1] 2 3 2"
      ]
     },
     "metadata": {},
     "output_type": "display_data"
    },
    {
     "data": {
      "text/html": [
       "<ol class=list-inline>\n",
       "\t<li>1</li>\n",
       "\t<li>2</li>\n",
       "\t<li>3</li>\n",
       "\t<li>4</li>\n",
       "\t<li>5</li>\n",
       "\t<li>6</li>\n",
       "\t<li>7</li>\n",
       "\t<li>8</li>\n",
       "\t<li>9</li>\n",
       "\t<li>10</li>\n",
       "\t<li>11</li>\n",
       "\t<li>12</li>\n",
       "</ol>\n"
      ],
      "text/latex": [
       "\\begin{enumerate*}\n",
       "\\item 1\n",
       "\\item 2\n",
       "\\item 3\n",
       "\\item 4\n",
       "\\item 5\n",
       "\\item 6\n",
       "\\item 7\n",
       "\\item 8\n",
       "\\item 9\n",
       "\\item 10\n",
       "\\item 11\n",
       "\\item 12\n",
       "\\end{enumerate*}\n"
      ],
      "text/markdown": [
       "1. 1\n",
       "2. 2\n",
       "3. 3\n",
       "4. 4\n",
       "5. 5\n",
       "6. 6\n",
       "7. 7\n",
       "8. 8\n",
       "9. 9\n",
       "10. 10\n",
       "11. 11\n",
       "12. 12\n",
       "\n",
       "\n"
      ],
      "text/plain": [
       ", , A\n",
       "\n",
       "    a b c\n",
       "one 1 3 5\n",
       "two 2 4 6\n",
       "\n",
       ", , B\n",
       "\n",
       "    a  b  c\n",
       "one 7  9 11\n",
       "two 8 10 12\n"
      ]
     },
     "metadata": {},
     "output_type": "display_data"
    }
   ],
   "source": [
    "# Example 4: matrix  \n",
    "\n",
    "# create matrix \n",
    "a <- matrix(1:6, ncol = 3, nrow = 2)\n",
    "\n",
    "length(a)\n",
    "nrow(a)\n",
    "ncol(a)\n",
    "\n",
    "rownames(a) <- c(\"A\", \"B\")\n",
    "colnames(a)  <- c(\"a\", \"b\", \"c\")\n",
    "\n",
    "# Example 5: array \n",
    "\n",
    "# create array \n",
    "b  <- array(1:12, c(2, 3, 2))\n",
    "\n",
    "length(b)\n",
    "dim(b)\n",
    "\n",
    "dimnames(b) <- list(c(\"one\", \"two\"), c(\"a\", \"b\", \"c\"), c(\"A\", \"B\"))\n",
    "b"
   ]
  },
  {
   "cell_type": "code",
   "execution_count": 25,
   "id": "9177222d",
   "metadata": {},
   "outputs": [
    {
     "name": "stdout",
     "output_type": "stream",
     "text": [
      " int [1:3] 1 2 3\n",
      " int [1:3, 1] 1 2 3\n",
      " int [1, 1:3] 1 2 3\n",
      " int [1:3(1d)] 1 2 3\n"
     ]
    }
   ],
   "source": [
    "# Example 6\n",
    "\n",
    "# 1d vector\n",
    "str(1:3)\n",
    "\n",
    "# column vector (1 column matrix)\n",
    "str(matrix(1:3, ncol = 1))\n",
    "\n",
    "# row vector (1 row matrix)\n",
    "str(matrix(1:3, nrow = 1))\n",
    "\n",
    "# array vector (1d array)\n",
    "str(array(1:3, 3))"
   ]
  },
  {
   "cell_type": "code",
   "execution_count": 29,
   "id": "633d7d26",
   "metadata": {},
   "outputs": [
    {
     "data": {
      "text/html": [
       "<table>\n",
       "<tbody>\n",
       "\t<tr><td>1, 2, 3</td><td>TRUE   </td></tr>\n",
       "\t<tr><td>a</td><td>1</td></tr>\n",
       "</tbody>\n",
       "</table>\n"
      ],
      "text/latex": [
       "\\begin{tabular}{ll}\n",
       "\t 1, 2, 3 & TRUE   \\\\\n",
       "\t a & 1\\\\\n",
       "\\end{tabular}\n"
      ],
      "text/markdown": [
       "\n",
       "| 1, 2, 3 | TRUE    |\n",
       "| a | 1 |\n",
       "\n"
      ],
      "text/plain": [
       "     [,1]    [,2]\n",
       "[1,] 1, 2, 3 TRUE\n",
       "[2,] a       1   "
      ]
     },
     "metadata": {},
     "output_type": "display_data"
    }
   ],
   "source": [
    "# Example 7\n",
    "\n",
    "# create a list\n",
    "l <- list(1:3, \"a\", TRUE, 1.0)\n",
    "\n",
    "# turn list into matrix\n",
    "dim(l) <- c(2, 2)\n",
    "l"
   ]
  },
  {
   "cell_type": "markdown",
   "id": "74736266",
   "metadata": {},
   "source": [
    "## Data frame"
   ]
  },
  {
   "cell_type": "markdown",
   "id": "76658ff4",
   "metadata": {},
   "source": [
    "1. Under the hood, a data frame is a list of equal-length vectors. This makes it a 2d structure, so it shares properties of both matrix (2d) and list (1d). \n",
    "2. A data frame has `names()` or `colnames()` (they're the same), and `rownames()`.\n",
    "3. `length()` of data frame is the length of the underlying list and so is the same as `ncol()` and `nrow()`.\n",
    "4. You can subset a data frame like 1d structure (it behaves like list) or 2d structure (behaves like matrix). "
   ]
  },
  {
   "cell_type": "markdown",
   "id": "61724e22",
   "metadata": {},
   "source": [
    "### Creation"
   ]
  },
  {
   "cell_type": "markdown",
   "id": "9acd4878",
   "metadata": {},
   "source": [
    "1. Use `data.frame()` create data frame.\n",
    "2. `data.frame()` turns strings into factors by default. Use `stringsAsFactors = FALSE` to suppress it."
   ]
  },
  {
   "cell_type": "code",
   "execution_count": 31,
   "id": "454a29f9",
   "metadata": {},
   "outputs": [
    {
     "name": "stdout",
     "output_type": "stream",
     "text": [
      "'data.frame':\t3 obs. of  2 variables:\n",
      " $ x: int  1 2 3\n",
      " $ y: Factor w/ 3 levels \"a\",\"b\",\"c\": 1 2 3\n"
     ]
    }
   ],
   "source": [
    "# Example 1\n",
    "df <- data.frame(\n",
    "    x = 1:3,\n",
    "    y = c(\"a\", \"b\", \"c\")\n",
    ")\n",
    "str(df)"
   ]
  },
  {
   "cell_type": "code",
   "execution_count": 33,
   "id": "1249aaaa",
   "metadata": {},
   "outputs": [
    {
     "name": "stdout",
     "output_type": "stream",
     "text": [
      "'data.frame':\t3 obs. of  2 variables:\n",
      " $ x: int  1 2 3\n",
      " $ y: chr  \"a\" \"b\" \"c\"\n"
     ]
    }
   ],
   "source": [
    "# Example 2 \n",
    "df <- data.frame(\n",
    "    x = 1:3,\n",
    "    y= c(\"a\", \"b\", \"c\"),\n",
    "    stringsAsFactors = FALSE)\n",
    "str(df)"
   ]
  },
  {
   "cell_type": "markdown",
   "id": "0d942a16",
   "metadata": {},
   "source": [
    "### Testing & coercion"
   ]
  },
  {
   "cell_type": "markdown",
   "id": "f9dc6b08",
   "metadata": {},
   "source": [
    "1. Because a data.frame is a S3 class, its type reflects the underlying vector used to build it: the list. \n",
    "2. Use `class()` to check if an object is a data frame or `is.data.frame()`.\n",
    "3. You can coerce an object to data frame with `as.data.frame()`<br>\n",
    "(1) a vector will create a 1-column data frame <br>\n",
    "(2) a list will create one column for each element; it's an error if they're not all same length. <br>\n",
    "(3) a matrix will create a data frame with same number of columns and rows as matrix. "
   ]
  },
  {
   "cell_type": "code",
   "execution_count": 34,
   "id": "b3c69d92",
   "metadata": {},
   "outputs": [
    {
     "data": {
      "text/html": [
       "'list'"
      ],
      "text/latex": [
       "'list'"
      ],
      "text/markdown": [
       "'list'"
      ],
      "text/plain": [
       "[1] \"list\""
      ]
     },
     "metadata": {},
     "output_type": "display_data"
    },
    {
     "data": {
      "text/html": [
       "'data.frame'"
      ],
      "text/latex": [
       "'data.frame'"
      ],
      "text/markdown": [
       "'data.frame'"
      ],
      "text/plain": [
       "[1] \"data.frame\""
      ]
     },
     "metadata": {},
     "output_type": "display_data"
    },
    {
     "data": {
      "text/html": [
       "TRUE"
      ],
      "text/latex": [
       "TRUE"
      ],
      "text/markdown": [
       "TRUE"
      ],
      "text/plain": [
       "[1] TRUE"
      ]
     },
     "metadata": {},
     "output_type": "display_data"
    }
   ],
   "source": [
    "# Example 1\n",
    "typeof(df)\n",
    "class(df)\n",
    "is.data.frame(df)"
   ]
  },
  {
   "cell_type": "markdown",
   "id": "b30bef29",
   "metadata": {},
   "source": [
    "### Combining data frames"
   ]
  },
  {
   "cell_type": "markdown",
   "id": "4b940864",
   "metadata": {},
   "source": [
    "1. Use `cbind()`, `rbind()` to combine data frames. \n",
    "2. Use `plyr::rbind.fill()` to combine data frames that don't have same columns. \n",
    "3. `cbind()` 2 vectors actually creates a matrix; use `data.frame()` to directly create a data frame. "
   ]
  },
  {
   "cell_type": "code",
   "execution_count": 38,
   "id": "be6734b9",
   "metadata": {},
   "outputs": [
    {
     "data": {
      "text/html": [
       "<table>\n",
       "<thead><tr><th scope=col>x</th><th scope=col>y</th><th scope=col>z</th></tr></thead>\n",
       "<tbody>\n",
       "\t<tr><td>1</td><td>a</td><td>3</td></tr>\n",
       "\t<tr><td>2</td><td>b</td><td>2</td></tr>\n",
       "\t<tr><td>3</td><td>c</td><td>1</td></tr>\n",
       "</tbody>\n",
       "</table>\n"
      ],
      "text/latex": [
       "\\begin{tabular}{r|lll}\n",
       " x & y & z\\\\\n",
       "\\hline\n",
       "\t 1 & a & 3\\\\\n",
       "\t 2 & b & 2\\\\\n",
       "\t 3 & c & 1\\\\\n",
       "\\end{tabular}\n"
      ],
      "text/markdown": [
       "\n",
       "| x | y | z |\n",
       "|---|---|---|\n",
       "| 1 | a | 3 |\n",
       "| 2 | b | 2 |\n",
       "| 3 | c | 1 |\n",
       "\n"
      ],
      "text/plain": [
       "  x y z\n",
       "1 1 a 3\n",
       "2 2 b 2\n",
       "3 3 c 1"
      ]
     },
     "metadata": {},
     "output_type": "display_data"
    },
    {
     "data": {
      "text/html": [
       "<table>\n",
       "<thead><tr><th scope=col>x</th><th scope=col>y</th></tr></thead>\n",
       "<tbody>\n",
       "\t<tr><td> 1</td><td>a </td></tr>\n",
       "\t<tr><td> 2</td><td>b </td></tr>\n",
       "\t<tr><td> 3</td><td>c </td></tr>\n",
       "\t<tr><td>10</td><td>z </td></tr>\n",
       "</tbody>\n",
       "</table>\n"
      ],
      "text/latex": [
       "\\begin{tabular}{r|ll}\n",
       " x & y\\\\\n",
       "\\hline\n",
       "\t  1 & a \\\\\n",
       "\t  2 & b \\\\\n",
       "\t  3 & c \\\\\n",
       "\t 10 & z \\\\\n",
       "\\end{tabular}\n"
      ],
      "text/markdown": [
       "\n",
       "| x | y |\n",
       "|---|---|\n",
       "|  1 | a  |\n",
       "|  2 | b  |\n",
       "|  3 | c  |\n",
       "| 10 | z  |\n",
       "\n"
      ],
      "text/plain": [
       "  x  y\n",
       "1  1 a\n",
       "2  2 b\n",
       "3  3 c\n",
       "4 10 z"
      ]
     },
     "metadata": {},
     "output_type": "display_data"
    }
   ],
   "source": [
    "# Example 1\n",
    "cbind(df, data.frame(z = 3:1))\n",
    "rbind(df, data.frame(x = 10, y = \"z\"))"
   ]
  },
  {
   "cell_type": "code",
   "execution_count": 47,
   "id": "3552de8b",
   "metadata": {},
   "outputs": [
    {
     "data": {
      "text/html": [
       "<table>\n",
       "<thead><tr><th scope=col>a</th><th scope=col>b</th></tr></thead>\n",
       "<tbody>\n",
       "\t<tr><td>1</td><td>a</td></tr>\n",
       "\t<tr><td>2</td><td>b</td></tr>\n",
       "</tbody>\n",
       "</table>\n"
      ],
      "text/latex": [
       "\\begin{tabular}{ll}\n",
       " a & b\\\\\n",
       "\\hline\n",
       "\t 1 & a\\\\\n",
       "\t 2 & b\\\\\n",
       "\\end{tabular}\n"
      ],
      "text/markdown": [
       "\n",
       "| a | b |\n",
       "|---|---|\n",
       "| 1 | a |\n",
       "| 2 | b |\n",
       "\n"
      ],
      "text/plain": [
       "     a b\n",
       "[1,] 1 a\n",
       "[2,] 2 b"
      ]
     },
     "metadata": {},
     "output_type": "display_data"
    },
    {
     "data": {
      "text/html": [
       "'matrix'"
      ],
      "text/latex": [
       "'matrix'"
      ],
      "text/markdown": [
       "'matrix'"
      ],
      "text/plain": [
       "[1] \"matrix\""
      ]
     },
     "metadata": {},
     "output_type": "display_data"
    },
    {
     "data": {
      "text/html": [
       "<table>\n",
       "<thead><tr><th scope=col>a</th><th scope=col>b</th></tr></thead>\n",
       "<tbody>\n",
       "\t<tr><td>1</td><td>a</td></tr>\n",
       "\t<tr><td>2</td><td>b</td></tr>\n",
       "</tbody>\n",
       "</table>\n"
      ],
      "text/latex": [
       "\\begin{tabular}{r|ll}\n",
       " a & b\\\\\n",
       "\\hline\n",
       "\t 1 & a\\\\\n",
       "\t 2 & b\\\\\n",
       "\\end{tabular}\n"
      ],
      "text/markdown": [
       "\n",
       "| a | b |\n",
       "|---|---|\n",
       "| 1 | a |\n",
       "| 2 | b |\n",
       "\n"
      ],
      "text/plain": [
       "  a b\n",
       "1 1 a\n",
       "2 2 b"
      ]
     },
     "metadata": {},
     "output_type": "display_data"
    },
    {
     "data": {
      "text/html": [
       "'data.frame'"
      ],
      "text/latex": [
       "'data.frame'"
      ],
      "text/markdown": [
       "'data.frame'"
      ],
      "text/plain": [
       "[1] \"data.frame\""
      ]
     },
     "metadata": {},
     "output_type": "display_data"
    }
   ],
   "source": [
    "# Example 2: cbind 2 vectors actually creates a matrix \n",
    "# create vectors \n",
    "a <- c(1, 2)\n",
    "b <- c(\"a\", \"b\")\n",
    "cbind(a,b)\n",
    "class(cbind(a,b))\n",
    "\n",
    "# Example 3: use data.frame to direclty \n",
    "data.frame(a = 1:2, b = c(\"a\", \"b\"))\n",
    "class(data.frame(a = 1:2, b = c(\"a\", \"b\")))"
   ]
  },
  {
   "cell_type": "markdown",
   "id": "dd50a186",
   "metadata": {},
   "source": [
    "### Special columns"
   ]
  },
  {
   "cell_type": "markdown",
   "id": "9da1278c",
   "metadata": {},
   "source": [
    "1. Since a data frame is a list of vectors, it's possible for a data frame to have a column that is a list. \n",
    "2. However, when a list is given to `data.frame()`, it tries to put each item of list into its own column, so it fails if you put different lengths of vector/list in `data.frame()`.\n",
    "3. We can use `I()` which causes `data.frame()` to treat the list as one unit. \n",
    "4. We can also have a column of a data frame that's a matrix or array, as long as the number of rows matches the data frame. \n",
    "5. Use list and array columns with cause: many functions that work with data frames assume that all columns are atomic vectors. "
   ]
  },
  {
   "cell_type": "code",
   "execution_count": 48,
   "id": "47edf7b9",
   "metadata": {},
   "outputs": [
    {
     "data": {
      "text/html": [
       "<table>\n",
       "<thead><tr><th scope=col>x</th><th scope=col>y</th></tr></thead>\n",
       "<tbody>\n",
       "\t<tr><td>1   </td><td>1, 2</td></tr>\n",
       "\t<tr><td>2      </td><td>1, 2, 3</td></tr>\n",
       "\t<tr><td>3         </td><td>1, 2, 3, 4</td></tr>\n",
       "</tbody>\n",
       "</table>\n"
      ],
      "text/latex": [
       "\\begin{tabular}{r|ll}\n",
       " x & y\\\\\n",
       "\\hline\n",
       "\t 1    & 1, 2\\\\\n",
       "\t 2       & 1, 2, 3\\\\\n",
       "\t 3          & 1, 2, 3, 4\\\\\n",
       "\\end{tabular}\n"
      ],
      "text/markdown": [
       "\n",
       "| x | y |\n",
       "|---|---|\n",
       "| 1    | 1, 2 |\n",
       "| 2       | 1, 2, 3 |\n",
       "| 3          | 1, 2, 3, 4 |\n",
       "\n"
      ],
      "text/plain": [
       "  x y         \n",
       "1 1 1, 2      \n",
       "2 2 1, 2, 3   \n",
       "3 3 1, 2, 3, 4"
      ]
     },
     "metadata": {},
     "output_type": "display_data"
    }
   ],
   "source": [
    "# Example 1\n",
    "df <- data.frame(x = 1:3)\n",
    "df$y <- list(1:2, 1:3, 1:4)\n",
    "df "
   ]
  },
  {
   "cell_type": "code",
   "execution_count": 49,
   "id": "6f5864cb",
   "metadata": {},
   "outputs": [
    {
     "ename": "ERROR",
     "evalue": "Error in (function (..., row.names = NULL, check.rows = FALSE, check.names = TRUE, : arguments imply differing number of rows: 2, 3, 4\n",
     "output_type": "error",
     "traceback": [
      "Error in (function (..., row.names = NULL, check.rows = FALSE, check.names = TRUE, : arguments imply differing number of rows: 2, 3, 4\nTraceback:\n",
      "1. data.frame(x = 1:3, y = list(1:2, 1:3, 1:4))",
      "2. as.data.frame(x[[i]], optional = TRUE, stringsAsFactors = stringsAsFactors)",
      "3. as.data.frame.list(x[[i]], optional = TRUE, stringsAsFactors = stringsAsFactors)",
      "4. do.call(data.frame, c(x, alis))",
      "5. (function (..., row.names = NULL, check.rows = FALSE, check.names = TRUE, \n .     fix.empty.names = TRUE, stringsAsFactors = default.stringsAsFactors()) \n . {\n .     data.row.names <- if (check.rows && is.null(row.names)) \n .         function(current, new, i) {\n .             if (is.character(current)) \n .                 new <- as.character(new)\n .             if (is.character(new)) \n .                 current <- as.character(current)\n .             if (anyDuplicated(new)) \n .                 return(current)\n .             if (is.null(current)) \n .                 return(new)\n .             if (all(current == new) || all(current == \"\")) \n .                 return(new)\n .             stop(gettextf(\"mismatch of row names in arguments of 'data.frame', item %d\", \n .                 i), domain = NA)\n .         }\n .     else function(current, new, i) {\n .         if (is.null(current)) {\n .             if (anyDuplicated(new)) {\n .                 warning(gettextf(\"some row.names duplicated: %s --> row.names NOT used\", \n .                   paste(which(duplicated(new)), collapse = \",\")), \n .                   domain = NA)\n .                 current\n .             }\n .             else new\n .         }\n .         else current\n .     }\n .     object <- as.list(substitute(list(...)))[-1L]\n .     mirn <- missing(row.names)\n .     mrn <- is.null(row.names)\n .     x <- list(...)\n .     n <- length(x)\n .     if (n < 1L) {\n .         if (!mrn) {\n .             if (is.object(row.names) || !is.integer(row.names)) \n .                 row.names <- as.character(row.names)\n .             if (anyNA(row.names)) \n .                 stop(\"row names contain missing values\")\n .             if (anyDuplicated(row.names)) \n .                 stop(gettextf(\"duplicate row.names: %s\", paste(unique(row.names[duplicated(row.names)]), \n .                   collapse = \", \")), domain = NA)\n .         }\n .         else row.names <- integer()\n .         return(structure(list(), names = character(), row.names = row.names, \n .             class = \"data.frame\"))\n .     }\n .     vnames <- names(x)\n .     if (length(vnames) != n) \n .         vnames <- character(n)\n .     no.vn <- !nzchar(vnames)\n .     vlist <- vnames <- as.list(vnames)\n .     nrows <- ncols <- integer(n)\n .     for (i in seq_len(n)) {\n .         xi <- if (is.character(x[[i]]) || is.list(x[[i]])) \n .             as.data.frame(x[[i]], optional = TRUE, stringsAsFactors = stringsAsFactors)\n .         else as.data.frame(x[[i]], optional = TRUE)\n .         nrows[i] <- .row_names_info(xi)\n .         ncols[i] <- length(xi)\n .         namesi <- names(xi)\n .         if (ncols[i] > 1L) {\n .             if (length(namesi) == 0L) \n .                 namesi <- seq_len(ncols[i])\n .             vnames[[i]] <- if (no.vn[i]) \n .                 namesi\n .             else paste(vnames[[i]], namesi, sep = \".\")\n .         }\n .         else if (length(namesi)) {\n .             vnames[[i]] <- namesi\n .         }\n .         else if (fix.empty.names && no.vn[[i]]) {\n .             tmpname <- deparse(object[[i]], nlines = 1L)[1L]\n .             if (substr(tmpname, 1L, 2L) == \"I(\") {\n .                 ntmpn <- nchar(tmpname, \"c\")\n .                 if (substr(tmpname, ntmpn, ntmpn) == \")\") \n .                   tmpname <- substr(tmpname, 3L, ntmpn - 1L)\n .             }\n .             vnames[[i]] <- tmpname\n .         }\n .         if (mirn && nrows[i] > 0L) {\n .             rowsi <- attr(xi, \"row.names\")\n .             if (any(nzchar(rowsi))) \n .                 row.names <- data.row.names(row.names, rowsi, \n .                   i)\n .         }\n .         nrows[i] <- abs(nrows[i])\n .         vlist[[i]] <- xi\n .     }\n .     nr <- max(nrows)\n .     for (i in seq_len(n)[nrows < nr]) {\n .         xi <- vlist[[i]]\n .         if (nrows[i] > 0L && (nr%%nrows[i] == 0L)) {\n .             xi <- unclass(xi)\n .             fixed <- TRUE\n .             for (j in seq_along(xi)) {\n .                 xi1 <- xi[[j]]\n .                 if (is.vector(xi1) || is.factor(xi1)) \n .                   xi[[j]] <- rep(xi1, length.out = nr)\n .                 else if (is.character(xi1) && inherits(xi1, \"AsIs\")) \n .                   xi[[j]] <- structure(rep(xi1, length.out = nr), \n .                     class = class(xi1))\n .                 else if (inherits(xi1, \"Date\") || inherits(xi1, \n .                   \"POSIXct\")) \n .                   xi[[j]] <- rep(xi1, length.out = nr)\n .                 else {\n .                   fixed <- FALSE\n .                   break\n .                 }\n .             }\n .             if (fixed) {\n .                 vlist[[i]] <- xi\n .                 next\n .             }\n .         }\n .         stop(gettextf(\"arguments imply differing number of rows: %s\", \n .             paste(unique(nrows), collapse = \", \")), domain = NA)\n .     }\n .     value <- unlist(vlist, recursive = FALSE, use.names = FALSE)\n .     vnames <- unlist(vnames[ncols > 0L])\n .     if (fix.empty.names && any(noname <- !nzchar(vnames))) \n .         vnames[noname] <- paste0(\"Var.\", seq_along(vnames))[noname]\n .     if (check.names) {\n .         if (fix.empty.names) \n .             vnames <- make.names(vnames, unique = TRUE)\n .         else {\n .             nz <- nzchar(vnames)\n .             vnames[nz] <- make.names(vnames[nz], unique = TRUE)\n .         }\n .     }\n .     names(value) <- vnames\n .     if (!mrn) {\n .         if (length(row.names) == 1L && nr != 1L) {\n .             if (is.character(row.names)) \n .                 row.names <- match(row.names, vnames, 0L)\n .             if (length(row.names) != 1L || row.names < 1L || \n .                 row.names > length(vnames)) \n .                 stop(\"'row.names' should specify one of the variables\")\n .             i <- row.names\n .             row.names <- value[[i]]\n .             value <- value[-i]\n .         }\n .         else if (!is.null(row.names) && length(row.names) != \n .             nr) \n .             stop(\"row names supplied are of the wrong length\")\n .     }\n .     else if (!is.null(row.names) && length(row.names) != nr) {\n .         warning(\"row names were found from a short variable and have been discarded\")\n .         row.names <- NULL\n .     }\n .     class(value) <- \"data.frame\"\n .     if (is.null(row.names)) \n .         attr(value, \"row.names\") <- .set_row_names(nr)\n .     else {\n .         if (is.object(row.names) || !is.integer(row.names)) \n .             row.names <- as.character(row.names)\n .         if (anyNA(row.names)) \n .             stop(\"row names contain missing values\")\n .         if (anyDuplicated(row.names)) \n .             stop(gettextf(\"duplicate row.names: %s\", paste(unique(row.names[duplicated(row.names)]), \n .                 collapse = \", \")), domain = NA)\n .         row.names(value) <- row.names\n .     }\n .     value\n . })(1:2, 1:3, 1:4, check.names = FALSE, fix.empty.names = TRUE, \n .     stringsAsFactors = TRUE)",
      "6. stop(gettextf(\"arguments imply differing number of rows: %s\", \n .     paste(unique(nrows), collapse = \", \")), domain = NA)"
     ]
    }
   ],
   "source": [
    "# Example 2\n",
    "data.frame(x = 1:3, y = list(1:2, 1:3, 1:4))"
   ]
  },
  {
   "cell_type": "code",
   "execution_count": 65,
   "id": "8771c669",
   "metadata": {},
   "outputs": [
    {
     "name": "stdout",
     "output_type": "stream",
     "text": [
      "'data.frame':\t3 obs. of  2 variables:\n",
      " $ x: int  1 2 3\n",
      " $ y:List of 3\n",
      "  ..$ : int  1 2\n",
      "  ..$ : int  1 2 3\n",
      "  ..$ : int  1 2 3 4\n",
      "  ..- attr(*, \"class\")= chr \"AsIs\"\n"
     ]
    },
    {
     "data": {
      "text/plain": [
       "[[1]]\n",
       "[1] 1 2 3\n"
      ]
     },
     "metadata": {},
     "output_type": "display_data"
    },
    {
     "data": {
      "text/plain": [
       "[[1]]\n",
       "[1] 1 2\n"
      ]
     },
     "metadata": {},
     "output_type": "display_data"
    },
    {
     "data": {
      "text/html": [
       "1"
      ],
      "text/latex": [
       "1"
      ],
      "text/markdown": [
       "1"
      ],
      "text/plain": [
       "[1] 1"
      ]
     },
     "metadata": {},
     "output_type": "display_data"
    }
   ],
   "source": [
    "# Example 3\n",
    "df1 <- data.frame(x = 1:3, y = I(list(1:2, 1:3, 1:4)))\n",
    "str(df1)\n",
    "\n",
    "# access second element in variable \"y\"\n",
    "df1[2, \"y\"]\n",
    "# access first element in variable \"y\"\n",
    "df1[1, \"y\"]\n",
    "# access first element in variable \"x\"\n",
    "df1[1, \"x\"]"
   ]
  },
  {
   "cell_type": "code",
   "execution_count": 66,
   "id": "f91112fb",
   "metadata": {},
   "outputs": [
    {
     "name": "stdout",
     "output_type": "stream",
     "text": [
      "'data.frame':\t3 obs. of  2 variables:\n",
      " $ x: int  1 2 3\n",
      " $ y: 'AsIs' int [1:3, 1:3] 1 2 3 4 5 6 7 8 9\n"
     ]
    },
    {
     "data": {
      "text/plain": [
       "     [,1] [,2] [,3]\n",
       "[1,]    2    5    8"
      ]
     },
     "metadata": {},
     "output_type": "display_data"
    }
   ],
   "source": [
    "# Example 4\n",
    "dfm <- data.frame(x = 1:3, y = I(matrix(1:9, nrow = 3)))\n",
    "str(dfm)\n",
    "dfm[2, \"y\"]"
   ]
  }
 ],
 "metadata": {
  "kernelspec": {
   "display_name": "R",
   "language": "R",
   "name": "ir"
  },
  "language_info": {
   "codemirror_mode": "r",
   "file_extension": ".r",
   "mimetype": "text/x-r-source",
   "name": "R",
   "pygments_lexer": "r",
   "version": "3.6.1"
  },
  "toc": {
   "base_numbering": 1,
   "nav_menu": {},
   "number_sections": true,
   "sideBar": true,
   "skip_h1_title": false,
   "title_cell": "Table of Contents",
   "title_sidebar": "Contents",
   "toc_cell": false,
   "toc_position": {},
   "toc_section_display": true,
   "toc_window_display": false
  },
  "varInspector": {
   "cols": {
    "lenName": 16,
    "lenType": 16,
    "lenVar": 40
   },
   "kernels_config": {
    "python": {
     "delete_cmd_postfix": "",
     "delete_cmd_prefix": "del ",
     "library": "var_list.py",
     "varRefreshCmd": "print(var_dic_list())"
    },
    "r": {
     "delete_cmd_postfix": ") ",
     "delete_cmd_prefix": "rm(",
     "library": "var_list.r",
     "varRefreshCmd": "cat(var_dic_list()) "
    }
   },
   "types_to_exclude": [
    "module",
    "function",
    "builtin_function_or_method",
    "instance",
    "_Feature"
   ],
   "window_display": false
  }
 },
 "nbformat": 4,
 "nbformat_minor": 5
}
