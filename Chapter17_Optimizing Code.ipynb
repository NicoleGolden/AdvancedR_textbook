{
 "cells": [
  {
   "cell_type": "markdown",
   "id": "8e87b9fb",
   "metadata": {},
   "source": [
    "**Introduction**: <br>\n",
    "1. Optimizing code to make it run faster is an iterative process: <br>\n",
    "(1) Find the biggest bottleneck (slowest part of your code)<br>\n",
    "(2) Try to eliminate it (you may not succeed but it's ok)<br>\n",
    "(3) Repeat until your code is \"fast enough\" <br>\n",
    "\n",
    "2. Profile your code: use realistic input and measure the run-time of each individual operation. \n",
    "\n",
    "3. You should set a goal time for your code and optimize only up to that goal."
   ]
  },
  {
   "cell_type": "markdown",
   "id": "df65e5d1",
   "metadata": {},
   "source": [
    "## Measuring performance"
   ]
  },
  {
   "cell_type": "markdown",
   "id": "8d7d3973",
   "metadata": {},
   "source": [
    "skipped"
   ]
  },
  {
   "cell_type": "markdown",
   "id": "4c1a98ba",
   "metadata": {},
   "source": [
    "### Limitations"
   ]
  },
  {
   "cell_type": "markdown",
   "id": "fc74c2a6",
   "metadata": {},
   "source": [
    "skipped"
   ]
  },
  {
   "cell_type": "markdown",
   "id": "be9a1446",
   "metadata": {},
   "source": [
    "## Improving performance"
   ]
  },
  {
   "cell_type": "markdown",
   "id": "db09f870",
   "metadata": {},
   "source": [
    "1. Once you've used profiling to identify a bottleneck, make it faster.<br><br>\n",
    "2. Use these techniques: <br><br>\n",
    "(1) Look for existing solutions <br><br>\n",
    "(2) Do less work<br><br>\n",
    "(3) Vectorize<br><br>\n",
    "(4) Parallelize<br><br>\n",
    "(5) Avoid copies <br><br>\n",
    "(6) Byte-code compile<br><br>"
   ]
  },
  {
   "cell_type": "markdown",
   "id": "28328214",
   "metadata": {},
   "source": [
    "## Code organization "
   ]
  },
  {
   "cell_type": "markdown",
   "id": "f2ce8790",
   "metadata": {},
   "source": [
    "1. There are 2 traps that are easy to fall into when trying to make your code faster: <br>\n",
    "(1) writing faster but incorrect code <br>\n",
    "(2) writing code that you think is faster, but is actually no better. <br><br>\n",
    "\n",
    "2. The process to make faster code: <br>\n",
    "(1) Compare run time of different approaches that returns the correct result. Keep a record of everything you try, even the failures. You can use R Markdown, which makes it easy to intermingle code with detailed comments and notes. <br>\n",
    "(2) Generate a representative test case. The case should be big enough to capture the essence of your problem but small enough that it takes only a few seconds to run. <br>\n",
    "(3) Use this test case to quickly check that all variants return the same result. Use `stopifnot()` and `all.equal()` to check same results. <br>\n",
    "(4) For real problems with fewer possible outputs, you may need more tests to make sure that an approach doesn't accidentally return the correct answer.<br>\n",
    "(5) Use `microbenchmark` package to compare how long each variation takes to run. <br>\n",
    "(i) For bigger problems, reduce `times` parameter so that it only takes a couple of seconds to run. <br>\n",
    "(ii) Focus on median time, and use upper and lower quartiles to gauge the variability of the measurement. <br><br>\n",
    "\n",
    "In example 3, mean() is slower because it makes 2 passes over the vector to be more numerically accurate."
   ]
  },
  {
   "cell_type": "code",
   "execution_count": 5,
   "id": "163fe6d6",
   "metadata": {},
   "outputs": [],
   "source": [
    "# Example 1: get mean \n",
    "\n",
    "# method 1\n",
    "mean1 <- function(x) mean(x)\n",
    "\n",
    "# methdo 2: faster \n",
    "mean2 <- function(x) sum(x) / length(x)"
   ]
  },
  {
   "cell_type": "code",
   "execution_count": 6,
   "id": "6784f41d",
   "metadata": {},
   "outputs": [],
   "source": [
    "# Exampel 2: \n",
    "# use stopifnot() to test if get correct results (same results)\n",
    "\n",
    "# create vector \n",
    "x <- runif(100)\n",
    "\n",
    "# test equality \n",
    "# since they're equal, it doesn't show anything\n",
    "stopifnot(all.equal(mean1(x), mean2(x)))"
   ]
  },
  {
   "cell_type": "code",
   "execution_count": 10,
   "id": "931818a4",
   "metadata": {},
   "outputs": [],
   "source": [
    "# Example 3\n",
    "\n",
    "# load package \n",
    "library(microbenchmark)\n",
    "\n",
    "# microbenchmark\n",
    "# RStuido gives more compact result \n",
    "microbenchmark(mean1(x), \n",
    "               mean2(x))\n",
    "\n",
    "# output in RStuio is like this:\n",
    "#> Unit: nanoseconds \n",
    "#>  exper     min    lq     median  uq     max     neval\n",
    "#> mean1(x)   5,680  6,080  6,250   6,490  38,500  100\n",
    "#> mean2(x)   763    1,010  1,220   1,380  17,300  100"
   ]
  },
  {
   "cell_type": "markdown",
   "id": "75c1c511",
   "metadata": {},
   "source": [
    "## Has someone already solved the problem? "
   ]
  },
  {
   "cell_type": "markdown",
   "id": "76409466",
   "metadata": {},
   "source": [
    "Get help: <br>\n",
    "(1) CRAN task views: https://cran.r-project.org/web/views/ <br>\n",
    "(2) rseek: https://rseek.org/ <br>\n",
    "(3) stackoverflow (R tag): https://stackoverflow.com/questions/tagged/r?sort=Newest&edited=true"
   ]
  },
  {
   "cell_type": "markdown",
   "id": "19ebc1b9",
   "metadata": {},
   "source": [
    "## Do as little as possible"
   ]
  },
  {
   "cell_type": "markdown",
   "id": "7a6c3ea3",
   "metadata": {},
   "source": [
    "1. The easiest way to make a function faster is to let it do less work. For example, use a function tailored to a more specific type of input / output, or a more specific problem. <br><br>\n",
    "(1) `rowSums()`, `colSums()`, `rowMeans()`, `colMeans()` are faster than apply() because they are vectorized. <br><br>\n",
    "(2) `vapply()` is faster than sapply() because it pre-specifies the output type. <br><br>\n",
    "(3) If you want to see if a vector contains a single value, `any(x == 10)` is faster than `10 %in% x`. It's because testing equality is simpler than testing inclusion in a set. <br><br>\n",
    "\n",
    "2. Having this knowledge at fingertips requires knowing that alternative functions exists. You need to have a good vocabulary. <br>\n",
    "(1) Go to chapter 4 for a start. <br>\n",
    "(2) Regularly read R code:<br>\n",
    "(i) R-help mailing list: https://www.r-project.org/mail.html <br>\n",
    "(ii) Stackoverflow (R tag) <br><br>\n",
    "\n",
    "3. Some functions coerce their inputs into a specific type. <br>\n",
    "If your input is not the right type, the function has to do extra work. <br>\n",
    "Instead, look for a function that works with your data as it is, or condier changing the way you store your data. <br>\n",
    "Example: `apply()` on data frame: it ways turns its input into a matrix. Not only is this error prone (because data frame is more general than matrix), it's also slower. <br><br>\n",
    "\n",
    "4. Other functions will do less work if you give them more information about the problem: <br>\n",
    "(1) `read.csv()`: specify known column types with **colClasses**<br>\n",
    "(2) `factor()`: specify known levels with **levels**<br>\n",
    "(3) `cut()`: don't generate labels with **labels = FALSE** if you do't need them, or even better use `findInterval()` as mentioned in the \"see also\" section of the documentation. <br>\n",
    "(4) `unlist(x, use.names = FALSE)` is faster than unlist(x).<br>\n",
    "(5) `interaction()`: if you only need combinations that exist in the data, use **drop = TRUE**.<br><br>\n",
    "\n",
    "5. Sometimes, you can make a function faster by avoiding method dispatch. Method dispatch in R can be costly. If you're calling a method in a tight loop, you can avoid some of the costs by doing the method lookup only once: <br>\n",
    "(1) for S3, do this by calling `generic.class()` instead of generic().<br>\n",
    "(2) For S4, do this by using `findMethod()` to find method, saving it to a variable, and calling that function.<br><br>\n",
    "\n",
    "Example 1: mean.default() is a bit faster for small vectors.<br>\n",
    "However, mean.default() will fail in surprising ways if x isn't numeric vector. <br><br>\n",
    "\n",
    "6. Knowing you're dealing with a specific type of input can be another way to write faster code. <br><br>\n",
    "\n",
    "Example 2: `as.data.frame()`is slow because it coerces each element into a data frame and then rbind() them together. <br>\n",
    "If you have a named list with vectors of equal length, you can directly transform it into a data frame. This method is fast because it's dangerous: if you give it bad inputs, you get corrupt data frame <br><br>\n",
    "\n",
    "7. Most base R functions are written for flexibility and functionality, not performance. Rewriting for your specific need can often yield substantial improvements. To do this, you need to read source code. "
   ]
  },
  {
   "cell_type": "code",
   "execution_count": 20,
   "id": "6c9e9a2e",
   "metadata": {},
   "outputs": [],
   "source": [
    "# Example 1: mean.default() is a bit faster for small vectors\n",
    "\n",
    "# create vector \n",
    "x <- runif(1e2)\n",
    "\n",
    "# compare mean(), mean.default()\n",
    "microbenchmark(mean(x), \n",
    "               mean.default(x))\n",
    "\n",
    "#>                    median\n",
    "#> mean(x)            5.25\n",
    "#> mean.default(x)    1.64"
   ]
  },
  {
   "cell_type": "code",
   "execution_count": 24,
   "id": "62860897",
   "metadata": {},
   "outputs": [],
   "source": [
    "# Exampel 2: \n",
    "\n",
    "# create functiuon: quickdf()\n",
    "# this makes data frame quickly\n",
    "quickdf <- function(l) {\n",
    "    class(l) <- \"data.frame\"\n",
    "    attr(l, \"row.names\") <- .set_row_names(length(l[[1]]))\n",
    "    l\n",
    "}\n",
    "\n",
    "# create vector \n",
    "l <- lapply(1:26, function(i) runif(1e3))\n",
    "names(l) <- letters \n",
    "\n",
    "# compare: quickdf() vs as.data.frame()\n",
    "microbenchmark(quick_df = quickdf(l),\n",
    "              as.data.frame = as.data.frame(l))\n",
    "\n",
    "#>                 median\n",
    "#> quick_df        21.1\n",
    "#> as.data.frame   1,600"
   ]
  },
  {
   "cell_type": "markdown",
   "id": "780d974f",
   "metadata": {},
   "source": [
    "## Vectorize"
   ]
  },
  {
   "cell_type": "markdown",
   "id": "8ea68c7e",
   "metadata": {},
   "source": [
    "1. **Vectorizing code** is not just about avoiding for loops, although that's often a step. <br>\n",
    "Vectorizing is about taking a whole object approach to a problem, thinking about vectors, not scalars. <br><br>\n",
    "\n",
    "2. Two key attributes of a vectorized function: <br>\n",
    "(1) It makes many problems simpler. Instead of having to think about the components of a vector, you only think about entire vectors. <br>\n",
    "(2) The loops in a vectorized function are written in C. Loops in C are much faster because they have much less overhead.<br><br>\n",
    "\n",
    "3. Functions like apply(), lapply(), Vectorise() improve interface of a function, but don't fundamentally change performance. <br>\n",
    "Using vectorization for performance means finding existing R functions that is implemented in C and most closely applied to your problem.<br><br>\n",
    "\n",
    "4. Vectorized functions that apply to many common performance bottlenecks include: <br>\n",
    "(1) `rowSums()`, `colSums()`, `rowMeans()`, `colMeans()`. <br>\n",
    "These vectorized matrix functions will always be faster than using apply. You can sometimes use these functions to build other vectorized functions. <br>\n",
    "```\n",
    "rowAny <- function(x) rowSums(x) > 0\n",
    "rowAll <- function(x) rowSums(x) == ncol(x)\n",
    "```\n",
    "(2) Vectorized subsetting can lead to big improvements in speed. <br>\n",
    "Remember Lookup tables (character subsetting) in Section 3.4.1, and matching and merging by hand in Section 3.4.2. <br>\n",
    "Also remember you can use subsetting assignment to replace multiple values in a single step. If x is a vector, matrix or data frame, then `x[is.na(x)] <- 0` will replace all NAs with 0. \n",
    "(3) If you are extracting / replacing values in scattered locations in a matrix / data frame, subset with an integer matrix, see Section 3.1.3. <br>\n",
    "(4) If you are converting continuous values to categorical, make sure use cut() or findInterval(). <br>\n",
    "(5) Be aware of vectorized functions like `cumsum()` and `diff()`. <br><br>\n",
    "\n",
    "5. Matrix algebra is a general example of vectorization.<br> \n",
    "The loops are executed by highly tuned external libraries like BLAS. <br>\n",
    "If you can figure out a way to use matrix algebra to solve your problem, you'll often get a very fast solution. <br><br>\n",
    "\n",
    "6. Downside of vectorization: it makes it harder to predict how operations will scale. <br>\n",
    "Vectorization won't solve every problem, and rather than torturing an existing algorithm into one that uses a vectorized approach, you're often better off writing your own vectorized function in C+++"
   ]
  },
  {
   "cell_type": "code",
   "execution_count": null,
   "id": "84b7e7ac",
   "metadata": {},
   "outputs": [],
   "source": [
    "# Example 1\n",
    "\n",
    "# create look up table \n",
    "# list of 26\n",
    "lookup <- setNames(as.list(sample(100, 26)), letters)\n",
    "\n",
    "# create 3 sample vectors (names) \n",
    "x1 <- \"j\"\n",
    "x10 <- sample(letters, 10)\n",
    "x100 <- sample(letters, 199m replace = TRUE)\n",
    "\n",
    "# compare search time \n",
    "microbenchmark(lookup[x1], \n",
    "               lookup[x10], \n",
    "               lookup[x100])\n",
    "\n",
    "#>                median\n",
    "#> lookup[x1]     634\n",
    "#> lookup[x10]    1,580\n",
    "#> lookup[x100])  6,110"
   ]
  },
  {
   "cell_type": "markdown",
   "id": "3f103586",
   "metadata": {},
   "source": [
    "## Avoid copies"
   ]
  },
  {
   "cell_type": "markdown",
   "id": "c01fe4db",
   "metadata": {},
   "source": [
    "1. Whenever you use `c(), append(), cbind(), rbind(), paste()` to create a bigger project, R must first allocate space for the new object and then copy the old object to its new home. <br>\n",
    "If you repeating this many times, like in a for loop, this is expensive. "
   ]
  },
  {
   "cell_type": "markdown",
   "id": "a2d6b389",
   "metadata": {},
   "source": [
    "## Byte code compilation"
   ]
  },
  {
   "cell_type": "markdown",
   "id": "2764c908",
   "metadata": {},
   "source": [
    "1. R complier can increase speed of some code. <br>\n",
    "From byte code compilation, you're more likely to get 5-10% improvement. All base R functions are byte code compiled by default. "
   ]
  },
  {
   "cell_type": "markdown",
   "id": "b99d9f7c",
   "metadata": {},
   "source": [
    "## Case study: t-test"
   ]
  },
  {
   "cell_type": "markdown",
   "id": "efc11355",
   "metadata": {},
   "source": [
    "skipped"
   ]
  }
 ],
 "metadata": {
  "kernelspec": {
   "display_name": "R",
   "language": "R",
   "name": "ir"
  },
  "language_info": {
   "codemirror_mode": "r",
   "file_extension": ".r",
   "mimetype": "text/x-r-source",
   "name": "R",
   "pygments_lexer": "r",
   "version": "3.6.1"
  },
  "toc": {
   "base_numbering": 1,
   "nav_menu": {},
   "number_sections": true,
   "sideBar": true,
   "skip_h1_title": false,
   "title_cell": "Table of Contents",
   "title_sidebar": "Contents",
   "toc_cell": false,
   "toc_position": {},
   "toc_section_display": true,
   "toc_window_display": false
  },
  "varInspector": {
   "cols": {
    "lenName": 16,
    "lenType": 16,
    "lenVar": 40
   },
   "kernels_config": {
    "python": {
     "delete_cmd_postfix": "",
     "delete_cmd_prefix": "del ",
     "library": "var_list.py",
     "varRefreshCmd": "print(var_dic_list())"
    },
    "r": {
     "delete_cmd_postfix": ") ",
     "delete_cmd_prefix": "rm(",
     "library": "var_list.r",
     "varRefreshCmd": "cat(var_dic_list()) "
    }
   },
   "types_to_exclude": [
    "module",
    "function",
    "builtin_function_or_method",
    "instance",
    "_Feature"
   ],
   "window_display": false
  }
 },
 "nbformat": 4,
 "nbformat_minor": 5
}
