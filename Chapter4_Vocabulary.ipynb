{
 "cells": [
  {
   "cell_type": "markdown",
   "id": "355ca48c",
   "metadata": {},
   "source": [
    "## The basics"
   ]
  },
  {
   "cell_type": "markdown",
   "id": "408a5c6b",
   "metadata": {},
   "source": []
  },
  {
   "cell_type": "markdown",
   "id": "76f09acf",
   "metadata": {},
   "source": [
    "## Common data structures"
   ]
  },
  {
   "cell_type": "markdown",
   "id": "3966bcca",
   "metadata": {},
   "source": []
  },
  {
   "cell_type": "markdown",
   "id": "7c83cf1e",
   "metadata": {},
   "source": [
    "## Statistics"
   ]
  },
  {
   "cell_type": "markdown",
   "id": "f97f43fa",
   "metadata": {},
   "source": []
  },
  {
   "cell_type": "markdown",
   "id": "6480025c",
   "metadata": {},
   "source": [
    "## Working with R"
   ]
  },
  {
   "cell_type": "markdown",
   "id": "cc1d516b",
   "metadata": {},
   "source": []
  },
  {
   "cell_type": "markdown",
   "id": "b998248e",
   "metadata": {},
   "source": [
    "## I/O"
   ]
  },
  {
   "cell_type": "markdown",
   "id": "450080ad",
   "metadata": {},
   "source": []
  }
 ],
 "metadata": {
  "kernelspec": {
   "display_name": "R",
   "language": "R",
   "name": "ir"
  },
  "language_info": {
   "codemirror_mode": "r",
   "file_extension": ".r",
   "mimetype": "text/x-r-source",
   "name": "R",
   "pygments_lexer": "r",
   "version": "3.6.1"
  },
  "toc": {
   "base_numbering": 1,
   "nav_menu": {},
   "number_sections": true,
   "sideBar": true,
   "skip_h1_title": false,
   "title_cell": "Table of Contents",
   "title_sidebar": "Contents",
   "toc_cell": false,
   "toc_position": {},
   "toc_section_display": true,
   "toc_window_display": false
  },
  "varInspector": {
   "cols": {
    "lenName": 16,
    "lenType": 16,
    "lenVar": 40
   },
   "kernels_config": {
    "python": {
     "delete_cmd_postfix": "",
     "delete_cmd_prefix": "del ",
     "library": "var_list.py",
     "varRefreshCmd": "print(var_dic_list())"
    },
    "r": {
     "delete_cmd_postfix": ") ",
     "delete_cmd_prefix": "rm(",
     "library": "var_list.r",
     "varRefreshCmd": "cat(var_dic_list()) "
    }
   },
   "types_to_exclude": [
    "module",
    "function",
    "builtin_function_or_method",
    "instance",
    "_Feature"
   ],
   "window_display": false
  }
 },
 "nbformat": 4,
 "nbformat_minor": 5
}
