{
 "cells": [
  {
   "cell_type": "markdown",
   "id": "0fe87bfb",
   "metadata": {},
   "source": [
    "**Introduction**<br>\n",
    "Subsetting is a natural complement to `str()`. str() shows you the structure of any object, and subsetting allows you to pull out the pieces that you are interested in."
   ]
  },
  {
   "cell_type": "markdown",
   "id": "9150fd21",
   "metadata": {},
   "source": [
    "## Data Types "
   ]
  },
  {
   "cell_type": "markdown",
   "id": "c7ff9bab",
   "metadata": {},
   "source": [
    "### Atomic Vectors"
   ]
  },
  {
   "cell_type": "markdown",
   "id": "3f7bd671",
   "metadata": {},
   "source": [
    "1. Subset vector: <br>\n",
    "------ Use methods (1) - (2):<br>\n",
    "(1) **positive integers**: returns elements at specified positions. <br>\n",
    "Example: x[c(1, 2)]  <br><br>\n",
    "(2) **negative integers**: omits elements at specified positions. <br>\n",
    "Example: x[-c(1, 2)]) <br><br><br>\n",
    "\n",
    "^^^^^^ More methods: (3) - (6) <br>\n",
    "(3) **logical vectors**: select elements where corresponding logical value is TRUE.<br> \n",
    "Example: x[c(T, F)]) <br><br>\n",
    "\n",
    "(4) **nothing**: returns original vector. <br>\n",
    "Example: x[] <br>\n",
    "Note: This is not useful for vectors, but useful for matrices, data frames, and arrays, pr in conjunction with assignment. <br><br>\n",
    "(5) **zero**: returns zero-length vector. It can be useful for generating test data.<br> \n",
    "Example: x[0] <br><br>\n",
    "(6) **character vectors**: If a vector is named, subsetting with character vectors returns elements with matching names. <br>\n",
    "Example: x[c(\"a\", \"b\")]\n",
    "\n",
    "<br><br>\n",
    "\n",
    "Note: <br>\n",
    "Method (1) - (5) all just return numbers, method (6) preserves structures (returns numbers and names of each element). "
   ]
  },
  {
   "cell_type": "code",
   "execution_count": 5,
   "id": "9b5cf070",
   "metadata": {},
   "outputs": [
    {
     "data": {
      "text/html": [
       "<ol class=list-inline>\n",
       "\t<li>2.1</li>\n",
       "\t<li>4.2</li>\n",
       "\t<li>3.3</li>\n",
       "\t<li>5.4</li>\n",
       "</ol>\n"
      ],
      "text/latex": [
       "\\begin{enumerate*}\n",
       "\\item 2.1\n",
       "\\item 4.2\n",
       "\\item 3.3\n",
       "\\item 5.4\n",
       "\\end{enumerate*}\n"
      ],
      "text/markdown": [
       "1. 2.1\n",
       "2. 4.2\n",
       "3. 3.3\n",
       "4. 5.4\n",
       "\n",
       "\n"
      ],
      "text/plain": [
       "[1] 2.1 4.2 3.3 5.4"
      ]
     },
     "metadata": {},
     "output_type": "display_data"
    },
    {
     "data": {
      "text/html": [
       "<ol class=list-inline>\n",
       "\t<li>3.3</li>\n",
       "\t<li>2.1</li>\n",
       "</ol>\n"
      ],
      "text/latex": [
       "\\begin{enumerate*}\n",
       "\\item 3.3\n",
       "\\item 2.1\n",
       "\\end{enumerate*}\n"
      ],
      "text/markdown": [
       "1. 3.3\n",
       "2. 2.1\n",
       "\n",
       "\n"
      ],
      "text/plain": [
       "[1] 3.3 2.1"
      ]
     },
     "metadata": {},
     "output_type": "display_data"
    },
    {
     "data": {
      "text/html": [
       "<ol class=list-inline>\n",
       "\t<li>2.1</li>\n",
       "\t<li>3.3</li>\n",
       "\t<li>4.2</li>\n",
       "\t<li>5.4</li>\n",
       "</ol>\n"
      ],
      "text/latex": [
       "\\begin{enumerate*}\n",
       "\\item 2.1\n",
       "\\item 3.3\n",
       "\\item 4.2\n",
       "\\item 5.4\n",
       "\\end{enumerate*}\n"
      ],
      "text/markdown": [
       "1. 2.1\n",
       "2. 3.3\n",
       "3. 4.2\n",
       "4. 5.4\n",
       "\n",
       "\n"
      ],
      "text/plain": [
       "[1] 2.1 3.3 4.2 5.4"
      ]
     },
     "metadata": {},
     "output_type": "display_data"
    },
    {
     "data": {
      "text/html": [
       "<ol class=list-inline>\n",
       "\t<li>2.1</li>\n",
       "\t<li>2.1</li>\n",
       "</ol>\n"
      ],
      "text/latex": [
       "\\begin{enumerate*}\n",
       "\\item 2.1\n",
       "\\item 2.1\n",
       "\\end{enumerate*}\n"
      ],
      "text/markdown": [
       "1. 2.1\n",
       "2. 2.1\n",
       "\n",
       "\n"
      ],
      "text/plain": [
       "[1] 2.1 2.1"
      ]
     },
     "metadata": {},
     "output_type": "display_data"
    },
    {
     "data": {
      "text/html": [
       "<ol class=list-inline>\n",
       "\t<li>4.2</li>\n",
       "\t<li>4.2</li>\n",
       "</ol>\n"
      ],
      "text/latex": [
       "\\begin{enumerate*}\n",
       "\\item 4.2\n",
       "\\item 4.2\n",
       "\\end{enumerate*}\n"
      ],
      "text/markdown": [
       "1. 4.2\n",
       "2. 4.2\n",
       "\n",
       "\n"
      ],
      "text/plain": [
       "[1] 4.2 4.2"
      ]
     },
     "metadata": {},
     "output_type": "display_data"
    },
    {
     "data": {
      "text/html": [
       "<ol class=list-inline>\n",
       "\t<li>2.1</li>\n",
       "\t<li>4.2</li>\n",
       "\t<li>3.3</li>\n",
       "\t<li>5.4</li>\n",
       "</ol>\n"
      ],
      "text/latex": [
       "\\begin{enumerate*}\n",
       "\\item 2.1\n",
       "\\item 4.2\n",
       "\\item 3.3\n",
       "\\item 5.4\n",
       "\\end{enumerate*}\n"
      ],
      "text/markdown": [
       "1. 2.1\n",
       "2. 4.2\n",
       "3. 3.3\n",
       "4. 5.4\n",
       "\n",
       "\n"
      ],
      "text/plain": [
       "[1] 2.1 4.2 3.3 5.4"
      ]
     },
     "metadata": {},
     "output_type": "display_data"
    }
   ],
   "source": [
    "# Example 1: subset vector with positive integers\n",
    "\n",
    "# create vector \n",
    "x <- c(2.1, 4.2, 3.3, 5.4)\n",
    "x\n",
    "\n",
    "# -------- (1) subset with positive integers\n",
    "# get elements of vector x at 3rd and 1st position\n",
    "x[c(3, 1)]\n",
    "\n",
    "# order elements in vector x\n",
    "x[order(x)]\n",
    "\n",
    "# duplicated indices yield duplicated values \n",
    "x[c(1, 1)]\n",
    "\n",
    "# real nunbers are silently truncated to integers \n",
    "x[c(2.1, 2.9)]"
   ]
  },
  {
   "cell_type": "code",
   "execution_count": 7,
   "id": "ab2aa756",
   "metadata": {},
   "outputs": [
    {
     "data": {
      "text/html": [
       "<ol class=list-inline>\n",
       "\t<li>2.1</li>\n",
       "\t<li>4.2</li>\n",
       "\t<li>3.3</li>\n",
       "\t<li>5.4</li>\n",
       "</ol>\n"
      ],
      "text/latex": [
       "\\begin{enumerate*}\n",
       "\\item 2.1\n",
       "\\item 4.2\n",
       "\\item 3.3\n",
       "\\item 5.4\n",
       "\\end{enumerate*}\n"
      ],
      "text/markdown": [
       "1. 2.1\n",
       "2. 4.2\n",
       "3. 3.3\n",
       "4. 5.4\n",
       "\n",
       "\n"
      ],
      "text/plain": [
       "[1] 2.1 4.2 3.3 5.4"
      ]
     },
     "metadata": {},
     "output_type": "display_data"
    },
    {
     "data": {
      "text/html": [
       "<ol class=list-inline>\n",
       "\t<li>4.2</li>\n",
       "\t<li>5.4</li>\n",
       "</ol>\n"
      ],
      "text/latex": [
       "\\begin{enumerate*}\n",
       "\\item 4.2\n",
       "\\item 5.4\n",
       "\\end{enumerate*}\n"
      ],
      "text/markdown": [
       "1. 4.2\n",
       "2. 5.4\n",
       "\n",
       "\n"
      ],
      "text/plain": [
       "[1] 4.2 5.4"
      ]
     },
     "metadata": {},
     "output_type": "display_data"
    },
    {
     "ename": "ERROR",
     "evalue": "Error in x[c(-1, 2)]: only 0's may be mixed with negative subscripts\n",
     "output_type": "error",
     "traceback": [
      "Error in x[c(-1, 2)]: only 0's may be mixed with negative subscripts\nTraceback:\n"
     ]
    }
   ],
   "source": [
    "# Example 2: subset vector with negative integers\n",
    "\n",
    "# create vector \n",
    "x <- c(2.1, 4.2, 3.3, 5.4)\n",
    "x\n",
    "\n",
    "# -------- (2) subset with negative numbers \n",
    "# omit elements of vector x on 3rd and 1st positions \n",
    "x[-c(3, 1)]\n",
    "\n",
    "# you cannot mix positive and negative integers\n",
    "x[c(-1, 2)]"
   ]
  },
  {
   "cell_type": "code",
   "execution_count": 206,
   "id": "06a72527",
   "metadata": {},
   "outputs": [
    {
     "data": {
      "text/html": [
       "<ol class=list-inline>\n",
       "\t<li>2.1</li>\n",
       "\t<li>4.2</li>\n",
       "\t<li>3.3</li>\n",
       "\t<li>5.4</li>\n",
       "</ol>\n"
      ],
      "text/latex": [
       "\\begin{enumerate*}\n",
       "\\item 2.1\n",
       "\\item 4.2\n",
       "\\item 3.3\n",
       "\\item 5.4\n",
       "\\end{enumerate*}\n"
      ],
      "text/markdown": [
       "1. 2.1\n",
       "2. 4.2\n",
       "3. 3.3\n",
       "4. 5.4\n",
       "\n",
       "\n"
      ],
      "text/plain": [
       "[1] 2.1 4.2 3.3 5.4"
      ]
     },
     "metadata": {},
     "output_type": "display_data"
    },
    {
     "data": {
      "text/html": [
       "<ol class=list-inline>\n",
       "\t<li>2.1</li>\n",
       "\t<li>4.2</li>\n",
       "</ol>\n"
      ],
      "text/latex": [
       "\\begin{enumerate*}\n",
       "\\item 2.1\n",
       "\\item 4.2\n",
       "\\end{enumerate*}\n"
      ],
      "text/markdown": [
       "1. 2.1\n",
       "2. 4.2\n",
       "\n",
       "\n"
      ],
      "text/plain": [
       "[1] 2.1 4.2"
      ]
     },
     "metadata": {},
     "output_type": "display_data"
    },
    {
     "data": {
      "text/html": [
       "<ol class=list-inline>\n",
       "\t<li>2.1</li>\n",
       "\t<li>3.3</li>\n",
       "</ol>\n"
      ],
      "text/latex": [
       "\\begin{enumerate*}\n",
       "\\item 2.1\n",
       "\\item 3.3\n",
       "\\end{enumerate*}\n"
      ],
      "text/markdown": [
       "1. 2.1\n",
       "2. 3.3\n",
       "\n",
       "\n"
      ],
      "text/plain": [
       "[1] 2.1 3.3"
      ]
     },
     "metadata": {},
     "output_type": "display_data"
    },
    {
     "data": {
      "text/html": [
       "<ol class=list-inline>\n",
       "\t<li>2.1</li>\n",
       "\t<li>&lt;NA&gt;</li>\n",
       "</ol>\n"
      ],
      "text/latex": [
       "\\begin{enumerate*}\n",
       "\\item 2.1\n",
       "\\item <NA>\n",
       "\\end{enumerate*}\n"
      ],
      "text/markdown": [
       "1. 2.1\n",
       "2. &lt;NA&gt;\n",
       "\n",
       "\n"
      ],
      "text/plain": [
       "[1] 2.1  NA"
      ]
     },
     "metadata": {},
     "output_type": "display_data"
    }
   ],
   "source": [
    "# Example 3: subset vector with logical integers\n",
    "\n",
    "# create vector \n",
    "x <- c(2.1, 4.2, 3.3, 5.4)\n",
    "x\n",
    "\n",
    "# ^^^^^^ (3) subset with logical vectors \n",
    "# keep 1st and 2nd element\n",
    "x[c(TRUE, TRUE, FALSE, FALSE)]\n",
    "\n",
    "# If logical vector is shorter than vector, it will be recycled to same length \n",
    "# In effect, it does this: \n",
    "# x[c(TRUE, FALSE, TRUE, FALSE)], which keeps 1st and 3rd elements\n",
    "x[c(TRUE, FALSE)]\n",
    "\n",
    "# A missing vlaue yields missing value in output \n",
    "x[c(TRUE, FALSE, NA, FALSE)]"
   ]
  },
  {
   "cell_type": "code",
   "execution_count": 137,
   "id": "6ff82082",
   "metadata": {},
   "outputs": [
    {
     "data": {
      "text/html": [
       "<ol class=list-inline>\n",
       "\t<li>2.1</li>\n",
       "\t<li>4.2</li>\n",
       "\t<li>3.3</li>\n",
       "\t<li>5.4</li>\n",
       "</ol>\n"
      ],
      "text/latex": [
       "\\begin{enumerate*}\n",
       "\\item 2.1\n",
       "\\item 4.2\n",
       "\\item 3.3\n",
       "\\item 5.4\n",
       "\\end{enumerate*}\n"
      ],
      "text/markdown": [
       "1. 2.1\n",
       "2. 4.2\n",
       "3. 3.3\n",
       "4. 5.4\n",
       "\n",
       "\n"
      ],
      "text/plain": [
       "[1] 2.1 4.2 3.3 5.4"
      ]
     },
     "metadata": {},
     "output_type": "display_data"
    },
    {
     "name": "stdout",
     "output_type": "stream",
     "text": [
      " num(0) \n"
     ]
    }
   ],
   "source": [
    "# Example 4: \n",
    "# ^^^^^^ (4) subset vector with nothing \n",
    "x[]\n",
    "\n",
    "# Example 5: \n",
    "# ^^^^^^ (5) subset with zero \n",
    "str(x[0])"
   ]
  },
  {
   "cell_type": "code",
   "execution_count": 141,
   "id": "997684c3",
   "metadata": {},
   "outputs": [
    {
     "data": {
      "text/html": [
       "<dl class=dl-horizontal>\n",
       "\t<dt>a</dt>\n",
       "\t\t<dd>2.1</dd>\n",
       "\t<dt>b</dt>\n",
       "\t\t<dd>4.2</dd>\n",
       "\t<dt>c</dt>\n",
       "\t\t<dd>3.3</dd>\n",
       "\t<dt>d</dt>\n",
       "\t\t<dd>5.4</dd>\n",
       "</dl>\n"
      ],
      "text/latex": [
       "\\begin{description*}\n",
       "\\item[a] 2.1\n",
       "\\item[b] 4.2\n",
       "\\item[c] 3.3\n",
       "\\item[d] 5.4\n",
       "\\end{description*}\n"
      ],
      "text/markdown": [
       "a\n",
       ":   2.1b\n",
       ":   4.2c\n",
       ":   3.3d\n",
       ":   5.4\n",
       "\n"
      ],
      "text/plain": [
       "  a   b   c   d \n",
       "2.1 4.2 3.3 5.4 "
      ]
     },
     "metadata": {},
     "output_type": "display_data"
    },
    {
     "data": {
      "text/html": [
       "<dl class=dl-horizontal>\n",
       "\t<dt>d</dt>\n",
       "\t\t<dd>5.4</dd>\n",
       "\t<dt>c</dt>\n",
       "\t\t<dd>3.3</dd>\n",
       "\t<dt>a</dt>\n",
       "\t\t<dd>2.1</dd>\n",
       "</dl>\n"
      ],
      "text/latex": [
       "\\begin{description*}\n",
       "\\item[d] 5.4\n",
       "\\item[c] 3.3\n",
       "\\item[a] 2.1\n",
       "\\end{description*}\n"
      ],
      "text/markdown": [
       "d\n",
       ":   5.4c\n",
       ":   3.3a\n",
       ":   2.1\n",
       "\n"
      ],
      "text/plain": [
       "  d   c   a \n",
       "5.4 3.3 2.1 "
      ]
     },
     "metadata": {},
     "output_type": "display_data"
    },
    {
     "data": {
      "text/html": [
       "<dl class=dl-horizontal>\n",
       "\t<dt>a</dt>\n",
       "\t\t<dd>2.1</dd>\n",
       "\t<dt>a</dt>\n",
       "\t\t<dd>2.1</dd>\n",
       "\t<dt>a</dt>\n",
       "\t\t<dd>2.1</dd>\n",
       "</dl>\n"
      ],
      "text/latex": [
       "\\begin{description*}\n",
       "\\item[a] 2.1\n",
       "\\item[a] 2.1\n",
       "\\item[a] 2.1\n",
       "\\end{description*}\n"
      ],
      "text/markdown": [
       "a\n",
       ":   2.1a\n",
       ":   2.1a\n",
       ":   2.1\n",
       "\n"
      ],
      "text/plain": [
       "  a   a   a \n",
       "2.1 2.1 2.1 "
      ]
     },
     "metadata": {},
     "output_type": "display_data"
    },
    {
     "data": {
      "text/html": [
       "<dl class=dl-horizontal>\n",
       "\t<dt>1</dt>\n",
       "\t\t<dd>&lt;NA&gt;</dd>\n",
       "\t<dt>2</dt>\n",
       "\t\t<dd>&lt;NA&gt;</dd>\n",
       "</dl>\n"
      ],
      "text/latex": [
       "\\begin{description*}\n",
       "\\item[1] <NA>\n",
       "\\item[2] <NA>\n",
       "\\end{description*}\n"
      ],
      "text/markdown": [
       "1\n",
       ":   &lt;NA&gt;2\n",
       ":   &lt;NA&gt;\n",
       "\n"
      ],
      "text/plain": [
       "<NA> <NA> \n",
       "  NA   NA "
      ]
     },
     "metadata": {},
     "output_type": "display_data"
    }
   ],
   "source": [
    "# Example 6: \n",
    "# ^^^^^^ (6) subset with character vectors \n",
    "\n",
    "# create names for vector  \n",
    "(y <- setNames(x, letters[1:4]))\n",
    "\n",
    "# subset with unique names \n",
    "y[c(\"d\", \"c\", \"a\")]\n",
    "\n",
    "# subset with duplicated names \n",
    "y[c(\"a\", \"a\", \"a\")]\n",
    "\n",
    "# when subsetting with [], names are always matched exactly. \n",
    "# create vector \n",
    "z <- c(abc = 1, def = 2)\n",
    "z[c(\"a\", \"d\")]"
   ]
  },
  {
   "cell_type": "markdown",
   "id": "846a08d2",
   "metadata": {},
   "source": [
    "### Lists"
   ]
  },
  {
   "cell_type": "markdown",
   "id": "aab03f4b",
   "metadata": {},
   "source": [
    "1. Subset list (preserve structure) <br><br>\n",
    "\n",
    "------ Use method (1) - (2): <br>\n",
    "\n",
    "(1) subset with **[name]** (preserve as list): <br>\n",
    "Example: model[\"coefficients\"] <br><br>\n",
    "\n",
    "(2) subset with **\\$** (preserve as vector): <br>\n",
    "Example: model$coefficients <br><br>\n",
    "\n",
    "^^^^^^ More methods (2) - (4): <br>\n",
    "\n",
    "(3) subset with **[number]** (preserve as list): <br>\n",
    "Example: model[1] <br><br>\n",
    "\n",
    "(4) subset with **[[number]]** (preserve as vector): <br>\n",
    "Example: model[[1]] <br><br>\n",
    "\n",
    "2. Subset list & elements (preserve structure) <br><br>\n",
    "\n",
    "------ Use method (1): <br>\n",
    "(1) subset with **\\$** (preserve as vector): <br>\n",
    "Example: model$coefficients[2:3] <br><br>\n",
    "\n",
    "^^^^^^ More methods (2) - (3): <br>\n",
    "(2) subset with **[name]** (preserve as vector): <br>\n",
    "Example: model[[\"coefficients]][2:3] <br><br>\n",
    "\n",
    "(3) subset with **[number]** (preserve as vector): <br>\n",
    "Example: model[[1]][2:3] <br><br>\n",
    "\n",
    "3. Subset list & a single element (NOT preserve structure) <br><br>\n",
    "\n",
    "------ Use method (1): <br>\n",
    "(1) subset with **\\$**: <br>\n",
    "Example: model$coefficients[[2]] <br><br>\n",
    "\n",
    "^^^^^^ More methods (2) - (3): <br>\n",
    "(2) subset with **[name]**: <br>\n",
    "Example: model[[\"coefficients]][[2]] <br><br>\n",
    "\n",
    "(3) subset with **[number]**: <br>\n",
    "Example: model[[1]][[2]]"
   ]
  },
  {
   "cell_type": "code",
   "execution_count": 209,
   "id": "ae60ff0a",
   "metadata": {},
   "outputs": [
    {
     "data": {
      "text/html": [
       "<strong>$coefficients</strong> = <dl class=dl-horizontal>\n",
       "\t<dt>(Intercept)</dt>\n",
       "\t\t<dd>37.8127386053759</dd>\n",
       "\t<dt>carb</dt>\n",
       "\t\t<dd>-0.526145955070772</dd>\n",
       "\t<dt>cyl</dt>\n",
       "\t\t<dd>-2.62502272432152</dd>\n",
       "</dl>\n"
      ],
      "text/latex": [
       "\\textbf{\\$coefficients} = \\begin{description*}\n",
       "\\item[(Intercept)] 37.8127386053759\n",
       "\\item[carb] -0.526145955070772\n",
       "\\item[cyl] -2.62502272432152\n",
       "\\end{description*}\n"
      ],
      "text/markdown": [
       "**$coefficients** = (Intercept)\n",
       ":   37.8127386053759carb\n",
       ":   -0.526145955070772cyl\n",
       ":   -2.62502272432152\n",
       "\n"
      ],
      "text/plain": [
       "$coefficients\n",
       "(Intercept)        carb         cyl \n",
       "  37.812739   -0.526146   -2.625023 \n"
      ]
     },
     "metadata": {},
     "output_type": "display_data"
    },
    {
     "data": {
      "text/html": [
       "<dl class=dl-horizontal>\n",
       "\t<dt>(Intercept)</dt>\n",
       "\t\t<dd>37.8127386053759</dd>\n",
       "\t<dt>carb</dt>\n",
       "\t\t<dd>-0.526145955070772</dd>\n",
       "\t<dt>cyl</dt>\n",
       "\t\t<dd>-2.62502272432152</dd>\n",
       "</dl>\n"
      ],
      "text/latex": [
       "\\begin{description*}\n",
       "\\item[(Intercept)] 37.8127386053759\n",
       "\\item[carb] -0.526145955070772\n",
       "\\item[cyl] -2.62502272432152\n",
       "\\end{description*}\n"
      ],
      "text/markdown": [
       "(Intercept)\n",
       ":   37.8127386053759carb\n",
       ":   -0.526145955070772cyl\n",
       ":   -2.62502272432152\n",
       "\n"
      ],
      "text/plain": [
       "(Intercept)        carb         cyl \n",
       "  37.812739   -0.526146   -2.625023 "
      ]
     },
     "metadata": {},
     "output_type": "display_data"
    },
    {
     "data": {
      "text/html": [
       "<strong>$coefficients</strong> = <dl class=dl-horizontal>\n",
       "\t<dt>(Intercept)</dt>\n",
       "\t\t<dd>37.8127386053759</dd>\n",
       "\t<dt>carb</dt>\n",
       "\t\t<dd>-0.526145955070772</dd>\n",
       "\t<dt>cyl</dt>\n",
       "\t\t<dd>-2.62502272432152</dd>\n",
       "</dl>\n"
      ],
      "text/latex": [
       "\\textbf{\\$coefficients} = \\begin{description*}\n",
       "\\item[(Intercept)] 37.8127386053759\n",
       "\\item[carb] -0.526145955070772\n",
       "\\item[cyl] -2.62502272432152\n",
       "\\end{description*}\n"
      ],
      "text/markdown": [
       "**$coefficients** = (Intercept)\n",
       ":   37.8127386053759carb\n",
       ":   -0.526145955070772cyl\n",
       ":   -2.62502272432152\n",
       "\n"
      ],
      "text/plain": [
       "$coefficients\n",
       "(Intercept)        carb         cyl \n",
       "  37.812739   -0.526146   -2.625023 \n"
      ]
     },
     "metadata": {},
     "output_type": "display_data"
    },
    {
     "data": {
      "text/html": [
       "<dl class=dl-horizontal>\n",
       "\t<dt>(Intercept)</dt>\n",
       "\t\t<dd>37.8127386053759</dd>\n",
       "\t<dt>carb</dt>\n",
       "\t\t<dd>-0.526145955070772</dd>\n",
       "\t<dt>cyl</dt>\n",
       "\t\t<dd>-2.62502272432152</dd>\n",
       "</dl>\n"
      ],
      "text/latex": [
       "\\begin{description*}\n",
       "\\item[(Intercept)] 37.8127386053759\n",
       "\\item[carb] -0.526145955070772\n",
       "\\item[cyl] -2.62502272432152\n",
       "\\end{description*}\n"
      ],
      "text/markdown": [
       "(Intercept)\n",
       ":   37.8127386053759carb\n",
       ":   -0.526145955070772cyl\n",
       ":   -2.62502272432152\n",
       "\n"
      ],
      "text/plain": [
       "(Intercept)        carb         cyl \n",
       "  37.812739   -0.526146   -2.625023 "
      ]
     },
     "metadata": {},
     "output_type": "display_data"
    },
    {
     "data": {
      "text/html": [
       "<dl class=dl-horizontal>\n",
       "\t<dt>carb</dt>\n",
       "\t\t<dd>-0.526145955070772</dd>\n",
       "\t<dt>cyl</dt>\n",
       "\t\t<dd>-2.62502272432152</dd>\n",
       "</dl>\n"
      ],
      "text/latex": [
       "\\begin{description*}\n",
       "\\item[carb] -0.526145955070772\n",
       "\\item[cyl] -2.62502272432152\n",
       "\\end{description*}\n"
      ],
      "text/markdown": [
       "carb\n",
       ":   -0.526145955070772cyl\n",
       ":   -2.62502272432152\n",
       "\n"
      ],
      "text/plain": [
       "     carb       cyl \n",
       "-0.526146 -2.625023 "
      ]
     },
     "metadata": {},
     "output_type": "display_data"
    },
    {
     "data": {
      "text/html": [
       "<dl class=dl-horizontal>\n",
       "\t<dt>carb</dt>\n",
       "\t\t<dd>-0.526145955070772</dd>\n",
       "\t<dt>cyl</dt>\n",
       "\t\t<dd>-2.62502272432152</dd>\n",
       "</dl>\n"
      ],
      "text/latex": [
       "\\begin{description*}\n",
       "\\item[carb] -0.526145955070772\n",
       "\\item[cyl] -2.62502272432152\n",
       "\\end{description*}\n"
      ],
      "text/markdown": [
       "carb\n",
       ":   -0.526145955070772cyl\n",
       ":   -2.62502272432152\n",
       "\n"
      ],
      "text/plain": [
       "     carb       cyl \n",
       "-0.526146 -2.625023 "
      ]
     },
     "metadata": {},
     "output_type": "display_data"
    },
    {
     "data": {
      "text/html": [
       "<dl class=dl-horizontal>\n",
       "\t<dt>carb</dt>\n",
       "\t\t<dd>-0.526145955070772</dd>\n",
       "\t<dt>cyl</dt>\n",
       "\t\t<dd>-2.62502272432152</dd>\n",
       "</dl>\n"
      ],
      "text/latex": [
       "\\begin{description*}\n",
       "\\item[carb] -0.526145955070772\n",
       "\\item[cyl] -2.62502272432152\n",
       "\\end{description*}\n"
      ],
      "text/markdown": [
       "carb\n",
       ":   -0.526145955070772cyl\n",
       ":   -2.62502272432152\n",
       "\n"
      ],
      "text/plain": [
       "     carb       cyl \n",
       "-0.526146 -2.625023 "
      ]
     },
     "metadata": {},
     "output_type": "display_data"
    },
    {
     "data": {
      "text/html": [
       "-0.526145955070772"
      ],
      "text/latex": [
       "-0.526145955070772"
      ],
      "text/markdown": [
       "-0.526145955070772"
      ],
      "text/plain": [
       "[1] -0.526146"
      ]
     },
     "metadata": {},
     "output_type": "display_data"
    },
    {
     "data": {
      "text/html": [
       "-0.526145955070772"
      ],
      "text/latex": [
       "-0.526145955070772"
      ],
      "text/markdown": [
       "-0.526145955070772"
      ],
      "text/plain": [
       "[1] -0.526146"
      ]
     },
     "metadata": {},
     "output_type": "display_data"
    },
    {
     "data": {
      "text/html": [
       "-0.526145955070772"
      ],
      "text/latex": [
       "-0.526145955070772"
      ],
      "text/markdown": [
       "-0.526145955070772"
      ],
      "text/plain": [
       "[1] -0.526146"
      ]
     },
     "metadata": {},
     "output_type": "display_data"
    }
   ],
   "source": [
    "# Example 1: subset a list (regression model)\n",
    "\n",
    "# run regression\n",
    "# the model is a list itself\n",
    "mod <- lm(mpg ~ carb + cyl, data = mtcars)\n",
    "\n",
    "# -------- (1) subset list: coefficients (preserve output structures)\n",
    "\n",
    "# ~~~~~~~  Use method 1 & 2\n",
    "# method 1 (perserve structure: list)\n",
    "mod[\"coefficients\"]\n",
    "\n",
    "# method 2 (preserve structure: vector)\n",
    "mod$coefficients\n",
    "\n",
    "# Other methods: not easy to use \n",
    "# method 3 (perserve structure: list)\n",
    "mod[1]\n",
    "# method 4 (preserve structure: vector)\n",
    "mod[[1]]\n",
    "\n",
    "# -------- (2) subset list: \"coefficients\" & extract 2nd to 3rd element (preserve output structures)\n",
    "\n",
    "# method 1 (easiest)\n",
    "# ~~~~~~~  USE THIS ONE !!! \n",
    "mod$coefficients[2:3]\n",
    "\n",
    "\n",
    "# other methods (not as easy)\n",
    "mod[[\"coefficients\"]][2:3]\n",
    "mod[[1]][2:3] \n",
    "\n",
    "\n",
    "# -------- (3) subset list: \"coefficients\" & then extract 2nd element (NOT preserve output structures)\n",
    "\n",
    "# method 1 (easiest)\n",
    "# ~~~~~~~   USE THIS ONE !!! \n",
    "mod$coefficients[[2]]\n",
    "\n",
    "\n",
    "# other methods (not as easy)\n",
    "mod[[\"coefficients\"]][[2]]\n",
    "mod[[1]][[2]]"
   ]
  },
  {
   "cell_type": "markdown",
   "id": "81ef539d",
   "metadata": {},
   "source": [
    "### Matrices and arrays"
   ]
  },
  {
   "cell_type": "markdown",
   "id": "e90f28a7",
   "metadata": {},
   "source": [
    "1. You can subset higher-dimensional structures in 3 ways:<br>\n",
    "(1) multiple vectors<br>\n",
    "(2) single vector<br>\n",
    "(3) matrix\n",
    "2. Most common way of subsetting matrices and arrays is a simple generalization of 1d subsetting: apply 1d index for each dimension, separated by a comma. \n",
    "3. Blank subsetting is useful because it lets you keep all rows or columns. \n",
    "4. By default, `[` will simplify results to lowest possible dimensionality.\n",
    "5. Because matrices and arrays are implemented as vectors with special attributes, you can subset them with a single vector, then they behave like a vector. (Note: arrays in R are stored in column-major order.)\n",
    "6. You can also subset higher-dimensional data with integer matrix (or character matrix if named). Each row in matrix specifies location of 1 value, where each column corresponds to a dimension in array being subsetted. This means: use 2-colunm matrix to subset a matrix, a 3-column matrix to subset a 3d array, etc. <br><br>\n",
    "7. Subset matrix: <br>\n",
    "(1) subset with positive integers <br>\n",
    "Example: A[1:2, ], or A[, 1:2], or A[1, 2] <br><br>\n",
    "(2) subset with negative integers <br>\n",
    "Example: A[-1, ] or A[, -1], OR A[-1, -2] <br><br>\n",
    "(3) subset with names <br>\n",
    "Example: A[, c(\"B\",\"A\")] <br><br>\n",
    "(4) subset with logical <br>\n",
    "Example: A[c(T, F), ], A[, C(F, T)], A[c(T, F), c(F, T)]<br><br>\n",
    "(5) subset with mix methods <br>\n",
    "Example: A[c(T, F), c(\"B\", \"A\")], or A[0, -2]"
   ]
  },
  {
   "cell_type": "code",
   "execution_count": 142,
   "id": "7bb66a56",
   "metadata": {},
   "outputs": [
    {
     "data": {
      "text/html": [
       "<table>\n",
       "<thead><tr><th scope=col>A</th><th scope=col>B</th><th scope=col>C</th></tr></thead>\n",
       "<tbody>\n",
       "\t<tr><td>1</td><td>4</td><td>7</td></tr>\n",
       "\t<tr><td>2</td><td>5</td><td>8</td></tr>\n",
       "</tbody>\n",
       "</table>\n"
      ],
      "text/latex": [
       "\\begin{tabular}{lll}\n",
       " A & B & C\\\\\n",
       "\\hline\n",
       "\t 1 & 4 & 7\\\\\n",
       "\t 2 & 5 & 8\\\\\n",
       "\\end{tabular}\n"
      ],
      "text/markdown": [
       "\n",
       "| A | B | C |\n",
       "|---|---|---|\n",
       "| 1 | 4 | 7 |\n",
       "| 2 | 5 | 8 |\n",
       "\n"
      ],
      "text/plain": [
       "     A B C\n",
       "[1,] 1 4 7\n",
       "[2,] 2 5 8"
      ]
     },
     "metadata": {},
     "output_type": "display_data"
    },
    {
     "data": {
      "text/html": [
       "<table>\n",
       "<thead><tr><th scope=col>B</th><th scope=col>A</th></tr></thead>\n",
       "<tbody>\n",
       "\t<tr><td>4</td><td>1</td></tr>\n",
       "\t<tr><td>6</td><td>3</td></tr>\n",
       "</tbody>\n",
       "</table>\n"
      ],
      "text/latex": [
       "\\begin{tabular}{ll}\n",
       " B & A\\\\\n",
       "\\hline\n",
       "\t 4 & 1\\\\\n",
       "\t 6 & 3\\\\\n",
       "\\end{tabular}\n"
      ],
      "text/markdown": [
       "\n",
       "| B | A |\n",
       "|---|---|\n",
       "| 4 | 1 |\n",
       "| 6 | 3 |\n",
       "\n"
      ],
      "text/plain": [
       "     B A\n",
       "[1,] 4 1\n",
       "[2,] 6 3"
      ]
     },
     "metadata": {},
     "output_type": "display_data"
    },
    {
     "data": {
      "text/html": [
       "<table>\n",
       "<thead><tr><th scope=col>A</th><th scope=col>C</th></tr></thead>\n",
       "<tbody>\n",
       "</tbody>\n",
       "</table>\n"
      ],
      "text/latex": [
       "\\begin{tabular}{ll}\n",
       " A & C\\\\\n",
       "\\hline\n",
       "\\end{tabular}\n"
      ],
      "text/markdown": [
       "\n",
       "| A | C |\n",
       "|---|---|\n",
       "\n"
      ],
      "text/plain": [
       "     A C"
      ]
     },
     "metadata": {},
     "output_type": "display_data"
    }
   ],
   "source": [
    "# Example 1: subset matrix \n",
    "\n",
    "# Create matrix \n",
    "a <- matrix(1:9, nrow = 3)\n",
    "colnames(a) <- c(\"A\", \"B\", \"C\")\n",
    "\n",
    "# ------ (1) subset first 2 rows\n",
    "a[1:2, ]\n",
    "\n",
    "# ------ (2) subset rows with logical, subset columns with names \n",
    "a[c(T, F, T), c(\"B\", \"A\")]\n",
    "\n",
    "# ------ (3) Subset 0 zero rows, omit 2nd column \n",
    "a[0, -2]"
   ]
  },
  {
   "cell_type": "code",
   "execution_count": 48,
   "id": "1b261447",
   "metadata": {},
   "outputs": [
    {
     "data": {
      "text/html": [
       "<table>\n",
       "<tbody>\n",
       "\t<tr><td>1,1</td><td>1,2</td><td>1,3</td><td>1,4</td><td>1,5</td></tr>\n",
       "\t<tr><td>2,1</td><td>2,2</td><td>2,3</td><td>2,4</td><td>2,5</td></tr>\n",
       "\t<tr><td>3,1</td><td>3,2</td><td>3,3</td><td>3,4</td><td>3,5</td></tr>\n",
       "\t<tr><td>4,1</td><td>4,2</td><td>4,3</td><td>4,4</td><td>4,5</td></tr>\n",
       "\t<tr><td>5,1</td><td>5,2</td><td>5,3</td><td>5,4</td><td>5,5</td></tr>\n",
       "</tbody>\n",
       "</table>\n"
      ],
      "text/latex": [
       "\\begin{tabular}{lllll}\n",
       "\t 1,1 & 1,2 & 1,3 & 1,4 & 1,5\\\\\n",
       "\t 2,1 & 2,2 & 2,3 & 2,4 & 2,5\\\\\n",
       "\t 3,1 & 3,2 & 3,3 & 3,4 & 3,5\\\\\n",
       "\t 4,1 & 4,2 & 4,3 & 4,4 & 4,5\\\\\n",
       "\t 5,1 & 5,2 & 5,3 & 5,4 & 5,5\\\\\n",
       "\\end{tabular}\n"
      ],
      "text/markdown": [
       "\n",
       "| 1,1 | 1,2 | 1,3 | 1,4 | 1,5 |\n",
       "| 2,1 | 2,2 | 2,3 | 2,4 | 2,5 |\n",
       "| 3,1 | 3,2 | 3,3 | 3,4 | 3,5 |\n",
       "| 4,1 | 4,2 | 4,3 | 4,4 | 4,5 |\n",
       "| 5,1 | 5,2 | 5,3 | 5,4 | 5,5 |\n",
       "\n"
      ],
      "text/plain": [
       "     [,1] [,2] [,3] [,4] [,5]\n",
       "[1,] 1,1  1,2  1,3  1,4  1,5 \n",
       "[2,] 2,1  2,2  2,3  2,4  2,5 \n",
       "[3,] 3,1  3,2  3,3  3,4  3,5 \n",
       "[4,] 4,1  4,2  4,3  4,4  4,5 \n",
       "[5,] 5,1  5,2  5,3  5,4  5,5 "
      ]
     },
     "metadata": {},
     "output_type": "display_data"
    },
    {
     "data": {
      "text/html": [
       "<ol class=list-inline>\n",
       "\t<li>'4,1'</li>\n",
       "\t<li>'5,3'</li>\n",
       "</ol>\n"
      ],
      "text/latex": [
       "\\begin{enumerate*}\n",
       "\\item '4,1'\n",
       "\\item '5,3'\n",
       "\\end{enumerate*}\n"
      ],
      "text/markdown": [
       "1. '4,1'\n",
       "2. '5,3'\n",
       "\n",
       "\n"
      ],
      "text/plain": [
       "[1] \"4,1\" \"5,3\""
      ]
     },
     "metadata": {},
     "output_type": "display_data"
    }
   ],
   "source": [
    "# Example 2: subset array\n",
    "\n",
    "# create array\n",
    "(vals <- outer(1:5, 1:5, FUN = \"paste\", sep = \",\"))\n",
    "\n",
    "# subset 4th and 15th elements\n",
    "# (Note: count column-wise)\n",
    "vals[c(4, 15)]"
   ]
  },
  {
   "cell_type": "markdown",
   "id": "9517df04",
   "metadata": {},
   "source": [
    "Note: out() helps create an array. Below are some examples using function `outer()`"
   ]
  },
  {
   "cell_type": "code",
   "execution_count": 49,
   "id": "dbdad532",
   "metadata": {},
   "outputs": [
    {
     "data": {
      "text/html": [
       "<table>\n",
       "<tbody>\n",
       "\t<tr><td>Jan 1999</td><td>Jan 2000</td><td>Jan 2001</td><td>Jan 2002</td><td>Jan 2003</td></tr>\n",
       "\t<tr><td>Feb 1999</td><td>Feb 2000</td><td>Feb 2001</td><td>Feb 2002</td><td>Feb 2003</td></tr>\n",
       "\t<tr><td>Mar 1999</td><td>Mar 2000</td><td>Mar 2001</td><td>Mar 2002</td><td>Mar 2003</td></tr>\n",
       "\t<tr><td>Apr 1999</td><td>Apr 2000</td><td>Apr 2001</td><td>Apr 2002</td><td>Apr 2003</td></tr>\n",
       "\t<tr><td>May 1999</td><td>May 2000</td><td>May 2001</td><td>May 2002</td><td>May 2003</td></tr>\n",
       "\t<tr><td>Jun 1999</td><td>Jun 2000</td><td>Jun 2001</td><td>Jun 2002</td><td>Jun 2003</td></tr>\n",
       "\t<tr><td>Jul 1999</td><td>Jul 2000</td><td>Jul 2001</td><td>Jul 2002</td><td>Jul 2003</td></tr>\n",
       "\t<tr><td>Aug 1999</td><td>Aug 2000</td><td>Aug 2001</td><td>Aug 2002</td><td>Aug 2003</td></tr>\n",
       "\t<tr><td>Sep 1999</td><td>Sep 2000</td><td>Sep 2001</td><td>Sep 2002</td><td>Sep 2003</td></tr>\n",
       "\t<tr><td>Oct 1999</td><td>Oct 2000</td><td>Oct 2001</td><td>Oct 2002</td><td>Oct 2003</td></tr>\n",
       "\t<tr><td>Nov 1999</td><td>Nov 2000</td><td>Nov 2001</td><td>Nov 2002</td><td>Nov 2003</td></tr>\n",
       "\t<tr><td>Dec 1999</td><td>Dec 2000</td><td>Dec 2001</td><td>Dec 2002</td><td>Dec 2003</td></tr>\n",
       "</tbody>\n",
       "</table>\n"
      ],
      "text/latex": [
       "\\begin{tabular}{lllll}\n",
       "\t Jan 1999 & Jan 2000 & Jan 2001 & Jan 2002 & Jan 2003\\\\\n",
       "\t Feb 1999 & Feb 2000 & Feb 2001 & Feb 2002 & Feb 2003\\\\\n",
       "\t Mar 1999 & Mar 2000 & Mar 2001 & Mar 2002 & Mar 2003\\\\\n",
       "\t Apr 1999 & Apr 2000 & Apr 2001 & Apr 2002 & Apr 2003\\\\\n",
       "\t May 1999 & May 2000 & May 2001 & May 2002 & May 2003\\\\\n",
       "\t Jun 1999 & Jun 2000 & Jun 2001 & Jun 2002 & Jun 2003\\\\\n",
       "\t Jul 1999 & Jul 2000 & Jul 2001 & Jul 2002 & Jul 2003\\\\\n",
       "\t Aug 1999 & Aug 2000 & Aug 2001 & Aug 2002 & Aug 2003\\\\\n",
       "\t Sep 1999 & Sep 2000 & Sep 2001 & Sep 2002 & Sep 2003\\\\\n",
       "\t Oct 1999 & Oct 2000 & Oct 2001 & Oct 2002 & Oct 2003\\\\\n",
       "\t Nov 1999 & Nov 2000 & Nov 2001 & Nov 2002 & Nov 2003\\\\\n",
       "\t Dec 1999 & Dec 2000 & Dec 2001 & Dec 2002 & Dec 2003\\\\\n",
       "\\end{tabular}\n"
      ],
      "text/markdown": [
       "\n",
       "| Jan 1999 | Jan 2000 | Jan 2001 | Jan 2002 | Jan 2003 |\n",
       "| Feb 1999 | Feb 2000 | Feb 2001 | Feb 2002 | Feb 2003 |\n",
       "| Mar 1999 | Mar 2000 | Mar 2001 | Mar 2002 | Mar 2003 |\n",
       "| Apr 1999 | Apr 2000 | Apr 2001 | Apr 2002 | Apr 2003 |\n",
       "| May 1999 | May 2000 | May 2001 | May 2002 | May 2003 |\n",
       "| Jun 1999 | Jun 2000 | Jun 2001 | Jun 2002 | Jun 2003 |\n",
       "| Jul 1999 | Jul 2000 | Jul 2001 | Jul 2002 | Jul 2003 |\n",
       "| Aug 1999 | Aug 2000 | Aug 2001 | Aug 2002 | Aug 2003 |\n",
       "| Sep 1999 | Sep 2000 | Sep 2001 | Sep 2002 | Sep 2003 |\n",
       "| Oct 1999 | Oct 2000 | Oct 2001 | Oct 2002 | Oct 2003 |\n",
       "| Nov 1999 | Nov 2000 | Nov 2001 | Nov 2002 | Nov 2003 |\n",
       "| Dec 1999 | Dec 2000 | Dec 2001 | Dec 2002 | Dec 2003 |\n",
       "\n"
      ],
      "text/plain": [
       "      [,1]     [,2]     [,3]     [,4]     [,5]    \n",
       " [1,] Jan 1999 Jan 2000 Jan 2001 Jan 2002 Jan 2003\n",
       " [2,] Feb 1999 Feb 2000 Feb 2001 Feb 2002 Feb 2003\n",
       " [3,] Mar 1999 Mar 2000 Mar 2001 Mar 2002 Mar 2003\n",
       " [4,] Apr 1999 Apr 2000 Apr 2001 Apr 2002 Apr 2003\n",
       " [5,] May 1999 May 2000 May 2001 May 2002 May 2003\n",
       " [6,] Jun 1999 Jun 2000 Jun 2001 Jun 2002 Jun 2003\n",
       " [7,] Jul 1999 Jul 2000 Jul 2001 Jul 2002 Jul 2003\n",
       " [8,] Aug 1999 Aug 2000 Aug 2001 Aug 2002 Aug 2003\n",
       " [9,] Sep 1999 Sep 2000 Sep 2001 Sep 2002 Sep 2003\n",
       "[10,] Oct 1999 Oct 2000 Oct 2001 Oct 2002 Oct 2003\n",
       "[11,] Nov 1999 Nov 2000 Nov 2001 Nov 2002 Nov 2003\n",
       "[12,] Dec 1999 Dec 2000 Dec 2001 Dec 2002 Dec 2003"
      ]
     },
     "metadata": {},
     "output_type": "display_data"
    }
   ],
   "source": [
    "# Example 1: outer()\n",
    "outer(month.abb, 1999:2003, FUN = \"paste\")"
   ]
  },
  {
   "cell_type": "code",
   "execution_count": 52,
   "id": "2246421b",
   "metadata": {},
   "outputs": [
    {
     "data": {
      "text/html": [
       "<table>\n",
       "<thead><tr><th></th><th scope=col>1</th><th scope=col>2</th><th scope=col>3</th><th scope=col>4</th><th scope=col>5</th><th scope=col>6</th><th scope=col>7</th><th scope=col>8</th><th scope=col>9</th></tr></thead>\n",
       "<tbody>\n",
       "\t<tr><th scope=row>2:</th><td>2        </td><td> 4       </td><td>  8      </td><td>  16     </td><td>   32    </td><td>    64   </td><td>    128  </td><td>     256 </td><td>      512</td></tr>\n",
       "\t<tr><th scope=row>3:</th><td>3        </td><td> 9       </td><td> 27      </td><td>  81     </td><td>  243    </td><td>   729   </td><td>   2187  </td><td>    6561 </td><td>    19683</td></tr>\n",
       "\t<tr><th scope=row>4:</th><td>4        </td><td>16       </td><td> 64      </td><td> 256     </td><td> 1024    </td><td>  4096   </td><td>  16384  </td><td>   65536 </td><td>   262144</td></tr>\n",
       "\t<tr><th scope=row>5:</th><td>5        </td><td>25       </td><td>125      </td><td> 625     </td><td> 3125    </td><td> 15625   </td><td>  78125  </td><td>  390625 </td><td>  1953125</td></tr>\n",
       "\t<tr><th scope=row>6:</th><td>6        </td><td>36       </td><td>216      </td><td>1296     </td><td> 7776    </td><td> 46656   </td><td> 279936  </td><td> 1679616 </td><td> 10077696</td></tr>\n",
       "\t<tr><th scope=row>7:</th><td>7        </td><td>49       </td><td>343      </td><td>2401     </td><td>16807    </td><td>117649   </td><td> 823543  </td><td> 5764801 </td><td> 40353607</td></tr>\n",
       "\t<tr><th scope=row>8:</th><td>8        </td><td>64       </td><td>512      </td><td>4096     </td><td>32768    </td><td>262144   </td><td>2097152  </td><td>16777216 </td><td>134217728</td></tr>\n",
       "</tbody>\n",
       "</table>\n"
      ],
      "text/latex": [
       "\\begin{tabular}{r|lllllllll}\n",
       "  & 1 & 2 & 3 & 4 & 5 & 6 & 7 & 8 & 9\\\\\n",
       "\\hline\n",
       "\t2: & 2         &  4        &   8       &   16      &    32     &     64    &     128   &      256  &       512\\\\\n",
       "\t3: & 3         &  9        &  27       &   81      &   243     &    729    &    2187   &     6561  &     19683\\\\\n",
       "\t4: & 4         & 16        &  64       &  256      &  1024     &   4096    &   16384   &    65536  &    262144\\\\\n",
       "\t5: & 5         & 25        & 125       &  625      &  3125     &  15625    &   78125   &   390625  &   1953125\\\\\n",
       "\t6: & 6         & 36        & 216       & 1296      &  7776     &  46656    &  279936   &  1679616  &  10077696\\\\\n",
       "\t7: & 7         & 49        & 343       & 2401      & 16807     & 117649    &  823543   &  5764801  &  40353607\\\\\n",
       "\t8: & 8         & 64        & 512       & 4096      & 32768     & 262144    & 2097152   & 16777216  & 134217728\\\\\n",
       "\\end{tabular}\n"
      ],
      "text/markdown": [
       "\n",
       "| <!--/--> | 1 | 2 | 3 | 4 | 5 | 6 | 7 | 8 | 9 |\n",
       "|---|---|---|---|---|---|---|---|---|---|\n",
       "| 2: | 2         |  4        |   8       |   16      |    32     |     64    |     128   |      256  |       512 |\n",
       "| 3: | 3         |  9        |  27       |   81      |   243     |    729    |    2187   |     6561  |     19683 |\n",
       "| 4: | 4         | 16        |  64       |  256      |  1024     |   4096    |   16384   |    65536  |    262144 |\n",
       "| 5: | 5         | 25        | 125       |  625      |  3125     |  15625    |   78125   |   390625  |   1953125 |\n",
       "| 6: | 6         | 36        | 216       | 1296      |  7776     |  46656    |  279936   |  1679616  |  10077696 |\n",
       "| 7: | 7         | 49        | 343       | 2401      | 16807     | 117649    |  823543   |  5764801  |  40353607 |\n",
       "| 8: | 8         | 64        | 512       | 4096      | 32768     | 262144    | 2097152   | 16777216  | 134217728 |\n",
       "\n"
      ],
      "text/plain": [
       "   1 2  3   4    5     6      7       8        9        \n",
       "2: 2  4   8   16    32     64     128      256       512\n",
       "3: 3  9  27   81   243    729    2187     6561     19683\n",
       "4: 4 16  64  256  1024   4096   16384    65536    262144\n",
       "5: 5 25 125  625  3125  15625   78125   390625   1953125\n",
       "6: 6 36 216 1296  7776  46656  279936  1679616  10077696\n",
       "7: 7 49 343 2401 16807 117649  823543  5764801  40353607\n",
       "8: 8 64 512 4096 32768 262144 2097152 16777216 134217728"
      ]
     },
     "metadata": {},
     "output_type": "display_data"
    }
   ],
   "source": [
    "# Example 2: outer()\n",
    "\n",
    "# create matrix\n",
    "x <- 1:9; names(x) <- x\n",
    "y <- 2:8; names(y) <- paste(y,\":\", sep = \"\")\n",
    "\n",
    "outer(y, x, FUN = \"^\")"
   ]
  },
  {
   "cell_type": "code",
   "execution_count": 59,
   "id": "ed64e641",
   "metadata": {},
   "outputs": [
    {
     "data": {
      "text/html": [
       "<table>\n",
       "<tbody>\n",
       "\t<tr><td>1,1</td><td>1,2</td><td>1,3</td><td>1,4</td><td>1,5</td></tr>\n",
       "\t<tr><td>2,1</td><td>2,2</td><td>2,3</td><td>2,4</td><td>2,5</td></tr>\n",
       "\t<tr><td>3,1</td><td>3,2</td><td>3,3</td><td>3,4</td><td>3,5</td></tr>\n",
       "\t<tr><td>4,1</td><td>4,2</td><td>4,3</td><td>4,4</td><td>4,5</td></tr>\n",
       "\t<tr><td>5,1</td><td>5,2</td><td>5,3</td><td>5,4</td><td>5,5</td></tr>\n",
       "</tbody>\n",
       "</table>\n"
      ],
      "text/latex": [
       "\\begin{tabular}{lllll}\n",
       "\t 1,1 & 1,2 & 1,3 & 1,4 & 1,5\\\\\n",
       "\t 2,1 & 2,2 & 2,3 & 2,4 & 2,5\\\\\n",
       "\t 3,1 & 3,2 & 3,3 & 3,4 & 3,5\\\\\n",
       "\t 4,1 & 4,2 & 4,3 & 4,4 & 4,5\\\\\n",
       "\t 5,1 & 5,2 & 5,3 & 5,4 & 5,5\\\\\n",
       "\\end{tabular}\n"
      ],
      "text/markdown": [
       "\n",
       "| 1,1 | 1,2 | 1,3 | 1,4 | 1,5 |\n",
       "| 2,1 | 2,2 | 2,3 | 2,4 | 2,5 |\n",
       "| 3,1 | 3,2 | 3,3 | 3,4 | 3,5 |\n",
       "| 4,1 | 4,2 | 4,3 | 4,4 | 4,5 |\n",
       "| 5,1 | 5,2 | 5,3 | 5,4 | 5,5 |\n",
       "\n"
      ],
      "text/plain": [
       "     [,1] [,2] [,3] [,4] [,5]\n",
       "[1,] 1,1  1,2  1,3  1,4  1,5 \n",
       "[2,] 2,1  2,2  2,3  2,4  2,5 \n",
       "[3,] 3,1  3,2  3,3  3,4  3,5 \n",
       "[4,] 4,1  4,2  4,3  4,4  4,5 \n",
       "[5,] 5,1  5,2  5,3  5,4  5,5 "
      ]
     },
     "metadata": {},
     "output_type": "display_data"
    },
    {
     "data": {
      "text/html": [
       "<ol class=list-inline>\n",
       "\t<li>'1,1'</li>\n",
       "\t<li>'3,1'</li>\n",
       "\t<li>'2,4'</li>\n",
       "</ol>\n"
      ],
      "text/latex": [
       "\\begin{enumerate*}\n",
       "\\item '1,1'\n",
       "\\item '3,1'\n",
       "\\item '2,4'\n",
       "\\end{enumerate*}\n"
      ],
      "text/markdown": [
       "1. '1,1'\n",
       "2. '3,1'\n",
       "3. '2,4'\n",
       "\n",
       "\n"
      ],
      "text/plain": [
       "[1] \"1,1\" \"3,1\" \"2,4\""
      ]
     },
     "metadata": {},
     "output_type": "display_data"
    }
   ],
   "source": [
    "# Example 3: subset array\n",
    "\n",
    "# create array \n",
    "vals <- outer(1:5, 1:5, FUN = \"paste\", sep = \",\")\n",
    "vals\n",
    "\n",
    "# create a matrix to subset array \n",
    "select <- matrix(ncol = 2, \n",
    "                 byrow = TRUE, \n",
    "                 c(1, 1,\n",
    "                   3, 1, \n",
    "                   2, 4))\n",
    "\n",
    "# subset \n",
    "vals[select]"
   ]
  },
  {
   "cell_type": "markdown",
   "id": "bddac4b4",
   "metadata": {},
   "source": [
    "### Data frames "
   ]
  },
  {
   "cell_type": "markdown",
   "id": "b8826c58",
   "metadata": {},
   "source": [
    "1. Data frames have properties of both lists and matrices: <br>\n",
    "(1) If you subset with a vector, they behave like lists. <br>\n",
    "(2) If you subset with 2 vectors, they behave like matrices.<br><br>\n",
    "\n",
    "2. Subset data frame:<br><br>\n",
    "\n",
    "------ For (1) - (4), use Method 1 <br>\n",
    "(1) subset rows with integers or (in)equalities (preserve structure): <br>\n",
    "Method 1: df[c(1, 2), ] or df[df$x == 2, ] <br><br>\n",
    "\n",
    "(2) subset columns with names (preserve structure): <br>\n",
    "Method 1: df[c(\"a\", \"b\")] <br> \n",
    "Method 2: df[, c(\"a\", \"b\")] <br><br>\n",
    "\n",
    "(3) subset 1 column (preserve structure): <br>\n",
    "Method 1: df[\"a\"] <br><br>\n",
    "\n",
    "(4) subset 1 column  (NOT preserve structure): <br>\n",
    "Method 1: df$a <br>\n",
    "Method 2: df[, \"a\"] <br>\n",
    "Method 3: df[[\"a\"]]  <br><br>\n",
    "\n",
    "Note: <br>\n",
    "I omit subsetting with negative integers logicals since they're not very practical here. "
   ]
  },
  {
   "cell_type": "code",
   "execution_count": 160,
   "id": "ad316566",
   "metadata": {},
   "outputs": [
    {
     "data": {
      "text/html": [
       "<table>\n",
       "<thead><tr><th scope=col>x</th><th scope=col>y</th><th scope=col>z</th></tr></thead>\n",
       "<tbody>\n",
       "\t<tr><td>1</td><td>3</td><td>a</td></tr>\n",
       "\t<tr><td>2</td><td>2</td><td>b</td></tr>\n",
       "\t<tr><td>3</td><td>1</td><td>c</td></tr>\n",
       "</tbody>\n",
       "</table>\n"
      ],
      "text/latex": [
       "\\begin{tabular}{r|lll}\n",
       " x & y & z\\\\\n",
       "\\hline\n",
       "\t 1 & 3 & a\\\\\n",
       "\t 2 & 2 & b\\\\\n",
       "\t 3 & 1 & c\\\\\n",
       "\\end{tabular}\n"
      ],
      "text/markdown": [
       "\n",
       "| x | y | z |\n",
       "|---|---|---|\n",
       "| 1 | 3 | a |\n",
       "| 2 | 2 | b |\n",
       "| 3 | 1 | c |\n",
       "\n"
      ],
      "text/plain": [
       "  x y z\n",
       "1 1 3 a\n",
       "2 2 2 b\n",
       "3 3 1 c"
      ]
     },
     "metadata": {},
     "output_type": "display_data"
    },
    {
     "data": {
      "text/html": [
       "<table>\n",
       "<thead><tr><th></th><th scope=col>x</th><th scope=col>y</th><th scope=col>z</th></tr></thead>\n",
       "<tbody>\n",
       "\t<tr><th scope=row>2</th><td>2</td><td>2</td><td>b</td></tr>\n",
       "</tbody>\n",
       "</table>\n"
      ],
      "text/latex": [
       "\\begin{tabular}{r|lll}\n",
       "  & x & y & z\\\\\n",
       "\\hline\n",
       "\t2 & 2 & 2 & b\\\\\n",
       "\\end{tabular}\n"
      ],
      "text/markdown": [
       "\n",
       "| <!--/--> | x | y | z |\n",
       "|---|---|---|---|\n",
       "| 2 | 2 | 2 | b |\n",
       "\n"
      ],
      "text/plain": [
       "  x y z\n",
       "2 2 2 b"
      ]
     },
     "metadata": {},
     "output_type": "display_data"
    },
    {
     "data": {
      "text/html": [
       "<table>\n",
       "<thead><tr><th></th><th scope=col>x</th><th scope=col>y</th><th scope=col>z</th></tr></thead>\n",
       "<tbody>\n",
       "\t<tr><th scope=row>1</th><td>1</td><td>3</td><td>a</td></tr>\n",
       "\t<tr><th scope=row>3</th><td>3</td><td>1</td><td>c</td></tr>\n",
       "</tbody>\n",
       "</table>\n"
      ],
      "text/latex": [
       "\\begin{tabular}{r|lll}\n",
       "  & x & y & z\\\\\n",
       "\\hline\n",
       "\t1 & 1 & 3 & a\\\\\n",
       "\t3 & 3 & 1 & c\\\\\n",
       "\\end{tabular}\n"
      ],
      "text/markdown": [
       "\n",
       "| <!--/--> | x | y | z |\n",
       "|---|---|---|---|\n",
       "| 1 | 1 | 3 | a |\n",
       "| 3 | 3 | 1 | c |\n",
       "\n"
      ],
      "text/plain": [
       "  x y z\n",
       "1 1 3 a\n",
       "3 3 1 c"
      ]
     },
     "metadata": {},
     "output_type": "display_data"
    }
   ],
   "source": [
    "# Example 1: subset rows \n",
    "\n",
    "# create data frame \n",
    "df <- data.frame(x = 1:3, y = 3:1, z = letters[1:3])\n",
    "df\n",
    "\n",
    "# ------ (1) subset with equality: when x = 2\n",
    "df[df$x == 2, ]\n",
    "\n",
    "# ------ (2) subset with vector: 1st and 3rd rows  \n",
    "df[c(1, 3), ]"
   ]
  },
  {
   "cell_type": "code",
   "execution_count": 124,
   "id": "774eb88c",
   "metadata": {},
   "outputs": [
    {
     "name": "stdout",
     "output_type": "stream",
     "text": [
      "Original data frame:\n"
     ]
    },
    {
     "data": {
      "text/html": [
       "<table>\n",
       "<thead><tr><th scope=col>x</th><th scope=col>y</th><th scope=col>z</th></tr></thead>\n",
       "<tbody>\n",
       "\t<tr><td>1</td><td>3</td><td>a</td></tr>\n",
       "\t<tr><td>2</td><td>2</td><td>b</td></tr>\n",
       "\t<tr><td>3</td><td>1</td><td>c</td></tr>\n",
       "</tbody>\n",
       "</table>\n"
      ],
      "text/latex": [
       "\\begin{tabular}{r|lll}\n",
       " x & y & z\\\\\n",
       "\\hline\n",
       "\t 1 & 3 & a\\\\\n",
       "\t 2 & 2 & b\\\\\n",
       "\t 3 & 1 & c\\\\\n",
       "\\end{tabular}\n"
      ],
      "text/markdown": [
       "\n",
       "| x | y | z |\n",
       "|---|---|---|\n",
       "| 1 | 3 | a |\n",
       "| 2 | 2 | b |\n",
       "| 3 | 1 | c |\n",
       "\n"
      ],
      "text/plain": [
       "  x y z\n",
       "1 1 3 a\n",
       "2 2 2 b\n",
       "3 3 1 c"
      ]
     },
     "metadata": {},
     "output_type": "display_data"
    },
    {
     "name": "stdout",
     "output_type": "stream",
     "text": [
      "\n",
      "Subset with 1 vector (like a list):\n"
     ]
    },
    {
     "data": {
      "text/html": [
       "<table>\n",
       "<thead><tr><th scope=col>x</th><th scope=col>z</th></tr></thead>\n",
       "<tbody>\n",
       "\t<tr><td>1</td><td>a</td></tr>\n",
       "\t<tr><td>2</td><td>b</td></tr>\n",
       "\t<tr><td>3</td><td>c</td></tr>\n",
       "</tbody>\n",
       "</table>\n"
      ],
      "text/latex": [
       "\\begin{tabular}{r|ll}\n",
       " x & z\\\\\n",
       "\\hline\n",
       "\t 1 & a\\\\\n",
       "\t 2 & b\\\\\n",
       "\t 3 & c\\\\\n",
       "\\end{tabular}\n"
      ],
      "text/markdown": [
       "\n",
       "| x | z |\n",
       "|---|---|\n",
       "| 1 | a |\n",
       "| 2 | b |\n",
       "| 3 | c |\n",
       "\n"
      ],
      "text/plain": [
       "  x z\n",
       "1 1 a\n",
       "2 2 b\n",
       "3 3 c"
      ]
     },
     "metadata": {},
     "output_type": "display_data"
    },
    {
     "name": "stdout",
     "output_type": "stream",
     "text": [
      "\n",
      "Subset with 2 vectors (like a matrix):\n"
     ]
    },
    {
     "data": {
      "text/html": [
       "<table>\n",
       "<thead><tr><th scope=col>x</th><th scope=col>z</th></tr></thead>\n",
       "<tbody>\n",
       "\t<tr><td>1</td><td>a</td></tr>\n",
       "\t<tr><td>2</td><td>b</td></tr>\n",
       "\t<tr><td>3</td><td>c</td></tr>\n",
       "</tbody>\n",
       "</table>\n"
      ],
      "text/latex": [
       "\\begin{tabular}{r|ll}\n",
       " x & z\\\\\n",
       "\\hline\n",
       "\t 1 & a\\\\\n",
       "\t 2 & b\\\\\n",
       "\t 3 & c\\\\\n",
       "\\end{tabular}\n"
      ],
      "text/markdown": [
       "\n",
       "| x | z |\n",
       "|---|---|\n",
       "| 1 | a |\n",
       "| 2 | b |\n",
       "| 3 | c |\n",
       "\n"
      ],
      "text/plain": [
       "  x z\n",
       "1 1 a\n",
       "2 2 b\n",
       "3 3 c"
      ]
     },
     "metadata": {},
     "output_type": "display_data"
    }
   ],
   "source": [
    "# Example 2_1: subset multiple columns \n",
    "\n",
    "# create data frame \n",
    "df <- data.frame(x = 1:3, y = 3:1, z = letters[1:3])\n",
    "cat(\"Original data frame:\\n\")\n",
    "df\n",
    "\n",
    "# ------ (1) subset with 1 vector: like a list \n",
    "cat(\"\\nSubset with 1 vector (like a list):\\n\")\n",
    "df[c(\"x\", \"z\")]\n",
    "\n",
    "# ------ (2) subset with 2 vectors: like a matrix \n",
    "cat(\"\\nSubset with 2 vectors (like a matrix):\\n\")\n",
    "df[, c(\"x\", \"z\")]"
   ]
  },
  {
   "cell_type": "code",
   "execution_count": 134,
   "id": "a73a7728",
   "metadata": {},
   "outputs": [
    {
     "name": "stdout",
     "output_type": "stream",
     "text": [
      "list subsetting result:\n"
     ]
    },
    {
     "data": {
      "text/html": [
       "<table>\n",
       "<thead><tr><th scope=col>x</th></tr></thead>\n",
       "<tbody>\n",
       "\t<tr><td>1</td></tr>\n",
       "\t<tr><td>2</td></tr>\n",
       "\t<tr><td>3</td></tr>\n",
       "</tbody>\n",
       "</table>\n"
      ],
      "text/latex": [
       "\\begin{tabular}{r|l}\n",
       " x\\\\\n",
       "\\hline\n",
       "\t 1\\\\\n",
       "\t 2\\\\\n",
       "\t 3\\\\\n",
       "\\end{tabular}\n"
      ],
      "text/markdown": [
       "\n",
       "| x |\n",
       "|---|\n",
       "| 1 |\n",
       "| 2 |\n",
       "| 3 |\n",
       "\n"
      ],
      "text/plain": [
       "  x\n",
       "1 1\n",
       "2 2\n",
       "3 3"
      ]
     },
     "metadata": {},
     "output_type": "display_data"
    },
    {
     "name": "stdout",
     "output_type": "stream",
     "text": [
      "integer subsetting result:\n"
     ]
    },
    {
     "data": {
      "text/html": [
       "<table>\n",
       "<thead><tr><th scope=col>x</th></tr></thead>\n",
       "<tbody>\n",
       "\t<tr><td>1</td></tr>\n",
       "\t<tr><td>2</td></tr>\n",
       "\t<tr><td>3</td></tr>\n",
       "</tbody>\n",
       "</table>\n"
      ],
      "text/latex": [
       "\\begin{tabular}{r|l}\n",
       " x\\\\\n",
       "\\hline\n",
       "\t 1\\\\\n",
       "\t 2\\\\\n",
       "\t 3\\\\\n",
       "\\end{tabular}\n"
      ],
      "text/markdown": [
       "\n",
       "| x |\n",
       "|---|\n",
       "| 1 |\n",
       "| 2 |\n",
       "| 3 |\n",
       "\n"
      ],
      "text/plain": [
       "  x\n",
       "1 1\n",
       "2 2\n",
       "3 3"
      ]
     },
     "metadata": {},
     "output_type": "display_data"
    },
    {
     "name": "stdout",
     "output_type": "stream",
     "text": [
      "\n",
      "matrix subsetting result:"
     ]
    },
    {
     "data": {
      "text/html": [
       "<ol class=list-inline>\n",
       "\t<li>1</li>\n",
       "\t<li>2</li>\n",
       "\t<li>3</li>\n",
       "</ol>\n"
      ],
      "text/latex": [
       "\\begin{enumerate*}\n",
       "\\item 1\n",
       "\\item 2\n",
       "\\item 3\n",
       "\\end{enumerate*}\n"
      ],
      "text/markdown": [
       "1. 1\n",
       "2. 2\n",
       "3. 3\n",
       "\n",
       "\n"
      ],
      "text/plain": [
       "[1] 1 2 3"
      ]
     },
     "metadata": {},
     "output_type": "display_data"
    },
    {
     "name": "stdout",
     "output_type": "stream",
     "text": [
      "\n",
      "$ subsetting result:"
     ]
    },
    {
     "data": {
      "text/html": [
       "<ol class=list-inline>\n",
       "\t<li>1</li>\n",
       "\t<li>2</li>\n",
       "\t<li>3</li>\n",
       "</ol>\n"
      ],
      "text/latex": [
       "\\begin{enumerate*}\n",
       "\\item 1\n",
       "\\item 2\n",
       "\\item 3\n",
       "\\end{enumerate*}\n"
      ],
      "text/markdown": [
       "1. 1\n",
       "2. 2\n",
       "3. 3\n",
       "\n",
       "\n"
      ],
      "text/plain": [
       "[1] 1 2 3"
      ]
     },
     "metadata": {},
     "output_type": "display_data"
    },
    {
     "name": "stdout",
     "output_type": "stream",
     "text": [
      "\n",
      "[[ subsetting result:\n"
     ]
    },
    {
     "data": {
      "text/html": [
       "<ol class=list-inline>\n",
       "\t<li>1</li>\n",
       "\t<li>2</li>\n",
       "\t<li>3</li>\n",
       "</ol>\n"
      ],
      "text/latex": [
       "\\begin{enumerate*}\n",
       "\\item 1\n",
       "\\item 2\n",
       "\\item 3\n",
       "\\end{enumerate*}\n"
      ],
      "text/markdown": [
       "1. 1\n",
       "2. 2\n",
       "3. 3\n",
       "\n",
       "\n"
      ],
      "text/plain": [
       "[1] 1 2 3"
      ]
     },
     "metadata": {},
     "output_type": "display_data"
    }
   ],
   "source": [
    "# Example 2_2: subset only 1 column\n",
    "\n",
    "# create data frame \n",
    "df <- data.frame(x = 1:3, y = 3:1, z = letters[1:3])\n",
    "\n",
    "# ------- (1) subset: preverve output structure \n",
    "\n",
    "# list subsetting\n",
    "cat(\"list subsetting result:\\n\")\n",
    "df[\"x\"]\n",
    "# integer subsetting (NOT RECOMMENDED)\n",
    "cat(\"integer subsetting result:\\n\")\n",
    "df[1]\n",
    "\n",
    "# ------- (2) subset: NOT preserve output structure \n",
    "\n",
    "# matrix subsetting\n",
    "cat(\"\\nmatrix subsetting result:\")\n",
    "df[, \"x\"]\n",
    "# $ subsetting\n",
    "cat(\"\\n$ subsetting result:\")\n",
    "df$x\n",
    "# [[ subsetting\n",
    "cat(\"\\n[[ subsetting result:\\n\")\n",
    "df[[\"x\"]]"
   ]
  },
  {
   "cell_type": "markdown",
   "id": "73d31664",
   "metadata": {},
   "source": [
    "### S3 objects"
   ]
  },
  {
   "cell_type": "markdown",
   "id": "150ae5ad",
   "metadata": {},
   "source": [
    "**S3 objects** are made up of atomic vectors, arrays, and list. You can always pull apart an S3 object using the techniques above and knowledge you gain from str()."
   ]
  },
  {
   "cell_type": "markdown",
   "id": "3bfed6fc",
   "metadata": {},
   "source": [
    "### S4 objects"
   ]
  },
  {
   "cell_type": "markdown",
   "id": "c3d3cfb2",
   "metadata": {},
   "source": [
    "Two additional subsetting operators for S4 objects: <br>\n",
    "(1) `@`(equivalent to `$`) <br>\n",
    "(2) `slot()` (equivalent to `[[`) <br>\n",
    "Note: `@` is more restrictive than `$` in that it will return an error if the slot doesn't exist."
   ]
  },
  {
   "cell_type": "markdown",
   "id": "25473d20",
   "metadata": {},
   "source": [
    "## Subsetting operators"
   ]
  },
  {
   "cell_type": "markdown",
   "id": "3f3cf435",
   "metadata": {},
   "source": [
    "1. Two other subsetting operators: <br>\n",
    "(1) `[[`: similar to `[`, it can only return a single value and allows you to pull pieces out of a list. <br>\n",
    "(2) `$`: a useful shorthand for `[[` combined with character subsetting. <br>\n",
    "2. You need `[[` when working with lists. This is because `[` always returns a list, while `[[` returns contents. \n",
    "3. Because it can return only a single value, you must use `[[` with either a single positive integer / a string."
   ]
  },
  {
   "cell_type": "code",
   "execution_count": 213,
   "id": "a07ab707",
   "metadata": {},
   "outputs": [
    {
     "data": {
      "text/html": [
       "<strong>$b</strong> = 2"
      ],
      "text/latex": [
       "\\textbf{\\$b} = 2"
      ],
      "text/markdown": [
       "**$b** = 2"
      ],
      "text/plain": [
       "$b\n",
       "[1] 2\n"
      ]
     },
     "metadata": {},
     "output_type": "display_data"
    },
    {
     "data": {
      "text/html": [
       "2"
      ],
      "text/latex": [
       "2"
      ],
      "text/markdown": [
       "2"
      ],
      "text/plain": [
       "[1] 2"
      ]
     },
     "metadata": {},
     "output_type": "display_data"
    }
   ],
   "source": [
    "# Example 1\n",
    "\n",
    "# create list \n",
    "a <- list(a = 1, b = 2)\n",
    "\n",
    "# ------ (1) subset: preserve structure\n",
    "a[\"b\"]\n",
    "\n",
    "# ------ (2) subset: NOT preserve structure\n",
    "a$b"
   ]
  },
  {
   "cell_type": "code",
   "execution_count": 77,
   "id": "5271f75e",
   "metadata": {},
   "outputs": [
    {
     "data": {
      "text/html": [
       "1"
      ],
      "text/latex": [
       "1"
      ],
      "text/markdown": [
       "1"
      ],
      "text/plain": [
       "[1] 1"
      ]
     },
     "metadata": {},
     "output_type": "display_data"
    },
    {
     "data": {
      "text/html": [
       "1"
      ],
      "text/latex": [
       "1"
      ],
      "text/markdown": [
       "1"
      ],
      "text/plain": [
       "[1] 1"
      ]
     },
     "metadata": {},
     "output_type": "display_data"
    }
   ],
   "source": [
    "# Example 2: if you supply a vector, it indexes recursively \n",
    "\n",
    "# create list \n",
    "b <- list(a = list(b = list(c = list(d = 1))))\n",
    "\n",
    "# subset\n",
    "b[[c(\"a\", \"b\", \"c\", \"d\")]]\n",
    "b[[\"a\"]][[\"b\"]][[\"c\"]][[\"d\"]]"
   ]
  },
  {
   "cell_type": "code",
   "execution_count": 191,
   "id": "1012459c",
   "metadata": {},
   "outputs": [
    {
     "data": {
      "text/html": [
       "<table>\n",
       "<thead><tr><th></th><th scope=col>mpg</th><th scope=col>cyl</th><th scope=col>disp</th><th scope=col>hp</th><th scope=col>drat</th><th scope=col>wt</th><th scope=col>qsec</th><th scope=col>vs</th><th scope=col>am</th><th scope=col>gear</th><th scope=col>carb</th></tr></thead>\n",
       "<tbody>\n",
       "\t<tr><th scope=row>Mazda RX4</th><td>21   </td><td>6    </td><td>160  </td><td>110  </td><td>3.9  </td><td>2.620</td><td>16.46</td><td>0    </td><td>1    </td><td>4    </td><td>4    </td></tr>\n",
       "\t<tr><th scope=row>Mazda RX4 Wag</th><td>21   </td><td>6    </td><td>160  </td><td>110  </td><td>3.9  </td><td>2.875</td><td>17.02</td><td>0    </td><td>1    </td><td>4    </td><td>4    </td></tr>\n",
       "</tbody>\n",
       "</table>\n"
      ],
      "text/latex": [
       "\\begin{tabular}{r|lllllllllll}\n",
       "  & mpg & cyl & disp & hp & drat & wt & qsec & vs & am & gear & carb\\\\\n",
       "\\hline\n",
       "\tMazda RX4 & 21    & 6     & 160   & 110   & 3.9   & 2.620 & 16.46 & 0     & 1     & 4     & 4    \\\\\n",
       "\tMazda RX4 Wag & 21    & 6     & 160   & 110   & 3.9   & 2.875 & 17.02 & 0     & 1     & 4     & 4    \\\\\n",
       "\\end{tabular}\n"
      ],
      "text/markdown": [
       "\n",
       "| <!--/--> | mpg | cyl | disp | hp | drat | wt | qsec | vs | am | gear | carb |\n",
       "|---|---|---|---|---|---|---|---|---|---|---|---|\n",
       "| Mazda RX4 | 21    | 6     | 160   | 110   | 3.9   | 2.620 | 16.46 | 0     | 1     | 4     | 4     |\n",
       "| Mazda RX4 Wag | 21    | 6     | 160   | 110   | 3.9   | 2.875 | 17.02 | 0     | 1     | 4     | 4     |\n",
       "\n"
      ],
      "text/plain": [
       "              mpg cyl disp hp  drat wt    qsec  vs am gear carb\n",
       "Mazda RX4     21  6   160  110 3.9  2.620 16.46 0  1  4    4   \n",
       "Mazda RX4 Wag 21  6   160  110 3.9  2.875 17.02 0  1  4    4   "
      ]
     },
     "metadata": {},
     "output_type": "display_data"
    },
    {
     "data": {
      "text/html": [
       "<table>\n",
       "<thead><tr><th></th><th scope=col>wt</th><th scope=col>am</th></tr></thead>\n",
       "<tbody>\n",
       "\t<tr><th scope=row>Mazda RX4</th><td>2.620</td><td>1    </td></tr>\n",
       "\t<tr><th scope=row>Mazda RX4 Wag</th><td>2.875</td><td>1    </td></tr>\n",
       "\t<tr><th scope=row>Datsun 710</th><td>2.320</td><td>1    </td></tr>\n",
       "</tbody>\n",
       "</table>\n"
      ],
      "text/latex": [
       "\\begin{tabular}{r|ll}\n",
       "  & wt & am\\\\\n",
       "\\hline\n",
       "\tMazda RX4 & 2.620 & 1    \\\\\n",
       "\tMazda RX4 Wag & 2.875 & 1    \\\\\n",
       "\tDatsun 710 & 2.320 & 1    \\\\\n",
       "\\end{tabular}\n"
      ],
      "text/markdown": [
       "\n",
       "| <!--/--> | wt | am |\n",
       "|---|---|---|\n",
       "| Mazda RX4 | 2.620 | 1     |\n",
       "| Mazda RX4 Wag | 2.875 | 1     |\n",
       "| Datsun 710 | 2.320 | 1     |\n",
       "\n"
      ],
      "text/plain": [
       "              wt    am\n",
       "Mazda RX4     2.620 1 \n",
       "Mazda RX4 Wag 2.875 1 \n",
       "Datsun 710    2.320 1 "
      ]
     },
     "metadata": {},
     "output_type": "display_data"
    },
    {
     "data": {
      "text/html": [
       "<table>\n",
       "<thead><tr><th></th><th scope=col>mpg</th></tr></thead>\n",
       "<tbody>\n",
       "\t<tr><th scope=row>Mazda RX4</th><td>21.0</td></tr>\n",
       "\t<tr><th scope=row>Mazda RX4 Wag</th><td>21.0</td></tr>\n",
       "\t<tr><th scope=row>Datsun 710</th><td>22.8</td></tr>\n",
       "</tbody>\n",
       "</table>\n"
      ],
      "text/latex": [
       "\\begin{tabular}{r|l}\n",
       "  & mpg\\\\\n",
       "\\hline\n",
       "\tMazda RX4 & 21.0\\\\\n",
       "\tMazda RX4 Wag & 21.0\\\\\n",
       "\tDatsun 710 & 22.8\\\\\n",
       "\\end{tabular}\n"
      ],
      "text/markdown": [
       "\n",
       "| <!--/--> | mpg |\n",
       "|---|---|\n",
       "| Mazda RX4 | 21.0 |\n",
       "| Mazda RX4 Wag | 21.0 |\n",
       "| Datsun 710 | 22.8 |\n",
       "\n"
      ],
      "text/plain": [
       "              mpg \n",
       "Mazda RX4     21.0\n",
       "Mazda RX4 Wag 21.0\n",
       "Datsun 710    22.8"
      ]
     },
     "metadata": {},
     "output_type": "display_data"
    },
    {
     "data": {
      "text/html": [
       "<ol class=list-inline>\n",
       "\t<li>21</li>\n",
       "\t<li>21</li>\n",
       "\t<li>22.8</li>\n",
       "\t<li>21.4</li>\n",
       "\t<li>18.7</li>\n",
       "\t<li>18.1</li>\n",
       "\t<li>14.3</li>\n",
       "\t<li>24.4</li>\n",
       "\t<li>22.8</li>\n",
       "\t<li>19.2</li>\n",
       "\t<li>17.8</li>\n",
       "\t<li>16.4</li>\n",
       "\t<li>17.3</li>\n",
       "\t<li>15.2</li>\n",
       "\t<li>10.4</li>\n",
       "\t<li>10.4</li>\n",
       "\t<li>14.7</li>\n",
       "\t<li>32.4</li>\n",
       "\t<li>30.4</li>\n",
       "\t<li>33.9</li>\n",
       "\t<li>21.5</li>\n",
       "\t<li>15.5</li>\n",
       "\t<li>15.2</li>\n",
       "\t<li>13.3</li>\n",
       "\t<li>19.2</li>\n",
       "\t<li>27.3</li>\n",
       "\t<li>26</li>\n",
       "\t<li>30.4</li>\n",
       "\t<li>15.8</li>\n",
       "\t<li>19.7</li>\n",
       "\t<li>15</li>\n",
       "\t<li>21.4</li>\n",
       "</ol>\n"
      ],
      "text/latex": [
       "\\begin{enumerate*}\n",
       "\\item 21\n",
       "\\item 21\n",
       "\\item 22.8\n",
       "\\item 21.4\n",
       "\\item 18.7\n",
       "\\item 18.1\n",
       "\\item 14.3\n",
       "\\item 24.4\n",
       "\\item 22.8\n",
       "\\item 19.2\n",
       "\\item 17.8\n",
       "\\item 16.4\n",
       "\\item 17.3\n",
       "\\item 15.2\n",
       "\\item 10.4\n",
       "\\item 10.4\n",
       "\\item 14.7\n",
       "\\item 32.4\n",
       "\\item 30.4\n",
       "\\item 33.9\n",
       "\\item 21.5\n",
       "\\item 15.5\n",
       "\\item 15.2\n",
       "\\item 13.3\n",
       "\\item 19.2\n",
       "\\item 27.3\n",
       "\\item 26\n",
       "\\item 30.4\n",
       "\\item 15.8\n",
       "\\item 19.7\n",
       "\\item 15\n",
       "\\item 21.4\n",
       "\\end{enumerate*}\n"
      ],
      "text/markdown": [
       "1. 21\n",
       "2. 21\n",
       "3. 22.8\n",
       "4. 21.4\n",
       "5. 18.7\n",
       "6. 18.1\n",
       "7. 14.3\n",
       "8. 24.4\n",
       "9. 22.8\n",
       "10. 19.2\n",
       "11. 17.8\n",
       "12. 16.4\n",
       "13. 17.3\n",
       "14. 15.2\n",
       "15. 10.4\n",
       "16. 10.4\n",
       "17. 14.7\n",
       "18. 32.4\n",
       "19. 30.4\n",
       "20. 33.9\n",
       "21. 21.5\n",
       "22. 15.5\n",
       "23. 15.2\n",
       "24. 13.3\n",
       "25. 19.2\n",
       "26. 27.3\n",
       "27. 26\n",
       "28. 30.4\n",
       "29. 15.8\n",
       "30. 19.7\n",
       "31. 15\n",
       "32. 21.4\n",
       "\n",
       "\n"
      ],
      "text/plain": [
       " [1] 21.0 21.0 22.8 21.4 18.7 18.1 14.3 24.4 22.8 19.2 17.8 16.4 17.3 15.2 10.4\n",
       "[16] 10.4 14.7 32.4 30.4 33.9 21.5 15.5 15.2 13.3 19.2 27.3 26.0 30.4 15.8 19.7\n",
       "[31] 15.0 21.4"
      ]
     },
     "metadata": {},
     "output_type": "display_data"
    }
   ],
   "source": [
    "# Example 3\n",
    "\n",
    "# subset rows \n",
    "mtcars[1:2, ]\n",
    "\n",
    "# subset columns \n",
    "head(mtcars[, c(\"wt\", \"am\")],3)\n",
    "\n",
    "# subset 1 column (prserve structure)\n",
    "head(mtcars[\"mpg\"],3)\n",
    "\n",
    "# subset 1 column (NOT preserve structure) \n",
    "mtcars$mpg"
   ]
  },
  {
   "cell_type": "markdown",
   "id": "69d9d40d",
   "metadata": {},
   "source": [
    "### Simplifying vs preserving subsetting"
   ]
  },
  {
   "cell_type": "markdown",
   "id": "ba5b96ce",
   "metadata": {},
   "source": [
    "1. Simplifying subsets returns simplest possible data structure that can represent the output, and is useful interactively because it gives what you want. \n",
    "2. Preserving subsetting keeps structure of output the same as input, and is better for programming because the result will be same type. \n",
    "3. Omitting `drop = FALSE` when subsetting matrices and data frames is one of most common sources of programming erros. <br>\n",
    "Note: drop = T in factor means not keep not selected levels. \n",
    "4. Preserving is same for all data types: you get same type of output as input.\n",
    "5. Simplifying behavior varies a bit between different data types: <br>\n",
    "(1) **atomic vector**: removes names<br>\n",
    "(2) **list**: returns the object inside the list, not a single element list<br>\n",
    "(3) **factor**: drops any unused levels <br>\n",
    "(4) **matrix or array**: if any of the dimensions has length 1, drops that dimension<br>\n",
    "(5) **data frame**: if output is a single column, returns a vector instead of a data frame"
   ]
  },
  {
   "cell_type": "markdown",
   "id": "cf62d2ab",
   "metadata": {},
   "source": [
    "|            | Simplifying      | Preserving                           | \n",
    "|    :-:     |         :-:      |                     :-:              | \n",
    "| vector     | x[[1]]           | x[1]                               |\n",
    "| list       | x[[1]]           | x[1]                                 |\n",
    "| factor     | x[1:4, drop = T] | x[1:4]                               |   \n",
    "| array      | x[1, ] or x[, 1] | x[1, , drop = F] or x[, 1, drop = F] | \n",
    "| data frame | x[, 1] or x[[1]] | x[, 1, drop = F] or x[1]             |"
   ]
  },
  {
   "cell_type": "code",
   "execution_count": 216,
   "id": "78d44aef",
   "metadata": {},
   "outputs": [
    {
     "data": {
      "text/html": [
       "<strong>a:</strong> 1"
      ],
      "text/latex": [
       "\\textbf{a:} 1"
      ],
      "text/markdown": [
       "**a:** 1"
      ],
      "text/plain": [
       "a \n",
       "1 "
      ]
     },
     "metadata": {},
     "output_type": "display_data"
    },
    {
     "data": {
      "text/html": [
       "1"
      ],
      "text/latex": [
       "1"
      ],
      "text/markdown": [
       "1"
      ],
      "text/plain": [
       "[1] 1"
      ]
     },
     "metadata": {},
     "output_type": "display_data"
    }
   ],
   "source": [
    "# Example 1: atomic vector  \n",
    "\n",
    "# create vector \n",
    "x <- c(a = 1, b = 2)\n",
    "\n",
    "# subset: preserve structure \n",
    "x[1]\n",
    "# subset: NOT preserve structure \n",
    "x[[1]] "
   ]
  },
  {
   "cell_type": "code",
   "execution_count": 238,
   "id": "66ef5c5a",
   "metadata": {},
   "outputs": [
    {
     "data": {
      "text/html": [
       "<strong>$a</strong> = <ol class=list-inline>\n",
       "\t<li>1</li>\n",
       "\t<li>2</li>\n",
       "</ol>\n"
      ],
      "text/latex": [
       "\\textbf{\\$a} = \\begin{enumerate*}\n",
       "\\item 1\n",
       "\\item 2\n",
       "\\end{enumerate*}\n"
      ],
      "text/markdown": [
       "**$a** = 1. 1\n",
       "2. 2\n",
       "\n",
       "\n"
      ],
      "text/plain": [
       "$a\n",
       "[1] 1 2\n"
      ]
     },
     "metadata": {},
     "output_type": "display_data"
    },
    {
     "data": {
      "text/html": [
       "<ol class=list-inline>\n",
       "\t<li>1</li>\n",
       "\t<li>2</li>\n",
       "</ol>\n"
      ],
      "text/latex": [
       "\\begin{enumerate*}\n",
       "\\item 1\n",
       "\\item 2\n",
       "\\end{enumerate*}\n"
      ],
      "text/markdown": [
       "1. 1\n",
       "2. 2\n",
       "\n",
       "\n"
      ],
      "text/plain": [
       "[1] 1 2"
      ]
     },
     "metadata": {},
     "output_type": "display_data"
    }
   ],
   "source": [
    "# Example 2: list\n",
    "\n",
    "# create list \n",
    "y <- list(a = c(1, 2), b = c(3, 4))\n",
    "\n",
    "# subset: preserve structure \n",
    "y[1]\n",
    "# subset: NOT preserve structure \n",
    "y[[1]] "
   ]
  },
  {
   "cell_type": "code",
   "execution_count": 237,
   "id": "6701d8d1",
   "metadata": {},
   "outputs": [
    {
     "name": "stdout",
     "output_type": "stream",
     "text": [
      "Right way to subset factor:"
     ]
    },
    {
     "data": {
      "text/html": [
       "a\n",
       "<details>\n",
       "\t<summary style=display:list-item;cursor:pointer>\n",
       "\t\t<strong>Levels</strong>:\n",
       "\t</summary>\n",
       "\t'a'\n",
       "</details>"
      ],
      "text/latex": [
       "a\n",
       "\\emph{Levels}: 'a'"
      ],
      "text/markdown": [
       "a\n",
       "**Levels**: 'a'"
      ],
      "text/plain": [
       "[1] a\n",
       "Levels: a"
      ]
     },
     "metadata": {},
     "output_type": "display_data"
    },
    {
     "name": "stdout",
     "output_type": "stream",
     "text": [
      " Factor w/ 1 level \"a\": 1\n",
      "\n",
      "\n",
      "Wrong way to subset factor:"
     ]
    },
    {
     "data": {
      "text/html": [
       "a\n",
       "<details>\n",
       "\t<summary style=display:list-item;cursor:pointer>\n",
       "\t\t<strong>Levels</strong>:\n",
       "\t</summary>\n",
       "\t<ol class=list-inline>\n",
       "\t\t<li>'a'</li>\n",
       "\t\t<li>'b'</li>\n",
       "\t</ol>\n",
       "</details>"
      ],
      "text/latex": [
       "a\n",
       "\\emph{Levels}: \\begin{enumerate*}\n",
       "\\item 'a'\n",
       "\\item 'b'\n",
       "\\end{enumerate*}\n"
      ],
      "text/markdown": [
       "a\n",
       "**Levels**: 1. 'a'\n",
       "2. 'b'\n",
       "\n",
       "\n"
      ],
      "text/plain": [
       "[1] a\n",
       "Levels: a b"
      ]
     },
     "metadata": {},
     "output_type": "display_data"
    },
    {
     "name": "stdout",
     "output_type": "stream",
     "text": [
      " Factor w/ 2 levels \"a\",\"b\": 1\n"
     ]
    }
   ],
   "source": [
    "# Example 3: factor \n",
    "\n",
    "# create factor \n",
    "z <- factor(c(\"a\", \"b\"))\n",
    "\n",
    "# subset first element\n",
    "cat(\"Right way to subset factor:\")\n",
    "z[1, drop = TRUE]\n",
    "str(z[1, drop = TRUE])\n",
    "\n",
    "# It is wrong if not use `drop = TRUE`\n",
    "# since it keeps original 2 levels\n",
    "cat(\"\\n\\nWrong way to subset factor:\")\n",
    "z[1]\n",
    "str(z[1])"
   ]
  },
  {
   "cell_type": "code",
   "execution_count": 242,
   "id": "d8e90479",
   "metadata": {},
   "outputs": [
    {
     "name": "stdout",
     "output_type": "stream",
     "text": [
      "Right way to subset matrix (1 row/1column)"
     ]
    },
    {
     "data": {
      "text/html": [
       "<table>\n",
       "<tbody>\n",
       "\t<tr><td>1</td><td>3</td></tr>\n",
       "</tbody>\n",
       "</table>\n"
      ],
      "text/latex": [
       "\\begin{tabular}{ll}\n",
       "\t 1 & 3\\\\\n",
       "\\end{tabular}\n"
      ],
      "text/markdown": [
       "\n",
       "| 1 | 3 |\n",
       "\n"
      ],
      "text/plain": [
       "     [,1] [,2]\n",
       "[1,] 1    3   "
      ]
     },
     "metadata": {},
     "output_type": "display_data"
    },
    {
     "data": {
      "text/html": [
       "<table>\n",
       "<tbody>\n",
       "\t<tr><td>1</td></tr>\n",
       "\t<tr><td>2</td></tr>\n",
       "</tbody>\n",
       "</table>\n"
      ],
      "text/latex": [
       "\\begin{tabular}{l}\n",
       "\t 1\\\\\n",
       "\t 2\\\\\n",
       "\\end{tabular}\n"
      ],
      "text/markdown": [
       "\n",
       "| 1 |\n",
       "| 2 |\n",
       "\n"
      ],
      "text/plain": [
       "     [,1]\n",
       "[1,] 1   \n",
       "[2,] 2   "
      ]
     },
     "metadata": {},
     "output_type": "display_data"
    },
    {
     "name": "stdout",
     "output_type": "stream",
     "text": [
      "Wrong way to subset matrix (1 row/1column)"
     ]
    },
    {
     "data": {
      "text/html": [
       "<ol class=list-inline>\n",
       "\t<li>1</li>\n",
       "\t<li>3</li>\n",
       "</ol>\n"
      ],
      "text/latex": [
       "\\begin{enumerate*}\n",
       "\\item 1\n",
       "\\item 3\n",
       "\\end{enumerate*}\n"
      ],
      "text/markdown": [
       "1. 1\n",
       "2. 3\n",
       "\n",
       "\n"
      ],
      "text/plain": [
       "[1] 1 3"
      ]
     },
     "metadata": {},
     "output_type": "display_data"
    }
   ],
   "source": [
    "# Example 4: matrix or array \n",
    "\n",
    "# create matrix \n",
    "a <- matrix(1:4, nrow = 2)\n",
    "\n",
    "# subset row / column: \n",
    "# when the subset matrix has only 1 row / 1 column \n",
    "# `drop = FALSE` helps preserve output as matrix \n",
    "cat(\"Right way to subset matrix (1 row/1column)\")\n",
    "a[1, , drop = FALSE]\n",
    "a[, 1, drop = FALSE]\n",
    "\n",
    "# wrong way to do it \n",
    "cat(\"Wrong way to subset matrix (1 row/1column)\")\n",
    "a[1, ]"
   ]
  },
  {
   "cell_type": "code",
   "execution_count": 247,
   "id": "bbc4b8d5",
   "metadata": {},
   "outputs": [
    {
     "name": "stdout",
     "output_type": "stream",
     "text": [
      "Right way to subset data frame (1 column)"
     ]
    },
    {
     "data": {
      "text/html": [
       "<table>\n",
       "<thead><tr><th scope=col>a</th></tr></thead>\n",
       "<tbody>\n",
       "\t<tr><td>1</td></tr>\n",
       "\t<tr><td>2</td></tr>\n",
       "</tbody>\n",
       "</table>\n"
      ],
      "text/latex": [
       "\\begin{tabular}{r|l}\n",
       " a\\\\\n",
       "\\hline\n",
       "\t 1\\\\\n",
       "\t 2\\\\\n",
       "\\end{tabular}\n"
      ],
      "text/markdown": [
       "\n",
       "| a |\n",
       "|---|\n",
       "| 1 |\n",
       "| 2 |\n",
       "\n"
      ],
      "text/plain": [
       "  a\n",
       "1 1\n",
       "2 2"
      ]
     },
     "metadata": {},
     "output_type": "display_data"
    },
    {
     "name": "stdout",
     "output_type": "stream",
     "text": [
      "Wrong way to subset data frame (1 column)"
     ]
    },
    {
     "data": {
      "text/html": [
       "<ol class=list-inline>\n",
       "\t<li>1</li>\n",
       "\t<li>2</li>\n",
       "</ol>\n"
      ],
      "text/latex": [
       "\\begin{enumerate*}\n",
       "\\item 1\n",
       "\\item 2\n",
       "\\end{enumerate*}\n"
      ],
      "text/markdown": [
       "1. 1\n",
       "2. 2\n",
       "\n",
       "\n"
      ],
      "text/plain": [
       "[1] 1 2"
      ]
     },
     "metadata": {},
     "output_type": "display_data"
    }
   ],
   "source": [
    "# Example 5\n",
    "\n",
    "# create data frame \n",
    "df <- data.frame(a = 1:2, b = 1:2)\n",
    "\n",
    "# subset 1 column: \n",
    "# when the subset data frame has only 1 column \n",
    "# `drop = FALSE` helps preserve structure\n",
    "cat(\"Right way to subset data frame (1 column)\")\n",
    "df[, 1, drop = FALSE]\n",
    "\n",
    "# wrong way to do it\n",
    "cat(\"Wrong way to subset data frame (1 column)\")\n",
    "df[, 1]"
   ]
  },
  {
   "cell_type": "markdown",
   "id": "facd27e2",
   "metadata": {},
   "source": [
    "### $"
   ]
  },
  {
   "cell_type": "markdown",
   "id": "8aefece7",
   "metadata": {},
   "source": [
    "1. \\$ is a shorthand for `[[`, so x$y is same as x\\[[\"y\", exact = FALSE]]. It's often used to access variables in a data frame. \n",
    "2. One common mistake is to try and use \\$ when you have the name of a column stored in a variable. \n",
    "3. Difference between \\$ and `[[`: <br>\n",
    "(1) \\$ does partial matching.<br>\n",
    "If you want to avoid this behavior, (NOT RECOMMENDED) set global option `warnPartialMatchDollar = TRUE`. This setting may affect behavior in other code you have loaded. Use with caution!!! <br>\n",
    "(2) [[ does exact matching. "
   ]
  },
  {
   "cell_type": "code",
   "execution_count": 258,
   "id": "9527cd69",
   "metadata": {},
   "outputs": [
    {
     "name": "stdout",
     "output_type": "stream",
     "text": [
      "Right way to subset 'cyl' here:"
     ]
    },
    {
     "data": {
      "text/html": [
       "<ol class=list-inline>\n",
       "\t<li>6</li>\n",
       "\t<li>6</li>\n",
       "\t<li>4</li>\n",
       "\t<li>6</li>\n",
       "\t<li>8</li>\n",
       "\t<li>6</li>\n",
       "\t<li>8</li>\n",
       "\t<li>4</li>\n",
       "\t<li>4</li>\n",
       "\t<li>6</li>\n",
       "\t<li>6</li>\n",
       "\t<li>8</li>\n",
       "\t<li>8</li>\n",
       "\t<li>8</li>\n",
       "\t<li>8</li>\n",
       "\t<li>8</li>\n",
       "\t<li>8</li>\n",
       "\t<li>4</li>\n",
       "\t<li>4</li>\n",
       "\t<li>4</li>\n",
       "\t<li>4</li>\n",
       "\t<li>8</li>\n",
       "\t<li>8</li>\n",
       "\t<li>8</li>\n",
       "\t<li>8</li>\n",
       "\t<li>4</li>\n",
       "\t<li>4</li>\n",
       "\t<li>4</li>\n",
       "\t<li>8</li>\n",
       "\t<li>6</li>\n",
       "\t<li>8</li>\n",
       "\t<li>4</li>\n",
       "</ol>\n"
      ],
      "text/latex": [
       "\\begin{enumerate*}\n",
       "\\item 6\n",
       "\\item 6\n",
       "\\item 4\n",
       "\\item 6\n",
       "\\item 8\n",
       "\\item 6\n",
       "\\item 8\n",
       "\\item 4\n",
       "\\item 4\n",
       "\\item 6\n",
       "\\item 6\n",
       "\\item 8\n",
       "\\item 8\n",
       "\\item 8\n",
       "\\item 8\n",
       "\\item 8\n",
       "\\item 8\n",
       "\\item 4\n",
       "\\item 4\n",
       "\\item 4\n",
       "\\item 4\n",
       "\\item 8\n",
       "\\item 8\n",
       "\\item 8\n",
       "\\item 8\n",
       "\\item 4\n",
       "\\item 4\n",
       "\\item 4\n",
       "\\item 8\n",
       "\\item 6\n",
       "\\item 8\n",
       "\\item 4\n",
       "\\end{enumerate*}\n"
      ],
      "text/markdown": [
       "1. 6\n",
       "2. 6\n",
       "3. 4\n",
       "4. 6\n",
       "5. 8\n",
       "6. 6\n",
       "7. 8\n",
       "8. 4\n",
       "9. 4\n",
       "10. 6\n",
       "11. 6\n",
       "12. 8\n",
       "13. 8\n",
       "14. 8\n",
       "15. 8\n",
       "16. 8\n",
       "17. 8\n",
       "18. 4\n",
       "19. 4\n",
       "20. 4\n",
       "21. 4\n",
       "22. 8\n",
       "23. 8\n",
       "24. 8\n",
       "25. 8\n",
       "26. 4\n",
       "27. 4\n",
       "28. 4\n",
       "29. 8\n",
       "30. 6\n",
       "31. 8\n",
       "32. 4\n",
       "\n",
       "\n"
      ],
      "text/plain": [
       " [1] 6 6 4 6 8 6 8 4 4 6 6 8 8 8 8 8 8 4 4 4 4 8 8 8 8 4 4 4 8 6 8 4"
      ]
     },
     "metadata": {},
     "output_type": "display_data"
    },
    {
     "name": "stdout",
     "output_type": "stream",
     "text": [
      "Wrong way to subset 'cyl' here:"
     ]
    },
    {
     "data": {
      "text/plain": [
       "NULL"
      ]
     },
     "metadata": {},
     "output_type": "display_data"
    }
   ],
   "source": [
    "# Example 1\n",
    "\n",
    "# assign variable \"cyl\" to varibale \"var\"\n",
    "# so far, \"var\" is just a name, no values stored in it\n",
    "var <- \"cyl\"\n",
    "\n",
    "# subset varibale \"cyl\": right way \n",
    "cat(\"Right way to subset 'cyl' here:\")\n",
    "mtcars[[var]]\n",
    "\n",
    "# subset varibale \"cyl\": wrong way \n",
    "cat(\"Wrong way to subset 'cyl' here:\")\n",
    "mtcars$var"
   ]
  },
  {
   "cell_type": "code",
   "execution_count": 261,
   "id": "9ac6feb9",
   "metadata": {},
   "outputs": [
    {
     "data": {
      "text/html": [
       "1"
      ],
      "text/latex": [
       "1"
      ],
      "text/markdown": [
       "1"
      ],
      "text/plain": [
       "[1] 1"
      ]
     },
     "metadata": {},
     "output_type": "display_data"
    },
    {
     "data": {
      "text/plain": [
       "NULL"
      ]
     },
     "metadata": {},
     "output_type": "display_data"
    }
   ],
   "source": [
    "# Example 2\n",
    "x <- list(abc = 1)\n",
    "\n",
    "# use $: \n",
    "# this works since \"abc\" contains \"a\"\n",
    "# \n",
    "x$a\n",
    "\n",
    "# this doesn't work\n",
    "x[[\"a\"]]"
   ]
  },
  {
   "cell_type": "markdown",
   "id": "c9519de0",
   "metadata": {},
   "source": [
    "### Missing/out of bounds indices"
   ]
  },
  {
   "cell_type": "markdown",
   "id": "5e791716",
   "metadata": {},
   "source": [
    "1. `[` and `[[` differ a bit when the index is out of bounds (OOB). \n",
    "2. If input vector is named, then names of OOB, missing, or NULL components will be \\<NA>."
   ]
  },
  {
   "cell_type": "markdown",
   "id": "568b7518",
   "metadata": {},
   "source": [
    "Table: summary of the results of subsetting atomic vectors and lists with `[` and `[[` and different OOB value <br><br>\n",
    "\n",
    "\n",
    "| Operator | Index    | Atomic | List       |\n",
    "| :-:      |    :-:   | :-:    |     :-:    | \n",
    "| \\[       | OOB      | NA     | list(NULL) |\n",
    "| [        | NA_real_ | NA     | list(NULL) | \n",
    "| [        | NULL     | x[0]   | list(NULL) |   \n",
    "| [[       | OOB      | Error  | Error      |   \n",
    "| [[       | NA_real_ | Error  | NULL       |      \n",
    "| [[       | NULL     | Error  | Error      |      "
   ]
  },
  {
   "cell_type": "code",
   "execution_count": 270,
   "id": "630b6958",
   "metadata": {},
   "outputs": [
    {
     "name": "stdout",
     "output_type": "stream",
     "text": [
      " int NA\n",
      " int NA\n",
      " int(0) \n"
     ]
    }
   ],
   "source": [
    "# Example 1\n",
    "x <- c(1:4)\n",
    "\n",
    "# structure of 5th element (which doesn't exist)\n",
    "str(x[5])\n",
    "\n",
    "# structure of NA value (which doesn't exist)\n",
    "str(x[NA_real_])\n",
    "\n",
    "# structure of NULL value (which doesn't exist)\n",
    "str(x[NULL]) "
   ]
  },
  {
   "cell_type": "markdown",
   "id": "04c3af80",
   "metadata": {},
   "source": [
    "## Subsetting and assignment"
   ]
  },
  {
   "cell_type": "markdown",
   "id": "7c51cf2b",
   "metadata": {},
   "source": [
    "All subsetting operators can be combined with assignment to modify selected values of input vector. "
   ]
  },
  {
   "cell_type": "code",
   "execution_count": 290,
   "id": "7c5cde78",
   "metadata": {},
   "outputs": [
    {
     "data": {
      "text/html": [
       "<ol class=list-inline>\n",
       "\t<li>2</li>\n",
       "\t<li>2</li>\n",
       "\t<li>3</li>\n",
       "\t<li>4</li>\n",
       "\t<li>5</li>\n",
       "</ol>\n"
      ],
      "text/latex": [
       "\\begin{enumerate*}\n",
       "\\item 2\n",
       "\\item 2\n",
       "\\item 3\n",
       "\\item 4\n",
       "\\item 5\n",
       "\\end{enumerate*}\n"
      ],
      "text/markdown": [
       "1. 2\n",
       "2. 2\n",
       "3. 3\n",
       "4. 4\n",
       "5. 5\n",
       "\n",
       "\n"
      ],
      "text/plain": [
       "[1] 2 2 3 4 5"
      ]
     },
     "metadata": {},
     "output_type": "display_data"
    },
    {
     "data": {
      "text/html": [
       "<ol class=list-inline>\n",
       "\t<li>2</li>\n",
       "\t<li>2</li>\n",
       "\t<li>1</li>\n",
       "\t<li>2</li>\n",
       "\t<li>3</li>\n",
       "</ol>\n"
      ],
      "text/latex": [
       "\\begin{enumerate*}\n",
       "\\item 2\n",
       "\\item 2\n",
       "\\item 1\n",
       "\\item 2\n",
       "\\item 3\n",
       "\\end{enumerate*}\n"
      ],
      "text/markdown": [
       "1. 2\n",
       "2. 2\n",
       "3. 1\n",
       "4. 2\n",
       "5. 3\n",
       "\n",
       "\n"
      ],
      "text/plain": [
       "[1] 2 2 1 2 3"
      ]
     },
     "metadata": {},
     "output_type": "display_data"
    },
    {
     "data": {
      "text/html": [
       "<ol class=list-inline>\n",
       "\t<li>3</li>\n",
       "\t<li>2</li>\n",
       "\t<li>1</li>\n",
       "\t<li>2</li>\n",
       "\t<li>3</li>\n",
       "</ol>\n"
      ],
      "text/latex": [
       "\\begin{enumerate*}\n",
       "\\item 3\n",
       "\\item 2\n",
       "\\item 1\n",
       "\\item 2\n",
       "\\item 3\n",
       "\\end{enumerate*}\n"
      ],
      "text/markdown": [
       "1. 3\n",
       "2. 2\n",
       "3. 1\n",
       "4. 2\n",
       "5. 3\n",
       "\n",
       "\n"
      ],
      "text/plain": [
       "[1] 3 2 1 2 3"
      ]
     },
     "metadata": {},
     "output_type": "display_data"
    },
    {
     "data": {
      "text/html": [
       "<ol class=list-inline>\n",
       "\t<li>1</li>\n",
       "\t<li>2</li>\n",
       "\t<li>1</li>\n",
       "\t<li>1</li>\n",
       "\t<li>3</li>\n",
       "</ol>\n"
      ],
      "text/latex": [
       "\\begin{enumerate*}\n",
       "\\item 1\n",
       "\\item 2\n",
       "\\item 1\n",
       "\\item 1\n",
       "\\item 3\n",
       "\\end{enumerate*}\n"
      ],
      "text/markdown": [
       "1. 1\n",
       "2. 2\n",
       "3. 1\n",
       "4. 1\n",
       "5. 3\n",
       "\n",
       "\n"
      ],
      "text/plain": [
       "[1] 1 2 1 1 3"
      ]
     },
     "metadata": {},
     "output_type": "display_data"
    },
    {
     "ename": "ERROR",
     "evalue": "Error in x[c(1, NA)] <- c(1, 2): NAs are not allowed in subscripted assignments\n",
     "output_type": "error",
     "traceback": [
      "Error in x[c(1, NA)] <- c(1, 2): NAs are not allowed in subscripted assignments\nTraceback:\n"
     ]
    }
   ],
   "source": [
    "# Example 1: modify vector values by subsetting\n",
    "\n",
    "# create vector \n",
    "x <- 1:5 \n",
    "\n",
    "# ------ (1) use positive integer subsetting to modify vector values \n",
    "# select 1st & 3rd elements\n",
    "# modify the 2 values \n",
    "x[c(1, 3)] <- 2:3\n",
    "x  \n",
    "\n",
    "# ------ (2) use negative integer subsetting to modify vector values \n",
    "# de-select 1st & 2nd elements\n",
    "# modify the rest of 3 values \n",
    "x[-c(1, 2)] <- 1:3\n",
    "x \n",
    "\n",
    "# ------ (3) Problems \n",
    "# ~~~ (a) there is no checking for duplicate indices \n",
    "# select 1st element, change value to 3 instead of 2\n",
    "x[c(1, 1)] <- 2:3\n",
    "x\n",
    "\n",
    "# ~~~ (b) you can combine logical indices with NA \n",
    "# since NA itself is logical argument\n",
    "# this is basically x[c(T, F, NA, T, F)] <- 1\n",
    "# select 1st, 4th and replace with value 1\n",
    "# skip 2nd, 3rd, 5th elements\n",
    "x[c(T, F, NA)] <- 1\n",
    "x \n",
    "\n",
    "# ~~~ (c) but you can't combine integer indices with NA\n",
    "# this gives error \n",
    "x[c(1, NA)] <- c(1, 2)"
   ]
  },
  {
   "cell_type": "code",
   "execution_count": 311,
   "id": "475117c3",
   "metadata": {},
   "outputs": [
    {
     "data": {
      "text/html": [
       "<ol class=list-inline>\n",
       "\t<li>0</li>\n",
       "\t<li>10</li>\n",
       "\t<li>&lt;NA&gt;</li>\n",
       "</ol>\n"
      ],
      "text/latex": [
       "\\begin{enumerate*}\n",
       "\\item 0\n",
       "\\item 10\n",
       "\\item <NA>\n",
       "\\end{enumerate*}\n"
      ],
      "text/markdown": [
       "1. 0\n",
       "2. 10\n",
       "3. &lt;NA&gt;\n",
       "\n",
       "\n"
      ],
      "text/plain": [
       "[1]  0 10 NA"
      ]
     },
     "metadata": {},
     "output_type": "display_data"
    },
    {
     "data": {
      "text/html": [
       "<ol class=list-inline>\n",
       "\t<li>0</li>\n",
       "\t<li>1</li>\n",
       "\t<li>&lt;NA&gt;</li>\n",
       "</ol>\n"
      ],
      "text/latex": [
       "\\begin{enumerate*}\n",
       "\\item 0\n",
       "\\item 1\n",
       "\\item <NA>\n",
       "\\end{enumerate*}\n"
      ],
      "text/markdown": [
       "1. 0\n",
       "2. 1\n",
       "3. &lt;NA&gt;\n",
       "\n",
       "\n"
      ],
      "text/plain": [
       "[1]  0  1 NA"
      ]
     },
     "metadata": {},
     "output_type": "display_data"
    },
    {
     "data": {
      "text/html": [
       "<ol class=list-inline>\n",
       "\t<li>0</li>\n",
       "\t<li>1</li>\n",
       "\t<li>99</li>\n",
       "</ol>\n"
      ],
      "text/latex": [
       "\\begin{enumerate*}\n",
       "\\item 0\n",
       "\\item 1\n",
       "\\item 99\n",
       "\\end{enumerate*}\n"
      ],
      "text/markdown": [
       "1. 0\n",
       "2. 1\n",
       "3. 99\n",
       "\n",
       "\n"
      ],
      "text/plain": [
       "[1]  0  1 99"
      ]
     },
     "metadata": {},
     "output_type": "display_data"
    }
   ],
   "source": [
    "# Example 2: conditionally modify vectors in a data frame \n",
    "\n",
    "# create data frame \n",
    "df <- data.frame(a = c(1, 10, NA), \n",
    "                 b = c(2, 3, 4))\n",
    "\n",
    "# ------ (1) modify value by inequality: \n",
    "# if variable \"a < 5\", then assign value 0\n",
    "# NA value won't be changed \n",
    "df$a[df$a < 5] <- 0\n",
    "df$a \n",
    "\n",
    "# ------ (2) modify value by equality: \n",
    "df$a[df$a == 10] <- 1\n",
    "df$a\n",
    "\n",
    "# ------ (3) modify missing value: \n",
    "df$a[is.na(df$a)] <- 99\n",
    "df$a"
   ]
  },
  {
   "cell_type": "code",
   "execution_count": 23,
   "id": "6d6376d8",
   "metadata": {},
   "outputs": [
    {
     "data": {
      "text/html": [
       "<table>\n",
       "<thead><tr><th></th><th scope=col>mpg</th><th scope=col>cyl</th><th scope=col>disp</th><th scope=col>hp</th><th scope=col>drat</th><th scope=col>wt</th><th scope=col>qsec</th><th scope=col>vs</th><th scope=col>am</th><th scope=col>gear</th><th scope=col>carb</th></tr></thead>\n",
       "<tbody>\n",
       "\t<tr><th scope=row>Mazda RX4</th><td>1</td><td>0</td><td>0</td><td>0</td><td>1</td><td>0</td><td>0</td><td>0</td><td>2</td><td>1</td><td>1</td></tr>\n",
       "\t<tr><th scope=row>Mazda RX4 Wag</th><td>1</td><td>0</td><td>0</td><td>0</td><td>1</td><td>0</td><td>0</td><td>0</td><td>2</td><td>1</td><td>1</td></tr>\n",
       "\t<tr><th scope=row>Datsun 710</th><td>1</td><td>0</td><td>0</td><td>0</td><td>1</td><td>0</td><td>1</td><td>2</td><td>2</td><td>1</td><td>0</td></tr>\n",
       "</tbody>\n",
       "</table>\n"
      ],
      "text/latex": [
       "\\begin{tabular}{r|lllllllllll}\n",
       "  & mpg & cyl & disp & hp & drat & wt & qsec & vs & am & gear & carb\\\\\n",
       "\\hline\n",
       "\tMazda RX4 & 1 & 0 & 0 & 0 & 1 & 0 & 0 & 0 & 2 & 1 & 1\\\\\n",
       "\tMazda RX4 Wag & 1 & 0 & 0 & 0 & 1 & 0 & 0 & 0 & 2 & 1 & 1\\\\\n",
       "\tDatsun 710 & 1 & 0 & 0 & 0 & 1 & 0 & 1 & 2 & 2 & 1 & 0\\\\\n",
       "\\end{tabular}\n"
      ],
      "text/markdown": [
       "\n",
       "| <!--/--> | mpg | cyl | disp | hp | drat | wt | qsec | vs | am | gear | carb |\n",
       "|---|---|---|---|---|---|---|---|---|---|---|---|\n",
       "| Mazda RX4 | 1 | 0 | 0 | 0 | 1 | 0 | 0 | 0 | 2 | 1 | 1 |\n",
       "| Mazda RX4 Wag | 1 | 0 | 0 | 0 | 1 | 0 | 0 | 0 | 2 | 1 | 1 |\n",
       "| Datsun 710 | 1 | 0 | 0 | 0 | 1 | 0 | 1 | 2 | 2 | 1 | 0 |\n",
       "\n"
      ],
      "text/plain": [
       "              mpg cyl disp hp drat wt qsec vs am gear carb\n",
       "Mazda RX4     1   0   0    0  1    0  0    0  2  1    1   \n",
       "Mazda RX4 Wag 1   0   0    0  1    0  0    0  2  1    1   \n",
       "Datsun 710    1   0   0    0  1    0  1    2  2  1    0   "
      ]
     },
     "metadata": {},
     "output_type": "display_data"
    }
   ],
   "source": [
    "# Example 3: subset with nothing \n",
    "\n",
    "# ------ (1) subset with []: \n",
    "# as.integer applies to all variables \n",
    "# this preserve as: data frame\n",
    "mtcars[] <- lapply(mtcars, as.integer)\n",
    "head(mtcars, 3)"
   ]
  },
  {
   "cell_type": "code",
   "execution_count": 28,
   "id": "7dc5fc53",
   "metadata": {},
   "outputs": [
    {
     "data": {
      "text/html": [
       "<dl>\n",
       "\t<dt>$mpg</dt>\n",
       "\t\t<dd><ol class=list-inline>\n",
       "\t<li>1</li>\n",
       "\t<li>1</li>\n",
       "\t<li>1</li>\n",
       "\t<li>1</li>\n",
       "\t<li>0</li>\n",
       "\t<li>0</li>\n",
       "\t<li>0</li>\n",
       "\t<li>1</li>\n",
       "\t<li>1</li>\n",
       "\t<li>0</li>\n",
       "\t<li>0</li>\n",
       "\t<li>0</li>\n",
       "\t<li>0</li>\n",
       "\t<li>0</li>\n",
       "\t<li>0</li>\n",
       "\t<li>0</li>\n",
       "\t<li>0</li>\n",
       "\t<li>1</li>\n",
       "\t<li>1</li>\n",
       "\t<li>1</li>\n",
       "\t<li>1</li>\n",
       "\t<li>0</li>\n",
       "\t<li>0</li>\n",
       "\t<li>0</li>\n",
       "\t<li>0</li>\n",
       "\t<li>1</li>\n",
       "\t<li>1</li>\n",
       "\t<li>1</li>\n",
       "\t<li>0</li>\n",
       "\t<li>0</li>\n",
       "\t<li>0</li>\n",
       "\t<li>1</li>\n",
       "</ol>\n",
       "</dd>\n",
       "\t<dt>$cyl</dt>\n",
       "\t\t<dd><ol class=list-inline>\n",
       "\t<li>0</li>\n",
       "\t<li>0</li>\n",
       "\t<li>0</li>\n",
       "\t<li>0</li>\n",
       "\t<li>1</li>\n",
       "\t<li>0</li>\n",
       "\t<li>1</li>\n",
       "\t<li>0</li>\n",
       "\t<li>0</li>\n",
       "\t<li>0</li>\n",
       "\t<li>0</li>\n",
       "\t<li>1</li>\n",
       "\t<li>1</li>\n",
       "\t<li>1</li>\n",
       "\t<li>1</li>\n",
       "\t<li>1</li>\n",
       "\t<li>1</li>\n",
       "\t<li>0</li>\n",
       "\t<li>0</li>\n",
       "\t<li>0</li>\n",
       "\t<li>0</li>\n",
       "\t<li>1</li>\n",
       "\t<li>1</li>\n",
       "\t<li>1</li>\n",
       "\t<li>1</li>\n",
       "\t<li>0</li>\n",
       "\t<li>0</li>\n",
       "\t<li>0</li>\n",
       "\t<li>1</li>\n",
       "\t<li>0</li>\n",
       "\t<li>1</li>\n",
       "\t<li>0</li>\n",
       "</ol>\n",
       "</dd>\n",
       "\t<dt>$disp</dt>\n",
       "\t\t<dd><ol class=list-inline>\n",
       "\t<li>0</li>\n",
       "\t<li>0</li>\n",
       "\t<li>0</li>\n",
       "\t<li>1</li>\n",
       "\t<li>1</li>\n",
       "\t<li>0</li>\n",
       "\t<li>1</li>\n",
       "\t<li>0</li>\n",
       "\t<li>0</li>\n",
       "\t<li>0</li>\n",
       "\t<li>0</li>\n",
       "\t<li>1</li>\n",
       "\t<li>1</li>\n",
       "\t<li>1</li>\n",
       "\t<li>2</li>\n",
       "\t<li>1</li>\n",
       "\t<li>1</li>\n",
       "\t<li>0</li>\n",
       "\t<li>0</li>\n",
       "\t<li>0</li>\n",
       "\t<li>0</li>\n",
       "\t<li>1</li>\n",
       "\t<li>1</li>\n",
       "\t<li>1</li>\n",
       "\t<li>1</li>\n",
       "\t<li>0</li>\n",
       "\t<li>0</li>\n",
       "\t<li>0</li>\n",
       "\t<li>1</li>\n",
       "\t<li>0</li>\n",
       "\t<li>1</li>\n",
       "\t<li>0</li>\n",
       "</ol>\n",
       "</dd>\n",
       "</dl>\n"
      ],
      "text/latex": [
       "\\begin{description}\n",
       "\\item[\\$mpg] \\begin{enumerate*}\n",
       "\\item 1\n",
       "\\item 1\n",
       "\\item 1\n",
       "\\item 1\n",
       "\\item 0\n",
       "\\item 0\n",
       "\\item 0\n",
       "\\item 1\n",
       "\\item 1\n",
       "\\item 0\n",
       "\\item 0\n",
       "\\item 0\n",
       "\\item 0\n",
       "\\item 0\n",
       "\\item 0\n",
       "\\item 0\n",
       "\\item 0\n",
       "\\item 1\n",
       "\\item 1\n",
       "\\item 1\n",
       "\\item 1\n",
       "\\item 0\n",
       "\\item 0\n",
       "\\item 0\n",
       "\\item 0\n",
       "\\item 1\n",
       "\\item 1\n",
       "\\item 1\n",
       "\\item 0\n",
       "\\item 0\n",
       "\\item 0\n",
       "\\item 1\n",
       "\\end{enumerate*}\n",
       "\n",
       "\\item[\\$cyl] \\begin{enumerate*}\n",
       "\\item 0\n",
       "\\item 0\n",
       "\\item 0\n",
       "\\item 0\n",
       "\\item 1\n",
       "\\item 0\n",
       "\\item 1\n",
       "\\item 0\n",
       "\\item 0\n",
       "\\item 0\n",
       "\\item 0\n",
       "\\item 1\n",
       "\\item 1\n",
       "\\item 1\n",
       "\\item 1\n",
       "\\item 1\n",
       "\\item 1\n",
       "\\item 0\n",
       "\\item 0\n",
       "\\item 0\n",
       "\\item 0\n",
       "\\item 1\n",
       "\\item 1\n",
       "\\item 1\n",
       "\\item 1\n",
       "\\item 0\n",
       "\\item 0\n",
       "\\item 0\n",
       "\\item 1\n",
       "\\item 0\n",
       "\\item 1\n",
       "\\item 0\n",
       "\\end{enumerate*}\n",
       "\n",
       "\\item[\\$disp] \\begin{enumerate*}\n",
       "\\item 0\n",
       "\\item 0\n",
       "\\item 0\n",
       "\\item 1\n",
       "\\item 1\n",
       "\\item 0\n",
       "\\item 1\n",
       "\\item 0\n",
       "\\item 0\n",
       "\\item 0\n",
       "\\item 0\n",
       "\\item 1\n",
       "\\item 1\n",
       "\\item 1\n",
       "\\item 2\n",
       "\\item 1\n",
       "\\item 1\n",
       "\\item 0\n",
       "\\item 0\n",
       "\\item 0\n",
       "\\item 0\n",
       "\\item 1\n",
       "\\item 1\n",
       "\\item 1\n",
       "\\item 1\n",
       "\\item 0\n",
       "\\item 0\n",
       "\\item 0\n",
       "\\item 1\n",
       "\\item 0\n",
       "\\item 1\n",
       "\\item 0\n",
       "\\end{enumerate*}\n",
       "\n",
       "\\end{description}\n"
      ],
      "text/markdown": [
       "$mpg\n",
       ":   1. 1\n",
       "2. 1\n",
       "3. 1\n",
       "4. 1\n",
       "5. 0\n",
       "6. 0\n",
       "7. 0\n",
       "8. 1\n",
       "9. 1\n",
       "10. 0\n",
       "11. 0\n",
       "12. 0\n",
       "13. 0\n",
       "14. 0\n",
       "15. 0\n",
       "16. 0\n",
       "17. 0\n",
       "18. 1\n",
       "19. 1\n",
       "20. 1\n",
       "21. 1\n",
       "22. 0\n",
       "23. 0\n",
       "24. 0\n",
       "25. 0\n",
       "26. 1\n",
       "27. 1\n",
       "28. 1\n",
       "29. 0\n",
       "30. 0\n",
       "31. 0\n",
       "32. 1\n",
       "\n",
       "\n",
       "\n",
       "$cyl\n",
       ":   1. 0\n",
       "2. 0\n",
       "3. 0\n",
       "4. 0\n",
       "5. 1\n",
       "6. 0\n",
       "7. 1\n",
       "8. 0\n",
       "9. 0\n",
       "10. 0\n",
       "11. 0\n",
       "12. 1\n",
       "13. 1\n",
       "14. 1\n",
       "15. 1\n",
       "16. 1\n",
       "17. 1\n",
       "18. 0\n",
       "19. 0\n",
       "20. 0\n",
       "21. 0\n",
       "22. 1\n",
       "23. 1\n",
       "24. 1\n",
       "25. 1\n",
       "26. 0\n",
       "27. 0\n",
       "28. 0\n",
       "29. 1\n",
       "30. 0\n",
       "31. 1\n",
       "32. 0\n",
       "\n",
       "\n",
       "\n",
       "$disp\n",
       ":   1. 0\n",
       "2. 0\n",
       "3. 0\n",
       "4. 1\n",
       "5. 1\n",
       "6. 0\n",
       "7. 1\n",
       "8. 0\n",
       "9. 0\n",
       "10. 0\n",
       "11. 0\n",
       "12. 1\n",
       "13. 1\n",
       "14. 1\n",
       "15. 2\n",
       "16. 1\n",
       "17. 1\n",
       "18. 0\n",
       "19. 0\n",
       "20. 0\n",
       "21. 0\n",
       "22. 1\n",
       "23. 1\n",
       "24. 1\n",
       "25. 1\n",
       "26. 0\n",
       "27. 0\n",
       "28. 0\n",
       "29. 1\n",
       "30. 0\n",
       "31. 1\n",
       "32. 0\n",
       "\n",
       "\n",
       "\n",
       "\n",
       "\n"
      ],
      "text/plain": [
       "$mpg\n",
       " [1] 1 1 1 1 0 0 0 1 1 0 0 0 0 0 0 0 0 1 1 1 1 0 0 0 0 1 1 1 0 0 0 1\n",
       "\n",
       "$cyl\n",
       " [1] 0 0 0 0 1 0 1 0 0 0 0 1 1 1 1 1 1 0 0 0 0 1 1 1 1 0 0 0 1 0 1 0\n",
       "\n",
       "$disp\n",
       " [1] 0 0 0 1 1 0 1 0 0 0 0 1 1 1 2 1 1 0 0 0 0 1 1 1 1 0 0 0 1 0 1 0\n"
      ]
     },
     "metadata": {},
     "output_type": "display_data"
    }
   ],
   "source": [
    "# if not use []: \n",
    "# it becomes lists \n",
    "mtcars <- lapply(mtcars, as.integer)\n",
    "head(mtcars, 3)"
   ]
  },
  {
   "cell_type": "code",
   "execution_count": 41,
   "id": "99eb367a",
   "metadata": {},
   "outputs": [
    {
     "name": "stdout",
     "output_type": "stream",
     "text": [
      "Modified list x becomes:List of 1\n",
      " $ a: num 1\n",
      "\n",
      "Modified list y becomes:List of 2\n",
      " $ a: num 1\n",
      " $ b: NULL\n"
     ]
    }
   ],
   "source": [
    "# Example 4: modify list components with NULL\n",
    "\n",
    "# ------ (1) remove components: assign to NULL\n",
    "\n",
    "# create list \n",
    "x <- list(a = 1, b = 2)\n",
    "# remove sublist \"b\" \n",
    "x[[\"b\"]] <- NULL \n",
    "cat(\"Modified list x becomes:\")\n",
    "str(x) \n",
    "\n",
    "# ------ (2) add component: NULL \n",
    "\n",
    "# create list \n",
    "y <- list(a = 1)\n",
    "# add sublist \"b\": component is NULL\n",
    "y[\"b\"] <- list(NULL)\n",
    "cat(\"\\nModified list y becomes:\")\n",
    "str(y) "
   ]
  },
  {
   "cell_type": "markdown",
   "id": "7aa63e40",
   "metadata": {},
   "source": [
    "## Applications "
   ]
  },
  {
   "cell_type": "markdown",
   "id": "28d3cd5b",
   "metadata": {},
   "source": [
    "### Lookup tables (character subsetting)"
   ]
  },
  {
   "cell_type": "markdown",
   "id": "0a251f98",
   "metadata": {},
   "source": [
    "1. Character matching provides a powerful way to make lookup tables. "
   ]
  },
  {
   "cell_type": "code",
   "execution_count": 76,
   "id": "1af48093",
   "metadata": {},
   "outputs": [
    {
     "data": {
      "text/html": [
       "<dl class=dl-horizontal>\n",
       "\t<dt>a</dt>\n",
       "\t\t<dd>'White'</dd>\n",
       "\t<dt>b</dt>\n",
       "\t\t<dd>'Black'</dd>\n",
       "\t<dt>c</dt>\n",
       "\t\t<dd>'Asian'</dd>\n",
       "\t<dt>d</dt>\n",
       "\t\t<dd>'Ohter'</dd>\n",
       "\t<dt>5</dt>\n",
       "\t\t<dd>NA</dd>\n",
       "</dl>\n"
      ],
      "text/latex": [
       "\\begin{description*}\n",
       "\\item[a] 'White'\n",
       "\\item[b] 'Black'\n",
       "\\item[c] 'Asian'\n",
       "\\item[d] 'Ohter'\n",
       "\\item[5] NA\n",
       "\\end{description*}\n"
      ],
      "text/markdown": [
       "a\n",
       ":   'White'b\n",
       ":   'Black'c\n",
       ":   'Asian'd\n",
       ":   'Ohter'5\n",
       ":   NA\n",
       "\n"
      ],
      "text/plain": [
       "      a       b       c       d    <NA> \n",
       "\"White\" \"Black\" \"Asian\" \"Ohter\"      NA "
      ]
     },
     "metadata": {},
     "output_type": "display_data"
    },
    {
     "data": {
      "text/html": [
       "<table>\n",
       "<thead><tr><th scope=col>race_key</th><th scope=col>race</th></tr></thead>\n",
       "<tbody>\n",
       "\t<tr><td>White</td><td> 1   </td></tr>\n",
       "\t<tr><td>Black</td><td> 2   </td></tr>\n",
       "\t<tr><td>Asian</td><td> 3   </td></tr>\n",
       "\t<tr><td>Other</td><td> 4   </td></tr>\n",
       "\t<tr><td>NA   </td><td>NA   </td></tr>\n",
       "</tbody>\n",
       "</table>\n"
      ],
      "text/latex": [
       "\\begin{tabular}{r|ll}\n",
       " race\\_key & race\\\\\n",
       "\\hline\n",
       "\t White &  1   \\\\\n",
       "\t Black &  2   \\\\\n",
       "\t Asian &  3   \\\\\n",
       "\t Other &  4   \\\\\n",
       "\t NA    & NA   \\\\\n",
       "\\end{tabular}\n"
      ],
      "text/markdown": [
       "\n",
       "| race_key | race |\n",
       "|---|---|\n",
       "| White |  1    |\n",
       "| Black |  2    |\n",
       "| Asian |  3    |\n",
       "| Other |  4    |\n",
       "| NA    | NA    |\n",
       "\n"
      ],
      "text/plain": [
       "  race_key race\n",
       "1 White     1  \n",
       "2 Black     2  \n",
       "3 Asian     3  \n",
       "4 Other     4  \n",
       "5 NA       NA  "
      ]
     },
     "metadata": {},
     "output_type": "display_data"
    },
    {
     "data": {
      "text/html": [
       "<ol class=list-inline>\n",
       "\t<li>'White'</li>\n",
       "\t<li>'Black'</li>\n",
       "\t<li>'Asian'</li>\n",
       "\t<li>'Other'</li>\n",
       "\t<li>NA</li>\n",
       "</ol>\n"
      ],
      "text/latex": [
       "\\begin{enumerate*}\n",
       "\\item 'White'\n",
       "\\item 'Black'\n",
       "\\item 'Asian'\n",
       "\\item 'Other'\n",
       "\\item NA\n",
       "\\end{enumerate*}\n"
      ],
      "text/markdown": [
       "1. 'White'\n",
       "2. 'Black'\n",
       "3. 'Asian'\n",
       "4. 'Other'\n",
       "5. NA\n",
       "\n",
       "\n"
      ],
      "text/plain": [
       "[1] \"White\" \"Black\" \"Asian\" \"Other\" NA     "
      ]
     },
     "metadata": {},
     "output_type": "display_data"
    }
   ],
   "source": [
    "# Example 1: create race lookup table \n",
    "\n",
    "# METHOD 1: faster \n",
    "c(a = \"White\", b = \"Black\", c = \"Asian\", d = \"Ohter\", u = NA)[race]\n",
    "\n",
    "# METHOD 2 \n",
    "# create race vector\n",
    "race <- c(\"a\" = 1, \"b\" = 2, \"c\" = 3, \"d\" = 4,  \"u\" = NA)\n",
    "\n",
    "# create lookup table \n",
    "lookup <- c(a = \"White\", b = \"Black\", c = \"Asian\", d = \"Other\", NA)  \n",
    "  \n",
    "# apply lookup table \n",
    "library(data.table)\n",
    "race_key <- lookup[race]\n",
    "\n",
    "# put results in a table \n",
    "data.table(race_key, race) \n",
    "\n",
    "# to remove names for lookup table \n",
    "unname(lookup[race])"
   ]
  },
  {
   "cell_type": "markdown",
   "id": "c0b769f2",
   "metadata": {},
   "source": [
    "### Matching and merging by hand (integer subsetting)"
   ]
  },
  {
   "cell_type": "markdown",
   "id": "46f62b39",
   "metadata": {},
   "source": [
    "1. If you have a vector of integer grades and a table that describes their properties, you can create a table to look up info. \n",
    "2. If you have multiple columns to match on, first collapse them to a single column with `interaction()`, `paste()`, or `plyr::id()`. You can also use `merge()` or `plyr:join()`. "
   ]
  },
  {
   "cell_type": "code",
   "execution_count": 80,
   "id": "8547a680",
   "metadata": {},
   "outputs": [
    {
     "data": {
      "text/html": [
       "<table>\n",
       "<thead><tr><th></th><th scope=col>Grade</th><th scope=col>Description</th><th scope=col>Fail</th></tr></thead>\n",
       "<tbody>\n",
       "\t<tr><th scope=row>3</th><td>1        </td><td>Poor     </td><td> TRUE    </td></tr>\n",
       "\t<tr><th scope=row>2</th><td>2        </td><td>Good     </td><td>FALSE    </td></tr>\n",
       "\t<tr><th scope=row>2.1</th><td>2        </td><td>Good     </td><td>FALSE    </td></tr>\n",
       "\t<tr><th scope=row>1</th><td>3        </td><td>Excellent</td><td>FALSE    </td></tr>\n",
       "\t<tr><th scope=row>3.1</th><td>1        </td><td>Poor     </td><td> TRUE    </td></tr>\n",
       "</tbody>\n",
       "</table>\n"
      ],
      "text/latex": [
       "\\begin{tabular}{r|lll}\n",
       "  & Grade & Description & Fail\\\\\n",
       "\\hline\n",
       "\t3 & 1         & Poor      &  TRUE    \\\\\n",
       "\t2 & 2         & Good      & FALSE    \\\\\n",
       "\t2.1 & 2         & Good      & FALSE    \\\\\n",
       "\t1 & 3         & Excellent & FALSE    \\\\\n",
       "\t3.1 & 1         & Poor      &  TRUE    \\\\\n",
       "\\end{tabular}\n"
      ],
      "text/markdown": [
       "\n",
       "| <!--/--> | Grade | Description | Fail |\n",
       "|---|---|---|---|\n",
       "| 3 | 1         | Poor      |  TRUE     |\n",
       "| 2 | 2         | Good      | FALSE     |\n",
       "| 2.1 | 2         | Good      | FALSE     |\n",
       "| 1 | 3         | Excellent | FALSE     |\n",
       "| 3.1 | 1         | Poor      |  TRUE     |\n",
       "\n"
      ],
      "text/plain": [
       "    Grade Description Fail \n",
       "3   1     Poor         TRUE\n",
       "2   2     Good        FALSE\n",
       "2.1 2     Good        FALSE\n",
       "1   3     Excellent   FALSE\n",
       "3.1 1     Poor         TRUE"
      ]
     },
     "metadata": {},
     "output_type": "display_data"
    },
    {
     "data": {
      "text/html": [
       "<table>\n",
       "<thead><tr><th></th><th scope=col>Grade</th><th scope=col>Description</th><th scope=col>Fail</th></tr></thead>\n",
       "<tbody>\n",
       "\t<tr><th scope=row>1</th><td>1        </td><td>Poor     </td><td> TRUE    </td></tr>\n",
       "\t<tr><th scope=row>2</th><td>2        </td><td>Good     </td><td>FALSE    </td></tr>\n",
       "\t<tr><th scope=row>2.1</th><td>2        </td><td>Good     </td><td>FALSE    </td></tr>\n",
       "\t<tr><th scope=row>3</th><td>3        </td><td>Excellent</td><td>FALSE    </td></tr>\n",
       "\t<tr><th scope=row>1.1</th><td>1        </td><td>Poor     </td><td> TRUE    </td></tr>\n",
       "</tbody>\n",
       "</table>\n"
      ],
      "text/latex": [
       "\\begin{tabular}{r|lll}\n",
       "  & Grade & Description & Fail\\\\\n",
       "\\hline\n",
       "\t1 & 1         & Poor      &  TRUE    \\\\\n",
       "\t2 & 2         & Good      & FALSE    \\\\\n",
       "\t2.1 & 2         & Good      & FALSE    \\\\\n",
       "\t3 & 3         & Excellent & FALSE    \\\\\n",
       "\t1.1 & 1         & Poor      &  TRUE    \\\\\n",
       "\\end{tabular}\n"
      ],
      "text/markdown": [
       "\n",
       "| <!--/--> | Grade | Description | Fail |\n",
       "|---|---|---|---|\n",
       "| 1 | 1         | Poor      |  TRUE     |\n",
       "| 2 | 2         | Good      | FALSE     |\n",
       "| 2.1 | 2         | Good      | FALSE     |\n",
       "| 3 | 3         | Excellent | FALSE     |\n",
       "| 1.1 | 1         | Poor      |  TRUE     |\n",
       "\n"
      ],
      "text/plain": [
       "    Grade Description Fail \n",
       "1   1     Poor         TRUE\n",
       "2   2     Good        FALSE\n",
       "2.1 2     Good        FALSE\n",
       "3   3     Excellent   FALSE\n",
       "1.1 1     Poor         TRUE"
      ]
     },
     "metadata": {},
     "output_type": "display_data"
    }
   ],
   "source": [
    "# Example 1\n",
    "\n",
    "# create grades vector \n",
    "grades <- c(1, 2, 2, 3, 1)\n",
    "\n",
    "# create grades performance data frame \n",
    "info <- data.frame(\n",
    "    Grade = 3:1, \n",
    "    Description = c(\"Excellent\", \"Good\", \"Poor\"),\n",
    "    Fail = c(F, F, T)\n",
    ")\n",
    "\n",
    "# ------ Use this\n",
    "# Method 1: use match()\n",
    "# match grades in grades vector & grades performance data \n",
    "id <- match(grades, info$Grade)\n",
    "# get performance for each id \n",
    "info[id, ]\n",
    "\n",
    "# Method 2: use rownames()\n",
    "rownames(info) <- info$Grade\n",
    "info[as.character(grades), ]"
   ]
  },
  {
   "cell_type": "markdown",
   "id": "cab2d943",
   "metadata": {},
   "source": [
    "### Random samples/bootstrap (integer subsetting)"
   ]
  },
  {
   "cell_type": "markdown",
   "id": "afb62f2b",
   "metadata": {},
   "source": [
    "1. You can use integer indices to perform random sampling or bootstrapping of a vector or data frame. \n",
    "2. `sample()` generates a vector of indices, then subsetting to access the values. `sample()` control number of samples to extract, and whether sampling is performed with(out) replacement."
   ]
  },
  {
   "cell_type": "code",
   "execution_count": 87,
   "id": "82a298a2",
   "metadata": {},
   "outputs": [
    {
     "name": "stdout",
     "output_type": "stream",
     "text": [
      "Randomly reorder data: "
     ]
    },
    {
     "data": {
      "text/html": [
       "<table>\n",
       "<thead><tr><th></th><th scope=col>x</th><th scope=col>y</th><th scope=col>z</th></tr></thead>\n",
       "<tbody>\n",
       "\t<tr><th scope=row>3</th><td>2</td><td>4</td><td>c</td></tr>\n",
       "\t<tr><th scope=row>1</th><td>1</td><td>6</td><td>a</td></tr>\n",
       "\t<tr><th scope=row>2</th><td>1</td><td>5</td><td>b</td></tr>\n",
       "\t<tr><th scope=row>6</th><td>3</td><td>1</td><td>f</td></tr>\n",
       "\t<tr><th scope=row>4</th><td>2</td><td>3</td><td>d</td></tr>\n",
       "\t<tr><th scope=row>5</th><td>3</td><td>2</td><td>e</td></tr>\n",
       "</tbody>\n",
       "</table>\n"
      ],
      "text/latex": [
       "\\begin{tabular}{r|lll}\n",
       "  & x & y & z\\\\\n",
       "\\hline\n",
       "\t3 & 2 & 4 & c\\\\\n",
       "\t1 & 1 & 6 & a\\\\\n",
       "\t2 & 1 & 5 & b\\\\\n",
       "\t6 & 3 & 1 & f\\\\\n",
       "\t4 & 2 & 3 & d\\\\\n",
       "\t5 & 3 & 2 & e\\\\\n",
       "\\end{tabular}\n"
      ],
      "text/markdown": [
       "\n",
       "| <!--/--> | x | y | z |\n",
       "|---|---|---|---|\n",
       "| 3 | 2 | 4 | c |\n",
       "| 1 | 1 | 6 | a |\n",
       "| 2 | 1 | 5 | b |\n",
       "| 6 | 3 | 1 | f |\n",
       "| 4 | 2 | 3 | d |\n",
       "| 5 | 3 | 2 | e |\n",
       "\n"
      ],
      "text/plain": [
       "  x y z\n",
       "3 2 4 c\n",
       "1 1 6 a\n",
       "2 1 5 b\n",
       "6 3 1 f\n",
       "4 2 3 d\n",
       "5 3 2 e"
      ]
     },
     "metadata": {},
     "output_type": "display_data"
    },
    {
     "name": "stdout",
     "output_type": "stream",
     "text": [
      "Randomly select 3 rows of data: "
     ]
    },
    {
     "data": {
      "text/html": [
       "<table>\n",
       "<thead><tr><th></th><th scope=col>x</th><th scope=col>y</th><th scope=col>z</th></tr></thead>\n",
       "<tbody>\n",
       "\t<tr><th scope=row>3</th><td>2</td><td>4</td><td>c</td></tr>\n",
       "\t<tr><th scope=row>2</th><td>1</td><td>5</td><td>b</td></tr>\n",
       "\t<tr><th scope=row>6</th><td>3</td><td>1</td><td>f</td></tr>\n",
       "</tbody>\n",
       "</table>\n"
      ],
      "text/latex": [
       "\\begin{tabular}{r|lll}\n",
       "  & x & y & z\\\\\n",
       "\\hline\n",
       "\t3 & 2 & 4 & c\\\\\n",
       "\t2 & 1 & 5 & b\\\\\n",
       "\t6 & 3 & 1 & f\\\\\n",
       "\\end{tabular}\n"
      ],
      "text/markdown": [
       "\n",
       "| <!--/--> | x | y | z |\n",
       "|---|---|---|---|\n",
       "| 3 | 2 | 4 | c |\n",
       "| 2 | 1 | 5 | b |\n",
       "| 6 | 3 | 1 | f |\n",
       "\n"
      ],
      "text/plain": [
       "  x y z\n",
       "3 2 4 c\n",
       "2 1 5 b\n",
       "6 3 1 f"
      ]
     },
     "metadata": {},
     "output_type": "display_data"
    },
    {
     "name": "stdout",
     "output_type": "stream",
     "text": [
      "Select 6 rows of bootstrap replicates : "
     ]
    },
    {
     "data": {
      "text/html": [
       "<table>\n",
       "<thead><tr><th></th><th scope=col>x</th><th scope=col>y</th><th scope=col>z</th></tr></thead>\n",
       "<tbody>\n",
       "\t<tr><th scope=row>2</th><td>1</td><td>5</td><td>b</td></tr>\n",
       "\t<tr><th scope=row>2.1</th><td>1</td><td>5</td><td>b</td></tr>\n",
       "\t<tr><th scope=row>5</th><td>3</td><td>2</td><td>e</td></tr>\n",
       "\t<tr><th scope=row>6</th><td>3</td><td>1</td><td>f</td></tr>\n",
       "\t<tr><th scope=row>6.1</th><td>3</td><td>1</td><td>f</td></tr>\n",
       "\t<tr><th scope=row>3</th><td>2</td><td>4</td><td>c</td></tr>\n",
       "</tbody>\n",
       "</table>\n"
      ],
      "text/latex": [
       "\\begin{tabular}{r|lll}\n",
       "  & x & y & z\\\\\n",
       "\\hline\n",
       "\t2 & 1 & 5 & b\\\\\n",
       "\t2.1 & 1 & 5 & b\\\\\n",
       "\t5 & 3 & 2 & e\\\\\n",
       "\t6 & 3 & 1 & f\\\\\n",
       "\t6.1 & 3 & 1 & f\\\\\n",
       "\t3 & 2 & 4 & c\\\\\n",
       "\\end{tabular}\n"
      ],
      "text/markdown": [
       "\n",
       "| <!--/--> | x | y | z |\n",
       "|---|---|---|---|\n",
       "| 2 | 1 | 5 | b |\n",
       "| 2.1 | 1 | 5 | b |\n",
       "| 5 | 3 | 2 | e |\n",
       "| 6 | 3 | 1 | f |\n",
       "| 6.1 | 3 | 1 | f |\n",
       "| 3 | 2 | 4 | c |\n",
       "\n"
      ],
      "text/plain": [
       "    x y z\n",
       "2   1 5 b\n",
       "2.1 1 5 b\n",
       "5   3 2 e\n",
       "6   3 1 f\n",
       "6.1 3 1 f\n",
       "3   2 4 c"
      ]
     },
     "metadata": {},
     "output_type": "display_data"
    }
   ],
   "source": [
    "# Example 1\n",
    "\n",
    "# create data \n",
    "df <- data.frame(x = rep(1:3, each = 2),\n",
    "                 y = 6:1,\n",
    "                 z = letters[1:6])\n",
    "\n",
    "# ------ (1) randomly reorder data \n",
    "set.seed(10)\n",
    "cat(\"Randomly reorder data: \")\n",
    "df[sample(nrow(df)), ]\n",
    "\n",
    "# ------ (2) select 3 random rows of data \n",
    "cat(\"Randomly select 3 rows of data: \")\n",
    "df[sample(nrow(df), 3), ]\n",
    "\n",
    "# ------ (3) select 6 rows of bootstrap replicates \n",
    "cat(\"Select 6 rows of bootstrap replicates : \")\n",
    "df[sample(nrow(df), 6, rep = T), ]"
   ]
  },
  {
   "cell_type": "markdown",
   "id": "5eac2864",
   "metadata": {},
   "source": [
    "### Ordering (integer subsetting)"
   ]
  },
  {
   "cell_type": "markdown",
   "id": "bb5ea43f",
   "metadata": {},
   "source": [
    "1. `order()` takes a vector as input and returns an integer vector describing how the subsetted vector should be ordered. \n",
    "2. `order()` can also re-order data frame. \n",
    "3. You can also use `sort()` for vector and `plyr::arrange()`. These are more concise but less flexible. "
   ]
  },
  {
   "cell_type": "code",
   "execution_count": 13,
   "id": "b48c0b18",
   "metadata": {},
   "outputs": [
    {
     "name": "stdout",
     "output_type": "stream",
     "text": [
      "Order default order: "
     ]
    },
    {
     "data": {
      "text/html": [
       "<ol class=list-inline>\n",
       "\t<li>'a'</li>\n",
       "\t<li>'b'</li>\n",
       "\t<li>'c'</li>\n",
       "\t<li>NA</li>\n",
       "</ol>\n"
      ],
      "text/latex": [
       "\\begin{enumerate*}\n",
       "\\item 'a'\n",
       "\\item 'b'\n",
       "\\item 'c'\n",
       "\\item NA\n",
       "\\end{enumerate*}\n"
      ],
      "text/markdown": [
       "1. 'a'\n",
       "2. 'b'\n",
       "3. 'c'\n",
       "4. NA\n",
       "\n",
       "\n"
      ],
      "text/plain": [
       "[1] \"a\" \"b\" \"c\" NA "
      ]
     },
     "metadata": {},
     "output_type": "display_data"
    },
    {
     "name": "stdout",
     "output_type": "stream",
     "text": [
      "Sort default order: "
     ]
    },
    {
     "data": {
      "text/html": [
       "<ol class=list-inline>\n",
       "\t<li>'a'</li>\n",
       "\t<li>'b'</li>\n",
       "\t<li>'c'</li>\n",
       "</ol>\n"
      ],
      "text/latex": [
       "\\begin{enumerate*}\n",
       "\\item 'a'\n",
       "\\item 'b'\n",
       "\\item 'c'\n",
       "\\end{enumerate*}\n"
      ],
      "text/markdown": [
       "1. 'a'\n",
       "2. 'b'\n",
       "3. 'c'\n",
       "\n",
       "\n"
      ],
      "text/plain": [
       "[1] \"a\" \"b\" \"c\""
      ]
     },
     "metadata": {},
     "output_type": "display_data"
    },
    {
     "name": "stdout",
     "output_type": "stream",
     "text": [
      "Decreasing order: "
     ]
    },
    {
     "data": {
      "text/html": [
       "<ol class=list-inline>\n",
       "\t<li>'c'</li>\n",
       "\t<li>'b'</li>\n",
       "\t<li>'a'</li>\n",
       "\t<li>NA</li>\n",
       "</ol>\n"
      ],
      "text/latex": [
       "\\begin{enumerate*}\n",
       "\\item 'c'\n",
       "\\item 'b'\n",
       "\\item 'a'\n",
       "\\item NA\n",
       "\\end{enumerate*}\n"
      ],
      "text/markdown": [
       "1. 'c'\n",
       "2. 'b'\n",
       "3. 'a'\n",
       "4. NA\n",
       "\n",
       "\n"
      ],
      "text/plain": [
       "[1] \"c\" \"b\" \"a\" NA "
      ]
     },
     "metadata": {},
     "output_type": "display_data"
    },
    {
     "name": "stdout",
     "output_type": "stream",
     "text": [
      "Decreasing order & remove NA: "
     ]
    },
    {
     "data": {
      "text/html": [
       "<ol class=list-inline>\n",
       "\t<li>'c'</li>\n",
       "\t<li>'b'</li>\n",
       "\t<li>'a'</li>\n",
       "</ol>\n"
      ],
      "text/latex": [
       "\\begin{enumerate*}\n",
       "\\item 'c'\n",
       "\\item 'b'\n",
       "\\item 'a'\n",
       "\\end{enumerate*}\n"
      ],
      "text/markdown": [
       "1. 'c'\n",
       "2. 'b'\n",
       "3. 'a'\n",
       "\n",
       "\n"
      ],
      "text/plain": [
       "[1] \"c\" \"b\" \"a\""
      ]
     },
     "metadata": {},
     "output_type": "display_data"
    },
    {
     "name": "stdout",
     "output_type": "stream",
     "text": [
      "Decreasing order & put NA to front: "
     ]
    },
    {
     "data": {
      "text/html": [
       "<ol class=list-inline>\n",
       "\t<li>NA</li>\n",
       "\t<li>'c'</li>\n",
       "\t<li>'b'</li>\n",
       "\t<li>'a'</li>\n",
       "</ol>\n"
      ],
      "text/latex": [
       "\\begin{enumerate*}\n",
       "\\item NA\n",
       "\\item 'c'\n",
       "\\item 'b'\n",
       "\\item 'a'\n",
       "\\end{enumerate*}\n"
      ],
      "text/markdown": [
       "1. NA\n",
       "2. 'c'\n",
       "3. 'b'\n",
       "4. 'a'\n",
       "\n",
       "\n"
      ],
      "text/plain": [
       "[1] NA  \"c\" \"b\" \"a\""
      ]
     },
     "metadata": {},
     "output_type": "display_data"
    }
   ],
   "source": [
    "# Example 1: order vector \n",
    "\n",
    "# create vector \n",
    "x <- c(\"b\", \"c\", \"a\", NA)\n",
    "\n",
    "# ------ (1) order vector x in increasing order\n",
    "# order(x) tell how vector x should be ordered \n",
    "cat(\"Order default order: \")\n",
    "# method 1: use order()\n",
    "x[order(x)]\n",
    "# methdo 2: use sort(), it removes NA\n",
    "cat(\"Sort default order: \")\n",
    "sort(x)\n",
    "\n",
    "# ------ (2) order vector x in decreasing order\n",
    "cat(\"Decreasing order: \")\n",
    "x[order(x, decreasing = TRUE)]\n",
    "\n",
    "# ------ (3) order vector x in decreasing order & remove NA \n",
    "cat(\"Decreasing order & remove NA: \")\n",
    "x[order(x, decreasing = TRUE, na.last = NA)]\n",
    "\n",
    "# ------ (4) order vector x in decreasing order & put NA to front\n",
    "cat(\"Decreasing order & put NA to front: \")\n",
    "x[order(x, decreasing = TRUE, na.last = FALSE)]"
   ]
  },
  {
   "cell_type": "code",
   "execution_count": 100,
   "id": "d15daf09",
   "metadata": {},
   "outputs": [
    {
     "data": {
      "text/html": [
       "<table>\n",
       "<thead><tr><th></th><th scope=col>z</th><th scope=col>y</th><th scope=col>x</th></tr></thead>\n",
       "<tbody>\n",
       "\t<tr><th scope=row>5</th><td>e</td><td>2</td><td>3</td></tr>\n",
       "\t<tr><th scope=row>2</th><td>b</td><td>5</td><td>1</td></tr>\n",
       "\t<tr><th scope=row>4</th><td>d</td><td>3</td><td>2</td></tr>\n",
       "\t<tr><th scope=row>3</th><td>c</td><td>4</td><td>2</td></tr>\n",
       "\t<tr><th scope=row>6</th><td>f</td><td>1</td><td>3</td></tr>\n",
       "\t<tr><th scope=row>1</th><td>a</td><td>6</td><td>1</td></tr>\n",
       "</tbody>\n",
       "</table>\n"
      ],
      "text/latex": [
       "\\begin{tabular}{r|lll}\n",
       "  & z & y & x\\\\\n",
       "\\hline\n",
       "\t5 & e & 2 & 3\\\\\n",
       "\t2 & b & 5 & 1\\\\\n",
       "\t4 & d & 3 & 2\\\\\n",
       "\t3 & c & 4 & 2\\\\\n",
       "\t6 & f & 1 & 3\\\\\n",
       "\t1 & a & 6 & 1\\\\\n",
       "\\end{tabular}\n"
      ],
      "text/markdown": [
       "\n",
       "| <!--/--> | z | y | x |\n",
       "|---|---|---|---|\n",
       "| 5 | e | 2 | 3 |\n",
       "| 2 | b | 5 | 1 |\n",
       "| 4 | d | 3 | 2 |\n",
       "| 3 | c | 4 | 2 |\n",
       "| 6 | f | 1 | 3 |\n",
       "| 1 | a | 6 | 1 |\n",
       "\n"
      ],
      "text/plain": [
       "  z y x\n",
       "5 e 2 3\n",
       "2 b 5 1\n",
       "4 d 3 2\n",
       "3 c 4 2\n",
       "6 f 1 3\n",
       "1 a 6 1"
      ]
     },
     "metadata": {},
     "output_type": "display_data"
    },
    {
     "data": {
      "text/html": [
       "<table>\n",
       "<thead><tr><th></th><th scope=col>z</th><th scope=col>y</th><th scope=col>x</th></tr></thead>\n",
       "<tbody>\n",
       "\t<tr><th scope=row>2</th><td>b</td><td>5</td><td>1</td></tr>\n",
       "\t<tr><th scope=row>1</th><td>a</td><td>6</td><td>1</td></tr>\n",
       "\t<tr><th scope=row>4</th><td>d</td><td>3</td><td>2</td></tr>\n",
       "\t<tr><th scope=row>3</th><td>c</td><td>4</td><td>2</td></tr>\n",
       "\t<tr><th scope=row>5</th><td>e</td><td>2</td><td>3</td></tr>\n",
       "\t<tr><th scope=row>6</th><td>f</td><td>1</td><td>3</td></tr>\n",
       "</tbody>\n",
       "</table>\n"
      ],
      "text/latex": [
       "\\begin{tabular}{r|lll}\n",
       "  & z & y & x\\\\\n",
       "\\hline\n",
       "\t2 & b & 5 & 1\\\\\n",
       "\t1 & a & 6 & 1\\\\\n",
       "\t4 & d & 3 & 2\\\\\n",
       "\t3 & c & 4 & 2\\\\\n",
       "\t5 & e & 2 & 3\\\\\n",
       "\t6 & f & 1 & 3\\\\\n",
       "\\end{tabular}\n"
      ],
      "text/markdown": [
       "\n",
       "| <!--/--> | z | y | x |\n",
       "|---|---|---|---|\n",
       "| 2 | b | 5 | 1 |\n",
       "| 1 | a | 6 | 1 |\n",
       "| 4 | d | 3 | 2 |\n",
       "| 3 | c | 4 | 2 |\n",
       "| 5 | e | 2 | 3 |\n",
       "| 6 | f | 1 | 3 |\n",
       "\n"
      ],
      "text/plain": [
       "  z y x\n",
       "2 b 5 1\n",
       "1 a 6 1\n",
       "4 d 3 2\n",
       "3 c 4 2\n",
       "5 e 2 3\n",
       "6 f 1 3"
      ]
     },
     "metadata": {},
     "output_type": "display_data"
    },
    {
     "data": {
      "text/html": [
       "<table>\n",
       "<thead><tr><th></th><th scope=col>x</th><th scope=col>y</th><th scope=col>z</th></tr></thead>\n",
       "<tbody>\n",
       "\t<tr><th scope=row>5</th><td>3</td><td>2</td><td>e</td></tr>\n",
       "\t<tr><th scope=row>2</th><td>1</td><td>5</td><td>b</td></tr>\n",
       "\t<tr><th scope=row>4</th><td>2</td><td>3</td><td>d</td></tr>\n",
       "\t<tr><th scope=row>3</th><td>2</td><td>4</td><td>c</td></tr>\n",
       "\t<tr><th scope=row>6</th><td>3</td><td>1</td><td>f</td></tr>\n",
       "\t<tr><th scope=row>1</th><td>1</td><td>6</td><td>a</td></tr>\n",
       "</tbody>\n",
       "</table>\n"
      ],
      "text/latex": [
       "\\begin{tabular}{r|lll}\n",
       "  & x & y & z\\\\\n",
       "\\hline\n",
       "\t5 & 3 & 2 & e\\\\\n",
       "\t2 & 1 & 5 & b\\\\\n",
       "\t4 & 2 & 3 & d\\\\\n",
       "\t3 & 2 & 4 & c\\\\\n",
       "\t6 & 3 & 1 & f\\\\\n",
       "\t1 & 1 & 6 & a\\\\\n",
       "\\end{tabular}\n"
      ],
      "text/markdown": [
       "\n",
       "| <!--/--> | x | y | z |\n",
       "|---|---|---|---|\n",
       "| 5 | 3 | 2 | e |\n",
       "| 2 | 1 | 5 | b |\n",
       "| 4 | 2 | 3 | d |\n",
       "| 3 | 2 | 4 | c |\n",
       "| 6 | 3 | 1 | f |\n",
       "| 1 | 1 | 6 | a |\n",
       "\n"
      ],
      "text/plain": [
       "  x y z\n",
       "5 3 2 e\n",
       "2 1 5 b\n",
       "4 2 3 d\n",
       "3 2 4 c\n",
       "6 3 1 f\n",
       "1 1 6 a"
      ]
     },
     "metadata": {},
     "output_type": "display_data"
    }
   ],
   "source": [
    "# Example 2: order data frame \n",
    "\n",
    "# create data \n",
    "df <- data.frame(x = rep(1:3, each = 2),\n",
    "                 y = 6:1,\n",
    "                 z = letters[1:6])\n",
    "\n",
    "# ------ (1) randomly order rows of data \n",
    "# randomly order rows \n",
    "# re-order columns in order 3,2,1\n",
    "df2 <- df[sample(nrow(df)), 3:1]\n",
    "df2\n",
    "\n",
    "# ------ (2) order rows by variable x values \n",
    "df2[order(df2$x), ]\n",
    "\n",
    "# ------ (3) order columns by column names \n",
    "df2[, order(names(df2))]"
   ]
  },
  {
   "cell_type": "markdown",
   "id": "e69d4f23",
   "metadata": {},
   "source": [
    "### Expanding aggregated counts (integer subsetting)"
   ]
  },
  {
   "cell_type": "markdown",
   "id": "cc0097bb",
   "metadata": {},
   "source": [
    "1. Sometimes, you get data frame where identical rows have been collapsed into 1 and a count column has been added. `rep()` and integer subsetting make it easy to uncollapse the data by subsetting with a repeated row index. "
   ]
  },
  {
   "cell_type": "code",
   "execution_count": 101,
   "id": "0f72b157",
   "metadata": {},
   "outputs": [
    {
     "data": {
      "text/html": [
       "<table>\n",
       "<thead><tr><th></th><th scope=col>x</th><th scope=col>y</th><th scope=col>n</th></tr></thead>\n",
       "<tbody>\n",
       "\t<tr><th scope=row>1</th><td>2 </td><td> 9</td><td>3 </td></tr>\n",
       "\t<tr><th scope=row>1.1</th><td>2 </td><td> 9</td><td>3 </td></tr>\n",
       "\t<tr><th scope=row>1.2</th><td>2 </td><td> 9</td><td>3 </td></tr>\n",
       "\t<tr><th scope=row>2</th><td>3 </td><td>11</td><td>5 </td></tr>\n",
       "\t<tr><th scope=row>2.1</th><td>3 </td><td>11</td><td>5 </td></tr>\n",
       "\t<tr><th scope=row>2.2</th><td>3 </td><td>11</td><td>5 </td></tr>\n",
       "\t<tr><th scope=row>2.3</th><td>3 </td><td>11</td><td>5 </td></tr>\n",
       "\t<tr><th scope=row>2.4</th><td>3 </td><td>11</td><td>5 </td></tr>\n",
       "\t<tr><th scope=row>3</th><td>1 </td><td> 6</td><td>1 </td></tr>\n",
       "</tbody>\n",
       "</table>\n"
      ],
      "text/latex": [
       "\\begin{tabular}{r|lll}\n",
       "  & x & y & n\\\\\n",
       "\\hline\n",
       "\t1 & 2  &  9 & 3 \\\\\n",
       "\t1.1 & 2  &  9 & 3 \\\\\n",
       "\t1.2 & 2  &  9 & 3 \\\\\n",
       "\t2 & 3  & 11 & 5 \\\\\n",
       "\t2.1 & 3  & 11 & 5 \\\\\n",
       "\t2.2 & 3  & 11 & 5 \\\\\n",
       "\t2.3 & 3  & 11 & 5 \\\\\n",
       "\t2.4 & 3  & 11 & 5 \\\\\n",
       "\t3 & 1  &  6 & 1 \\\\\n",
       "\\end{tabular}\n"
      ],
      "text/markdown": [
       "\n",
       "| <!--/--> | x | y | n |\n",
       "|---|---|---|---|\n",
       "| 1 | 2  |  9 | 3  |\n",
       "| 1.1 | 2  |  9 | 3  |\n",
       "| 1.2 | 2  |  9 | 3  |\n",
       "| 2 | 3  | 11 | 5  |\n",
       "| 2.1 | 3  | 11 | 5  |\n",
       "| 2.2 | 3  | 11 | 5  |\n",
       "| 2.3 | 3  | 11 | 5  |\n",
       "| 2.4 | 3  | 11 | 5  |\n",
       "| 3 | 1  |  6 | 1  |\n",
       "\n"
      ],
      "text/plain": [
       "    x y  n\n",
       "1   2  9 3\n",
       "1.1 2  9 3\n",
       "1.2 2  9 3\n",
       "2   3 11 5\n",
       "2.1 3 11 5\n",
       "2.2 3 11 5\n",
       "2.3 3 11 5\n",
       "2.4 3 11 5\n",
       "3   1  6 1"
      ]
     },
     "metadata": {},
     "output_type": "display_data"
    }
   ],
   "source": [
    "# Example 1\n",
    "\n",
    "# create data\n",
    "# \"n\" is the count of repeated rows \n",
    "df <- data.frame(x = c(2, 3, 1), \n",
    "                 y = c(9, 11, 6),\n",
    "                 n = c(3, 5, 1))\n",
    "\n",
    "# uncollapse repeated rows \n",
    "df[rep(1:nrow(df), df$n), ]"
   ]
  },
  {
   "cell_type": "markdown",
   "id": "e8f236b5",
   "metadata": {},
   "source": [
    "### Removing columns from data frames (character subsetting)"
   ]
  },
  {
   "cell_type": "markdown",
   "id": "708d121a",
   "metadata": {},
   "source": [
    "1. Two ways to remove columns from a data frame: <br>\n",
    "(1) set individual columns to NULL <br>\n",
    "(2) subset to return only columns you want, or if you know the columns you don't want, use `setdiff()` to work out which columns to keep."
   ]
  },
  {
   "cell_type": "code",
   "execution_count": 104,
   "id": "de08c268",
   "metadata": {},
   "outputs": [
    {
     "data": {
      "text/html": [
       "<table>\n",
       "<thead><tr><th scope=col>x</th><th scope=col>y</th></tr></thead>\n",
       "<tbody>\n",
       "\t<tr><td>1</td><td>3</td></tr>\n",
       "\t<tr><td>2</td><td>2</td></tr>\n",
       "\t<tr><td>3</td><td>1</td></tr>\n",
       "</tbody>\n",
       "</table>\n"
      ],
      "text/latex": [
       "\\begin{tabular}{r|ll}\n",
       " x & y\\\\\n",
       "\\hline\n",
       "\t 1 & 3\\\\\n",
       "\t 2 & 2\\\\\n",
       "\t 3 & 1\\\\\n",
       "\\end{tabular}\n"
      ],
      "text/markdown": [
       "\n",
       "| x | y |\n",
       "|---|---|\n",
       "| 1 | 3 |\n",
       "| 2 | 2 |\n",
       "| 3 | 1 |\n",
       "\n"
      ],
      "text/plain": [
       "  x y\n",
       "1 1 3\n",
       "2 2 2\n",
       "3 3 1"
      ]
     },
     "metadata": {},
     "output_type": "display_data"
    },
    {
     "data": {
      "text/html": [
       "<table>\n",
       "<thead><tr><th scope=col>x</th><th scope=col>y</th></tr></thead>\n",
       "<tbody>\n",
       "\t<tr><td>1</td><td>3</td></tr>\n",
       "\t<tr><td>2</td><td>2</td></tr>\n",
       "\t<tr><td>3</td><td>1</td></tr>\n",
       "</tbody>\n",
       "</table>\n"
      ],
      "text/latex": [
       "\\begin{tabular}{r|ll}\n",
       " x & y\\\\\n",
       "\\hline\n",
       "\t 1 & 3\\\\\n",
       "\t 2 & 2\\\\\n",
       "\t 3 & 1\\\\\n",
       "\\end{tabular}\n"
      ],
      "text/markdown": [
       "\n",
       "| x | y |\n",
       "|---|---|\n",
       "| 1 | 3 |\n",
       "| 2 | 2 |\n",
       "| 3 | 1 |\n",
       "\n"
      ],
      "text/plain": [
       "  x y\n",
       "1 1 3\n",
       "2 2 2\n",
       "3 3 1"
      ]
     },
     "metadata": {},
     "output_type": "display_data"
    },
    {
     "data": {
      "text/html": [
       "<table>\n",
       "<thead><tr><th scope=col>x</th><th scope=col>y</th></tr></thead>\n",
       "<tbody>\n",
       "\t<tr><td>1</td><td>3</td></tr>\n",
       "\t<tr><td>2</td><td>2</td></tr>\n",
       "\t<tr><td>3</td><td>1</td></tr>\n",
       "</tbody>\n",
       "</table>\n"
      ],
      "text/latex": [
       "\\begin{tabular}{r|ll}\n",
       " x & y\\\\\n",
       "\\hline\n",
       "\t 1 & 3\\\\\n",
       "\t 2 & 2\\\\\n",
       "\t 3 & 1\\\\\n",
       "\\end{tabular}\n"
      ],
      "text/markdown": [
       "\n",
       "| x | y |\n",
       "|---|---|\n",
       "| 1 | 3 |\n",
       "| 2 | 2 |\n",
       "| 3 | 1 |\n",
       "\n"
      ],
      "text/plain": [
       "  x y\n",
       "1 1 3\n",
       "2 2 2\n",
       "3 3 1"
      ]
     },
     "metadata": {},
     "output_type": "display_data"
    }
   ],
   "source": [
    "# Example 1: select/remove columns \n",
    "\n",
    "# Method 1: set not wanted column to NULL \n",
    "# create data\n",
    "df <- data.frame(x = 1:3, \n",
    "                 y = 3:1, \n",
    "                 z = letters[1:3])\n",
    "# set not wanted column to NULL\n",
    "df$z <- NULL \n",
    "df\n",
    "\n",
    "# Method 2: select columns to keep \n",
    "# create data\n",
    "df <- data.frame(x = 1:3, \n",
    "                 y = 3:1, \n",
    "                 z = letters[1:3])\n",
    "# select wanted columns \n",
    "df[c(\"x\", \"y\")]\n",
    "\n",
    "# Method 3: use setdiff()\n",
    "df[setdiff(names(df), \"z\")]"
   ]
  },
  {
   "cell_type": "markdown",
   "id": "3cc161c4",
   "metadata": {},
   "source": [
    "### Selecting rows based on condition (logical subsetting)"
   ]
  },
  {
   "cell_type": "markdown",
   "id": "23986e83",
   "metadata": {},
   "source": [
    "1. Because it allows you to easily combine conditions from multiple columns, logical subsetting is the most commonly used for extracting rows out of data frame. \n",
    "2. Morgan's laws: <br>\n",
    "!(x&y) is same as !x | !y <br>\n",
    "!(x|y) is same as !x & !y"
   ]
  },
  {
   "cell_type": "code",
   "execution_count": 4,
   "id": "26e84388",
   "metadata": {},
   "outputs": [
    {
     "data": {
      "text/html": [
       "<table>\n",
       "<thead><tr><th></th><th scope=col>mpg</th><th scope=col>cyl</th><th scope=col>disp</th><th scope=col>hp</th><th scope=col>drat</th><th scope=col>wt</th><th scope=col>qsec</th><th scope=col>vs</th><th scope=col>am</th><th scope=col>gear</th><th scope=col>carb</th></tr></thead>\n",
       "<tbody>\n",
       "\t<tr><th scope=row>Porsche 914-2</th><td>26.0 </td><td>4    </td><td>120.3</td><td> 91  </td><td>4.43 </td><td>2.140</td><td>16.7 </td><td>0    </td><td>1    </td><td>5    </td><td>2    </td></tr>\n",
       "\t<tr><th scope=row>Lotus Europa</th><td>30.4 </td><td>4    </td><td> 95.1</td><td>113  </td><td>3.77 </td><td>1.513</td><td>16.9 </td><td>1    </td><td>1    </td><td>5    </td><td>2    </td></tr>\n",
       "\t<tr><th scope=row>Ford Pantera L</th><td>15.8 </td><td>8    </td><td>351.0</td><td>264  </td><td>4.22 </td><td>3.170</td><td>14.5 </td><td>0    </td><td>1    </td><td>5    </td><td>4    </td></tr>\n",
       "\t<tr><th scope=row>Ferrari Dino</th><td>19.7 </td><td>6    </td><td>145.0</td><td>175  </td><td>3.62 </td><td>2.770</td><td>15.5 </td><td>0    </td><td>1    </td><td>5    </td><td>6    </td></tr>\n",
       "\t<tr><th scope=row>Maserati Bora</th><td>15.0 </td><td>8    </td><td>301.0</td><td>335  </td><td>3.54 </td><td>3.570</td><td>14.6 </td><td>0    </td><td>1    </td><td>5    </td><td>8    </td></tr>\n",
       "</tbody>\n",
       "</table>\n"
      ],
      "text/latex": [
       "\\begin{tabular}{r|lllllllllll}\n",
       "  & mpg & cyl & disp & hp & drat & wt & qsec & vs & am & gear & carb\\\\\n",
       "\\hline\n",
       "\tPorsche 914-2 & 26.0  & 4     & 120.3 &  91   & 4.43  & 2.140 & 16.7  & 0     & 1     & 5     & 2    \\\\\n",
       "\tLotus Europa & 30.4  & 4     &  95.1 & 113   & 3.77  & 1.513 & 16.9  & 1     & 1     & 5     & 2    \\\\\n",
       "\tFord Pantera L & 15.8  & 8     & 351.0 & 264   & 4.22  & 3.170 & 14.5  & 0     & 1     & 5     & 4    \\\\\n",
       "\tFerrari Dino & 19.7  & 6     & 145.0 & 175   & 3.62  & 2.770 & 15.5  & 0     & 1     & 5     & 6    \\\\\n",
       "\tMaserati Bora & 15.0  & 8     & 301.0 & 335   & 3.54  & 3.570 & 14.6  & 0     & 1     & 5     & 8    \\\\\n",
       "\\end{tabular}\n"
      ],
      "text/markdown": [
       "\n",
       "| <!--/--> | mpg | cyl | disp | hp | drat | wt | qsec | vs | am | gear | carb |\n",
       "|---|---|---|---|---|---|---|---|---|---|---|---|\n",
       "| Porsche 914-2 | 26.0  | 4     | 120.3 |  91   | 4.43  | 2.140 | 16.7  | 0     | 1     | 5     | 2     |\n",
       "| Lotus Europa | 30.4  | 4     |  95.1 | 113   | 3.77  | 1.513 | 16.9  | 1     | 1     | 5     | 2     |\n",
       "| Ford Pantera L | 15.8  | 8     | 351.0 | 264   | 4.22  | 3.170 | 14.5  | 0     | 1     | 5     | 4     |\n",
       "| Ferrari Dino | 19.7  | 6     | 145.0 | 175   | 3.62  | 2.770 | 15.5  | 0     | 1     | 5     | 6     |\n",
       "| Maserati Bora | 15.0  | 8     | 301.0 | 335   | 3.54  | 3.570 | 14.6  | 0     | 1     | 5     | 8     |\n",
       "\n"
      ],
      "text/plain": [
       "               mpg  cyl disp  hp  drat wt    qsec vs am gear carb\n",
       "Porsche 914-2  26.0 4   120.3  91 4.43 2.140 16.7 0  1  5    2   \n",
       "Lotus Europa   30.4 4    95.1 113 3.77 1.513 16.9 1  1  5    2   \n",
       "Ford Pantera L 15.8 8   351.0 264 4.22 3.170 14.5 0  1  5    4   \n",
       "Ferrari Dino   19.7 6   145.0 175 3.62 2.770 15.5 0  1  5    6   \n",
       "Maserati Bora  15.0 8   301.0 335 3.54 3.570 14.6 0  1  5    8   "
      ]
     },
     "metadata": {},
     "output_type": "display_data"
    },
    {
     "data": {
      "text/html": [
       "<table>\n",
       "<thead><tr><th></th><th scope=col>mpg</th><th scope=col>cyl</th><th scope=col>disp</th><th scope=col>hp</th><th scope=col>drat</th><th scope=col>wt</th><th scope=col>qsec</th><th scope=col>vs</th><th scope=col>am</th><th scope=col>gear</th><th scope=col>carb</th></tr></thead>\n",
       "<tbody>\n",
       "\t<tr><th scope=row>Porsche 914-2</th><td>26.0 </td><td>4    </td><td>120.3</td><td> 91  </td><td>4.43 </td><td>2.140</td><td>16.7 </td><td>0    </td><td>1    </td><td>5    </td><td>2    </td></tr>\n",
       "\t<tr><th scope=row>Lotus Europa</th><td>30.4 </td><td>4    </td><td> 95.1</td><td>113  </td><td>3.77 </td><td>1.513</td><td>16.9 </td><td>1    </td><td>1    </td><td>5    </td><td>2    </td></tr>\n",
       "</tbody>\n",
       "</table>\n"
      ],
      "text/latex": [
       "\\begin{tabular}{r|lllllllllll}\n",
       "  & mpg & cyl & disp & hp & drat & wt & qsec & vs & am & gear & carb\\\\\n",
       "\\hline\n",
       "\tPorsche 914-2 & 26.0  & 4     & 120.3 &  91   & 4.43  & 2.140 & 16.7  & 0     & 1     & 5     & 2    \\\\\n",
       "\tLotus Europa & 30.4  & 4     &  95.1 & 113   & 3.77  & 1.513 & 16.9  & 1     & 1     & 5     & 2    \\\\\n",
       "\\end{tabular}\n"
      ],
      "text/markdown": [
       "\n",
       "| <!--/--> | mpg | cyl | disp | hp | drat | wt | qsec | vs | am | gear | carb |\n",
       "|---|---|---|---|---|---|---|---|---|---|---|---|\n",
       "| Porsche 914-2 | 26.0  | 4     | 120.3 |  91   | 4.43  | 2.140 | 16.7  | 0     | 1     | 5     | 2     |\n",
       "| Lotus Europa | 30.4  | 4     |  95.1 | 113   | 3.77  | 1.513 | 16.9  | 1     | 1     | 5     | 2     |\n",
       "\n"
      ],
      "text/plain": [
       "              mpg  cyl disp  hp  drat wt    qsec vs am gear carb\n",
       "Porsche 914-2 26.0 4   120.3  91 4.43 2.140 16.7 0  1  5    2   \n",
       "Lotus Europa  30.4 4    95.1 113 3.77 1.513 16.9 1  1  5    2   "
      ]
     },
     "metadata": {},
     "output_type": "display_data"
    },
    {
     "data": {
      "text/html": [
       "<table>\n",
       "<thead><tr><th></th><th scope=col>mpg</th><th scope=col>cyl</th><th scope=col>disp</th><th scope=col>hp</th><th scope=col>drat</th><th scope=col>wt</th><th scope=col>qsec</th><th scope=col>vs</th><th scope=col>am</th><th scope=col>gear</th><th scope=col>carb</th></tr></thead>\n",
       "<tbody>\n",
       "\t<tr><th scope=row>Porsche 914-2</th><td>26.0 </td><td>4    </td><td>120.3</td><td> 91  </td><td>4.43 </td><td>2.140</td><td>16.7 </td><td>0    </td><td>1    </td><td>5    </td><td>2    </td></tr>\n",
       "\t<tr><th scope=row>Lotus Europa</th><td>30.4 </td><td>4    </td><td> 95.1</td><td>113  </td><td>3.77 </td><td>1.513</td><td>16.9 </td><td>1    </td><td>1    </td><td>5    </td><td>2    </td></tr>\n",
       "\t<tr><th scope=row>Ford Pantera L</th><td>15.8 </td><td>8    </td><td>351.0</td><td>264  </td><td>4.22 </td><td>3.170</td><td>14.5 </td><td>0    </td><td>1    </td><td>5    </td><td>4    </td></tr>\n",
       "\t<tr><th scope=row>Ferrari Dino</th><td>19.7 </td><td>6    </td><td>145.0</td><td>175  </td><td>3.62 </td><td>2.770</td><td>15.5 </td><td>0    </td><td>1    </td><td>5    </td><td>6    </td></tr>\n",
       "\t<tr><th scope=row>Maserati Bora</th><td>15.0 </td><td>8    </td><td>301.0</td><td>335  </td><td>3.54 </td><td>3.570</td><td>14.6 </td><td>0    </td><td>1    </td><td>5    </td><td>8    </td></tr>\n",
       "</tbody>\n",
       "</table>\n"
      ],
      "text/latex": [
       "\\begin{tabular}{r|lllllllllll}\n",
       "  & mpg & cyl & disp & hp & drat & wt & qsec & vs & am & gear & carb\\\\\n",
       "\\hline\n",
       "\tPorsche 914-2 & 26.0  & 4     & 120.3 &  91   & 4.43  & 2.140 & 16.7  & 0     & 1     & 5     & 2    \\\\\n",
       "\tLotus Europa & 30.4  & 4     &  95.1 & 113   & 3.77  & 1.513 & 16.9  & 1     & 1     & 5     & 2    \\\\\n",
       "\tFord Pantera L & 15.8  & 8     & 351.0 & 264   & 4.22  & 3.170 & 14.5  & 0     & 1     & 5     & 4    \\\\\n",
       "\tFerrari Dino & 19.7  & 6     & 145.0 & 175   & 3.62  & 2.770 & 15.5  & 0     & 1     & 5     & 6    \\\\\n",
       "\tMaserati Bora & 15.0  & 8     & 301.0 & 335   & 3.54  & 3.570 & 14.6  & 0     & 1     & 5     & 8    \\\\\n",
       "\\end{tabular}\n"
      ],
      "text/markdown": [
       "\n",
       "| <!--/--> | mpg | cyl | disp | hp | drat | wt | qsec | vs | am | gear | carb |\n",
       "|---|---|---|---|---|---|---|---|---|---|---|---|\n",
       "| Porsche 914-2 | 26.0  | 4     | 120.3 |  91   | 4.43  | 2.140 | 16.7  | 0     | 1     | 5     | 2     |\n",
       "| Lotus Europa | 30.4  | 4     |  95.1 | 113   | 3.77  | 1.513 | 16.9  | 1     | 1     | 5     | 2     |\n",
       "| Ford Pantera L | 15.8  | 8     | 351.0 | 264   | 4.22  | 3.170 | 14.5  | 0     | 1     | 5     | 4     |\n",
       "| Ferrari Dino | 19.7  | 6     | 145.0 | 175   | 3.62  | 2.770 | 15.5  | 0     | 1     | 5     | 6     |\n",
       "| Maserati Bora | 15.0  | 8     | 301.0 | 335   | 3.54  | 3.570 | 14.6  | 0     | 1     | 5     | 8     |\n",
       "\n"
      ],
      "text/plain": [
       "               mpg  cyl disp  hp  drat wt    qsec vs am gear carb\n",
       "Porsche 914-2  26.0 4   120.3  91 4.43 2.140 16.7 0  1  5    2   \n",
       "Lotus Europa   30.4 4    95.1 113 3.77 1.513 16.9 1  1  5    2   \n",
       "Ford Pantera L 15.8 8   351.0 264 4.22 3.170 14.5 0  1  5    4   \n",
       "Ferrari Dino   19.7 6   145.0 175 3.62 2.770 15.5 0  1  5    6   \n",
       "Maserati Bora  15.0 8   301.0 335 3.54 3.570 14.6 0  1  5    8   "
      ]
     },
     "metadata": {},
     "output_type": "display_data"
    },
    {
     "data": {
      "text/html": [
       "<table>\n",
       "<thead><tr><th></th><th scope=col>mpg</th><th scope=col>cyl</th><th scope=col>disp</th><th scope=col>hp</th><th scope=col>drat</th><th scope=col>wt</th><th scope=col>qsec</th><th scope=col>vs</th><th scope=col>am</th><th scope=col>gear</th><th scope=col>carb</th></tr></thead>\n",
       "<tbody>\n",
       "\t<tr><th scope=row>Porsche 914-2</th><td>26.0 </td><td>4    </td><td>120.3</td><td> 91  </td><td>4.43 </td><td>2.140</td><td>16.7 </td><td>0    </td><td>1    </td><td>5    </td><td>2    </td></tr>\n",
       "\t<tr><th scope=row>Lotus Europa</th><td>30.4 </td><td>4    </td><td> 95.1</td><td>113  </td><td>3.77 </td><td>1.513</td><td>16.9 </td><td>1    </td><td>1    </td><td>5    </td><td>2    </td></tr>\n",
       "</tbody>\n",
       "</table>\n"
      ],
      "text/latex": [
       "\\begin{tabular}{r|lllllllllll}\n",
       "  & mpg & cyl & disp & hp & drat & wt & qsec & vs & am & gear & carb\\\\\n",
       "\\hline\n",
       "\tPorsche 914-2 & 26.0  & 4     & 120.3 &  91   & 4.43  & 2.140 & 16.7  & 0     & 1     & 5     & 2    \\\\\n",
       "\tLotus Europa & 30.4  & 4     &  95.1 & 113   & 3.77  & 1.513 & 16.9  & 1     & 1     & 5     & 2    \\\\\n",
       "\\end{tabular}\n"
      ],
      "text/markdown": [
       "\n",
       "| <!--/--> | mpg | cyl | disp | hp | drat | wt | qsec | vs | am | gear | carb |\n",
       "|---|---|---|---|---|---|---|---|---|---|---|---|\n",
       "| Porsche 914-2 | 26.0  | 4     | 120.3 |  91   | 4.43  | 2.140 | 16.7  | 0     | 1     | 5     | 2     |\n",
       "| Lotus Europa | 30.4  | 4     |  95.1 | 113   | 3.77  | 1.513 | 16.9  | 1     | 1     | 5     | 2     |\n",
       "\n"
      ],
      "text/plain": [
       "              mpg  cyl disp  hp  drat wt    qsec vs am gear carb\n",
       "Porsche 914-2 26.0 4   120.3  91 4.43 2.140 16.7 0  1  5    2   \n",
       "Lotus Europa  30.4 4    95.1 113 3.77 1.513 16.9 1  1  5    2   "
      ]
     },
     "metadata": {},
     "output_type": "display_data"
    }
   ],
   "source": [
    "# Example 1: extract data \n",
    "\n",
    "# Method 1: subset() - this is faster\n",
    "# ------ (1) extract rows by 1 equality \n",
    "subset(mtcars, gear == 5)\n",
    "\n",
    "# ------ (2) extract rows by 2 equalities\n",
    "subset(mtcars, gear == 5 & cyl == 4)\n",
    "\n",
    "# Method 2 (more verbose)\n",
    "# extract rows by 1 equality \n",
    "mtcars[mtcars$gear == 5, ]\n",
    "\n",
    "# extract rows by 2 equalities\n",
    "mtcars[mtcars$gear == 5 & mtcars$cyl == 4, ]"
   ]
  },
  {
   "cell_type": "markdown",
   "id": "97f2e307",
   "metadata": {},
   "source": [
    "### Boolean algebra vs sets (logical & integer subsetting)"
   ]
  },
  {
   "cell_type": "markdown",
   "id": "1a255f04",
   "metadata": {},
   "source": [
    "1. It's useful to know the natural equivalence between set operations (integer subsetting) and boolean algebra (logical subsetting). \n",
    "2. Using set operations is more effective when <br>\n",
    "(1) want to find the first/last TRUE <br>\n",
    "(2) have few TRUEs and very many FALSEs. A set representation may be faster and require less storage.<br>\n",
    "(3) `which()` allows to convert a boolean representation to integer representation. There is no reverse operation in R but you can create one. \n",
    "3. Use `x[y]` not `x[which(y)]` to subset. Here which() switches from logical to integer subsetting but the result will be exactly the same. \n",
    "4. Also `x[-which(y)]` is not same as `x[!y]`: if y is all FALSE, `which(y)` returns `integer(0)` and you get no values. \n",
    "5. In general, avoid switching from logical to integer subsetting unless you want the first or last TRUE value."
   ]
  },
  {
   "cell_type": "code",
   "execution_count": 18,
   "id": "db9eea02",
   "metadata": {},
   "outputs": [
    {
     "data": {
      "text/html": [
       "<ol class=list-inline>\n",
       "\t<li>FALSE</li>\n",
       "\t<li>FALSE</li>\n",
       "\t<li>FALSE</li>\n",
       "\t<li>TRUE</li>\n",
       "\t<li>TRUE</li>\n",
       "\t<li>FALSE</li>\n",
       "\t<li>TRUE</li>\n",
       "\t<li>FALSE</li>\n",
       "\t<li>FALSE</li>\n",
       "\t<li>FALSE</li>\n",
       "</ol>\n"
      ],
      "text/latex": [
       "\\begin{enumerate*}\n",
       "\\item FALSE\n",
       "\\item FALSE\n",
       "\\item FALSE\n",
       "\\item TRUE\n",
       "\\item TRUE\n",
       "\\item FALSE\n",
       "\\item TRUE\n",
       "\\item FALSE\n",
       "\\item FALSE\n",
       "\\item FALSE\n",
       "\\end{enumerate*}\n"
      ],
      "text/markdown": [
       "1. FALSE\n",
       "2. FALSE\n",
       "3. FALSE\n",
       "4. TRUE\n",
       "5. TRUE\n",
       "6. FALSE\n",
       "7. TRUE\n",
       "8. FALSE\n",
       "9. FALSE\n",
       "10. FALSE\n",
       "\n",
       "\n"
      ],
      "text/plain": [
       " [1] FALSE FALSE FALSE  TRUE  TRUE FALSE  TRUE FALSE FALSE FALSE"
      ]
     },
     "metadata": {},
     "output_type": "display_data"
    },
    {
     "data": {
      "text/html": [
       "<ol class=list-inline>\n",
       "\t<li>4</li>\n",
       "\t<li>5</li>\n",
       "\t<li>7</li>\n",
       "</ol>\n"
      ],
      "text/latex": [
       "\\begin{enumerate*}\n",
       "\\item 4\n",
       "\\item 5\n",
       "\\item 7\n",
       "\\end{enumerate*}\n"
      ],
      "text/markdown": [
       "1. 4\n",
       "2. 5\n",
       "3. 7\n",
       "\n",
       "\n"
      ],
      "text/plain": [
       "[1] 4 5 7"
      ]
     },
     "metadata": {},
     "output_type": "display_data"
    }
   ],
   "source": [
    "# Example 1: which()\n",
    "\n",
    "# create vector \n",
    "# `sample(10)` samples randomly numbers 1:10 \n",
    "# if value < 4, FALSE, if value >= 4, TRUE\n",
    "# all values are boolean (logical)\n",
    "set.seed(1)\n",
    "(x <- sample(10) < 4)\n",
    "\n",
    "# use which()\n",
    "# find positions of values in x that are TRUEs\n",
    "which(x)"
   ]
  },
  {
   "cell_type": "code",
   "execution_count": 19,
   "id": "883244ea",
   "metadata": {},
   "outputs": [
    {
     "data": {
      "text/html": [
       "<ol class=list-inline>\n",
       "\t<li>FALSE</li>\n",
       "\t<li>FALSE</li>\n",
       "\t<li>FALSE</li>\n",
       "\t<li>TRUE</li>\n",
       "\t<li>TRUE</li>\n",
       "\t<li>FALSE</li>\n",
       "\t<li>TRUE</li>\n",
       "\t<li>FALSE</li>\n",
       "\t<li>FALSE</li>\n",
       "\t<li>FALSE</li>\n",
       "</ol>\n"
      ],
      "text/latex": [
       "\\begin{enumerate*}\n",
       "\\item FALSE\n",
       "\\item FALSE\n",
       "\\item FALSE\n",
       "\\item TRUE\n",
       "\\item TRUE\n",
       "\\item FALSE\n",
       "\\item TRUE\n",
       "\\item FALSE\n",
       "\\item FALSE\n",
       "\\item FALSE\n",
       "\\end{enumerate*}\n"
      ],
      "text/markdown": [
       "1. FALSE\n",
       "2. FALSE\n",
       "3. FALSE\n",
       "4. TRUE\n",
       "5. TRUE\n",
       "6. FALSE\n",
       "7. TRUE\n",
       "8. FALSE\n",
       "9. FALSE\n",
       "10. FALSE\n",
       "\n",
       "\n"
      ],
      "text/plain": [
       " [1] FALSE FALSE FALSE  TRUE  TRUE FALSE  TRUE FALSE FALSE FALSE"
      ]
     },
     "metadata": {},
     "output_type": "display_data"
    }
   ],
   "source": [
    "# Example 2: create unwhich()\n",
    "\n",
    "# create unwhich() function\n",
    "unwhich <- function(x, n) {\n",
    "    out <- rep_len(FALSE, n)\n",
    "    out[x] <- TRUE\n",
    "    out\n",
    "}\n",
    "\n",
    "# use unwhich()\n",
    "# recover vector x \n",
    "unwhich(which(x), 10)"
   ]
  },
  {
   "cell_type": "code",
   "execution_count": 42,
   "id": "1637de42",
   "metadata": {},
   "outputs": [
    {
     "data": {
      "text/html": [
       "<ol class=list-inline>\n",
       "\t<li>FALSE</li>\n",
       "\t<li>TRUE</li>\n",
       "\t<li>FALSE</li>\n",
       "\t<li>TRUE</li>\n",
       "\t<li>FALSE</li>\n",
       "\t<li>TRUE</li>\n",
       "\t<li>FALSE</li>\n",
       "\t<li>TRUE</li>\n",
       "\t<li>FALSE</li>\n",
       "\t<li>TRUE</li>\n",
       "</ol>\n"
      ],
      "text/latex": [
       "\\begin{enumerate*}\n",
       "\\item FALSE\n",
       "\\item TRUE\n",
       "\\item FALSE\n",
       "\\item TRUE\n",
       "\\item FALSE\n",
       "\\item TRUE\n",
       "\\item FALSE\n",
       "\\item TRUE\n",
       "\\item FALSE\n",
       "\\item TRUE\n",
       "\\end{enumerate*}\n"
      ],
      "text/markdown": [
       "1. FALSE\n",
       "2. TRUE\n",
       "3. FALSE\n",
       "4. TRUE\n",
       "5. FALSE\n",
       "6. TRUE\n",
       "7. FALSE\n",
       "8. TRUE\n",
       "9. FALSE\n",
       "10. TRUE\n",
       "\n",
       "\n"
      ],
      "text/plain": [
       " [1] FALSE  TRUE FALSE  TRUE FALSE  TRUE FALSE  TRUE FALSE  TRUE"
      ]
     },
     "metadata": {},
     "output_type": "display_data"
    },
    {
     "data": {
      "text/html": [
       "<ol class=list-inline>\n",
       "\t<li>2</li>\n",
       "\t<li>4</li>\n",
       "\t<li>6</li>\n",
       "\t<li>8</li>\n",
       "\t<li>10</li>\n",
       "</ol>\n"
      ],
      "text/latex": [
       "\\begin{enumerate*}\n",
       "\\item 2\n",
       "\\item 4\n",
       "\\item 6\n",
       "\\item 8\n",
       "\\item 10\n",
       "\\end{enumerate*}\n"
      ],
      "text/markdown": [
       "1. 2\n",
       "2. 4\n",
       "3. 6\n",
       "4. 8\n",
       "5. 10\n",
       "\n",
       "\n"
      ],
      "text/plain": [
       "[1]  2  4  6  8 10"
      ]
     },
     "metadata": {},
     "output_type": "display_data"
    },
    {
     "data": {
      "text/html": [
       "<ol class=list-inline>\n",
       "\t<li>FALSE</li>\n",
       "\t<li>FALSE</li>\n",
       "\t<li>FALSE</li>\n",
       "\t<li>FALSE</li>\n",
       "\t<li>TRUE</li>\n",
       "\t<li>FALSE</li>\n",
       "\t<li>FALSE</li>\n",
       "\t<li>FALSE</li>\n",
       "\t<li>FALSE</li>\n",
       "\t<li>TRUE</li>\n",
       "</ol>\n"
      ],
      "text/latex": [
       "\\begin{enumerate*}\n",
       "\\item FALSE\n",
       "\\item FALSE\n",
       "\\item FALSE\n",
       "\\item FALSE\n",
       "\\item TRUE\n",
       "\\item FALSE\n",
       "\\item FALSE\n",
       "\\item FALSE\n",
       "\\item FALSE\n",
       "\\item TRUE\n",
       "\\end{enumerate*}\n"
      ],
      "text/markdown": [
       "1. FALSE\n",
       "2. FALSE\n",
       "3. FALSE\n",
       "4. FALSE\n",
       "5. TRUE\n",
       "6. FALSE\n",
       "7. FALSE\n",
       "8. FALSE\n",
       "9. FALSE\n",
       "10. TRUE\n",
       "\n",
       "\n"
      ],
      "text/plain": [
       " [1] FALSE FALSE FALSE FALSE  TRUE FALSE FALSE FALSE FALSE  TRUE"
      ]
     },
     "metadata": {},
     "output_type": "display_data"
    },
    {
     "data": {
      "text/html": [
       "<ol class=list-inline>\n",
       "\t<li>5</li>\n",
       "\t<li>10</li>\n",
       "</ol>\n"
      ],
      "text/latex": [
       "\\begin{enumerate*}\n",
       "\\item 5\n",
       "\\item 10\n",
       "\\end{enumerate*}\n"
      ],
      "text/markdown": [
       "1. 5\n",
       "2. 10\n",
       "\n",
       "\n"
      ],
      "text/plain": [
       "[1]  5 10"
      ]
     },
     "metadata": {},
     "output_type": "display_data"
    },
    {
     "name": "stdout",
     "output_type": "stream",
     "text": [
      "Intersection by position is: "
     ]
    },
    {
     "data": {
      "text/html": [
       "10"
      ],
      "text/latex": [
       "10"
      ],
      "text/markdown": [
       "10"
      ],
      "text/plain": [
       "[1] 10"
      ]
     },
     "metadata": {},
     "output_type": "display_data"
    },
    {
     "name": "stdout",
     "output_type": "stream",
     "text": [
      "Intersection by logical is: "
     ]
    },
    {
     "data": {
      "text/html": [
       "<ol class=list-inline>\n",
       "\t<li>FALSE</li>\n",
       "\t<li>FALSE</li>\n",
       "\t<li>FALSE</li>\n",
       "\t<li>FALSE</li>\n",
       "\t<li>FALSE</li>\n",
       "\t<li>FALSE</li>\n",
       "\t<li>FALSE</li>\n",
       "\t<li>FALSE</li>\n",
       "\t<li>FALSE</li>\n",
       "\t<li>TRUE</li>\n",
       "</ol>\n"
      ],
      "text/latex": [
       "\\begin{enumerate*}\n",
       "\\item FALSE\n",
       "\\item FALSE\n",
       "\\item FALSE\n",
       "\\item FALSE\n",
       "\\item FALSE\n",
       "\\item FALSE\n",
       "\\item FALSE\n",
       "\\item FALSE\n",
       "\\item FALSE\n",
       "\\item TRUE\n",
       "\\end{enumerate*}\n"
      ],
      "text/markdown": [
       "1. FALSE\n",
       "2. FALSE\n",
       "3. FALSE\n",
       "4. FALSE\n",
       "5. FALSE\n",
       "6. FALSE\n",
       "7. FALSE\n",
       "8. FALSE\n",
       "9. FALSE\n",
       "10. TRUE\n",
       "\n",
       "\n"
      ],
      "text/plain": [
       " [1] FALSE FALSE FALSE FALSE FALSE FALSE FALSE FALSE FALSE  TRUE"
      ]
     },
     "metadata": {},
     "output_type": "display_data"
    },
    {
     "name": "stdout",
     "output_type": "stream",
     "text": [
      "Union by position is: "
     ]
    },
    {
     "data": {
      "text/html": [
       "<ol class=list-inline>\n",
       "\t<li>2</li>\n",
       "\t<li>4</li>\n",
       "\t<li>6</li>\n",
       "\t<li>8</li>\n",
       "\t<li>10</li>\n",
       "\t<li>5</li>\n",
       "</ol>\n"
      ],
      "text/latex": [
       "\\begin{enumerate*}\n",
       "\\item 2\n",
       "\\item 4\n",
       "\\item 6\n",
       "\\item 8\n",
       "\\item 10\n",
       "\\item 5\n",
       "\\end{enumerate*}\n"
      ],
      "text/markdown": [
       "1. 2\n",
       "2. 4\n",
       "3. 6\n",
       "4. 8\n",
       "5. 10\n",
       "6. 5\n",
       "\n",
       "\n"
      ],
      "text/plain": [
       "[1]  2  4  6  8 10  5"
      ]
     },
     "metadata": {},
     "output_type": "display_data"
    },
    {
     "name": "stdout",
     "output_type": "stream",
     "text": [
      "Union by logical is: "
     ]
    },
    {
     "data": {
      "text/html": [
       "<ol class=list-inline>\n",
       "\t<li>FALSE</li>\n",
       "\t<li>TRUE</li>\n",
       "\t<li>FALSE</li>\n",
       "\t<li>TRUE</li>\n",
       "\t<li>TRUE</li>\n",
       "\t<li>TRUE</li>\n",
       "\t<li>FALSE</li>\n",
       "\t<li>TRUE</li>\n",
       "\t<li>FALSE</li>\n",
       "\t<li>TRUE</li>\n",
       "</ol>\n"
      ],
      "text/latex": [
       "\\begin{enumerate*}\n",
       "\\item FALSE\n",
       "\\item TRUE\n",
       "\\item FALSE\n",
       "\\item TRUE\n",
       "\\item TRUE\n",
       "\\item TRUE\n",
       "\\item FALSE\n",
       "\\item TRUE\n",
       "\\item FALSE\n",
       "\\item TRUE\n",
       "\\end{enumerate*}\n"
      ],
      "text/markdown": [
       "1. FALSE\n",
       "2. TRUE\n",
       "3. FALSE\n",
       "4. TRUE\n",
       "5. TRUE\n",
       "6. TRUE\n",
       "7. FALSE\n",
       "8. TRUE\n",
       "9. FALSE\n",
       "10. TRUE\n",
       "\n",
       "\n"
      ],
      "text/plain": [
       " [1] FALSE  TRUE FALSE  TRUE  TRUE  TRUE FALSE  TRUE FALSE  TRUE"
      ]
     },
     "metadata": {},
     "output_type": "display_data"
    },
    {
     "name": "stdout",
     "output_type": "stream",
     "text": [
      "Set difference by position is: "
     ]
    },
    {
     "data": {
      "text/html": [
       "<ol class=list-inline>\n",
       "\t<li>2</li>\n",
       "\t<li>4</li>\n",
       "\t<li>6</li>\n",
       "\t<li>8</li>\n",
       "</ol>\n"
      ],
      "text/latex": [
       "\\begin{enumerate*}\n",
       "\\item 2\n",
       "\\item 4\n",
       "\\item 6\n",
       "\\item 8\n",
       "\\end{enumerate*}\n"
      ],
      "text/markdown": [
       "1. 2\n",
       "2. 4\n",
       "3. 6\n",
       "4. 8\n",
       "\n",
       "\n"
      ],
      "text/plain": [
       "[1] 2 4 6 8"
      ]
     },
     "metadata": {},
     "output_type": "display_data"
    },
    {
     "name": "stdout",
     "output_type": "stream",
     "text": [
      "Set difference by logical is: "
     ]
    },
    {
     "data": {
      "text/html": [
       "<ol class=list-inline>\n",
       "\t<li>FALSE</li>\n",
       "\t<li>TRUE</li>\n",
       "\t<li>FALSE</li>\n",
       "\t<li>TRUE</li>\n",
       "\t<li>FALSE</li>\n",
       "\t<li>TRUE</li>\n",
       "\t<li>FALSE</li>\n",
       "\t<li>TRUE</li>\n",
       "\t<li>FALSE</li>\n",
       "\t<li>FALSE</li>\n",
       "</ol>\n"
      ],
      "text/latex": [
       "\\begin{enumerate*}\n",
       "\\item FALSE\n",
       "\\item TRUE\n",
       "\\item FALSE\n",
       "\\item TRUE\n",
       "\\item FALSE\n",
       "\\item TRUE\n",
       "\\item FALSE\n",
       "\\item TRUE\n",
       "\\item FALSE\n",
       "\\item FALSE\n",
       "\\end{enumerate*}\n"
      ],
      "text/markdown": [
       "1. FALSE\n",
       "2. TRUE\n",
       "3. FALSE\n",
       "4. TRUE\n",
       "5. FALSE\n",
       "6. TRUE\n",
       "7. FALSE\n",
       "8. TRUE\n",
       "9. FALSE\n",
       "10. FALSE\n",
       "\n",
       "\n"
      ],
      "text/plain": [
       " [1] FALSE  TRUE FALSE  TRUE FALSE  TRUE FALSE  TRUE FALSE FALSE"
      ]
     },
     "metadata": {},
     "output_type": "display_data"
    },
    {
     "data": {
      "text/html": [
       "<ol class=list-inline>\n",
       "\t<li>FALSE</li>\n",
       "\t<li>TRUE</li>\n",
       "\t<li>FALSE</li>\n",
       "\t<li>TRUE</li>\n",
       "\t<li>TRUE</li>\n",
       "\t<li>TRUE</li>\n",
       "\t<li>FALSE</li>\n",
       "\t<li>TRUE</li>\n",
       "\t<li>FALSE</li>\n",
       "\t<li>FALSE</li>\n",
       "</ol>\n"
      ],
      "text/latex": [
       "\\begin{enumerate*}\n",
       "\\item FALSE\n",
       "\\item TRUE\n",
       "\\item FALSE\n",
       "\\item TRUE\n",
       "\\item TRUE\n",
       "\\item TRUE\n",
       "\\item FALSE\n",
       "\\item TRUE\n",
       "\\item FALSE\n",
       "\\item FALSE\n",
       "\\end{enumerate*}\n"
      ],
      "text/markdown": [
       "1. FALSE\n",
       "2. TRUE\n",
       "3. FALSE\n",
       "4. TRUE\n",
       "5. TRUE\n",
       "6. TRUE\n",
       "7. FALSE\n",
       "8. TRUE\n",
       "9. FALSE\n",
       "10. FALSE\n",
       "\n",
       "\n"
      ],
      "text/plain": [
       " [1] FALSE  TRUE FALSE  TRUE  TRUE  TRUE FALSE  TRUE FALSE FALSE"
      ]
     },
     "metadata": {},
     "output_type": "display_data"
    },
    {
     "data": {
      "text/html": [
       "<ol class=list-inline>\n",
       "\t<li>2</li>\n",
       "\t<li>4</li>\n",
       "\t<li>6</li>\n",
       "\t<li>8</li>\n",
       "\t<li>5</li>\n",
       "</ol>\n"
      ],
      "text/latex": [
       "\\begin{enumerate*}\n",
       "\\item 2\n",
       "\\item 4\n",
       "\\item 6\n",
       "\\item 8\n",
       "\\item 5\n",
       "\\end{enumerate*}\n"
      ],
      "text/markdown": [
       "1. 2\n",
       "2. 4\n",
       "3. 6\n",
       "4. 8\n",
       "5. 5\n",
       "\n",
       "\n"
      ],
      "text/plain": [
       "[1] 2 4 6 8 5"
      ]
     },
     "metadata": {},
     "output_type": "display_data"
    }
   ],
   "source": [
    "# Example 3\n",
    "\n",
    "# create 2 logical vectors and their equivalents\n",
    "# `%%` means x mod y\n",
    "# 1/2 leftover != 0 \n",
    "# 2/2 leftover == 0\n",
    "# basically, all even numbers are TRUEs\n",
    "(x1 <- 1:10 %% 2 == 0)\n",
    "\n",
    "# check positions of x1 that are TRUEs\n",
    "(x2 <- which(x1))\n",
    "\n",
    "# create 2 logical vectors and their equivalents\n",
    "(y1 <- 1:10 %% 5 == 0)\n",
    "\n",
    "# check positions of y1 that are TRUEs\n",
    "(y2 <- which(y1))\n",
    "\n",
    "# ------ (1) get intersection \n",
    "\n",
    "# method 1: better \n",
    "# intersect() \n",
    "cat(\"Intersection by position is: \")\n",
    "intersect(x2, y2)\n",
    "\n",
    "# method 2\n",
    "# & \n",
    "cat(\"Intersection by logical is: \")\n",
    "x1 & y1 \n",
    "\n",
    "# ------ (2) get union\n",
    "# method 1: better \n",
    "# union()\n",
    "cat(\"Union by position is: \")\n",
    "union(x2, y2)\n",
    "\n",
    "# method 2\n",
    "# |\n",
    "cat(\"Union by logical is: \")\n",
    "x1 | y1\n",
    "\n",
    "# ------ (3) in 1st vector, not in 2nd vector\n",
    "\n",
    "# method 1: better \n",
    "# setdiff()\n",
    "# setdiff() finds all elements that are in x2, if elements show in y2, then omit\n",
    "cat(\"Set difference by position is: \")\n",
    "setdiff(x2, y2)\n",
    "\n",
    "# method 2\n",
    "# & !\n",
    "cat(\"Set difference by logical is: \")\n",
    "x1 & !y1\n",
    "\n",
    "# ------ (4) setdiff(union, intersect)\n",
    "# method 1: better \n",
    "# xor())\n",
    "xor(x1, y1)\n",
    "\n",
    "# method 2\n",
    "# setdiff(union, intersect)\n",
    "# union(x2, y2) = 2, 4, 6, 8, 10, 5\n",
    "# intersect(x2, y2) = 10\n",
    "# setdiff these two (in union but )\n",
    "setdiff(union(x2, y2), intersect(x2, y2))"
   ]
  },
  {
   "cell_type": "code",
   "execution_count": 59,
   "id": "43cf7334",
   "metadata": {},
   "outputs": [
    {
     "name": "stdout",
     "output_type": "stream",
     "text": [
      "Logical vector: "
     ]
    },
    {
     "data": {
      "text/html": [
       "<ol class=list-inline>\n",
       "\t<li>FALSE</li>\n",
       "\t<li>TRUE</li>\n",
       "\t<li>FALSE</li>\n",
       "\t<li>TRUE</li>\n",
       "\t<li>FALSE</li>\n",
       "\t<li>TRUE</li>\n",
       "\t<li>FALSE</li>\n",
       "\t<li>TRUE</li>\n",
       "\t<li>FALSE</li>\n",
       "\t<li>TRUE</li>\n",
       "</ol>\n"
      ],
      "text/latex": [
       "\\begin{enumerate*}\n",
       "\\item FALSE\n",
       "\\item TRUE\n",
       "\\item FALSE\n",
       "\\item TRUE\n",
       "\\item FALSE\n",
       "\\item TRUE\n",
       "\\item FALSE\n",
       "\\item TRUE\n",
       "\\item FALSE\n",
       "\\item TRUE\n",
       "\\end{enumerate*}\n"
      ],
      "text/markdown": [
       "1. FALSE\n",
       "2. TRUE\n",
       "3. FALSE\n",
       "4. TRUE\n",
       "5. FALSE\n",
       "6. TRUE\n",
       "7. FALSE\n",
       "8. TRUE\n",
       "9. FALSE\n",
       "10. TRUE\n",
       "\n",
       "\n"
      ],
      "text/plain": [
       " [1] FALSE  TRUE FALSE  TRUE FALSE  TRUE FALSE  TRUE FALSE  TRUE"
      ]
     },
     "metadata": {},
     "output_type": "display_data"
    },
    {
     "name": "stdout",
     "output_type": "stream",
     "text": [
      "Subset vector at even positions: "
     ]
    },
    {
     "data": {
      "text/html": [
       "<ol class=list-inline>\n",
       "\t<li>2</li>\n",
       "\t<li>4</li>\n",
       "\t<li>6</li>\n",
       "\t<li>8</li>\n",
       "\t<li>10</li>\n",
       "</ol>\n"
      ],
      "text/latex": [
       "\\begin{enumerate*}\n",
       "\\item 2\n",
       "\\item 4\n",
       "\\item 6\n",
       "\\item 8\n",
       "\\item 10\n",
       "\\end{enumerate*}\n"
      ],
      "text/markdown": [
       "1. 2\n",
       "2. 4\n",
       "3. 6\n",
       "4. 8\n",
       "5. 10\n",
       "\n",
       "\n"
      ],
      "text/plain": [
       "[1]  2  4  6  8 10"
      ]
     },
     "metadata": {},
     "output_type": "display_data"
    },
    {
     "name": "stdout",
     "output_type": "stream",
     "text": [
      "Subset vector at odd positions: "
     ]
    },
    {
     "data": {
      "text/html": [
       "<ol class=list-inline>\n",
       "\t<li>1</li>\n",
       "\t<li>3</li>\n",
       "\t<li>5</li>\n",
       "\t<li>7</li>\n",
       "\t<li>9</li>\n",
       "</ol>\n"
      ],
      "text/latex": [
       "\\begin{enumerate*}\n",
       "\\item 1\n",
       "\\item 3\n",
       "\\item 5\n",
       "\\item 7\n",
       "\\item 9\n",
       "\\end{enumerate*}\n"
      ],
      "text/markdown": [
       "1. 1\n",
       "2. 3\n",
       "3. 5\n",
       "4. 7\n",
       "5. 9\n",
       "\n",
       "\n"
      ],
      "text/plain": [
       "[1] 1 3 5 7 9"
      ]
     },
     "metadata": {},
     "output_type": "display_data"
    }
   ],
   "source": [
    "# Example 4: subset vector with another vector \n",
    "\n",
    "# create vector \n",
    "y <- 1:10\n",
    "\n",
    "# ------ (1) subset even number positioned values \n",
    "# create logical vector\n",
    "# mod 2 \n",
    "cat(\"Logical vector: \")\n",
    "(x1 <- 1:10 %% 2 == 0)\n",
    "\n",
    "# subset vector at even positions \n",
    "cat(\"Subset vector at even positions: \")\n",
    "y[x1]\n",
    "\n",
    "# subset vector at odd positions \n",
    "# use negate !\n",
    "cat(\"Subset vector at odd positions: \")\n",
    "y[!x1] "
   ]
  }
 ],
 "metadata": {
  "kernelspec": {
   "display_name": "R",
   "language": "R",
   "name": "ir"
  },
  "language_info": {
   "codemirror_mode": "r",
   "file_extension": ".r",
   "mimetype": "text/x-r-source",
   "name": "R",
   "pygments_lexer": "r",
   "version": "3.6.1"
  },
  "toc": {
   "base_numbering": 1,
   "nav_menu": {},
   "number_sections": true,
   "sideBar": true,
   "skip_h1_title": false,
   "title_cell": "Table of Contents",
   "title_sidebar": "Contents",
   "toc_cell": false,
   "toc_position": {},
   "toc_section_display": true,
   "toc_window_display": false
  },
  "varInspector": {
   "cols": {
    "lenName": 16,
    "lenType": 16,
    "lenVar": 40
   },
   "kernels_config": {
    "python": {
     "delete_cmd_postfix": "",
     "delete_cmd_prefix": "del ",
     "library": "var_list.py",
     "varRefreshCmd": "print(var_dic_list())"
    },
    "r": {
     "delete_cmd_postfix": ") ",
     "delete_cmd_prefix": "rm(",
     "library": "var_list.r",
     "varRefreshCmd": "cat(var_dic_list()) "
    }
   },
   "position": {
    "height": "342px",
    "left": "969px",
    "right": "20px",
    "top": "105px",
    "width": "345px"
   },
   "types_to_exclude": [
    "module",
    "function",
    "builtin_function_or_method",
    "instance",
    "_Feature"
   ],
   "window_display": false
  }
 },
 "nbformat": 4,
 "nbformat_minor": 5
}
