{
 "cells": [
  {
   "cell_type": "markdown",
   "id": "9a209936",
   "metadata": {},
   "source": [
    "## Function components"
   ]
  },
  {
   "cell_type": "markdown",
   "id": "38b84b64",
   "metadata": {},
   "source": [
    "1. R functions have 3 parts:  \n",
    "(1) **body()**: code inside the function<br>\n",
    "(2) **formals()**: list of arguments which controls how you can call the function<br>\n",
    "(3) **environment()**: the \"map\" of the location of the functions' variables\n",
    "<p>\n",
    "<p>\n",
    "    \n",
    "Note:<br>\n",
    "* When you print a function, it shows the 3 components. <br>\n",
    "* If the environment isn't displayed, it means the function was created in global environment.\n",
    "* Primitive functions (e.g. sum()) call C code directly with .Primitive() and contain no R code.<br>So their formals(), body(), environment are all NULL."
   ]
  },
  {
   "cell_type": "code",
   "execution_count": 9,
   "id": "7cb09494",
   "metadata": {},
   "outputs": [
    {
     "name": "stdout",
     "output_type": "stream",
     "text": [
      "The function is:"
     ]
    },
    {
     "data": {
      "text/html": [
       "<pre class=language-r><code>function (x) \n",
       "x^2</code></pre>"
      ],
      "text/latex": [
       "\\begin{minted}{r}\n",
       "function (x) \n",
       "x\\textasciicircum{}2\n",
       "\\end{minted}"
      ],
      "text/markdown": [
       "```r\n",
       "function (x) \n",
       "x^2\n",
       "```"
      ],
      "text/plain": [
       "function(x) x^2"
      ]
     },
     "metadata": {},
     "output_type": "display_data"
    },
    {
     "name": "stdout",
     "output_type": "stream",
     "text": [
      "\n",
      "The body() of function is:"
     ]
    },
    {
     "data": {
      "text/plain": [
       "x^2"
      ]
     },
     "metadata": {},
     "output_type": "display_data"
    },
    {
     "name": "stdout",
     "output_type": "stream",
     "text": [
      "\n",
      "The formals() of function is:"
     ]
    },
    {
     "data": {
      "text/plain": [
       "$x\n",
       "\n"
      ]
     },
     "metadata": {},
     "output_type": "display_data"
    },
    {
     "name": "stdout",
     "output_type": "stream",
     "text": [
      "\n",
      "The environment() of function is:"
     ]
    },
    {
     "data": {
      "text/plain": [
       "<environment: R_GlobalEnv>"
      ]
     },
     "metadata": {},
     "output_type": "display_data"
    }
   ],
   "source": [
    "# one-line function format\n",
    "# f <- function(x) x^2\n",
    "# f <- function(x) x + 1\n",
    "# f <- function(x) x / 2\n",
    "\n",
    "# ------ Example 1: a function created in global environment\n",
    "\n",
    "# create function: square a number\n",
    "f <- function(x) x^2\n",
    "cat(\"The function is:\")\n",
    "f\n",
    "\n",
    "cat(\"\\nThe body() of function is:\")\n",
    "body(f)\n",
    "\n",
    "cat(\"\\nThe formals() of function is:\")\n",
    "formals(f)\n",
    "\n",
    "cat(\"\\nThe environment() of function is:\")\n",
    "environment(f)"
   ]
  },
  {
   "cell_type": "code",
   "execution_count": 15,
   "id": "09e37460",
   "metadata": {},
   "outputs": [
    {
     "name": "stdout",
     "output_type": "stream",
     "text": [
      "The function is:"
     ]
    },
    {
     "data": {
      "text/html": [
       "<pre class=language-r><code>.Primitive(\"sum\")</code></pre>"
      ],
      "text/latex": [
       "\\begin{minted}{r}\n",
       ".Primitive(\"sum\")\n",
       "\\end{minted}"
      ],
      "text/markdown": [
       "```r\n",
       ".Primitive(\"sum\")\n",
       "```"
      ],
      "text/plain": [
       "function (..., na.rm = FALSE)  .Primitive(\"sum\")"
      ]
     },
     "metadata": {},
     "output_type": "display_data"
    },
    {
     "name": "stdout",
     "output_type": "stream",
     "text": [
      "\n",
      "The body() of function is:"
     ]
    },
    {
     "data": {
      "text/plain": [
       "NULL"
      ]
     },
     "metadata": {},
     "output_type": "display_data"
    },
    {
     "name": "stdout",
     "output_type": "stream",
     "text": [
      "\n",
      "The formals() of function is:"
     ]
    },
    {
     "data": {
      "text/plain": [
       "NULL"
      ]
     },
     "metadata": {},
     "output_type": "display_data"
    },
    {
     "name": "stdout",
     "output_type": "stream",
     "text": [
      "\n",
      "The environment() of function is:"
     ]
    },
    {
     "data": {
      "text/plain": [
       "NULL"
      ]
     },
     "metadata": {},
     "output_type": "display_data"
    }
   ],
   "source": [
    "# Example 2: function sum()\n",
    "\n",
    "cat(\"The function is:\")\n",
    "sum\n",
    "\n",
    "cat(\"\\nThe body() of function is:\")\n",
    "body(sum)\n",
    "\n",
    "cat(\"\\nThe formals() of function is:\")\n",
    "formals(sum)\n",
    "\n",
    "cat(\"\\nThe environment() of function is:\")\n",
    "environment(sum)"
   ]
  },
  {
   "cell_type": "markdown",
   "id": "723e2ee5",
   "metadata": {},
   "source": [
    "## Lexical scoping"
   ]
  },
  {
   "cell_type": "markdown",
   "id": "b537800f",
   "metadata": {},
   "source": [
    "1. Scoping:<br> \n",
    "(1) **Definition**: scoping is a set of rules that govern how R looks up value of a symbol.<br>\n",
    "(2) **Scoping allow you to**: <br>\n",
    "a. build tools by composing functions<br>\n",
    "b. overrule the usual evaluation rules and do non-standard evaluation.\n",
    "<p>\n",
    "2. Two types of scoping<br>\n",
    "(1) **Lexical scoping**: implemented automatically at language level.<br>\n",
    "(2) **Dynamic scoping**: used in select functions to save typing during interactive analysis.\n",
    "\n",
    "Note: <br>\n",
    "* Lexical scoping looks up symbol values based on how functions were nested when they were created, <br>not how they are nested when they are called. <br>With lexical scoping, you don't need to know how the function is called to <br>figure out where the value of a variable will be looked up. <br>You just need to look at the function's definition.<br>\n",
    "\n",
    "3. Four basic principles behind R's implementation of lexical scoping<br>\n",
    "(1) name masking <br>\n",
    "(2) functions vs. variables <br>\n",
    "(3) a fresh start <br>\n",
    "(4) dynamic lookup"
   ]
  },
  {
   "cell_type": "code",
   "execution_count": 16,
   "id": "a58dd7a9",
   "metadata": {},
   "outputs": [
    {
     "data": {
      "text/html": [
       "10"
      ],
      "text/latex": [
       "10"
      ],
      "text/markdown": [
       "10"
      ],
      "text/plain": [
       "[1] 10"
      ]
     },
     "metadata": {},
     "output_type": "display_data"
    }
   ],
   "source": [
    "# Example 1: scoping is set of rules that R applies to go from symbol x to its value 10\n",
    "x <- 10\n",
    "x"
   ]
  },
  {
   "cell_type": "markdown",
   "id": "71a88664",
   "metadata": {},
   "source": [
    "### Name masking"
   ]
  },
  {
   "cell_type": "markdown",
   "id": "e98578e7",
   "metadata": {},
   "source": [
    "1. **Name masking rules**<br>\n",
    "(1) R automatically look up name inside a function<br>\n",
    "(2) If a name isn't defined inside a function, R will look one level up<br>\n",
    "(3) If a function is defined inside another function: look inside the current function, <br>\n",
    "then where that function was defined, and so on, all the way up to the global environment, <br>\n",
    "and then on to other loaded packages.<br>\n",
    "(4) The same rules apply to closures, functions created by other functions."
   ]
  },
  {
   "cell_type": "code",
   "execution_count": 25,
   "id": "529495a2",
   "metadata": {},
   "outputs": [
    {
     "data": {
      "text/html": [
       "<ol class=list-inline>\n",
       "\t<li>1</li>\n",
       "\t<li>2</li>\n",
       "</ol>\n"
      ],
      "text/latex": [
       "\\begin{enumerate*}\n",
       "\\item 1\n",
       "\\item 2\n",
       "\\end{enumerate*}\n"
      ],
      "text/markdown": [
       "1. 1\n",
       "2. 2\n",
       "\n",
       "\n"
      ],
      "text/plain": [
       "[1] 1 2"
      ]
     },
     "metadata": {},
     "output_type": "display_data"
    }
   ],
   "source": [
    "# multiple-line function format\n",
    "# f <- function() {\n",
    "#      details here\n",
    "# }\n",
    "\n",
    "\n",
    "# Example 1: a basic function that illustrates name masking principle\n",
    "\n",
    "# define function: vector contain x & y\n",
    "f <- function() {\n",
    "    # define x\n",
    "    x <- 1\n",
    "    # define y\n",
    "    y <- 2\n",
    "    c(x, y)\n",
    "}\n",
    "\n",
    "# call function\n",
    "f()"
   ]
  },
  {
   "cell_type": "code",
   "execution_count": 20,
   "id": "ec21433b",
   "metadata": {},
   "outputs": [],
   "source": [
    "# remove function\n",
    "# rm(): use this function to delete objects from memory\n",
    "rm(f)"
   ]
  },
  {
   "cell_type": "code",
   "execution_count": 4,
   "id": "cbd85b37",
   "metadata": {},
   "outputs": [
    {
     "data": {
      "text/html": [
       "<ol class=list-inline>\n",
       "\t<li>2</li>\n",
       "\t<li>1</li>\n",
       "</ol>\n"
      ],
      "text/latex": [
       "\\begin{enumerate*}\n",
       "\\item 2\n",
       "\\item 1\n",
       "\\end{enumerate*}\n"
      ],
      "text/markdown": [
       "1. 2\n",
       "2. 1\n",
       "\n",
       "\n"
      ],
      "text/plain": [
       "[1] 2 1"
      ]
     },
     "metadata": {},
     "output_type": "display_data"
    }
   ],
   "source": [
    "# Example 2: If a name isn't defined inside a function, R will look one level up\n",
    "\n",
    "# define x \n",
    "x <- 2\n",
    "\n",
    "# define fuction: vector contain x & y, but only y is specified in function\n",
    "g <- function() {\n",
    "    # define y\n",
    "    y <- 1\n",
    "    c(x, y)\n",
    "}\n",
    "\n",
    "# call function\n",
    "g()"
   ]
  },
  {
   "cell_type": "code",
   "execution_count": 22,
   "id": "09394c5d",
   "metadata": {},
   "outputs": [],
   "source": [
    "# remove function & vector\n",
    "rm(x, g)"
   ]
  },
  {
   "cell_type": "code",
   "execution_count": 23,
   "id": "061a2ba6",
   "metadata": {},
   "outputs": [
    {
     "data": {
      "text/html": [
       "<ol class=list-inline>\n",
       "\t<li>1</li>\n",
       "\t<li>2</li>\n",
       "\t<li>3</li>\n",
       "</ol>\n"
      ],
      "text/latex": [
       "\\begin{enumerate*}\n",
       "\\item 1\n",
       "\\item 2\n",
       "\\item 3\n",
       "\\end{enumerate*}\n"
      ],
      "text/markdown": [
       "1. 1\n",
       "2. 2\n",
       "3. 3\n",
       "\n",
       "\n"
      ],
      "text/plain": [
       "[1] 1 2 3"
      ]
     },
     "metadata": {},
     "output_type": "display_data"
    }
   ],
   "source": [
    "# Example 3: R look up name defines inside a function, inside another function, \n",
    "# and one level up\n",
    "\n",
    "# define x\n",
    "x <- 1 \n",
    "\n",
    "# define function: \n",
    "h <- function() {\n",
    "    # define y\n",
    "    y <- 2\n",
    "    i <- function() {\n",
    "        # define z\n",
    "        z <- 3\n",
    "        c(x, y, z)\n",
    "    }\n",
    "    i()\n",
    "}\n",
    "\n",
    "# call function\n",
    "h()"
   ]
  },
  {
   "cell_type": "code",
   "execution_count": 24,
   "id": "48fd31d4",
   "metadata": {},
   "outputs": [],
   "source": [
    "# remove function\n",
    "rm(x, h)"
   ]
  },
  {
   "cell_type": "code",
   "execution_count": 46,
   "id": "725faa98",
   "metadata": {},
   "outputs": [
    {
     "data": {
      "text/html": [
       "<ol class=list-inline>\n",
       "\t<li>1</li>\n",
       "\t<li>2</li>\n",
       "</ol>\n"
      ],
      "text/latex": [
       "\\begin{enumerate*}\n",
       "\\item 1\n",
       "\\item 2\n",
       "\\end{enumerate*}\n"
      ],
      "text/markdown": [
       "1. 1\n",
       "2. 2\n",
       "\n",
       "\n"
      ],
      "text/plain": [
       "[1] 1 2"
      ]
     },
     "metadata": {},
     "output_type": "display_data"
    }
   ],
   "source": [
    "# Example 4: R look up names created by another function \n",
    "\n",
    "# define x\n",
    "x <- 1\n",
    "\n",
    "# define function: j\n",
    "j <- function() {\n",
    "    y <- 2\n",
    "    function() {\n",
    "        c(x, y)\n",
    "    }\n",
    "}\n",
    "\n",
    "# define function: k is equal to function j\n",
    "k <- j()\n",
    "\n",
    "# call function: k\n",
    "k()"
   ]
  },
  {
   "cell_type": "code",
   "execution_count": 45,
   "id": "713536b8",
   "metadata": {},
   "outputs": [],
   "source": [
    "# remove function\n",
    "rm(x, k)"
   ]
  },
  {
   "cell_type": "markdown",
   "id": "a5a88099",
   "metadata": {},
   "source": [
    "### Functions vs. variables"
   ]
  },
  {
   "cell_type": "markdown",
   "id": "d024423c",
   "metadata": {},
   "source": [
    "1. The same principles apply regardless of type of associated value <br>\n",
    "(1) Finding functions works exactly the same way as finding variables.<br>\n",
    "(2) If you are using a name in a context where it's obvious that you want a function (e.g. f(3)), <br>R will ignore objects that are not functions while it is searching."
   ]
  },
  {
   "cell_type": "code",
   "execution_count": 47,
   "id": "aeca49e8",
   "metadata": {},
   "outputs": [
    {
     "data": {
      "text/html": [
       "20"
      ],
      "text/latex": [
       "20"
      ],
      "text/markdown": [
       "20"
      ],
      "text/plain": [
       "[1] 20"
      ]
     },
     "metadata": {},
     "output_type": "display_data"
    }
   ],
   "source": [
    "# Example 1: \n",
    "\n",
    "# define function: l\n",
    "l <- function(x) x + 1\n",
    "\n",
    "# define function: m\n",
    "m <- function() {\n",
    "    l  <- function(x) x * 2\n",
    "    l(10)\n",
    "}\n",
    "\n",
    "# call function: m\n",
    "m()"
   ]
  },
  {
   "cell_type": "code",
   "execution_count": 48,
   "id": "e6077f06",
   "metadata": {},
   "outputs": [],
   "source": [
    "# remove function \n",
    "rm(l, m)"
   ]
  },
  {
   "cell_type": "code",
   "execution_count": 50,
   "id": "9904fa46",
   "metadata": {},
   "outputs": [
    {
     "data": {
      "text/html": [
       "5"
      ],
      "text/latex": [
       "5"
      ],
      "text/markdown": [
       "5"
      ],
      "text/plain": [
       "[1] 5"
      ]
     },
     "metadata": {},
     "output_type": "display_data"
    }
   ],
   "source": [
    "# Example 2: \n",
    "\n",
    "# define function: n\n",
    "n <- function(x) x / 2\n",
    "\n",
    "# define function: o\n",
    "o <- function() {\n",
    "    n <- 10\n",
    "    n(n)\n",
    "}\n",
    "\n",
    "# call function: o\n",
    "o()\n",
    "\n",
    "# Note: it's better to name function and objects differently, \n",
    "# instead of naming both function and vector as \"n\" here"
   ]
  },
  {
   "cell_type": "code",
   "execution_count": 51,
   "id": "6326b60a",
   "metadata": {},
   "outputs": [],
   "source": [
    "# remove function\n",
    "rm(n, o)"
   ]
  },
  {
   "cell_type": "markdown",
   "id": "62623bfe",
   "metadata": {},
   "source": [
    "### A fresh start"
   ]
  },
  {
   "cell_type": "markdown",
   "id": "3250c08d",
   "metadata": {},
   "source": [
    "Every time a function is called, a new environment is created to host execution.<br> \n",
    "A function has no way to tell what happened the last time it has run. <br>\n",
    "Each invocation (call) is completely independent. "
   ]
  },
  {
   "cell_type": "code",
   "execution_count": 53,
   "id": "916516aa",
   "metadata": {},
   "outputs": [
    {
     "name": "stdout",
     "output_type": "stream",
     "text": [
      "[1] 1\n"
     ]
    }
   ],
   "source": [
    "# Example 1: \n",
    "\n",
    "# define function: j\n",
    "j <- function() {\n",
    "    if (!exists(\"a\")) {\n",
    "        a <- 1\n",
    "    } else {\n",
    "        a <- a + 1\n",
    "    }\n",
    "    print(a)\n",
    "}\n",
    "\n",
    "# call function: j\n",
    "j()\n",
    "\n",
    "# Every time it just returns 1. \n",
    "# This is because every time a function is called, a new environment is created to host execution. \n",
    "# A function has no way to tell what happened the lsat time it has run. \n",
    "# Each invocation (call) is completely independent. "
   ]
  },
  {
   "cell_type": "markdown",
   "id": "3ef3a712",
   "metadata": {},
   "source": [
    "### Dynamic lookup"
   ]
  },
  {
   "cell_type": "markdown",
   "id": "1af345a9",
   "metadata": {},
   "source": [
    "1. Lexical scoping determines **where** to look for values, not **when** to look for them.<br>\n",
    "R looks for values when the function is run, not when it's created.<br>\n",
    "This means the output of a function can be different depending on objects outside its environment.\n",
    "2. You generally want to avoid this behavior because it means the function is no longer self-contained. Solutions: <br>\n",
    "(1) List all external dependencies of a function: use `codetools:findGlobals()`<br>\n",
    "(2) Try manually change the environment of the function which contains absolutely nothing: use `emptyenv()`. <br>\n",
    "This doesn't work because R relies on lexical scoping to find everything even the + operator. It's never possible to make a function completely self-contained because you must always on functions defined in base R or other packages. "
   ]
  },
  {
   "cell_type": "code",
   "execution_count": 3,
   "id": "61f8581f",
   "metadata": {},
   "outputs": [
    {
     "data": {
      "text/html": [
       "15"
      ],
      "text/latex": [
       "15"
      ],
      "text/markdown": [
       "15"
      ],
      "text/plain": [
       "[1] 15"
      ]
     },
     "metadata": {},
     "output_type": "display_data"
    },
    {
     "data": {
      "text/html": [
       "20"
      ],
      "text/latex": [
       "20"
      ],
      "text/markdown": [
       "20"
      ],
      "text/plain": [
       "[1] 20"
      ]
     },
     "metadata": {},
     "output_type": "display_data"
    }
   ],
   "source": [
    "# Example 1: behavior you generally want to avoid\n",
    "\n",
    "# define function: f\n",
    "f <- function() x\n",
    "\n",
    "# define variable outside function: x\n",
    "x <- 15\n",
    "f()\n",
    "\n",
    "# define variable outside function: x (new value but same name)\n",
    "x <- 20\n",
    "f()"
   ]
  },
  {
   "cell_type": "code",
   "execution_count": 6,
   "id": "d1bc731f",
   "metadata": {},
   "outputs": [
    {
     "data": {
      "text/html": [
       "<ol class=list-inline>\n",
       "\t<li>'+'</li>\n",
       "\t<li>'x'</li>\n",
       "</ol>\n"
      ],
      "text/latex": [
       "\\begin{enumerate*}\n",
       "\\item '+'\n",
       "\\item 'x'\n",
       "\\end{enumerate*}\n"
      ],
      "text/markdown": [
       "1. '+'\n",
       "2. 'x'\n",
       "\n",
       "\n"
      ],
      "text/plain": [
       "[1] \"+\" \"x\""
      ]
     },
     "metadata": {},
     "output_type": "display_data"
    }
   ],
   "source": [
    "# Example 2: list dependencies of a function\n",
    "\n",
    "f <- function() x + 1\n",
    "codetools::findGlobals(f)"
   ]
  },
  {
   "cell_type": "code",
   "execution_count": 8,
   "id": "7969120e",
   "metadata": {},
   "outputs": [
    {
     "ename": "ERROR",
     "evalue": "Error in x + 1: could not find function \"+\"\n",
     "output_type": "error",
     "traceback": [
      "Error in x + 1: could not find function \"+\"\nTraceback:\n",
      "1. f()"
     ]
    }
   ],
   "source": [
    "# Example 3: change function environment that contain nothing: \n",
    "# This of course won't work. \n",
    "environment(f) <- emptyenv()\n",
    "f()"
   ]
  },
  {
   "cell_type": "markdown",
   "id": "a06f893e",
   "metadata": {},
   "source": [
    "## Every operation is a function call"
   ]
  },
  {
   "cell_type": "markdown",
   "id": "ade4b415",
   "metadata": {},
   "source": [
    "1. To understand computations in R, two slogans to remember: <br>\n",
    "(1) Everything that exists in an object.<br>\n",
    "(2) Everything that happens is a function call.\n",
    "2. Every operation in R is a function call, whether or not it looks like one.<br>\n",
    "For example: you can name a function with `(`<br>\n",
    "This includes infix operators like `+`, control flow operators like `for`, `if`, `while`, subsetting operators like `[ ]` and `$`, even curly brace `{`. <br>\n",
    "This means that each pair of statements in Example 1-5 is equivalent. <br>\n",
    "Note that backtick `` lets you refer to functions or variables that have otherwise reserved or illegal names.\n",
    "3. When to override the definitions of these special functions: you want to do something that would have otherwise been impossible.<br>\n",
    "For example, this feature makes it possible for `dplyr` to translate R expressions into SQL expressions.\n",
    "4. It's more often useful to treat special functions as ordinary functions. See Example 6-7."
   ]
  },
  {
   "cell_type": "code",
   "execution_count": 14,
   "id": "03b050aa",
   "metadata": {},
   "outputs": [
    {
     "data": {
      "text/html": [
       "15"
      ],
      "text/latex": [
       "15"
      ],
      "text/markdown": [
       "15"
      ],
      "text/plain": [
       "[1] 15"
      ]
     },
     "metadata": {},
     "output_type": "display_data"
    },
    {
     "data": {
      "text/html": [
       "15"
      ],
      "text/latex": [
       "15"
      ],
      "text/markdown": [
       "15"
      ],
      "text/plain": [
       "[1] 15"
      ]
     },
     "metadata": {},
     "output_type": "display_data"
    }
   ],
   "source": [
    "# Example 1: sum 2 variables\n",
    "\n",
    "# define variables: x, y\n",
    "x <- 10; y <- 5\n",
    "\n",
    "# method 1: \n",
    "x + y\n",
    "\n",
    "# method 2:\n",
    "`+`(x, y)"
   ]
  },
  {
   "cell_type": "code",
   "execution_count": 11,
   "id": "3fabd026",
   "metadata": {},
   "outputs": [
    {
     "name": "stdout",
     "output_type": "stream",
     "text": [
      "[1] 1\n",
      "[1] 2\n",
      "[1] 1\n",
      "[1] 2\n"
     ]
    }
   ],
   "source": [
    "# Example 2: print a vector\n",
    "\n",
    "# method 1: \n",
    "for (i in 1:2) print(i)\n",
    "\n",
    "# method 2:\n",
    "`for`(i, 1:2, print(i))"
   ]
  },
  {
   "cell_type": "code",
   "execution_count": 20,
   "id": "5e6a60f7",
   "metadata": {},
   "outputs": [
    {
     "name": "stdout",
     "output_type": "stream",
     "text": [
      "[1] \"No!\"\n",
      "[1] \"No!\"\n"
     ]
    }
   ],
   "source": [
    "# Example 3: print key based on a value \n",
    "\n",
    "# method 1: \n",
    "if (i == 1) print(\"Yes!\") else print(\"No!\") \n",
    "\n",
    "# method 2:\n",
    "`if` (i == 1, print(\"Yes!\"), print(\"No!\"))"
   ]
  },
  {
   "cell_type": "code",
   "execution_count": 22,
   "id": "c7e214c6",
   "metadata": {},
   "outputs": [
    {
     "data": {
      "text/html": [
       "&lt;NA&gt;"
      ],
      "text/latex": [
       "<NA>"
      ],
      "text/markdown": [
       "&lt;NA&gt;"
      ],
      "text/plain": [
       "[1] NA"
      ]
     },
     "metadata": {},
     "output_type": "display_data"
    },
    {
     "data": {
      "text/html": [
       "&lt;NA&gt;"
      ],
      "text/latex": [
       "<NA>"
      ],
      "text/markdown": [
       "&lt;NA&gt;"
      ],
      "text/plain": [
       "[1] NA"
      ]
     },
     "metadata": {},
     "output_type": "display_data"
    }
   ],
   "source": [
    "# Example 4: subset a vector \n",
    "\n",
    "# define vector: x\n",
    "x <- 10\n",
    "\n",
    "# method 1: \n",
    "x[3]\n",
    "\n",
    "# method 2:\n",
    "`[`(x, 3)"
   ]
  },
  {
   "cell_type": "code",
   "execution_count": 26,
   "id": "31c3fe41",
   "metadata": {},
   "outputs": [
    {
     "name": "stdout",
     "output_type": "stream",
     "text": [
      "[1] 1\n",
      "[1] 2\n",
      "[1] 3\n",
      "[1] 1\n",
      "[1] 2\n",
      "[1] 3\n"
     ]
    }
   ],
   "source": [
    "# Example 5: print 1-3\n",
    "\n",
    "# method 1: \n",
    "{ print(1); print(2); print(3) }\n",
    "\n",
    "# method 2:\n",
    "`{` (print(1), print(2), print(3))"
   ]
  },
  {
   "cell_type": "code",
   "execution_count": 30,
   "id": "3d2b51fb",
   "metadata": {},
   "outputs": [
    {
     "data": {
      "text/html": [
       "<ol class=list-inline>\n",
       "\t<li>4</li>\n",
       "\t<li>5</li>\n",
       "\t<li>6</li>\n",
       "\t<li>7</li>\n",
       "\t<li>8</li>\n",
       "\t<li>9</li>\n",
       "\t<li>10</li>\n",
       "\t<li>11</li>\n",
       "\t<li>12</li>\n",
       "\t<li>13</li>\n",
       "</ol>\n"
      ],
      "text/latex": [
       "\\begin{enumerate*}\n",
       "\\item 4\n",
       "\\item 5\n",
       "\\item 6\n",
       "\\item 7\n",
       "\\item 8\n",
       "\\item 9\n",
       "\\item 10\n",
       "\\item 11\n",
       "\\item 12\n",
       "\\item 13\n",
       "\\end{enumerate*}\n"
      ],
      "text/markdown": [
       "1. 4\n",
       "2. 5\n",
       "3. 6\n",
       "4. 7\n",
       "5. 8\n",
       "6. 9\n",
       "7. 10\n",
       "8. 11\n",
       "9. 12\n",
       "10. 13\n",
       "\n",
       "\n"
      ],
      "text/plain": [
       " [1]  4  5  6  7  8  9 10 11 12 13"
      ]
     },
     "metadata": {},
     "output_type": "display_data"
    },
    {
     "data": {
      "text/html": [
       "<ol class=list-inline>\n",
       "\t<li>4</li>\n",
       "\t<li>5</li>\n",
       "\t<li>6</li>\n",
       "\t<li>7</li>\n",
       "\t<li>8</li>\n",
       "\t<li>9</li>\n",
       "\t<li>10</li>\n",
       "\t<li>11</li>\n",
       "\t<li>12</li>\n",
       "\t<li>13</li>\n",
       "</ol>\n"
      ],
      "text/latex": [
       "\\begin{enumerate*}\n",
       "\\item 4\n",
       "\\item 5\n",
       "\\item 6\n",
       "\\item 7\n",
       "\\item 8\n",
       "\\item 9\n",
       "\\item 10\n",
       "\\item 11\n",
       "\\item 12\n",
       "\\item 13\n",
       "\\end{enumerate*}\n"
      ],
      "text/markdown": [
       "1. 4\n",
       "2. 5\n",
       "3. 6\n",
       "4. 7\n",
       "5. 8\n",
       "6. 9\n",
       "7. 10\n",
       "8. 11\n",
       "9. 12\n",
       "10. 13\n",
       "\n",
       "\n"
      ],
      "text/plain": [
       " [1]  4  5  6  7  8  9 10 11 12 13"
      ]
     },
     "metadata": {},
     "output_type": "display_data"
    },
    {
     "data": {
      "text/html": [
       "<ol class=list-inline>\n",
       "\t<li>4</li>\n",
       "\t<li>5</li>\n",
       "\t<li>6</li>\n",
       "\t<li>7</li>\n",
       "\t<li>8</li>\n",
       "\t<li>9</li>\n",
       "\t<li>10</li>\n",
       "\t<li>11</li>\n",
       "\t<li>12</li>\n",
       "\t<li>13</li>\n",
       "</ol>\n"
      ],
      "text/latex": [
       "\\begin{enumerate*}\n",
       "\\item 4\n",
       "\\item 5\n",
       "\\item 6\n",
       "\\item 7\n",
       "\\item 8\n",
       "\\item 9\n",
       "\\item 10\n",
       "\\item 11\n",
       "\\item 12\n",
       "\\item 13\n",
       "\\end{enumerate*}\n"
      ],
      "text/markdown": [
       "1. 4\n",
       "2. 5\n",
       "3. 6\n",
       "4. 7\n",
       "5. 8\n",
       "6. 9\n",
       "7. 10\n",
       "8. 11\n",
       "9. 12\n",
       "10. 13\n",
       "\n",
       "\n"
      ],
      "text/plain": [
       " [1]  4  5  6  7  8  9 10 11 12 13"
      ]
     },
     "metadata": {},
     "output_type": "display_data"
    }
   ],
   "source": [
    "# Example 6: sapply() function\n",
    "\n",
    "# Method 1\n",
    "# define function: add \n",
    "add <- function(x, y) x + y\n",
    "sapply(1:10, add, 3)\n",
    "\n",
    "# Method 2\n",
    "sapply(1:10, `+`, 3)\n",
    "\n",
    "# Method 3\n",
    "sapply(1:10, \"+\", 3)\n",
    "\n",
    "# Note: \n",
    "# `+` calls the value of the object +\n",
    "# \"+\" is a string containing the character + \n",
    "# the 2nd version works because sapply can be given the name of a function \n",
    "# instead of the function itself"
   ]
  },
  {
   "cell_type": "code",
   "execution_count": 31,
   "id": "07df459f",
   "metadata": {},
   "outputs": [
    {
     "data": {
      "text/html": [
       "<ol class=list-inline>\n",
       "\t<li>2</li>\n",
       "\t<li>5</li>\n",
       "\t<li>11</li>\n",
       "</ol>\n"
      ],
      "text/latex": [
       "\\begin{enumerate*}\n",
       "\\item 2\n",
       "\\item 5\n",
       "\\item 11\n",
       "\\end{enumerate*}\n"
      ],
      "text/markdown": [
       "1. 2\n",
       "2. 5\n",
       "3. 11\n",
       "\n",
       "\n"
      ],
      "text/plain": [
       "[1]  2  5 11"
      ]
     },
     "metadata": {},
     "output_type": "display_data"
    },
    {
     "data": {
      "text/html": [
       "<ol class=list-inline>\n",
       "\t<li>2</li>\n",
       "\t<li>5</li>\n",
       "\t<li>11</li>\n",
       "</ol>\n"
      ],
      "text/latex": [
       "\\begin{enumerate*}\n",
       "\\item 2\n",
       "\\item 5\n",
       "\\item 11\n",
       "\\end{enumerate*}\n"
      ],
      "text/markdown": [
       "1. 2\n",
       "2. 5\n",
       "3. 11\n",
       "\n",
       "\n"
      ],
      "text/plain": [
       "[1]  2  5 11"
      ]
     },
     "metadata": {},
     "output_type": "display_data"
    }
   ],
   "source": [
    "# Example 7: combine lappy(), sapply() with subsetting\n",
    "\n",
    "# define list: x\n",
    "x <- list(1:3, 4:9, 10:12)\n",
    "\n",
    "# extract 2nd element of each vector in the list x\n",
    "\n",
    "# Method 1\n",
    "sapply(x, \"[\", 2)\n",
    "\n",
    "# Method 2\n",
    "sapply(x, function(x) x[2])\n"
   ]
  },
  {
   "cell_type": "markdown",
   "id": "ad46330d",
   "metadata": {},
   "source": [
    "## Function arguments"
   ]
  },
  {
   "cell_type": "markdown",
   "id": "c184ab5d",
   "metadata": {},
   "source": [
    "1. **Formal arguments**: are a property of the function.<br>\n",
    "Function is formally defined, but not called yet.\n",
    "2. **Actual arguments** (calling arguments): can vary each time you call the function.<br>\n",
    "After a function is formally defined, it be called in many different ways. "
   ]
  },
  {
   "cell_type": "markdown",
   "id": "60846aec",
   "metadata": {},
   "source": [
    "### Calling functions"
   ]
  },
  {
   "cell_type": "markdown",
   "id": "b035f445",
   "metadata": {},
   "source": [
    "1. When calling a function, you can specify arguments in many ways. <br>\n",
    "Arguments are matched by these orders: <br>\n",
    "(1) exact name (perfect matching)<br>\n",
    "(2) prefix matching <br>\n",
    "(3) position\n",
    "2. Generally, you only want to use positional matching for the first one or two arguments. <br>\n",
    "3. Avoid using positional matching for less commonly used arguments, and only use readable abbreviations with partial matching. <br>\n",
    "4. Named arguments should always come after unnamed arguments. <br> \n",
    "If a function uses (...) you can only specify arguments listed after (...) with their full name. "
   ]
  },
  {
   "cell_type": "code",
   "execution_count": 14,
   "id": "2ae7465d",
   "metadata": {},
   "outputs": [
    {
     "name": "stdout",
     "output_type": "stream",
     "text": [
      "List of 3\n",
      " $ a : num 1\n",
      " $ b1: num 2\n",
      " $ b2: num 3\n",
      "List of 3\n",
      " $ a : num 1\n",
      " $ b1: num 2\n",
      " $ b2: num 3\n",
      "List of 3\n",
      " $ a : num 1\n",
      " $ b1: num 2\n",
      " $ b2: num 3\n"
     ]
    }
   ],
   "source": [
    "# Example 1: \n",
    "\n",
    "# define function: f\n",
    "# long names: abcdef, bcde1, bcde2\n",
    "# short names: a, b1, b2\n",
    "f <- function(abcdef, bcde1, bcde2) {\n",
    "    list(a = abcdef, b1 = bcde1, b2 = bcde2)\n",
    "}\n",
    "\n",
    "# method 1: position matching\n",
    "str(f(1, 2, 3))\n",
    "\n",
    "# method 2: long name matching\n",
    "str(f(2, 3, abcdef = 1))\n",
    "\n",
    "# method 3: short name matching\n",
    "str(f(2, 3, a = 1))"
   ]
  },
  {
   "cell_type": "code",
   "execution_count": 22,
   "id": "c975bf02",
   "metadata": {},
   "outputs": [
    {
     "ename": "ERROR",
     "evalue": "Error in f(2, 3, b = 1): argument 3 matches multiple formal arguments\n",
     "output_type": "error",
     "traceback": [
      "Error in f(2, 3, b = 1): argument 3 matches multiple formal arguments\nTraceback:\n",
      "1. str(f(2, 3, b = 1))"
     ]
    }
   ],
   "source": [
    "# this doesn't work since can't find a short name match in function\n",
    "str(f(2, 3, b = 1))"
   ]
  },
  {
   "cell_type": "code",
   "execution_count": 5,
   "id": "31e30e49",
   "metadata": {},
   "outputs": [
    {
     "data": {
      "text/html": [
       "5.5"
      ],
      "text/latex": [
       "5.5"
      ],
      "text/markdown": [
       "5.5"
      ],
      "text/plain": [
       "[1] 5.5"
      ]
     },
     "metadata": {},
     "output_type": "display_data"
    },
    {
     "data": {
      "text/html": [
       "5.5"
      ],
      "text/latex": [
       "5.5"
      ],
      "text/markdown": [
       "5.5"
      ],
      "text/plain": [
       "[1] 5.5"
      ]
     },
     "metadata": {},
     "output_type": "display_data"
    }
   ],
   "source": [
    "# Example 2: calling function - good example \n",
    "\n",
    "mean(1:10)\n",
    "mean(1:10, trim = 0.05)"
   ]
  },
  {
   "cell_type": "code",
   "execution_count": 6,
   "id": "dc0244e6",
   "metadata": {},
   "outputs": [
    {
     "data": {
      "text/html": [
       "5.5"
      ],
      "text/latex": [
       "5.5"
      ],
      "text/markdown": [
       "5.5"
      ],
      "text/plain": [
       "[1] 5.5"
      ]
     },
     "metadata": {},
     "output_type": "display_data"
    }
   ],
   "source": [
    "# Example 3: calling fucntion - ovekill, not very good \n",
    "\n",
    "mean(x = 1:10)"
   ]
  },
  {
   "cell_type": "code",
   "execution_count": 10,
   "id": "d7febed4",
   "metadata": {},
   "outputs": [],
   "source": [
    "# Example 4: calling function - confusing, bad example \n",
    "\n",
    "mean(1:10, n = T)\n",
    "mean(1:10, FALSE)\n",
    "mean(1:10, 0.05)\n",
    "mean(, TRUE, x = c(1:10, NA))"
   ]
  },
  {
   "cell_type": "markdown",
   "id": "9e641cdf",
   "metadata": {},
   "source": [
    "### Calling a function given a list of arguments"
   ]
  },
  {
   "cell_type": "markdown",
   "id": "885f360c",
   "metadata": {},
   "source": [
    "1. If you have a list of function arguments, use `do.call()`."
   ]
  },
  {
   "cell_type": "code",
   "execution_count": 12,
   "id": "c538fe35",
   "metadata": {},
   "outputs": [
    {
     "data": {
      "text/html": [
       "5.5"
      ],
      "text/latex": [
       "5.5"
      ],
      "text/markdown": [
       "5.5"
      ],
      "text/plain": [
       "[1] 5.5"
      ]
     },
     "metadata": {},
     "output_type": "display_data"
    },
    {
     "data": {
      "text/html": [
       "5.5"
      ],
      "text/latex": [
       "5.5"
      ],
      "text/markdown": [
       "5.5"
      ],
      "text/plain": [
       "[1] 5.5"
      ]
     },
     "metadata": {},
     "output_type": "display_data"
    }
   ],
   "source": [
    "# Example 1: \n",
    "\n",
    "# suppse have: a list of function arguments\n",
    "args <- list(1:10, na.rm = TRUE)\n",
    "\n",
    "# To send this list to mean()\n",
    "\n",
    "# method 1: use do.call()\n",
    "do.call(mean, list(1:10, na.rm = TRUE))\n",
    "\n",
    "# method 2: \n",
    "mean(1:10, na.rm = TRUE)"
   ]
  },
  {
   "cell_type": "markdown",
   "id": "8a3e1ea9",
   "metadata": {},
   "source": [
    "### Default and missing arguments"
   ]
  },
  {
   "cell_type": "markdown",
   "id": "10ab0080",
   "metadata": {},
   "source": [
    "1. Function arguments in R can have default values. \n",
    "2. Since arguments in R are evaluated lazily, the default value can be defined in terms of other arguments.<br>\n",
    "Default arguments can even be defined in terms of variables created within the function. Generally avoid this. \n",
    "3. You can determine if an argument was supplied or not with `missing()` function. <br> Instead of inserting that code in the function definition, you could use `missing()` function. But this makes it hard to know which arguments are required / optional without carefully reading documentation. <br>\n",
    "A better way: set default value to $NULL$ and use `is.null()` to check if the argument was supplied. \n"
   ]
  },
  {
   "cell_type": "code",
   "execution_count": 13,
   "id": "7b401e94",
   "metadata": {},
   "outputs": [
    {
     "data": {
      "text/html": [
       "<ol class=list-inline>\n",
       "\t<li>1</li>\n",
       "\t<li>2</li>\n",
       "</ol>\n"
      ],
      "text/latex": [
       "\\begin{enumerate*}\n",
       "\\item 1\n",
       "\\item 2\n",
       "\\end{enumerate*}\n"
      ],
      "text/markdown": [
       "1. 1\n",
       "2. 2\n",
       "\n",
       "\n"
      ],
      "text/plain": [
       "[1] 1 2"
      ]
     },
     "metadata": {},
     "output_type": "display_data"
    }
   ],
   "source": [
    "# Example 1: \n",
    "\n",
    "# define function\n",
    "f <- function(a = 1, b = 2) {\n",
    "    c(a, b)\n",
    "}\n",
    "\n",
    "# call function\n",
    "f()"
   ]
  },
  {
   "cell_type": "code",
   "execution_count": 14,
   "id": "b8e31dc0",
   "metadata": {},
   "outputs": [
    {
     "data": {
      "text/html": [
       "<ol class=list-inline>\n",
       "\t<li>1</li>\n",
       "\t<li>2</li>\n",
       "</ol>\n"
      ],
      "text/latex": [
       "\\begin{enumerate*}\n",
       "\\item 1\n",
       "\\item 2\n",
       "\\end{enumerate*}\n"
      ],
      "text/markdown": [
       "1. 1\n",
       "2. 2\n",
       "\n",
       "\n"
      ],
      "text/plain": [
       "[1] 1 2"
      ]
     },
     "metadata": {},
     "output_type": "display_data"
    },
    {
     "data": {
      "text/html": [
       "<ol class=list-inline>\n",
       "\t<li>10</li>\n",
       "\t<li>20</li>\n",
       "</ol>\n"
      ],
      "text/latex": [
       "\\begin{enumerate*}\n",
       "\\item 10\n",
       "\\item 20\n",
       "\\end{enumerate*}\n"
      ],
      "text/markdown": [
       "1. 10\n",
       "2. 20\n",
       "\n",
       "\n"
      ],
      "text/plain": [
       "[1] 10 20"
      ]
     },
     "metadata": {},
     "output_type": "display_data"
    }
   ],
   "source": [
    "# Example 2: generally avoid this\n",
    "\n",
    "# define function\n",
    "g <- function(a = 1, b = a * 2) {\n",
    "    c(a, b)\n",
    "}\n",
    "\n",
    "# call function\n",
    "g()\n",
    "g(10)"
   ]
  },
  {
   "cell_type": "code",
   "execution_count": 17,
   "id": "dec36389",
   "metadata": {},
   "outputs": [
    {
     "data": {
      "text/html": [
       "<ol class=list-inline>\n",
       "\t<li>1</li>\n",
       "\t<li>4</li>\n",
       "</ol>\n"
      ],
      "text/latex": [
       "\\begin{enumerate*}\n",
       "\\item 1\n",
       "\\item 4\n",
       "\\end{enumerate*}\n"
      ],
      "text/markdown": [
       "1. 1\n",
       "2. 4\n",
       "\n",
       "\n"
      ],
      "text/plain": [
       "[1] 1 4"
      ]
     },
     "metadata": {},
     "output_type": "display_data"
    },
    {
     "data": {
      "text/html": [
       "<ol class=list-inline>\n",
       "\t<li>10</li>\n",
       "\t<li>121</li>\n",
       "</ol>\n"
      ],
      "text/latex": [
       "\\begin{enumerate*}\n",
       "\\item 10\n",
       "\\item 121\n",
       "\\end{enumerate*}\n"
      ],
      "text/markdown": [
       "1. 10\n",
       "2. 121\n",
       "\n",
       "\n"
      ],
      "text/plain": [
       "[1]  10 121"
      ]
     },
     "metadata": {},
     "output_type": "display_data"
    }
   ],
   "source": [
    "# Example 3: generally avoid this \n",
    "\n",
    "# define function \n",
    "h <- function(a = 1, b = d) {\n",
    "    d <- (a + 1) ^ 2\n",
    "    c(a, b)\n",
    "}\n",
    "\n",
    "# call function \n",
    "h()\n",
    "h(10)"
   ]
  },
  {
   "cell_type": "code",
   "execution_count": 25,
   "id": "cd9afd39",
   "metadata": {},
   "outputs": [
    {
     "data": {
      "text/html": [
       "<ol class=list-inline>\n",
       "\t<li>TRUE</li>\n",
       "\t<li>TRUE</li>\n",
       "</ol>\n"
      ],
      "text/latex": [
       "\\begin{enumerate*}\n",
       "\\item TRUE\n",
       "\\item TRUE\n",
       "\\end{enumerate*}\n"
      ],
      "text/markdown": [
       "1. TRUE\n",
       "2. TRUE\n",
       "\n",
       "\n"
      ],
      "text/plain": [
       "[1] TRUE TRUE"
      ]
     },
     "metadata": {},
     "output_type": "display_data"
    },
    {
     "data": {
      "text/html": [
       "<ol class=list-inline>\n",
       "\t<li>FALSE</li>\n",
       "\t<li>TRUE</li>\n",
       "</ol>\n"
      ],
      "text/latex": [
       "\\begin{enumerate*}\n",
       "\\item FALSE\n",
       "\\item TRUE\n",
       "\\end{enumerate*}\n"
      ],
      "text/markdown": [
       "1. FALSE\n",
       "2. TRUE\n",
       "\n",
       "\n"
      ],
      "text/plain": [
       "[1] FALSE  TRUE"
      ]
     },
     "metadata": {},
     "output_type": "display_data"
    },
    {
     "data": {
      "text/html": [
       "<ol class=list-inline>\n",
       "\t<li>TRUE</li>\n",
       "\t<li>FALSE</li>\n",
       "</ol>\n"
      ],
      "text/latex": [
       "\\begin{enumerate*}\n",
       "\\item TRUE\n",
       "\\item FALSE\n",
       "\\end{enumerate*}\n"
      ],
      "text/markdown": [
       "1. TRUE\n",
       "2. FALSE\n",
       "\n",
       "\n"
      ],
      "text/plain": [
       "[1]  TRUE FALSE"
      ]
     },
     "metadata": {},
     "output_type": "display_data"
    },
    {
     "data": {
      "text/html": [
       "<ol class=list-inline>\n",
       "\t<li>FALSE</li>\n",
       "\t<li>FALSE</li>\n",
       "</ol>\n"
      ],
      "text/latex": [
       "\\begin{enumerate*}\n",
       "\\item FALSE\n",
       "\\item FALSE\n",
       "\\end{enumerate*}\n"
      ],
      "text/markdown": [
       "1. FALSE\n",
       "2. FALSE\n",
       "\n",
       "\n"
      ],
      "text/plain": [
       "[1] FALSE FALSE"
      ]
     },
     "metadata": {},
     "output_type": "display_data"
    }
   ],
   "source": [
    "# Example 4: \n",
    "\n",
    "# define function: \n",
    "i <- function(a, b) {\n",
    "    c(missing(a), missing(b))\n",
    "}\n",
    "\n",
    "# call function\n",
    "i()\n",
    "\n",
    "# call function: a is supplied\n",
    "i(a = 1)\n",
    "\n",
    "# call function: b is supplied\n",
    "i(b = 2)\n",
    "\n",
    "# call function: a, b are supplied\n",
    "i(a = 1, b = 2)"
   ]
  },
  {
   "cell_type": "markdown",
   "id": "a19ccb8f",
   "metadata": {},
   "source": [
    "### Lazy evaluation"
   ]
  },
  {
   "cell_type": "markdown",
   "id": "4fe12099",
   "metadata": {},
   "source": [
    "1. By default, R function arguments are lazy: they're only evaluated if they're actually being used. See example 1.\n",
    "2. If you want to ensure that an argument is evaluation, use `force()`. See example 2. \n",
    "3. Using `force()` important when creating closures with `lapply()` or a loop. See example 3 method 1: this doesn't work if not add force(). (R might have fixed this issue.)\n",
    "4. In example 3 method 1, x is lazily evaluated the first time that you call one of the adder functions. At this point, the loop is complete and the final value of x is 10. You can manually force evaluation. See example 3 method 2.\n",
    "5. Example 3 method 3 works because the force function is defined as `force <- function(x) x`. \n",
    "6. Default arguments are evaluated inside the function. This means if the expression depends on the current environment the results will differ depending on whether you use the default value or explicitly provide one. See example 4. \n",
    "7. An unevaluated argument is called **promise** (or **thunk**). A promise is made up of 2 parts: <br>\n",
    "(1) The expression: which gives rise to delayed computation. <br>\n",
    "(2) The environment: where the expression was created and where it should be evaluated.\n",
    "8. Laziness is useful in **if** statement - the 2nd statement in example 5 will be evaluated only if the first is true. If it wasn't, the statement would return an error because $NULL > 0$ is a logical vector of length 0 and not a valid input to **if**.\n",
    "9. Sometimes you can use laziness to eliminate an **if** statement altogether. "
   ]
  },
  {
   "cell_type": "code",
   "execution_count": 26,
   "id": "2e252a5b",
   "metadata": {},
   "outputs": [
    {
     "data": {
      "text/html": [
       "10"
      ],
      "text/latex": [
       "10"
      ],
      "text/markdown": [
       "10"
      ],
      "text/plain": [
       "[1] 10"
      ]
     },
     "metadata": {},
     "output_type": "display_data"
    }
   ],
   "source": [
    "# Example 1\n",
    "\n",
    "# define function\n",
    "f <- function(x) {\n",
    "    10\n",
    "}\n",
    "\n",
    "# call function\n",
    "f(stop(\"This is an error!\"))"
   ]
  },
  {
   "cell_type": "code",
   "execution_count": 28,
   "id": "24186d7e",
   "metadata": {},
   "outputs": [
    {
     "ename": "ERROR",
     "evalue": "Error in force(x): This is an error!\n",
     "output_type": "error",
     "traceback": [
      "Error in force(x): This is an error!\nTraceback:\n",
      "1. f(stop(\"This is an error!\"))",
      "2. force(x)   # at line 5 of file <text>",
      "3. stop(\"This is an error!\")"
     ]
    }
   ],
   "source": [
    "# Example 2\n",
    "\n",
    "# define function\n",
    "f <- function(x) {\n",
    "    force(x)\n",
    "    10\n",
    "}\n",
    "\n",
    "# call function\n",
    "f(stop(\"This is an error!\"))"
   ]
  },
  {
   "cell_type": "code",
   "execution_count": 35,
   "id": "ff137765",
   "metadata": {},
   "outputs": [
    {
     "data": {
      "text/html": [
       "11"
      ],
      "text/latex": [
       "11"
      ],
      "text/markdown": [
       "11"
      ],
      "text/plain": [
       "[1] 11"
      ]
     },
     "metadata": {},
     "output_type": "display_data"
    },
    {
     "data": {
      "text/html": [
       "20"
      ],
      "text/latex": [
       "20"
      ],
      "text/markdown": [
       "20"
      ],
      "text/plain": [
       "[1] 20"
      ]
     },
     "metadata": {},
     "output_type": "display_data"
    },
    {
     "data": {
      "text/html": [
       "11"
      ],
      "text/latex": [
       "11"
      ],
      "text/markdown": [
       "11"
      ],
      "text/plain": [
       "[1] 11"
      ]
     },
     "metadata": {},
     "output_type": "display_data"
    },
    {
     "data": {
      "text/html": [
       "20"
      ],
      "text/latex": [
       "20"
      ],
      "text/markdown": [
       "20"
      ],
      "text/plain": [
       "[1] 20"
      ]
     },
     "metadata": {},
     "output_type": "display_data"
    },
    {
     "data": {
      "text/html": [
       "11"
      ],
      "text/latex": [
       "11"
      ],
      "text/markdown": [
       "11"
      ],
      "text/plain": [
       "[1] 11"
      ]
     },
     "metadata": {},
     "output_type": "display_data"
    },
    {
     "data": {
      "text/html": [
       "20"
      ],
      "text/latex": [
       "20"
      ],
      "text/markdown": [
       "20"
      ],
      "text/plain": [
       "[1] 20"
      ]
     },
     "metadata": {},
     "output_type": "display_data"
    }
   ],
   "source": [
    "# Example 3:  \n",
    "\n",
    "# Method 1: not use force()\n",
    "# It works now maybe R fixed the issue, contrary to the book.\n",
    "\n",
    "# define function \n",
    "add <- function(x) {\n",
    "    function(y) x + y\n",
    "}\n",
    "\n",
    "# lapply \n",
    "adders <- lapply(1:10, add)\n",
    "\n",
    "# call function: extract first element \"1\" then add by 10\n",
    "adders[[1]](10)\n",
    "\n",
    "# call function: extract last element \"10\" then add by 10\n",
    "adders[[10]](10)\n",
    "\n",
    "# Method 2: use force()\n",
    "\n",
    "# define function \n",
    "add2 <- function(x) {\n",
    "    force(x)\n",
    "    function(y) x + y\n",
    "}\n",
    "\n",
    "# lappy\n",
    "adders2 <- lapply(1:10, add2)\n",
    "\n",
    "# call function: extract first element \"1\" then add by 10\n",
    "adders2[[1]](10)\n",
    "\n",
    "# call function: extract last element \"10\" then add by 10\n",
    "adders2[[10]](10)\n",
    "\n",
    "# Method 3: \n",
    "\n",
    "# define function \n",
    "add3 <- function(x) {\n",
    "    x\n",
    "    function(y) x + y\n",
    "}\n",
    "\n",
    "# lappy\n",
    "adders3 <- lapply(1:10, add3)\n",
    "\n",
    "# call function: extract first element \"1\" then add by 10\n",
    "adders3[[1]](10)\n",
    "\n",
    "# call function: extract last element \"10\" then add by 10\n",
    "adders3[[10]](10)\n"
   ]
  },
  {
   "cell_type": "code",
   "execution_count": 37,
   "id": "7094436c",
   "metadata": {},
   "outputs": [
    {
     "data": {
      "text/html": [
       "<ol class=list-inline>\n",
       "\t<li>'a'</li>\n",
       "\t<li>'x'</li>\n",
       "</ol>\n"
      ],
      "text/latex": [
       "\\begin{enumerate*}\n",
       "\\item 'a'\n",
       "\\item 'x'\n",
       "\\end{enumerate*}\n"
      ],
      "text/markdown": [
       "1. 'a'\n",
       "2. 'x'\n",
       "\n",
       "\n"
      ],
      "text/plain": [
       "[1] \"a\" \"x\""
      ]
     },
     "metadata": {},
     "output_type": "display_data"
    },
    {
     "data": {
      "text/html": [
       "<ol class=list-inline>\n",
       "\t<li>'add'</li>\n",
       "\t<li>'add2'</li>\n",
       "\t<li>'add3'</li>\n",
       "\t<li>'adders'</li>\n",
       "\t<li>'adders2'</li>\n",
       "\t<li>'adders3'</li>\n",
       "\t<li>'args'</li>\n",
       "\t<li>'f'</li>\n",
       "\t<li>'g'</li>\n",
       "\t<li>'h'</li>\n",
       "\t<li>'i'</li>\n",
       "</ol>\n"
      ],
      "text/latex": [
       "\\begin{enumerate*}\n",
       "\\item 'add'\n",
       "\\item 'add2'\n",
       "\\item 'add3'\n",
       "\\item 'adders'\n",
       "\\item 'adders2'\n",
       "\\item 'adders3'\n",
       "\\item 'args'\n",
       "\\item 'f'\n",
       "\\item 'g'\n",
       "\\item 'h'\n",
       "\\item 'i'\n",
       "\\end{enumerate*}\n"
      ],
      "text/markdown": [
       "1. 'add'\n",
       "2. 'add2'\n",
       "3. 'add3'\n",
       "4. 'adders'\n",
       "5. 'adders2'\n",
       "6. 'adders3'\n",
       "7. 'args'\n",
       "8. 'f'\n",
       "9. 'g'\n",
       "10. 'h'\n",
       "11. 'i'\n",
       "\n",
       "\n"
      ],
      "text/plain": [
       " [1] \"add\"     \"add2\"    \"add3\"    \"adders\"  \"adders2\" \"adders3\" \"args\"   \n",
       " [8] \"f\"       \"g\"       \"h\"       \"i\"      "
      ]
     },
     "metadata": {},
     "output_type": "display_data"
    }
   ],
   "source": [
    "# Example 4: \n",
    "\n",
    "# define function\n",
    "f <- function(x = ls()) {\n",
    "    a <- 1\n",
    "    x\n",
    "}\n",
    "\n",
    "# call function: \n",
    "# ls() is evaluated inside the f function\n",
    "f()\n",
    "\n",
    "# call function: \n",
    "# ls() is evaluated in a global environment\n",
    "f(ls())"
   ]
  },
  {
   "cell_type": "code",
   "execution_count": 39,
   "id": "5b9410db",
   "metadata": {},
   "outputs": [],
   "source": [
    "# Example 5: if statement will be evaluated only if x is not NULL\n",
    "\n",
    "# define: x\n",
    "x <- NULL\n",
    "\n",
    "# if statement\n",
    "# \n",
    "if (!is.null(x) && x > 0) {\n",
    "}"
   ]
  },
  {
   "cell_type": "code",
   "execution_count": 48,
   "id": "fb6b40f6",
   "metadata": {},
   "outputs": [
    {
     "data": {
      "text/html": [
       "FALSE"
      ],
      "text/latex": [
       "FALSE"
      ],
      "text/markdown": [
       "FALSE"
      ],
      "text/plain": [
       "[1] FALSE"
      ]
     },
     "metadata": {},
     "output_type": "display_data"
    }
   ],
   "source": [
    "# Example 6: \n",
    "\n",
    "# define function\n",
    "`&&` <- function(x, y) {\n",
    "    if (!x) return(FALSE)\n",
    "    if (!y) return(FALSE)\n",
    "    \n",
    "    TRUE\n",
    "}\n",
    "\n",
    "# define: a\n",
    "a <- NULL\n",
    "\n",
    "# call function\n",
    "# This function would not work without lazy evaluation.\n",
    "# because both x and y would always be evaluated, \n",
    "# testing a > 0 even when a was NULL\n",
    "!is.null(a) && a > 0"
   ]
  },
  {
   "cell_type": "code",
   "execution_count": 49,
   "id": "1bebbcbd",
   "metadata": {},
   "outputs": [
    {
     "ename": "ERROR",
     "evalue": "Error in eval(expr, envir, enclos): a is null\n",
     "output_type": "error",
     "traceback": [
      "Error in eval(expr, envir, enclos): a is null\nTraceback:\n",
      "1. stop(\"a is null\")"
     ]
    }
   ],
   "source": [
    "# Example 7: this example gives stops error since a is NULL\n",
    "\n",
    "# method 1: with if statement\n",
    "if (is.null(a)) stop(\"a is null\")\n",
    "\n",
    "# method 2: without if statement\n",
    "!is.null(a) || stop(\"a is null\")"
   ]
  },
  {
   "cell_type": "markdown",
   "id": "f70244de",
   "metadata": {},
   "source": [
    "### Special argument (...)"
   ]
  },
  {
   "cell_type": "markdown",
   "id": "81752243",
   "metadata": {},
   "source": [
    "1. ... argument will match any arguments not otherwise matched, and can be easily passed on to other functions. <br>\n",
    "This is useful if you want to collect arguments to call another function, but you don't want to specify their possible names.<br>\n",
    "...is often used in conjunction with S3 generic functions to allow individual methods to be more flexible. <br>\n",
    "Example: base `plot()` function is a generic method with arguments **x**, **y**, and **...**\n",
    "2. To capture ... in a form that is easier to work with, you can use `list(...)`\n",
    "3. Using ... comes at a price - any misspelled arguments will not raise an error, and any arguments after ... must be fully named.<br>\n",
    "4. It's often better to be explicit rather than implicit."
   ]
  },
  {
   "cell_type": "code",
   "execution_count": 36,
   "id": "59002e81",
   "metadata": {},
   "outputs": [
    {
     "data": {
      "text/html": [
       "<ol class=list-inline>\n",
       "\t<li>'a'</li>\n",
       "\t<li>'b'</li>\n",
       "</ol>\n"
      ],
      "text/latex": [
       "\\begin{enumerate*}\n",
       "\\item 'a'\n",
       "\\item 'b'\n",
       "\\end{enumerate*}\n"
      ],
      "text/markdown": [
       "1. 'a'\n",
       "2. 'b'\n",
       "\n",
       "\n"
      ],
      "text/plain": [
       "[1] \"a\" \"b\""
      ]
     },
     "metadata": {},
     "output_type": "display_data"
    }
   ],
   "source": [
    "# Example 1\n",
    "\n",
    "# define function\n",
    "f <- function(...) {\n",
    "    names(list(...))\n",
    "}\n",
    "\n",
    "# call function\n",
    "f(a = 1, b = 2)"
   ]
  },
  {
   "cell_type": "code",
   "execution_count": 52,
   "id": "3b78d5ad",
   "metadata": {},
   "outputs": [
    {
     "data": {
      "text/html": [
       "&lt;NA&gt;"
      ],
      "text/latex": [
       "<NA>"
      ],
      "text/markdown": [
       "&lt;NA&gt;"
      ],
      "text/plain": [
       "[1] NA"
      ]
     },
     "metadata": {},
     "output_type": "display_data"
    }
   ],
   "source": [
    "# Example 2: if there's typo, it will not raise error\n",
    "\n",
    "# typo: mr\n",
    "sum(1, 2, NA, na.mr = TRUE)"
   ]
  },
  {
   "cell_type": "markdown",
   "id": "e4053061",
   "metadata": {},
   "source": [
    "## Special calls"
   ]
  },
  {
   "cell_type": "markdown",
   "id": "2b9c4a62",
   "metadata": {},
   "source": [
    "### Infix functions"
   ]
  },
  {
   "cell_type": "markdown",
   "id": "962f725d",
   "metadata": {},
   "source": [
    "1. Most functions in R are \"prefix\" operators: the name of the function comes before the arguments. <br>\n",
    "2. You can create infix functions where the function name comes in between its arguments (e.g. + or -).\n",
    "3. Pre-defined infix functions in R:<br>\n",
    "(1) Pre-defined infix functions that include **%**:<br>\n",
    "`%%`, `%*%`, `%/%`, `%in%`, `%o%`, `%x%`<br>\n",
    "(2) Pre-defined infix functions that not include **%**:<br>\n",
    "`::`, `:::`, `$`, `@`, `^`, `*`, `/`. `+`, `-`, `>`, `>=`, `<`, `<=`, `==`, `!=`, `!`, `&`, `&&`, `|`, `||`, `~`, `<-`, `<<-`.\n",
    "4. All user created infix functions must start and end with **\\%** <br>\n",
    "Note that when creating a new infix function, you have to put the name in backticks because it's a special name.\n",
    "5. The names of infix functions are more flexible than regular R functions: they can contain any sequence of characters. You'll need to escape any special characters in the string used to define the function, but not when you call it. \n",
    "6. R's default precedence rule means that infix operators are composed from left to right.\n"
   ]
  },
  {
   "cell_type": "code",
   "execution_count": 55,
   "id": "18d3af9a",
   "metadata": {},
   "outputs": [
    {
     "data": {
      "text/html": [
       "'new string'"
      ],
      "text/latex": [
       "'new string'"
      ],
      "text/markdown": [
       "'new string'"
      ],
      "text/plain": [
       "[1] \"new string\""
      ]
     },
     "metadata": {},
     "output_type": "display_data"
    },
    {
     "data": {
      "text/html": [
       "'new string'"
      ],
      "text/latex": [
       "'new string'"
      ],
      "text/markdown": [
       "'new string'"
      ],
      "text/plain": [
       "[1] \"new string\""
      ]
     },
     "metadata": {},
     "output_type": "display_data"
    }
   ],
   "source": [
    "# Example 1: create a new operator that pastes strings togeter\n",
    "\n",
    "# define operator (function)\n",
    "`%+%` <- function(a, b) paste0(a, b)\n",
    "\n",
    "# method 1: use operator\n",
    "\"new\" %+% \" string\"\n",
    "\n",
    "# method 2: use operator \n",
    "`%+%`(\"new\", \" string\")"
   ]
  },
  {
   "cell_type": "code",
   "execution_count": 56,
   "id": "f7c23bbc",
   "metadata": {},
   "outputs": [
    {
     "data": {
      "text/html": [
       "6"
      ],
      "text/latex": [
       "6"
      ],
      "text/markdown": [
       "6"
      ],
      "text/plain": [
       "[1] 6"
      ]
     },
     "metadata": {},
     "output_type": "display_data"
    },
    {
     "data": {
      "text/html": [
       "6"
      ],
      "text/latex": [
       "6"
      ],
      "text/markdown": [
       "6"
      ],
      "text/plain": [
       "[1] 6"
      ]
     },
     "metadata": {},
     "output_type": "display_data"
    }
   ],
   "source": [
    "# Example 2: use backtick for sum\n",
    "\n",
    "# method 1\n",
    "1 + 5\n",
    "\n",
    "# method 2\n",
    "`+`(1, 5)"
   ]
  },
  {
   "cell_type": "code",
   "execution_count": 67,
   "id": "ed101bc4",
   "metadata": {},
   "outputs": [
    {
     "data": {
      "text/html": [
       "'a b'"
      ],
      "text/latex": [
       "'a b'"
      ],
      "text/markdown": [
       "'a b'"
      ],
      "text/plain": [
       "[1] \"a b\""
      ]
     },
     "metadata": {},
     "output_type": "display_data"
    },
    {
     "data": {
      "text/html": [
       "'a b'"
      ],
      "text/latex": [
       "'a b'"
      ],
      "text/markdown": [
       "'a b'"
      ],
      "text/plain": [
       "[1] \"a b\""
      ]
     },
     "metadata": {},
     "output_type": "display_data"
    },
    {
     "data": {
      "text/html": [
       "'a b'"
      ],
      "text/latex": [
       "'a b'"
      ],
      "text/markdown": [
       "'a b'"
      ],
      "text/plain": [
       "[1] \"a b\""
      ]
     },
     "metadata": {},
     "output_type": "display_data"
    }
   ],
   "source": [
    "# Example 3: \n",
    "\n",
    "# define operator\n",
    "`% %` <- function(a, b) paste(a, b)\n",
    "# call operator\n",
    "\"a\" % % \"b\"\n",
    "\n",
    "# define operator\n",
    "`%'%` <- function(a, b) paste(a, b)\n",
    "# call operator\n",
    "\"a\" %'% \"b\"\n",
    "\n",
    "# define operator\n",
    "`%/\\\\%` <- function(a, b) paste(a, b)\n",
    "# call operator\n",
    "\"a\" %/\\% \"b\""
   ]
  },
  {
   "cell_type": "code",
   "execution_count": 52,
   "id": "200ed041",
   "metadata": {},
   "outputs": [
    {
     "data": {
      "text/html": [
       "'((a %-% b) %-% c)'"
      ],
      "text/latex": [
       "'((a \\%-\\% b) \\%-\\% c)'"
      ],
      "text/markdown": [
       "'((a %-% b) %-% c)'"
      ],
      "text/plain": [
       "[1] \"((a %-% b) %-% c)\""
      ]
     },
     "metadata": {},
     "output_type": "display_data"
    }
   ],
   "source": [
    "# Example 4: infix operators are composed from left to right in R\n",
    "\n",
    "# define operator\n",
    "`%-%` <- function(a, b) paste0(\"(\", a, \" %-% \", b, \")\")\n",
    "\n",
    "# call operator\n",
    "\"a\" %-% \"b\" %-% \"c\""
   ]
  },
  {
   "cell_type": "code",
   "execution_count": null,
   "id": "17008e84",
   "metadata": {},
   "outputs": [],
   "source": [
    "# Example 5: Ruby's || logical or oeprator\n",
    "# It's useful as a way of providing a default value in case the output of \n",
    "# another function is NULL.\n",
    "\n",
    "# define operator\n",
    "`%||%` <- function(a, b) if (!is.null(a)) a else b \n",
    "# call operator\n",
    "function_that_might_return_null() %||% default value"
   ]
  },
  {
   "cell_type": "markdown",
   "id": "2f9a49dc",
   "metadata": {},
   "source": [
    "### Replacement functions"
   ]
  },
  {
   "cell_type": "markdown",
   "id": "29b18114",
   "metadata": {},
   "source": [
    "1. Replacement functions act like they modify their arguments in place, and have the special name **xxx<-**. They typically have 2 arguments(x, value), although they can have more, and they must return the modified object. <br>\n",
    "In example 1, when R evaluates the assignment `second(x) <- 5`, it notices left hand side of **<-** is not a simple name, so it looks for a function named **second<-** to do the replacement.\n",
    "2. It's important to be aware of this behavior since: <br>\n",
    "If you want to supply additional arguments, they go in between **x** and **value**.\n",
    "3. It's often useful to combine replacement and subsetting. See example 5.<br>\n",
    "It works because the expression `names(x)[2] <- \"two\"` is evaluated as if you written the expression in example 6."
   ]
  },
  {
   "cell_type": "code",
   "execution_count": 70,
   "id": "f2b9a8ed",
   "metadata": {},
   "outputs": [
    {
     "data": {
      "text/html": [
       "<ol class=list-inline>\n",
       "\t<li>1</li>\n",
       "\t<li>5</li>\n",
       "\t<li>3</li>\n",
       "\t<li>4</li>\n",
       "\t<li>5</li>\n",
       "\t<li>6</li>\n",
       "\t<li>7</li>\n",
       "\t<li>8</li>\n",
       "\t<li>9</li>\n",
       "\t<li>10</li>\n",
       "</ol>\n"
      ],
      "text/latex": [
       "\\begin{enumerate*}\n",
       "\\item 1\n",
       "\\item 5\n",
       "\\item 3\n",
       "\\item 4\n",
       "\\item 5\n",
       "\\item 6\n",
       "\\item 7\n",
       "\\item 8\n",
       "\\item 9\n",
       "\\item 10\n",
       "\\end{enumerate*}\n"
      ],
      "text/markdown": [
       "1. 1\n",
       "2. 5\n",
       "3. 3\n",
       "4. 4\n",
       "5. 5\n",
       "6. 6\n",
       "7. 7\n",
       "8. 8\n",
       "9. 9\n",
       "10. 10\n",
       "\n",
       "\n"
      ],
      "text/plain": [
       " [1]  1  5  3  4  5  6  7  8  9 10"
      ]
     },
     "metadata": {},
     "output_type": "display_data"
    }
   ],
   "source": [
    "# Example 1: modify second element of vector\n",
    "\n",
    "# define function\n",
    "`second<-` <- function(x, value) {\n",
    "    x[2] <- value\n",
    "    x\n",
    "}\n",
    "\n",
    "# define x\n",
    "x <- 1:10\n",
    "\n",
    "# call function\n",
    "# 2nd element is changed to assigned value\n",
    "second(x) <- 5L\n",
    "x"
   ]
  },
  {
   "cell_type": "code",
   "execution_count": 76,
   "id": "f6fd9db5",
   "metadata": {},
   "outputs": [
    {
     "data": {
      "text/html": [
       "'0x7fbc4bcd8a78'"
      ],
      "text/latex": [
       "'0x7fbc4bcd8a78'"
      ],
      "text/markdown": [
       "'0x7fbc4bcd8a78'"
      ],
      "text/plain": [
       "[1] \"0x7fbc4bcd8a78\""
      ]
     },
     "metadata": {},
     "output_type": "display_data"
    },
    {
     "data": {
      "text/html": [
       "'0x7fbc4c3382b8'"
      ],
      "text/latex": [
       "'0x7fbc4c3382b8'"
      ],
      "text/markdown": [
       "'0x7fbc4c3382b8'"
      ],
      "text/plain": [
       "[1] \"0x7fbc4c3382b8\""
      ]
     },
     "metadata": {},
     "output_type": "display_data"
    }
   ],
   "source": [
    "# Example 2\n",
    "\n",
    "# load package: find memory address of the underlying object\n",
    "library(\"pryr\")\n",
    "\n",
    "# define x\n",
    "x <- 1:10\n",
    "# find x address\n",
    "address(x)\n",
    "\n",
    "# change 2nd element of x\n",
    "second(x) <- 6L\n",
    "# find new x address: different \n",
    "address(x)"
   ]
  },
  {
   "cell_type": "code",
   "execution_count": 81,
   "id": "19d94def",
   "metadata": {},
   "outputs": [
    {
     "data": {
      "text/html": [
       "'0x7fbc49d0a8c0'"
      ],
      "text/latex": [
       "'0x7fbc49d0a8c0'"
      ],
      "text/markdown": [
       "'0x7fbc49d0a8c0'"
      ],
      "text/plain": [
       "[1] \"0x7fbc49d0a8c0\""
      ]
     },
     "metadata": {},
     "output_type": "display_data"
    },
    {
     "data": {
      "text/html": [
       "'0x7fbc4a097648'"
      ],
      "text/latex": [
       "'0x7fbc4a097648'"
      ],
      "text/markdown": [
       "'0x7fbc4a097648'"
      ],
      "text/plain": [
       "[1] \"0x7fbc4a097648\""
      ]
     },
     "metadata": {},
     "output_type": "display_data"
    }
   ],
   "source": [
    "# Example 3: \n",
    "\n",
    "# define x\n",
    "x <- 1:10\n",
    "# address of x\n",
    "address(x)\n",
    "\n",
    "# change 2nd element using `.Primative()` will modify in place\n",
    "# The book says these 2 addresses are same\n",
    "# The result here is different with book\n",
    "x[2] <- 7L\n",
    "# address of new x\n",
    "address(x)"
   ]
  },
  {
   "cell_type": "code",
   "execution_count": 84,
   "id": "7e07b1e4",
   "metadata": {},
   "outputs": [
    {
     "data": {
      "text/html": [
       "<ol class=list-inline>\n",
       "\t<li>10</li>\n",
       "\t<li>2</li>\n",
       "\t<li>3</li>\n",
       "\t<li>4</li>\n",
       "\t<li>5</li>\n",
       "\t<li>6</li>\n",
       "\t<li>7</li>\n",
       "\t<li>8</li>\n",
       "\t<li>9</li>\n",
       "\t<li>10</li>\n",
       "</ol>\n"
      ],
      "text/latex": [
       "\\begin{enumerate*}\n",
       "\\item 10\n",
       "\\item 2\n",
       "\\item 3\n",
       "\\item 4\n",
       "\\item 5\n",
       "\\item 6\n",
       "\\item 7\n",
       "\\item 8\n",
       "\\item 9\n",
       "\\item 10\n",
       "\\end{enumerate*}\n"
      ],
      "text/markdown": [
       "1. 10\n",
       "2. 2\n",
       "3. 3\n",
       "4. 4\n",
       "5. 5\n",
       "6. 6\n",
       "7. 7\n",
       "8. 8\n",
       "9. 9\n",
       "10. 10\n",
       "\n",
       "\n"
      ],
      "text/plain": [
       " [1] 10  2  3  4  5  6  7  8  9 10"
      ]
     },
     "metadata": {},
     "output_type": "display_data"
    }
   ],
   "source": [
    "# Example 4\n",
    "\n",
    "# define x \n",
    "x <- 1:10\n",
    "\n",
    "# define function\n",
    "`modify<-` <- function(x, position, value) {\n",
    "    x[position] <- value\n",
    "    x\n",
    "}\n",
    "\n",
    "# call function: change first element to 10\n",
    "modify(x, 1) <- 10\n",
    "x\n",
    "\n",
    "# behind the scene: it works like this\n",
    "x <- `modify<-`(x, 1, 10)\n",
    "x"
   ]
  },
  {
   "cell_type": "code",
   "execution_count": 55,
   "id": "857814db",
   "metadata": {},
   "outputs": [
    {
     "data": {
      "text/html": [
       "<ol class=list-inline>\n",
       "\t<li>'a'</li>\n",
       "\t<li>'b'</li>\n",
       "\t<li>'c'</li>\n",
       "</ol>\n"
      ],
      "text/latex": [
       "\\begin{enumerate*}\n",
       "\\item 'a'\n",
       "\\item 'b'\n",
       "\\item 'c'\n",
       "\\end{enumerate*}\n"
      ],
      "text/markdown": [
       "1. 'a'\n",
       "2. 'b'\n",
       "3. 'c'\n",
       "\n",
       "\n"
      ],
      "text/plain": [
       "[1] \"a\" \"b\" \"c\""
      ]
     },
     "metadata": {},
     "output_type": "display_data"
    },
    {
     "data": {
      "text/html": [
       "<ol class=list-inline>\n",
       "\t<li>'a'</li>\n",
       "\t<li>'two'</li>\n",
       "\t<li>'c'</li>\n",
       "</ol>\n"
      ],
      "text/latex": [
       "\\begin{enumerate*}\n",
       "\\item 'a'\n",
       "\\item 'two'\n",
       "\\item 'c'\n",
       "\\end{enumerate*}\n"
      ],
      "text/markdown": [
       "1. 'a'\n",
       "2. 'two'\n",
       "3. 'c'\n",
       "\n",
       "\n"
      ],
      "text/plain": [
       "[1] \"a\"   \"two\" \"c\"  "
      ]
     },
     "metadata": {},
     "output_type": "display_data"
    }
   ],
   "source": [
    "# Example 5\n",
    "\n",
    "# define x\n",
    "x <- c(a = 1, b = 2, c = 3)\n",
    "names(x)\n",
    "\n",
    "# change name for 2nd element\n",
    "names(x)[2] <- \"two\"\n",
    "names(x)"
   ]
  },
  {
   "cell_type": "code",
   "execution_count": 91,
   "id": "54deecad",
   "metadata": {},
   "outputs": [],
   "source": [
    "# Example 6\n",
    "\n",
    "# it does create a local variable named *tmp*, it is removed afterwards. \n",
    "`*tmp*` <- names(x)\n",
    "`*tmp*`[2] <- \"two\"\n",
    "names(x) <- `*tmp*`"
   ]
  },
  {
   "cell_type": "markdown",
   "id": "a535108e",
   "metadata": {},
   "source": [
    "## Return values"
   ]
  },
  {
   "cell_type": "markdown",
   "id": "adb1ba8e",
   "metadata": {},
   "source": [
    "1. The last expression evaluated in a function becomes the return value, the result of invoking the function.\n",
    "2. Generally, it's good to reserve the use of an explicit `return()` for when you are returning early, such as for an error or a simple case of function.<br>\n",
    "This style of programming can also reduce level of indention, and make functions easier to understand because you can reason about them locally.\n",
    "3. Function can return only 1 single object.<br>\n",
    "But you can return a list containing any number of objects. \n",
    "4. **Pure functions** are the easiest to understand, because they always map the same input to same output and have no other impact on workspace. <br>\n",
    "Pure functions have no side effects: they don't affect state of world in any way apart from the value they return. <br>\n",
    "5. R protects you from one type of side effect: most R objects have copy-on-modify semantics. So modifying a function argument does not change the original value. See example 3.  \n",
    "6. There are 2 important exception to copy-on-modify rule: environment & reference classes. These can be modified in place, so extra care is needed.\n",
    "7. Most base R functions are pure. These are exceptions: <br>\n",
    "(1) `library()`, loads package, hence modifies search path. <br>\n",
    "(2) `setwd()`, `Sys.setenv()`, `Sys.setlocale()`<br>\n",
    "(3) `plot()`and friends which produce graphical output. <br>\n",
    "(4) `write()`, `write.csv()`, `saveRDS()`, etc.<br>\n",
    "(5) `options()`, `par()` which modify global settings.<br>\n",
    "(6) **S4** related functions which modify global tables of classes and methods.<br> \n",
    "(7) Random number generators which produce different numbers each time you run them. \n",
    "8. Functions can return `invisible` values, see example 4.\n",
    "9. You can force an invisible value to be displayed by wrapping it in parentheses. "
   ]
  },
  {
   "cell_type": "code",
   "execution_count": 93,
   "id": "8055d006",
   "metadata": {},
   "outputs": [
    {
     "data": {
      "text/html": [
       "0"
      ],
      "text/latex": [
       "0"
      ],
      "text/markdown": [
       "0"
      ],
      "text/plain": [
       "[1] 0"
      ]
     },
     "metadata": {},
     "output_type": "display_data"
    },
    {
     "data": {
      "text/html": [
       "10"
      ],
      "text/latex": [
       "10"
      ],
      "text/markdown": [
       "10"
      ],
      "text/plain": [
       "[1] 10"
      ]
     },
     "metadata": {},
     "output_type": "display_data"
    }
   ],
   "source": [
    "# Example 1\n",
    "\n",
    "# define function\n",
    "f <- function(x) {\n",
    "    if (x < 10) {\n",
    "        0\n",
    "    } else {\n",
    "        10\n",
    "    }\n",
    "}\n",
    "\n",
    "# call function\n",
    "f(5)\n",
    "\n",
    "# call function\n",
    "f(15)"
   ]
  },
  {
   "cell_type": "code",
   "execution_count": null,
   "id": "b0be6e56",
   "metadata": {},
   "outputs": [],
   "source": [
    "# Example 2\n",
    "\n",
    "# define function\n",
    "f <- function(x, y) {\n",
    "    if (!x) return(y)\n",
    "    # complicated processing here\n",
    "}"
   ]
  },
  {
   "cell_type": "code",
   "execution_count": 95,
   "id": "80900ff6",
   "metadata": {},
   "outputs": [],
   "source": [
    "rm(x)"
   ]
  },
  {
   "cell_type": "code",
   "execution_count": 101,
   "id": "c4b20380",
   "metadata": {},
   "outputs": [
    {
     "data": {
      "text/html": [
       "<strong>$a</strong> = 2"
      ],
      "text/latex": [
       "\\textbf{\\$a} = 2"
      ],
      "text/markdown": [
       "**$a** = 2"
      ],
      "text/plain": [
       "$a\n",
       "[1] 2\n"
      ]
     },
     "metadata": {},
     "output_type": "display_data"
    },
    {
     "data": {
      "text/html": [
       "1"
      ],
      "text/latex": [
       "1"
      ],
      "text/markdown": [
       "1"
      ],
      "text/plain": [
       "[1] 1"
      ]
     },
     "metadata": {},
     "output_type": "display_data"
    }
   ],
   "source": [
    "# Example 3: \n",
    "\n",
    "# define function\n",
    "f <- function(x) {\n",
    "    x$a <- 2\n",
    "    x\n",
    "}\n",
    "\n",
    "# define list: x\n",
    "x <- list(a = 1)\n",
    "\n",
    "# call function\n",
    "f(x)\n",
    "\n",
    "# call list: x\n",
    "x$a"
   ]
  },
  {
   "cell_type": "code",
   "execution_count": 106,
   "id": "cb250d42",
   "metadata": {},
   "outputs": [
    {
     "data": {
      "text/html": [
       "1"
      ],
      "text/latex": [
       "1"
      ],
      "text/markdown": [
       "1"
      ],
      "text/plain": [
       "[1] 1"
      ]
     },
     "metadata": {},
     "output_type": "display_data"
    },
    {
     "data": {
      "text/html": [
       "TRUE"
      ],
      "text/latex": [
       "TRUE"
      ],
      "text/markdown": [
       "TRUE"
      ],
      "text/plain": [
       "[1] TRUE"
      ]
     },
     "metadata": {},
     "output_type": "display_data"
    },
    {
     "data": {
      "text/html": [
       "TRUE"
      ],
      "text/latex": [
       "TRUE"
      ],
      "text/markdown": [
       "TRUE"
      ],
      "text/plain": [
       "[1] TRUE"
      ]
     },
     "metadata": {},
     "output_type": "display_data"
    }
   ],
   "source": [
    "# Example 4\n",
    "\n",
    "# define functions \n",
    "f1 <- function() 1\n",
    "f2 <- function() invisible(1)\n",
    "\n",
    "# call functions\n",
    "f1()\n",
    "f2()\n",
    "f1() == 1\n",
    "f2() == 1"
   ]
  },
  {
   "cell_type": "code",
   "execution_count": 108,
   "id": "c5e8c159",
   "metadata": {},
   "outputs": [
    {
     "data": {
      "text/html": [
       "1"
      ],
      "text/latex": [
       "1"
      ],
      "text/markdown": [
       "1"
      ],
      "text/plain": [
       "[1] 1"
      ]
     },
     "metadata": {},
     "output_type": "display_data"
    },
    {
     "data": {
      "text/html": [
       "2"
      ],
      "text/latex": [
       "2"
      ],
      "text/markdown": [
       "2"
      ],
      "text/plain": [
       "[1] 2"
      ]
     },
     "metadata": {},
     "output_type": "display_data"
    }
   ],
   "source": [
    "# Example 5: show invisible value\n",
    "\n",
    "(f2())\n",
    "\n",
    "(a <- 2)"
   ]
  },
  {
   "cell_type": "code",
   "execution_count": 114,
   "id": "4dd1c32d",
   "metadata": {},
   "outputs": [
    {
     "data": {
      "text/html": [
       "2"
      ],
      "text/latex": [
       "2"
      ],
      "text/markdown": [
       "2"
      ],
      "text/plain": [
       "[1] 2"
      ]
     },
     "metadata": {},
     "output_type": "display_data"
    },
    {
     "data": {
      "text/html": [
       "2"
      ],
      "text/latex": [
       "2"
      ],
      "text/markdown": [
       "2"
      ],
      "text/plain": [
       "[1] 2"
      ]
     },
     "metadata": {},
     "output_type": "display_data"
    },
    {
     "data": {
      "text/html": [
       "2"
      ],
      "text/latex": [
       "2"
      ],
      "text/markdown": [
       "2"
      ],
      "text/plain": [
       "[1] 2"
      ]
     },
     "metadata": {},
     "output_type": "display_data"
    },
    {
     "data": {
      "text/html": [
       "2"
      ],
      "text/latex": [
       "2"
      ],
      "text/markdown": [
       "2"
      ],
      "text/plain": [
       "[1] 2"
      ]
     },
     "metadata": {},
     "output_type": "display_data"
    },
    {
     "data": {
      "text/html": [
       "2"
      ],
      "text/latex": [
       "2"
      ],
      "text/markdown": [
       "2"
      ],
      "text/plain": [
       "[1] 2"
      ]
     },
     "metadata": {},
     "output_type": "display_data"
    }
   ],
   "source": [
    "# Example 6: why it is possible to assign one value to multiple variables \n",
    "\n",
    "a  <- b <- c <- d <- 2\n",
    "a\n",
    "b\n",
    "c\n",
    "c\n",
    "\n",
    "# because it is parsed as: \n",
    "(a <- (b <- (c <- (d <- 2))))"
   ]
  },
  {
   "cell_type": "markdown",
   "id": "73252fb5",
   "metadata": {},
   "source": [
    "### On exit"
   ]
  },
  {
   "cell_type": "markdown",
   "id": "509789f3",
   "metadata": {},
   "source": [
    "Functions can setup other triggers to occur when functions is finished using `on.exit()`. This is often used as a way to guarantee that changes to global state are restored when function exits.<br>\n",
    "The code `on.exit()` is run regardless of how the function exits, whether with an explicit return, an error, or simply reaching end of function body. "
   ]
  },
  {
   "cell_type": "code",
   "execution_count": 66,
   "id": "4a09d55f",
   "metadata": {},
   "outputs": [
    {
     "data": {
      "text/html": [
       "'/Users/nicolegolden/Documents/2. Data Science/1_2. Advanced R'"
      ],
      "text/latex": [
       "'/Users/nicolegolden/Documents/2. Data Science/1\\_2. Advanced R'"
      ],
      "text/markdown": [
       "'/Users/nicolegolden/Documents/2. Data Science/1_2. Advanced R'"
      ],
      "text/plain": [
       "[1] \"/Users/nicolegolden/Documents/2. Data Science/1_2. Advanced R\""
      ]
     },
     "metadata": {},
     "output_type": "display_data"
    },
    {
     "data": {
      "text/html": [
       "'/Users/nicolegolden'"
      ],
      "text/latex": [
       "'/Users/nicolegolden'"
      ],
      "text/markdown": [
       "'/Users/nicolegolden'"
      ],
      "text/plain": [
       "[1] \"/Users/nicolegolden\""
      ]
     },
     "metadata": {},
     "output_type": "display_data"
    }
   ],
   "source": [
    "# Example \n",
    "\n",
    "# define function\n",
    "in_dir <- function(dir, code) {\n",
    "    old <- setwd(dir)\n",
    "    on.exit(setwd(old))\n",
    "    \n",
    "    force(code)\n",
    "}\n",
    "\n",
    "# get current working directory\n",
    "getwd()\n",
    "\n",
    "# call function\n",
    "in_dir(\"~\", getwd())"
   ]
  }
 ],
 "metadata": {
  "kernelspec": {
   "display_name": "R",
   "language": "R",
   "name": "ir"
  },
  "language_info": {
   "codemirror_mode": "r",
   "file_extension": ".r",
   "mimetype": "text/x-r-source",
   "name": "R",
   "pygments_lexer": "r",
   "version": "3.6.1"
  },
  "toc": {
   "base_numbering": 1,
   "nav_menu": {},
   "number_sections": true,
   "sideBar": true,
   "skip_h1_title": false,
   "title_cell": "Table of Contents",
   "title_sidebar": "Contents",
   "toc_cell": false,
   "toc_position": {
    "height": "429.091px",
    "left": "43px",
    "top": "89.5879px",
    "width": "165px"
   },
   "toc_section_display": true,
   "toc_window_display": false
  },
  "varInspector": {
   "cols": {
    "lenName": 16,
    "lenType": 16,
    "lenVar": 40
   },
   "kernels_config": {
    "python": {
     "delete_cmd_postfix": "",
     "delete_cmd_prefix": "del ",
     "library": "var_list.py",
     "varRefreshCmd": "print(var_dic_list())"
    },
    "r": {
     "delete_cmd_postfix": ") ",
     "delete_cmd_prefix": "rm(",
     "library": "var_list.r",
     "varRefreshCmd": "cat(var_dic_list()) "
    }
   },
   "types_to_exclude": [
    "module",
    "function",
    "builtin_function_or_method",
    "instance",
    "_Feature"
   ],
   "window_display": false
  }
 },
 "nbformat": 4,
 "nbformat_minor": 5
}
